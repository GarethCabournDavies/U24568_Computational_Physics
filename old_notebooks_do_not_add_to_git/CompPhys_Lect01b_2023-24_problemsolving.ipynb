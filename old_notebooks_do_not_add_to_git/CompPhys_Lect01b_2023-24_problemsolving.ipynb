{
 "cells": [
  {
   "cell_type": "code",
   "execution_count": 1,
   "metadata": {},
   "outputs": [],
   "source": [
    "%matplotlib inline\n",
    "import matplotlib.pyplot as plt\n",
    "from matplotlib import animation\n",
    "from IPython.display import display, Image\n",
    "import numpy as np"
   ]
  },
  {
   "cell_type": "markdown",
   "metadata": {},
   "source": [
    "# Problem solving (in python)"
   ]
  },
  {
   "cell_type": "markdown",
   "metadata": {},
   "source": [
    "In the first lab you revised the level 4 python 'introduction to computational physics' course. \n",
    "\n",
    "In this course we will go further both with your python code 'knowledge' but also with your understanding of how to approach physics (or any other) problem via computational methods. In code, as with most tools, there are many methods of reaching the 'correct' answer.  We want you to be able to not just code what you have been told to, but to be able to think creatively about how best to solve a problem. \n",
    "\n",
    "We therefore want to introduce you today to how to problem solve using code.\n",
    "\n",
    "We will look at a couple of simple problems for which will not use any special packages other than numpy arrays (we could do this entirely with list notation but numpy array makes maths more straightforward so we will use this for today)."
   ]
  },
  {
   "cell_type": "markdown",
   "metadata": {},
   "source": [
    "# Problem A\n",
    "\n",
    "For our first problem we will think about how to sort an array. This seems easy but is actually a fundamental and difficult coding problem with many solutions. We will try today to think of as many solutions as we can."
   ]
  },
  {
   "cell_type": "code",
   "execution_count": 2,
   "metadata": {},
   "outputs": [],
   "source": [
    "array1a = np.array([2,1])"
   ]
  },
  {
   "cell_type": "markdown",
   "metadata": {},
   "source": [
    "Sort this array in acsending order using these steps:\n",
    "\n",
    "    1) Find the first element of the array\n",
    "    2) Find the second element of the array\n",
    "    3) Compare the elements\n",
    "    4) Reorder the array if necerssary\n",
    "    5) Print the new array"
   ]
  },
  {
   "cell_type": "code",
   "execution_count": 3,
   "metadata": {},
   "outputs": [],
   "source": [
    "# Answer here\n"
   ]
  },
  {
   "cell_type": "markdown",
   "metadata": {},
   "source": [
    "Does you code work for this array? Copy and paste it below and print out the array."
   ]
  },
  {
   "cell_type": "code",
   "execution_count": 4,
   "metadata": {},
   "outputs": [],
   "source": [
    "array1a = np.array([3,2,1])"
   ]
  },
  {
   "cell_type": "code",
   "execution_count": 5,
   "metadata": {},
   "outputs": [],
   "source": [
    "# Answer here\n"
   ]
  },
  {
   "cell_type": "markdown",
   "metadata": {},
   "source": [
    "Swapping just elements 1 and 2 obviousl does not work here. But you could continue to swap elements like this:"
   ]
  },
  {
   "cell_type": "markdown",
   "metadata": {},
   "source": [
    "* Initial array:\n",
    "\n",
    "[ 3 2 1 ]\n",
    "\n",
    "* Now we compare and swap elements:\n",
    "\n",
    "[ <span style='color:Blue'> 3 2 </span> 1 ]  Compare first two elments\n",
    "\n",
    "  [ <span style='color:Red'> 2 3 </span> 1 ]  Swap them if nec.\n",
    "\n",
    "  [ 2 <span style='color:Blue'> 3 1 </span> ]  Compare next two elments\n",
    "\n",
    "  [ 2 <span style='color:Red'> 1 3 </span> ]  Swap them if nec.\n",
    "\n",
    "[ <span style='color:Blue'> 2 1 </span> 3 ]  Return to begining and compare first two elments\n",
    "\n",
    "  [ <span style='color:Red'> 1 2 </span> 3 ]  Swap them if nec.\n",
    "\n",
    "  [ 1 <span style='color:Blue'> 2 3 </span> ]  Compare next two elments\n",
    "\n",
    "  [ 1 <span style='color:Green'> 2 3 </span> ]  Swap them if nec.\n",
    "\n",
    "* Final array:\n",
    "\n",
    "[ 1 2 3 ]"
   ]
  },
  {
   "cell_type": "markdown",
   "metadata": {},
   "source": [
    "We will use this to code our first sorting algorithm.\n",
    "\n",
    "To develop a first draft algorithm you do <b>NOT</b> need to know much code.\n",
    "\n",
    "In fact it is often best to approach the problem by drawing, or writing bullet points - these are examples of <b>Pseudocode</b>. \n",
    "\n",
    "<b>Pseudocode</b> is the name for any code-like process. You define the rules so it is a more flexible starting point. E.g. you don't need to remember ':' in python or ';' in C. You can choose to indent of not etc. \n",
    "\n",
    "As an example I might write out first routine for the array [ 2 1 ] as:\n",
    "\n",
    "    i = first element\n",
    "    j = second element\n",
    "    compare i to j\n",
    "    if i is greater than j\n",
    "        swap the elements\n",
    "\n",
    "I like to indent in my pseudocode as it is clearer to me - but you might not. It is entirely up to you. \n",
    "\n",
    "You will now write out the algorithm above for sorting an array in your own pseudocode.  The one catch is that your algorithm must work for any size array. Consider the array:\n",
    "\n",
    "    [ 4 2 3 1 ]\n",
    "    \n",
    "Think about how the steps above might apply to this array. It might help to write it out in the same way as I did above. The code below will help you start to write this - turn it to markdown to make the colours appear.  "
   ]
  },
  {
   "cell_type": "markdown",
   "metadata": {},
   "source": [
    "# Steps for a 4 element array\n",
    "\n",
    "* Initial array:\n",
    "\n",
    "[ 4 2 3 1 ]\n",
    "\n",
    "* Now we compare and swap elements:\n",
    "\n",
    "[ <span style='color:Blue'> 4 2 </span> 3 1 ] \n",
    "\n",
    "...\n",
    "\n",
    "* Final array:\n",
    "\n",
    "[ 1 2 3 4 ]\n"
   ]
  },
  {
   "cell_type": "markdown",
   "metadata": {},
   "source": [
    "How many for loops does your code need?"
   ]
  },
  {
   "cell_type": "code",
   "execution_count": 7,
   "metadata": {},
   "outputs": [],
   "source": [
    "# Answer here\n"
   ]
  },
  {
   "cell_type": "markdown",
   "metadata": {},
   "source": [
    "Write out your pseudocode."
   ]
  },
  {
   "cell_type": "code",
   "execution_count": 8,
   "metadata": {},
   "outputs": [],
   "source": [
    "# Pseudocode space\n"
   ]
  },
  {
   "cell_type": "markdown",
   "metadata": {},
   "source": [
    "Now convert your pseudocode into python and write our your sorting algorithm.  Print the array at each step in your sorting algorithm."
   ]
  },
  {
   "cell_type": "code",
   "execution_count": 9,
   "metadata": {},
   "outputs": [
    {
     "name": "stdout",
     "output_type": "stream",
     "text": [
      "Initial array : [3 2 1]\n"
     ]
    }
   ],
   "source": [
    "array1a = np.array([3,2,1])\n",
    "print(\"Initial array :\", array1a)\n",
    "\n",
    "# Answer here \n"
   ]
  },
  {
   "cell_type": "markdown",
   "metadata": {},
   "source": [
    "This type of sort is called a bubble sort. However, our sort is non-optimised (you can see that we reach the correct answer long below we stop iterating the code. Can you think of ways to make this code more efficient?"
   ]
  },
  {
   "cell_type": "code",
   "execution_count": 10,
   "metadata": {},
   "outputs": [
    {
     "name": "stdout",
     "output_type": "stream",
     "text": [
      "Initial array : [3 2 1]\n"
     ]
    }
   ],
   "source": [
    "array1a = np.array([3,2,1])\n",
    "print(\"Initial array :\", array1a)\n",
    "\n",
    "# Answer here \n"
   ]
  },
  {
   "cell_type": "markdown",
   "metadata": {},
   "source": [
    "## Lessons learned\n",
    "* Writing a good algorithm is like solving a puzzle - it is about creatively thinking of solutions which will work for the task at hand. \n",
    "* Pseudocode is a valuble tool for thinking about how to approach an algorithm - feel free tobring pen and paper to draw/write pseudocode to help you with this course. \n",
    "* Figure out the approach you want to take and then think about how to explicitly code that approach in the python language."
   ]
  },
  {
   "cell_type": "markdown",
   "metadata": {},
   "source": [
    "# Problem B\n",
    "\n",
    "For our second problem you will calculate the 'median' (middle value) of an array. "
   ]
  },
  {
   "cell_type": "code",
   "execution_count": 11,
   "metadata": {},
   "outputs": [],
   "source": [
    "array1b=np.array([1,2,3])"
   ]
  },
  {
   "cell_type": "markdown",
   "metadata": {},
   "source": [
    "B) What is the median of this array?  No code - just write it down. "
   ]
  },
  {
   "cell_type": "code",
   "execution_count": 12,
   "metadata": {},
   "outputs": [],
   "source": [
    "# Answer here\n"
   ]
  },
  {
   "cell_type": "markdown",
   "metadata": {},
   "source": [
    "Even though you worked this out in your head you probably had a few lines of reasoning which you might not have realised you were consiously making. These steps might be sumarised as (not in correct order):"
   ]
  },
  {
   "cell_type": "markdown",
   "metadata": {},
   "source": [
    "<div class=\"alert-success\">\n",
    "1. Check if your array is sorted.\n",
    "</div>"
   ]
  },
  {
   "cell_type": "markdown",
   "metadata": {},
   "source": [
    "<div class=\"alert-info\">\n",
    "2. Report the value of the array which coresponds to this middle index.\n",
    "</div>"
   ]
  },
  {
   "cell_type": "markdown",
   "metadata": {},
   "source": [
    "<div class=\"alert-danger\">\n",
    "3. Count the number of data points in your array.\n",
    "</div>"
   ]
  },
  {
   "cell_type": "markdown",
   "metadata": {},
   "source": [
    "<div class=\"alert-warning\">\n",
    "4. Find the index of the middle value.\n",
    "</div>"
   ]
  },
  {
   "cell_type": "markdown",
   "metadata": {},
   "source": [
    "How many different ways can you order the boxes above to still give you a recipe for finding the middle of our array above? (e.g. 1-2-3-4 - does this work?)"
   ]
  },
  {
   "cell_type": "code",
   "execution_count": 13,
   "metadata": {},
   "outputs": [],
   "source": [
    "# Answer here: \n"
   ]
  },
  {
   "cell_type": "markdown",
   "metadata": {},
   "source": [
    "Choose a method and code it up.  You may NOT use np.size, len(array), or np.sort. You may use you sorting algorithm from above but you must figure out the size of the array yourself. "
   ]
  },
  {
   "cell_type": "code",
   "execution_count": null,
   "metadata": {},
   "outputs": [],
   "source": []
  },
  {
   "cell_type": "code",
   "execution_count": 15,
   "metadata": {},
   "outputs": [],
   "source": [
    "array1b=np.array([1,2,3])\n",
    "\n",
    "# Answer here \n"
   ]
  },
  {
   "cell_type": "markdown",
   "metadata": {},
   "source": [
    "Verify you method also works for..."
   ]
  },
  {
   "cell_type": "code",
   "execution_count": 16,
   "metadata": {},
   "outputs": [],
   "source": [
    "array1b=np.array([1,2,3,4])"
   ]
  },
  {
   "cell_type": "code",
   "execution_count": 17,
   "metadata": {},
   "outputs": [],
   "source": [
    "# Answer here\n"
   ]
  },
  {
   "cell_type": "markdown",
   "metadata": {},
   "source": [
    "If it does not then rewrite it to make it work for both odd and even valued arrays"
   ]
  },
  {
   "cell_type": "code",
   "execution_count": 18,
   "metadata": {},
   "outputs": [],
   "source": [
    "# Answer here\n"
   ]
  },
  {
   "cell_type": "markdown",
   "metadata": {},
   "source": [
    "Could you code be more effficient - if you had chosen a different order to your algorthm could you have combined opperations such that fewer calculations were made?"
   ]
  },
  {
   "cell_type": "code",
   "execution_count": 19,
   "metadata": {},
   "outputs": [],
   "source": [
    "array1b=np.array([1,2,3,4])\n",
    "\n",
    "# Answer here\n"
   ]
  },
  {
   "cell_type": "markdown",
   "metadata": {},
   "source": [
    "## Lessons learned\n",
    "* There is rarely 'one way' to get the correct answer but there may be better ways\n",
    "    * Use Pseudocode as a tool to think about how best to approach the problem before you start to code in python\n",
    "* Consider all the properties of your data - could they be even or odd valued, do they have missing values, what 'data types' have been used - make sure to define 'test cases' for yourself to test your code works in a general way"
   ]
  },
  {
   "cell_type": "markdown",
   "metadata": {},
   "source": [
    "# Problem C\n",
    "\n",
    "For the third problem we will compare two words to identify if they are anagrams.\n",
    "\n",
    "Consider the three sets of words:\n",
    "\n",
    "    EARTH - HEART\n",
    "    CAT - DOG\n",
    "    DORMITORY - DIRTY ROOM\n",
    "    \n",
    "Here we will write some programs which compare these words and which idetify if they are anagrams by way of a boolen (True, False)."
   ]
  },
  {
   "cell_type": "markdown",
   "metadata": {},
   "source": [
    "There are 4 ways you could do this that we will explore:\n",
    "    1. Test that each character in word 1 actually occurs in word 2.\n",
    "    2. Sort the letters in the word alphebetically and compare.\n",
    "    3. Create a complete list of all the possible strings from word 1 and then compare this list with word 2. (NOTE - only test this with short words!)\n",
    "    4. Count the number of times each character occurs in each word and then compare the result."
   ]
  },
  {
   "cell_type": "markdown",
   "metadata": {},
   "source": [
    "Write an algorithm for methods 1, 2 and 4 above. Method 3 is more advanced and has been written for you - you do not need to code it but should instead think about <b>how</b> you might code it.  How do the number of calculations performed by each method differ (give approximate answers - you don't need to count every single calculation)?"
   ]
  },
  {
   "cell_type": "code",
   "execution_count": 25,
   "metadata": {},
   "outputs": [],
   "source": [
    "# Answer here - method 1\n"
   ]
  },
  {
   "cell_type": "code",
   "execution_count": 26,
   "metadata": {},
   "outputs": [],
   "source": [
    "# Answer here - method 2\n"
   ]
  },
  {
   "cell_type": "code",
   "execution_count": 27,
   "metadata": {},
   "outputs": [
    {
     "name": "stdout",
     "output_type": "stream",
     "text": [
      "no. of solutions : 6\n",
      "('d', 'o', 'g')\n",
      "('d', 'g', 'o')\n",
      "('o', 'd', 'g')\n",
      "('o', 'g', 'd')\n",
      "('g', 'd', 'o')\n",
      "('g', 'o', 'd')\n",
      "False\n"
     ]
    }
   ],
   "source": [
    "# Becky's solution for (method 3) using itertools - recursion, generators etc is a way to \n",
    "# solve this problem but we will look at those techniques in a few weeks time\n",
    "def anagramSolution3(s1,s2):\n",
    "    import itertools\n",
    "    \n",
    "    alist1 = list(s1)\n",
    "    alist2 = list(s2)\n",
    "    \n",
    "    #convert letetrs to numbers and write factorial\n",
    "    no_of_ways=np.math.factorial(len(alist1))\n",
    "    print('no. of solutions :', no_of_ways)\n",
    "    permutations = list(itertools.permutations(alist1))\n",
    "    \n",
    "    matches = False\n",
    "    for i in permutations:\n",
    "        print(i)\n",
    "        if list(i) == alist2:\n",
    "            matches = True\n",
    "            return matches\n",
    "    \n",
    "    return matches\n",
    "    \n",
    "print(anagramSolution3('dog','cat'))\n",
    "\n",
    "# O(n!)"
   ]
  },
  {
   "cell_type": "code",
   "execution_count": 28,
   "metadata": {},
   "outputs": [],
   "source": [
    "# Answer here - method 4\n"
   ]
  },
  {
   "cell_type": "markdown",
   "metadata": {},
   "source": [
    "We tend to consider the number of calculations or steps in your code as a mark of its efficiency. We use the 'order of magnitude' notation big 'O' to report this. \n",
    "\n",
    "In these cases above you worked out roughly how many calculations were done. In big O notation we would conclude this:\n",
    "\n",
    "1. Two nested for lops are required e.g. for i in word 1 then loop through word 2 - so this is a O(n${^2}$) algorithm\n",
    "\n",
    "2. The comparison is quick but the sort is again a two nested for loop operation (if using a bubble sort) so this dominates the process and it is again an O(n$^{2}$) algorithm\n",
    "\n",
    "3. Search for each possible string combination rewuires n*(n-1)*(n-2)*(n-3)*...*1 operations which = n!. n! is even larger than n${^2}$ for big n  (O(n!)). This is not efficient for us though this approach might be the most familiar to humans as we try to make words from anagrams. \n",
    "\n",
    "4. There are 26 letters in the alphabet so this algorithm only required that we go through one for loop and simply add a numebr when a letter turns up so this opertation is actually linear O(n). This is probably the last thing you would have thought of but it is the most efficient process. "
   ]
  },
  {
   "cell_type": "markdown",
   "metadata": {},
   "source": [
    "## Lessons learned\n",
    "* Take time to consider different methods of solving a problem - no need ot rush to code\n",
    "* Consider what might be best for your algorithm - e.g. is it a one-off such that brute force works, does it ned to be generalised so it can work in many situations, does it need to be quick?"
   ]
  },
  {
   "cell_type": "markdown",
   "metadata": {},
   "source": [
    "# Problem D - optional extra\n",
    "\n",
    "For our final problem you will find the largest product in a grid which can be made by any four adjacent numbers. \n",
    "\n",
    "The numbers could be adjacent vertically, horizontally or diagnoally. "
   ]
  },
  {
   "cell_type": "code",
   "execution_count": 29,
   "metadata": {},
   "outputs": [
    {
     "name": "stdout",
     "output_type": "stream",
     "text": [
      "[[77.  2. 63. 75. 50. 22. 20. 76. 17.  9.]\n",
      " [69. 95.  0. 51. 81. 61. 72. 29. 92. 71.]\n",
      " [54. 14. 37. 67. 44. 43. 62. 51. 65. 60.]\n",
      " [81. 52. 91. 32.  9. 30. 11. 83.  5. 63.]\n",
      " [55. 82. 20. 86. 35. 75. 30. 88. 33. 17.]\n",
      " [39.  9. 82. 15. 38. 94. 99. 46. 83. 25.]\n",
      " [60. 90. 53. 59.  4. 36.  8. 31. 33. 77.]\n",
      " [ 4. 43. 31. 64. 35.  4. 88. 76. 88. 42.]\n",
      " [61. 51. 60. 26. 30.  3. 30. 24. 56. 57.]\n",
      " [48. 29.  6. 98. 34. 50. 98. 44. 32. 52.]]\n"
     ]
    }
   ],
   "source": [
    "# Here I am generating a 10 by 10 grid. You will search this grid for the answer. \n",
    "\n",
    "grid=np.zeros((10,10))\n",
    "\n",
    "np.random.seed(10)\n",
    "for i in range(0,10):\n",
    "    for j in range(0,10):\n",
    "        grid[i,j]=round(np.random.uniform(0,100))\n",
    "\n",
    "print(grid)"
   ]
  },
  {
   "cell_type": "code",
   "execution_count": 30,
   "metadata": {},
   "outputs": [],
   "source": [
    "# Answer here\n"
   ]
  },
  {
   "cell_type": "code",
   "execution_count": null,
   "metadata": {},
   "outputs": [],
   "source": []
  },
  {
   "cell_type": "code",
   "execution_count": null,
   "metadata": {},
   "outputs": [],
   "source": []
  },
  {
   "cell_type": "code",
   "execution_count": 31,
   "metadata": {},
   "outputs": [],
   "source": [
    "# Hint 1\n",
    "\n",
    "# One method would be to treat each sequence separately and then loop over elements.\n",
    "# Consider what to do at the boundaries"
   ]
  },
  {
   "cell_type": "code",
   "execution_count": null,
   "metadata": {},
   "outputs": [],
   "source": []
  },
  {
   "cell_type": "code",
   "execution_count": null,
   "metadata": {},
   "outputs": [],
   "source": []
  },
  {
   "cell_type": "code",
   "execution_count": 32,
   "metadata": {},
   "outputs": [],
   "source": [
    "# Hint 2 - pseudocode\n",
    "\n",
    "# max results array is same size as grid\n",
    "# max method array is same size as grid\n",
    "# number your methods for string in the method array \n",
    "# 1. horizontal right, 2. horizontal left\n",
    "# 3. vertical top, 4. vertical bottom\n",
    "# 5. 45 degrees, 6. 135 degrees, 7. 225 degrees, 8. 315 degrees\n",
    "# pad array with 3 extra rows and columns of zeros in each direction \n",
    "# for each x element in array from 4 to :-4\n",
    "#   for each y element in array from 4 to :-4\n",
    "#       caculate the product for each method\n",
    "#       store the maximum product and it's corresponding method in the results and mthod grid\n",
    "# find max of results grid and report index\n",
    "# find this index in method grid\n",
    "# woop!"
   ]
  },
  {
   "cell_type": "code",
   "execution_count": null,
   "metadata": {},
   "outputs": [],
   "source": []
  }
 ],
 "metadata": {
  "kernelspec": {
   "display_name": "Python 3 (ipykernel)",
   "language": "python",
   "name": "python3"
  },
  "language_info": {
   "codemirror_mode": {
    "name": "ipython",
    "version": 3
   },
   "file_extension": ".py",
   "mimetype": "text/x-python",
   "name": "python",
   "nbconvert_exporter": "python",
   "pygments_lexer": "ipython3",
   "version": "3.9.7"
  }
 },
 "nbformat": 4,
 "nbformat_minor": 4
}
