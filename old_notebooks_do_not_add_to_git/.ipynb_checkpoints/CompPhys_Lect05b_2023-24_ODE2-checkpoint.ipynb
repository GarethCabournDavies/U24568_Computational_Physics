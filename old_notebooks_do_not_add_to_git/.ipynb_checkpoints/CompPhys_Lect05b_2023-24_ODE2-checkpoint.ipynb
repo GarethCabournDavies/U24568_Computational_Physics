{
 "cells": [
  {
   "cell_type": "markdown",
   "metadata": {
    "id": "Z7by2WiGWU7D"
   },
   "source": [
    "# Computational Physics U24568\n",
    "## Lecture 7b - Orbital Mechanics using ODEs"
   ]
  },
  {
   "cell_type": "code",
   "execution_count": null,
   "metadata": {
    "id": "pVPI5gh0WU7E"
   },
   "outputs": [],
   "source": [
    "%matplotlib inline\n",
    "import numpy as np\n",
    "import matplotlib.pyplot as plt\n",
    "from scipy.integrate import odeint\n",
    "\n",
    "# In addition to the imports, we'll also import some constants\n",
    "# And also define our own\n",
    "# NOTE: All units in SI\n",
    "from scipy.constants import gravitational_constant, au\n",
    "\n",
    "year = 365.25*24*3600 # seconds\n",
    "\n",
    "mass_sun = 1.989e30 # kg\n",
    "\n",
    "earth_distance = 1.496e11 # meters\n",
    "# The Earth distance is also defined as 1 AU\n",
    "mars_distance = 227.9*1.e9 # meters\n",
    "jupiter_distance = 778.57*1.e9 # meters"
   ]
  },
  {
   "cell_type": "markdown",
   "metadata": {
    "id": "mNy8p5d9WU7E"
   },
   "source": [
    "# Gravity!\n",
    "\n",
    "Continuing from the previous notebook, now we're going to try a more difficult problem: gravity! We'll do this in two dimensions for simplicity, though we could also do it in three dimensions. We've now got more variables than before. It's still ordinary differential equations though. The only derivative is a time derivative.\n",
    "\n",
    "Now we want to solve a vector equation:\n",
    "\n",
    "$$\\vec{F~} = - \\frac{G~M~m}{r^2} \\hat{r~}$$\n",
    "\n",
    "We'll take this to be the force on $m$, so $F = m a$. In terms of the unnormalized vector $\\vec{r~}$, we have\n",
    "\n",
    "$$\\vec{a~} = - \\frac{G~M}{r^2} \\frac{\\vec{r~}}{r}$$\n",
    "\n",
    "where $r$ is the length of $\\vec{r~}$."
   ]
  },
  {
   "cell_type": "markdown",
   "metadata": {
    "id": "RPCvoyztWU7E"
   },
   "source": [
    "So how do we put this into the form scipy expects? We define the position of the little object by\n",
    "$$\\vec{r~} = (x, y)$$\n",
    "Then the length is\n",
    "$$r = \\sqrt{x^2 + y^2}$$\n",
    "We have second-order differential equations for both $x$ and $y$. We need four variables $x$, $y$, $v_x$, $v_y$.\n",
    "\n",
    "We also need to rescale our variables. Kilograms, meters, and seconds aren't great for describing orbits. We'll get a lot of huge numbers. Let's define a rescaling:\n",
    "$$t = T~\\tau$$\n",
    "$$r = R~\\rho$$\n",
    "So the differential equation looks something like\n",
    "$$\\frac{d^2 r}{d t^2} = \\frac{R}{T^2} \\frac{d^2 \\rho}{d \\tau^2} = - \\frac{G~M}{(R~\\rho)^2}$$\n",
    "or\n",
    "$$\\frac{d^2 \\rho}{d \\tau^2} = - \\left( \\frac{G~M~T^2}{R^3}\\right) ~ \\frac{1}{\\rho^2}$$\n",
    "All the units have been collected into one single factor. If we choose $R = 1~\\mathrm{AU}$ and $T = 1~\\mathrm{yr}$, and set $M$ to the mass of the Sun, this factor becomes a nice number close to $1$."
   ]
  },
  {
   "cell_type": "markdown",
   "metadata": {
    "id": "fXtsyKQBWU7E"
   },
   "source": [
    "**Exercise 1.1**: There are several useful constants at the start of the notebook. Use them to determine the constant $\\frac{G~M~T^2}{R^3}$. Call the variable `scale_factor`."
   ]
  },
  {
   "cell_type": "code",
   "execution_count": null,
   "metadata": {
    "id": "NMpCrSWqWU7E"
   },
   "outputs": [],
   "source": [
    "# Answer\n"
   ]
  },
  {
   "cell_type": "markdown",
   "metadata": {
    "id": "2TS8mzLnWU7E"
   },
   "source": [
    "Now we're ready to define the gravitational acceleration and start some calculations. Read the explanation above carefully, then\n",
    "\n",
    "**Exercise 1.2**: Complete the derivatives function below."
   ]
  },
  {
   "cell_type": "code",
   "execution_count": null,
   "metadata": {
    "id": "TK5ymGeAWU7F"
   },
   "outputs": [],
   "source": [
    "# Gravitational acceleration in 2D\n",
    "def grav_derivs(state, t):\n",
    "    x, y, vx, vy = state\n",
    "    \n",
    "    r =  # Calculate the distance from x and y\n",
    "    acc =  # Calculate the magnitude of the acceleration\n",
    "    acc_x =  # Calculate the vector components of the acceleration\n",
    "    acc_y =  # Calculate the vector components of the acceleration\n",
    "    \n",
    "    return (vx, vy, acc_x, acc_y)"
   ]
  },
  {
   "cell_type": "markdown",
   "metadata": {
    "id": "zSXwh8zfWU7F"
   },
   "source": [
    "**Exercise 1.3**: Read the two cells of code below. The equation is being solved. Answer the following questions:\n",
    " 1. For what length of time is the orbit being solved?\n",
    " 1. What is the starting position of the planet?\n",
    " 1. What is the starting velocity?\n",
    " 1. What kind of orbit do you expect?\n",
    "Write brief answers, then run the code and see if you're correct. You may need to debug your derivatives function."
   ]
  },
  {
   "cell_type": "code",
   "execution_count": null,
   "metadata": {
    "id": "ixnPyxPwWU7F"
   },
   "outputs": [],
   "source": [
    "times = np.linspace(0., 0.3, 100000)\n",
    "r_init = (1., 0., 0., 1.) # Starting values at t = 0\n",
    "rarr = odeint(grav_derivs, r_init, times)"
   ]
  },
  {
   "cell_type": "code",
   "execution_count": null,
   "metadata": {
    "id": "sRzDa4qoWU7F",
    "scrolled": true
   },
   "outputs": [],
   "source": [
    "plt.figure(figsize=(8,8))\n",
    "plt.scatter(rarr[:,0], rarr[:,1], s=5)\n",
    "plt.scatter(0., 0., c='y', s=50)\n",
    "plt.gca().set_aspect('equal', 'datalim')"
   ]
  },
  {
   "cell_type": "markdown",
   "metadata": {
    "id": "lvscMHynWU7F"
   },
   "source": [
    "Your answers here:\n",
    "\n",
    "\n"
   ]
  },
  {
   "cell_type": "code",
   "execution_count": null,
   "metadata": {
    "id": "4F1N-GPgWU7F"
   },
   "outputs": [],
   "source": []
  },
  {
   "cell_type": "markdown",
   "metadata": {
    "id": "wyWwcDenWU7F"
   },
   "source": [
    "## Earth's Actual Orbit\n",
    "\n",
    "We just guessed at the initial conditions, and we get a very elliptical orbit. Using the formula for acceleration on a circle\n",
    "\n",
    "$$v^2/r = G~M/r^2$$\n",
    "\n",
    "So the velocity on a circular orbit should be\n",
    "\n",
    "$$v = \\sqrt{G~M/r}$$\n",
    "\n",
    "Remembering our scale factor, this becomes\n",
    "\n",
    "$$v = \\sqrt{\\frac{G~M T^2}{R^3} \\frac{1}{\\rho}}$$\n",
    "\n",
    "\n",
    "We can use that to get the initial conditions correct."
   ]
  },
  {
   "cell_type": "markdown",
   "metadata": {
    "id": "N16KqXLuWU7F"
   },
   "source": [
    "**Exercise 2.1**: Fill in the initial condition below to get a circular orbit at $r = 1$."
   ]
  },
  {
   "cell_type": "code",
   "execution_count": null,
   "metadata": {
    "id": "NXnV79RJWU7F"
   },
   "outputs": [],
   "source": [
    "r_init2 = (1., 0., 0., 1) # FIXME: Change the last value\n",
    "times = np.linspace(0., 10, 10000)\n",
    "rarr2 = odeint(grav_derivs, r_init2, times)"
   ]
  },
  {
   "cell_type": "code",
   "execution_count": null,
   "metadata": {
    "id": "ixRi2_p6WU7F",
    "scrolled": true
   },
   "outputs": [],
   "source": [
    "plt.figure(figsize=(8,8))\n",
    "plt.scatter(rarr2[:,0], rarr2[:,1], s=5)\n",
    "plt.scatter(0., 0., c='y', s=50)\n",
    "plt.gca().set_aspect('equal', 'datalim')"
   ]
  },
  {
   "cell_type": "markdown",
   "metadata": {
    "id": "hZ2XRYiNWU7F"
   },
   "source": [
    "**Exercise 2.2**: Find how long a single orbit takes. Does this make sense?"
   ]
  },
  {
   "cell_type": "code",
   "execution_count": null,
   "metadata": {
    "executionInfo": {
     "elapsed": 4,
     "status": "ok",
     "timestamp": 1648638356812,
     "user": {
      "displayName": "Ian Harry",
      "userId": "12539231435418418952"
     },
     "user_tz": -60
    },
    "id": "zimsmVehWU7G"
   },
   "outputs": [],
   "source": []
  },
  {
   "cell_type": "code",
   "execution_count": null,
   "metadata": {
    "id": "dT4cO3uTWU7G"
   },
   "outputs": [],
   "source": []
  },
  {
   "cell_type": "markdown",
   "metadata": {
    "id": "ZVwTZWnyWU7G"
   },
   "source": [
    "**Exercise 2.3**: Play with the conditions below, shooting the planet toward the sun but offset a bit in $y$ so it doesn't go straight through the center. What kind of shapes do you get? Note that we use a different `times` array than the others, so orbits that go way off can be stopped early if you want."
   ]
  },
  {
   "cell_type": "code",
   "execution_count": null,
   "metadata": {
    "id": "mqsR4PMVWU7G"
   },
   "outputs": [],
   "source": [
    "r_init3 = (4., 0.5, -10., 0.) # FIXME: Try different values\n",
    "times3 = np.linspace(0., 2, 1000)\n",
    "rarr3 = odeint(grav_derivs, r_init3, times)"
   ]
  },
  {
   "cell_type": "code",
   "execution_count": null,
   "metadata": {
    "id": "hmrDgvzEWU7G"
   },
   "outputs": [],
   "source": [
    "plt.figure(figsize=(8,8))\n",
    "plt.scatter(rarr3[:,0], rarr3[:,1], s=5)\n",
    "plt.scatter(0., 0., c='y', s=50) # The sun\n",
    "plt.gca().set_aspect('equal', 'datalim')"
   ]
  },
  {
   "cell_type": "markdown",
   "metadata": {
    "id": "YeaiJiN1WU7G"
   },
   "source": [
    "**Exercise 2.4**: I've defined the distance from Mars to the Sun in kilometers as `mars_distance`. Define `r_mars` in our units (the ones where the Earth is at $r = 1$, and change the initial conditions below to simulate Mars rather than Earth."
   ]
  },
  {
   "cell_type": "code",
   "execution_count": null,
   "metadata": {
    "id": "tNnL4CJrWU7G"
   },
   "outputs": [],
   "source": []
  },
  {
   "cell_type": "code",
   "execution_count": null,
   "metadata": {
    "id": "9zc4Mx8WWU7G"
   },
   "outputs": [],
   "source": [
    "r_init4 = (1, 0., 0., 1) # FIXME: Set correct x and vy for Mars\n",
    "rarr4 = odeint(grav_derivs, r_init4, times)"
   ]
  },
  {
   "cell_type": "code",
   "execution_count": null,
   "metadata": {
    "id": "H6FUmLlvWU7G"
   },
   "outputs": [],
   "source": [
    "plt.figure(figsize=(8,8))\n",
    "plt.scatter(rarr2[:,0], rarr2[:,1], s=5)\n",
    "plt.scatter(rarr4[:,0], rarr4[:,1], c='r', s=4)\n",
    "plt.scatter(0., 0., c='y', s=50) # The sun\n",
    "plt.gca().set_aspect('equal', 'datalim')"
   ]
  },
  {
   "cell_type": "code",
   "execution_count": null,
   "metadata": {
    "id": "bjWj8MOTWU7G"
   },
   "outputs": [],
   "source": []
  },
  {
   "cell_type": "markdown",
   "metadata": {
    "id": "bwWJgrXlWU7G"
   },
   "source": [
    "## Mission to Mars\n",
    "\n",
    "Let's try to plan a mission from Earth to Mars. Define a third object, a spacecraft. Give it the same initial position as Earth, but slightly more velocity.\n",
    "\n",
    "**Exercise 3.1**: Make the initial conditions, integrate them to get `rarr5`, and make a plot of the three bodies."
   ]
  },
  {
   "cell_type": "code",
   "execution_count": null,
   "metadata": {
    "id": "HL1nNfzaWU7G"
   },
   "outputs": [],
   "source": [
    "r_init5 = (1., 0., 0., 1) # FIXME: Change the last value\n",
    "times = np.linspace(0., 10, 10000)\n",
    "rarr5 = odeint(grav_derivs, r_init5, times)"
   ]
  },
  {
   "cell_type": "code",
   "execution_count": null,
   "metadata": {
    "id": "2dvWBthxWU7G"
   },
   "outputs": [],
   "source": []
  },
  {
   "cell_type": "code",
   "execution_count": null,
   "metadata": {
    "id": "PtrTqPP3WU7G"
   },
   "outputs": [],
   "source": [
    "plt.figure(figsize=(8,8))\n",
    "plt.scatter(rarr2[:,0], rarr2[:,1], s=5)\n",
    "plt.scatter(rarr4[:,0], rarr4[:,1], c='r', s=4)\n",
    "plt.scatter(rarr5[:,0], rarr5[:,1], c='k', ls=':', s=2)\n",
    "plt.scatter(0., 0., c='y', s=50) # The sun\n",
    "plt.gca().set_aspect('equal', 'datalim')"
   ]
  },
  {
   "cell_type": "markdown",
   "metadata": {
    "id": "K5YDdl9mWU7G"
   },
   "source": [
    "## Hohmann Transfer Orbit\n",
    "\n",
    "A Hohmann transfer orbit is the minimum-energy way to go from one circular orbit to another in the same plane. It's an elliptical orbit that just barely touches both circular orbits. You can read about it on [Wikipedia](https://en.wikipedia.org/wiki/Hohmann_transfer_orbit).\n",
    "\n",
    "For the initial conditions, we can start the spacecraft at the same position as Earth at $t = 0$, i.e. $(x, y) = (1, 0)$. But we need to choose the correct velocity to reach Mars's orbit. We could write down the energy equation and solve it, or we could let the computer solve it.\n",
    "\n",
    "**Exercise 3.2**: Write a function that takes the output of `odeint` and gives an array of the distance of the spacecraft from the Sun."
   ]
  },
  {
   "cell_type": "code",
   "execution_count": null,
   "metadata": {
    "id": "IJJRbiLlWU7G"
   },
   "outputs": [],
   "source": []
  },
  {
   "cell_type": "markdown",
   "metadata": {
    "id": "UfR8DhydWU7G"
   },
   "source": [
    "**Exercise 3.3**: Now write a function that finds the maximum radius of the craft"
   ]
  },
  {
   "cell_type": "code",
   "execution_count": null,
   "metadata": {
    "id": "fRzFdvbTWU7G"
   },
   "outputs": [],
   "source": []
  },
  {
   "cell_type": "markdown",
   "metadata": {
    "id": "Ts4GZwaMWU7H"
   },
   "source": [
    "**Exercise 3.4**: Now put it together. Write a function that takes an initial velocity, solves the ODE, then finds the maximum radius that the orbit of the craft reaches. Test the function and make sure it gives sensible results (e.g. what happens when it has the same velocity as the Earth?)."
   ]
  },
  {
   "cell_type": "code",
   "execution_count": null,
   "metadata": {
    "id": "3WV1Lt-EWU7H"
   },
   "outputs": [],
   "source": []
  },
  {
   "cell_type": "markdown",
   "metadata": {
    "id": "lXmVmKUbathh"
   },
   "source": [
    "Now let's automate finding the best value! Using `fsolve`, you can find the root of a function. See the example below. You need to give it a function that returns zero when it's at the right answer, so it's good to have it return the square of the max distance minus the distance that you want it to reach (`r_mars`).\n"
   ]
  },
  {
   "cell_type": "code",
   "execution_count": null,
   "metadata": {
    "colab": {
     "base_uri": "https://localhost:8080/"
    },
    "executionInfo": {
     "elapsed": 207,
     "status": "ok",
     "timestamp": 1648637148072,
     "user": {
      "displayName": "Ian Harry",
      "userId": "12539231435418418952"
     },
     "user_tz": -60
    },
    "id": "_nsctJpaWU7H",
    "outputId": "0e4197dc-f167-4b83-b7a5-5e739cdae8b0"
   },
   "outputs": [
    {
     "data": {
      "text/plain": [
       "array([2.])"
      ]
     },
     "execution_count": 207,
     "metadata": {},
     "output_type": "execute_result"
    }
   ],
   "source": [
    "from scipy.optimize import fsolve\n",
    "\n",
    "def test(x):\n",
    "    return (x - 2.)**2\n",
    "\n",
    "fsolve(test, 1.)"
   ]
  },
  {
   "cell_type": "code",
   "execution_count": null,
   "metadata": {
    "id": "y3fntw7cWU7H"
   },
   "outputs": [],
   "source": [
    "fsolve?"
   ]
  },
  {
   "cell_type": "markdown",
   "metadata": {
    "id": "GGEqbchfWU7H"
   },
   "source": [
    "**Exercise 3.4**: Use `fsolve` to find an orbit for the spacecraft that leaves Earth, and just reaches Mars."
   ]
  },
  {
   "cell_type": "code",
   "execution_count": null,
   "metadata": {
    "id": "qIstweNzWU7H"
   },
   "outputs": [],
   "source": []
  },
  {
   "cell_type": "markdown",
   "metadata": {
    "id": "EPvfZmIZWU7H"
   },
   "source": [
    "**Exercise  3.5** (quite difficult): This orbit only works when Earth and Mars are at certain positions. Find the correct relative positions of Earth and Mars such that the spacecraft reaches Mars, then plot your solution. How far apart in time are the launch windows?"
   ]
  },
  {
   "cell_type": "code",
   "execution_count": null,
   "metadata": {
    "id": "tg_yP9EzWU7H"
   },
   "outputs": [],
   "source": []
  },
  {
   "cell_type": "markdown",
   "metadata": {
    "id": "BDPpRLk3cLAW"
   },
   "source": [
    "## Coursework example\n",
    "\n",
    "We’re going to generate a gravitational wave signal of two merging black holes using a simplified version of the the post-Newtonian method.\n",
    "The equations come from Poisson and Will 1995 (link will appear in coursework, but is not needed). This\n",
    "paper provides series expansions for various quantities relating to compact binary coalescence\n",
    "waveforms. To keep things simple, we’ll only use these expressions at leading order.\n",
    "The formula for the signal is (1.1). Only the time-dependent parts matter here - we’ll ignore\n",
    "the overall amplitude. So the quantity we will calculate is\n",
    "\n",
    "$$ h(t) \\propto F(t)^{2/3} \\cos{\\Phi(t)} $$ \n",
    "\n",
    "There are two time-dependent quantities we need: F(t) (the frequency of the signal as a function of time) and Φ(t) (the phase of the signal as a function of time). The first comes from (1.3). We’ll write it here, keeping only the first term in the series:\n",
    "\n",
    "$$ \\frac{d F(t)}{dt} = \\frac{96}{ 5 \\pi \\mathcal{M}^2} \\left(\\pi M F(t)\\right)^{11/3} $$  \n",
    "\n",
    "To get the phase, we’ll use the definition under (1.1), Φ(t) = R 2π F(t) dt. This is more useful turned into a differential equation, so we’ll use the equivalent\n",
    "\n",
    "$$ \\frac{d \\Phi(t)}{dt} = 2 \\pi F(t) $$\n",
    "\n",
    "$\\mathcal{M}$ is the chirp mass, which we take here to be 10 solar masses. In natural units, one solar mass is equivalent to 4.92 × 10−6 seconds, so you need to convert the chirp mass into seconds to make this make dimensional sense.\n",
    "\n",
    "Solve to generate $h(t)$.\n",
    "\n",
    "**NOTE: The coursework will ask for a different mass, but otherwise is the same. We will not provide a solution to this question**"
   ]
  },
  {
   "cell_type": "code",
   "execution_count": null,
   "metadata": {
    "id": "SVnynVJqeaTX"
   },
   "outputs": [],
   "source": []
  },
  {
   "cell_type": "markdown",
   "metadata": {
    "id": "5uPEE9p8WU7H"
   },
   "source": [
    "## Some fun things to try\n",
    "\n",
    "Once you've finished the above, go ahead and try whichever of these appeal to you.\n",
    "\n",
    " * What if gravity were an inverse cube rather than an inverse square law? What do the orbits look like, are they stable? This is what would happen if there were three space dimensions.\n",
    " * Simulate a solar sail mission, see the hints below.\n",
    " * Add in the force from a rocket. See the hints below.\n",
    " * Add some drag, as if the solar system were filled with dust or gas. The force would be opposite the velocity, and probably scale with velocity or velocity squared.\n",
    " * Give the planets mass as well, let them attract the spacecraft. Investigate the Lagrange points."
   ]
  },
  {
   "cell_type": "markdown",
   "metadata": {
    "id": "ro3beX26WU7H"
   },
   "source": [
    "## Inverse Cube Law\n",
    "\n",
    "Just replace $\\frac{1}{r^2}$ with $\\frac{1}{r^3}$. You can also add in a little bit of a $\\frac{1}{r^3}$ term to the one currently there. This actually happens due to the oblateness of the Sun and also General Relativity, and we measure these effects on Mercury. You need an elliptical orbit to see them though."
   ]
  },
  {
   "cell_type": "markdown",
   "metadata": {
    "id": "q0WL5uy1WU7H"
   },
   "source": [
    "## Solar sail\n",
    "\n",
    "The intensity of sunlight at Earth's orbit is 1400 Watts per square meter. That falls off like $1/r^2$. The pressure of light is intensity divided by the speed of light.\n",
    "\n",
    "To get the acceleration provided by a solar sail, multiply the pressure of the sunlight by the area of your solar sail, and divide by the mass of your craft. It's not like gravity, the mass of your craft doesn't divide out. You might have a tiny probe of a few kilograms, or maybe a metric ton like a more typical craft.\n",
    "\n",
    "The force of the sunlight points directly out from the Sun, so in the opposite direction from gravity."
   ]
  },
  {
   "cell_type": "code",
   "execution_count": null,
   "metadata": {
    "id": "Rh4uVPG3WU7H"
   },
   "outputs": [],
   "source": [
    "from scipy.constants import speed_of_light"
   ]
  },
  {
   "cell_type": "markdown",
   "metadata": {
    "id": "f3QrxYIDWU7H"
   },
   "source": [
    "## Rocket\n",
    "\n",
    "To make the rocket interesting, let's always point it at a 90 degree angle from the sun. We need a unit vector that's perpendicular to $\\hat{r~}$. We can use the cross product with $z$.\n",
    "\n",
    "$$\\hat{\\theta~} = \\left( \\frac{x}{r}, \\frac{y}{r}, 0 \\right) \\times \\left( 0, 0, 1 \\right)$$\n",
    "\n",
    "You can make it a constant force or whatever you want. A real rocket would lose mass as it expends its fuel, if you want to simulate that."
   ]
  },
  {
   "cell_type": "code",
   "execution_count": null,
   "metadata": {
    "id": "rd6VbjHwWU7H"
   },
   "outputs": [],
   "source": []
  },
  {
   "cell_type": "markdown",
   "metadata": {
    "id": "FO9-jBhcWU7H"
   },
   "source": [
    "## Giving planets mass\n",
    "\n",
    "We'll need to start by defining a derivatives function that will simulate all the orbits at once, because the forces now depend on all positions. The `state` variable now has $4N$ components, two position and two velocity for each object.\n",
    "\n",
    "The best way to make this work is to write a loop through the $N$ objects, finding the derivatives for that object, and building up a list of all of the derivatives. If you have a list, and you want to add several things to it, you can do something like `lst.extend([1,2,3,4])` - it's similar to `append` but for multiple elements.\n",
    "\n",
    "You also need to set masses (scaled relative to the sun's mass) for all the planets, and calculate forces based on the vectors between them."
   ]
  },
  {
   "cell_type": "code",
   "execution_count": null,
   "metadata": {
    "id": "S2S5gVeDWU7H"
   },
   "outputs": [],
   "source": []
  },
  {
   "cell_type": "markdown",
   "metadata": {
    "id": "n8QF5Q1ie5WQ"
   },
   "source": [
    "## CHALLENGING EXERCISE - Slingshot\n",
    "\n",
    "Slingshot (https://libregamewiki.org/Slingshot) is an old game where the goal is to shoot \"arrows\" from your stationary spaceship around a set of planetoids to reach your opponent. The \"arrow\" is attracted by the gravity of the planetoids as it moves and therefore sometimes the path to take is highly nontrivial!\n",
    "In this exercise your goal is to simulate a single shot and plot the trajectory. Here is the step-by-step instructions\n",
    "\n",
    "1: Put your spaceship at x=0, y=0. Display this with a red triangle on a plot.\n",
    "\n",
    "2: Put the opponent's spaceship at x=100, y=0. Display this with a green triangle on the same plot.\n",
    "\n",
    "3: Choose a planetoids with x position between 10 and 90, and y position between -30 and 30. Add these to the plot as a black circle.\n",
    "\n",
    "4: Ask the user to set the initial speed and initial shot direction (by using the input function). The initial speed should be a value between 0 and 10 (set it to 10 if it is larger), and the initial direction is an angle between 0 and 360 degrees. \n",
    "\n",
    "5: Use the techniques above to solve the differential equations governing how the arrow will move and predict the motion of the show. Stop the evolution if the x position is smaller than -20 or larger than 120 or if the y position is larger than 50 or smaller than -50.\n",
    "\n",
    "The equations governing the motion of the particle are those of Newtonian gravity (projected into 2 dimensions). We have to solve both for x-motion and for y-motion separately. To do this we calculate the acceleration at a given time, use this to compute the change in velocity, and update the position according to the velocity. So in order of how something would be solved at a given time point:\n",
    "\n",
    "$$ \\frac{dv_x}{dt}  = a_x = \\frac{ - G M}{r^2} (x_a - x_p/r) $$\n",
    "\n",
    "$$ \\frac{dx_a}{dt} = v_x $$\n",
    "\n",
    "$$ \\frac{dv_y}{dt}  = a_y = \\frac{ - G M}{r^2} (y_a - y_p/r) $$\n",
    "\n",
    "$$ \\frac{dy_a}{dt} = v_y $$\n",
    "\n",
    "Where here a is the acceleration of the arrow (in the x and y directions), v is the velocity (in the x and y directions) and are the x and y positions of the arrow and and are the positions of the planetoid (the position of the planetoid doesn't change). M is the mass of the planetoid; set this to 10, and G to 10 (but if you find the planetoid is too gravitationally strong, or too weak, try adjusting this value). r is the distance between the arrow and the planetoid $r = ((x_a - x_p)^2 + (y_a - y_p)^2)^{0.5}$.\n",
    "\n",
    "If you get this working try adding multiple planetoids (then the a equation becomes a sum over different contributions) and draw the position of these planetoids randomly so you get a different game each time. Also stop the motion of the arrow if it comes within a distance of 1 of the opponent's ship. Display appropriate text based on if the arrow hits, or misses, the ship.\n"
   ]
  },
  {
   "cell_type": "code",
   "execution_count": null,
   "metadata": {
    "id": "QmUll1aFe78u"
   },
   "outputs": [],
   "source": []
  }
 ],
 "metadata": {
  "colab": {
   "collapsed_sections": [
    "5uPEE9p8WU7H",
    "ro3beX26WU7H",
    "f3QrxYIDWU7H"
   ],
   "name": "CompPhys_Lect07b_2020-21_ODE2.ipynb",
   "provenance": []
  },
  "kernelspec": {
   "display_name": "Python 3 (ipykernel)",
   "language": "python",
   "name": "python3"
  },
  "language_info": {
   "codemirror_mode": {
    "name": "ipython",
    "version": 3
   },
   "file_extension": ".py",
   "mimetype": "text/x-python",
   "name": "python",
   "nbconvert_exporter": "python",
   "pygments_lexer": "ipython3",
   "version": "3.9.7"
  }
 },
 "nbformat": 4,
 "nbformat_minor": 1
}
