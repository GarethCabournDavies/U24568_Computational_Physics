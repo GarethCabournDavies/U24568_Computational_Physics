{
 "cells": [
  {
   "cell_type": "code",
   "execution_count": null,
   "metadata": {
    "id": "1_2pWG4SUxX0"
   },
   "outputs": [],
   "source": [
    "%matplotlib inline\n",
    "import matplotlib.pyplot as plt\n",
    "import numpy as np\n",
    "import numpy.random as rnd\n",
    "from scipy.stats import kurtosis\n",
    "import scipy.stats as stats"
   ]
  },
  {
   "cell_type": "markdown",
   "metadata": {
    "id": "20vlAD01UxX2"
   },
   "source": [
    "# Statistics II\n",
    "\n",
    "In this notebook we will use the distributions we learned about in notebook 2b to gnerate mock data and we'll go further and fit an analytical solution to that data. \n",
    "\n",
    "Additionally we'll introduce Monte Carlo methods and use them to calculate the value of pi.\n",
    "\n",
    "#### From stats I you should be familiar with:\n",
    "1. Generating 'random' data from an analytical distibution using both `numpy.random` and `scipy.stats` packages\n",
    "2. Finding 'summary statistics' such as 'moments' of a distribution of data using for example\n",
    "    * `np.mean`\n",
    "    * `np.std`\n",
    "    * `scipy.stats.kurtosis`\n",
    "    * `scipy.stats.skew`\n",
    "3. Generating a model distribution using scipy.stats.pdf (a probability density function) - for example this is a function that our random data could be drawn from\n",
    "4. Understanding that we could compare 'summary statistics' or 'moments' of a distribution to give us an idea as to whether our data is adequately represented by that distribution.\n",
    "5. Plotting using `matplotlib.hist`\n",
    "6. Additionally you should be familiar with reading help pages and finding useful information on them, e.g. 'inputs', 'outputs', 'functions' within a 'class', and examples on how to use that function/class. \n",
    "#### If you are not familiar with anything above please ask for a brief explanation in class!\n",
    "\n",
    "\n",
    "\n",
    "#### Learning objectives for today:\n",
    "Today we will be using random-ness to solve problems.\n",
    "1. Using `numpy.histogram` to save histogram data to an array\n",
    "2. Use a PDF (probability density function) to draw random data \n",
    "    * creating mock data is a useful tool to test out a scientific hypothesis\n",
    "3. Fit a model to this random data\n",
    "4. Use multiple random draws to estimate the value of $\\pi$.\n",
    "    * using multiple draws in this way is called 'monte-carlo' - it is a very useful technique in many situations including fitting data and finding uncertainties on results - we WILL come back to this later in term so become familiar with it now!\n",
    "5. Understanding what 'noise' is\n"
   ]
  },
  {
   "cell_type": "markdown",
   "metadata": {
    "id": "72fvwVlqUxX4"
   },
   "source": [
    "# Generating mock data by drawing from distributions\n",
    "\n",
    "Last time we saw that a valuble way to plot distributions was to histogram them using matplotlib's `.hist` function.\n",
    "\n",
    "Numpy also has a histogram function which can allow you to recover histograms of the data:\n",
    "\n",
    "`np.histogram` : https://numpy.org/doc/stable/reference/generated/numpy.histogram.html \n",
    "\n",
    "Read through the above help page.\n",
    "\n",
    "\n",
    "Let's start with exploring how this function could be hepful to us. \n",
    "\n",
    "Let's consider a uniform distribution and print the results of the `np.histogram` function"
   ]
  },
  {
   "cell_type": "code",
   "execution_count": null,
   "metadata": {
    "id": "Goi4B-KGUxX5",
    "outputId": "f8953a22-bfec-460e-9f7e-05cae6c67e6d"
   },
   "outputs": [
    {
     "name": "stdout",
     "output_type": "stream",
     "text": [
      "(array([17, 10,  7, 10,  8,  7, 15, 10, 10,  6]), array([1.06420182, 1.95681116, 2.8494205 , 3.74202983, 4.63463917,\n",
      "       5.52724851, 6.41985785, 7.31246718, 8.20507652, 9.09768586,\n",
      "       9.9902952 ]))\n"
     ]
    }
   ],
   "source": [
    "dist0 = rnd.uniform(10, size=100)\n",
    "print(np.histogram(dist0))"
   ]
  },
  {
   "cell_type": "markdown",
   "metadata": {
    "id": "pe40PHGJUxX6"
   },
   "source": [
    "This is how we can store the data in arrays and call them"
   ]
  },
  {
   "cell_type": "code",
   "execution_count": null,
   "metadata": {
    "id": "nlRg5KoIUxX6"
   },
   "outputs": [],
   "source": [
    "number, bin_edges = np.histogram(dist0)"
   ]
  },
  {
   "cell_type": "markdown",
   "metadata": {
    "id": "ITZ5DXKuUxX6"
   },
   "source": [
    "You'll notice I wrote 'bin_edges' not 'bin_centers' - you might want to verify these are bin_edges by printing the size of the two arrays. In the exercise below you will be asked to plot the bin_centers against the number. "
   ]
  },
  {
   "cell_type": "markdown",
   "metadata": {
    "id": "9SIraizlUxX7"
   },
   "source": [
    "#### Exercise:\n",
    "Plot a histogram using `plt.bar` with the bin_centers plotted on the x-axis and the count in each bin on the y. "
   ]
  },
  {
   "cell_type": "code",
   "execution_count": null,
   "metadata": {
    "id": "04QF6ul0UxX7"
   },
   "outputs": [],
   "source": [
    "# Answer \n"
   ]
  },
  {
   "cell_type": "markdown",
   "metadata": {
    "id": "FxqlHzelUxX7"
   },
   "source": [
    "#### Exercise:\n",
    "\n",
    "An object emits photons which we detect as a Guassian shaped emission line. The emission line has a wavelength of 20 cm, a standard deviation of 1cm and a flux (total integrated emission under the gaussian) of 100 (in arbitrary flux units). \n",
    "1. Use your knowledge of generating random data from a gaussian distribution to generate 1000 photons and \n",
    "2. Make a histogram of this data.\n",
    "3. Overplot a Gaussian PDF of this data"
   ]
  },
  {
   "cell_type": "code",
   "execution_count": null,
   "metadata": {
    "id": "4OGHL-tiUxX8"
   },
   "outputs": [],
   "source": [
    "# Answer\n"
   ]
  },
  {
   "cell_type": "markdown",
   "metadata": {
    "id": "ywzxvZ74UxX8"
   },
   "source": [
    "Now we will do this again but this time drawing data from the `stats.norm.pdf` ourselves using a technique called 'rejection sampling'.\n",
    "\n",
    "We will do this in a few steps which we'll explore step-by-step before writing into a function:\n",
    "1. define our model\n",
    "2. draw a data point\n",
    "3. choose whether to acept or reject this data point\n",
    "4. loop back to the top and draw again\n",
    "\n",
    "#### Exericse:\n",
    "1. Build a model gaussian pdf with a mean of 10 and a std of 3 and plot it"
   ]
  },
  {
   "cell_type": "code",
   "execution_count": null,
   "metadata": {
    "id": "6_SOhZ-rUxX8"
   },
   "outputs": [],
   "source": [
    "# Answer \n"
   ]
  },
  {
   "cell_type": "markdown",
   "metadata": {
    "id": "9VwpD4haUxX8"
   },
   "source": [
    "#### Exercise:\n",
    "2a. Use a function to draw a single random data point on the x axis from 0 to 20. Print it to verify it is between 0 and 20."
   ]
  },
  {
   "cell_type": "code",
   "execution_count": null,
   "metadata": {
    "id": "d1-WlSLwUxX8"
   },
   "outputs": [],
   "source": [
    "# Answer \n"
   ]
  },
  {
   "cell_type": "markdown",
   "metadata": {
    "id": "wL_w5lccUxX8"
   },
   "source": [
    "#### Exercise:\n",
    "2b. Use a function to draw a single random data point on the y axis. Use your plot above to decide what range to draw y from and print it to make sure it is within your chosen limits."
   ]
  },
  {
   "cell_type": "code",
   "execution_count": null,
   "metadata": {
    "id": "SUhNPkzDUxX8"
   },
   "outputs": [],
   "source": [
    "# Answer\n"
   ]
  },
  {
   "cell_type": "markdown",
   "metadata": {
    "id": "ChU7bsqNUxX9"
   },
   "source": [
    "#### Exercise:\n",
    "3. Write an if statement to choose whether to accept or reject your data point and print 'accept' or 'reject'. In this case you would like to keep values which are less than the model and reject those which are greater.  "
   ]
  },
  {
   "cell_type": "code",
   "execution_count": null,
   "metadata": {
    "id": "dndcp-k2UxX9"
   },
   "outputs": [],
   "source": [
    "# Answer\n"
   ]
  },
  {
   "cell_type": "markdown",
   "metadata": {
    "id": "HlWFz8x7UxX9"
   },
   "source": [
    "#### Exercise:\n",
    "4. Now take the steps above and put them in a loop - draw 1000 data points. Store the accepted values by appending them to a list."
   ]
  },
  {
   "cell_type": "code",
   "execution_count": null,
   "metadata": {
    "id": "If51WnQOUxX9"
   },
   "outputs": [],
   "source": [
    "# Answer\n"
   ]
  },
  {
   "cell_type": "markdown",
   "metadata": {
    "id": "PPu_WDpqUxX9"
   },
   "source": [
    "#### Exercise:\n",
    "Plot the model and the accepted x and y values. "
   ]
  },
  {
   "cell_type": "code",
   "execution_count": null,
   "metadata": {
    "id": "tCh-AJfoUxX9"
   },
   "outputs": [],
   "source": [
    "# Answer\n"
   ]
  },
  {
   "cell_type": "markdown",
   "metadata": {
    "id": "q8nUzEZ4UxX9"
   },
   "source": [
    "#### Exercise:\n",
    "Now plot your accepted data points as a histogram. Think carefully about how to do this. There are many ways, one you have seen is very quick. "
   ]
  },
  {
   "cell_type": "code",
   "execution_count": null,
   "metadata": {
    "id": "NijFrK3PUxX9"
   },
   "outputs": [],
   "source": [
    "# Answer\n"
   ]
  },
  {
   "cell_type": "markdown",
   "metadata": {
    "id": "Z7WdsinKUxX9"
   },
   "source": [
    "#### Exercise\n",
    "Can you think of a way to generate this data without using a loop (Hint: do you have to generate only one x and y at a time?)"
   ]
  },
  {
   "cell_type": "code",
   "execution_count": null,
   "metadata": {
    "id": "KeusW0WuUxX9"
   },
   "outputs": [],
   "source": [
    "# Answer \n"
   ]
  },
  {
   "cell_type": "markdown",
   "metadata": {
    "id": "irIxaTdgUxX9"
   },
   "source": [
    "Now we will see an example of how we could fit our data with a gaussian and verify that the mean and std are as we expected. We will come to things like this later on but it is good for you to see it now. \n",
    "\n",
    "Explore the help page for `scipy.optimize.curvefit`. to understand what this does."
   ]
  },
  {
   "cell_type": "code",
   "execution_count": null,
   "metadata": {
    "id": "EwcMOYLyUxX9",
    "outputId": "951ec36f-5d4b-418c-abc0-fd2b6b6b861e"
   },
   "outputs": [
    {
     "name": "stdout",
     "output_type": "stream",
     "text": [
      "model mean: 10.0\n",
      "model sigma: 3.0\n",
      "fit mean: 9.907956421964638\n",
      "fit sigma: 3.1748403326606733\n"
     ]
    },
    {
     "data": {
      "text/plain": [
       "(0, 20)"
      ]
     },
     "execution_count": 14,
     "metadata": {},
     "output_type": "execute_result"
    },
    {
     "data": {
      "image/png": "[encoded data removed]",
      "text/plain": [
       "<Figure size 432x288 with 1 Axes>"
      ]
     },
     "metadata": {
      "needs_background": "light"
     },
     "output_type": "display_data"
    }
   ],
   "source": [
    "from scipy.optimize import curve_fit\n",
    "\n",
    "# Here I am defining my model which will be a gaussian distribution\n",
    "def Gauss(x,Amp,mean,sigma):\n",
    "    return Amp*np.exp(-1.*(x-mean)**2/(2*sigma**2))\n",
    "\n",
    "# Here we form our data from our model\n",
    "model_mean=10.\n",
    "model_sigma=3.\n",
    "data_x = rnd.uniform(0,20,1000)\n",
    "data_y = rnd.uniform(0,0.15,1000)\n",
    "x=data_x[data_y<stats.norm.pdf(data_x,model_mean,model_sigma)]\n",
    "print('model mean:', model_mean)\n",
    "print('model sigma:', model_sigma)\n",
    "\n",
    "# Here we make a histogram of the data - it is this binned \n",
    "# values we will fit our model against\n",
    "number, bin_edges = np.histogram(x)\n",
    "bin_centers = (bin_edges[0:-1]+bin_edges[1:])/2.\n",
    "\n",
    "# Here we fit the data with curve_fit\n",
    "parameters, covariance = curve_fit(Gauss, bin_centers, number)\n",
    "\n",
    "# Here we report the paraameters - do you know why they are in this order?\n",
    "amp = parameters[0]\n",
    "mean = parameters[1]\n",
    "sigma = parameters[2]\n",
    "print('fit mean:', mean)\n",
    "print('fit sigma:', sigma)\n",
    "\n",
    "# Here we generate a model using our fit parameters and plot this and our data\n",
    "# together so that we can check on the fit\n",
    "fit_y = Gauss(bin_centers, amp, mean, sigma)\n",
    "plt.bar(bin_centers, number, label='data')\n",
    "plt.plot(bin_centers, fit_y, label='fit', color='orange', linewidth=3)\n",
    "plt.xlim(0,20)"
   ]
  },
  {
   "cell_type": "markdown",
   "metadata": {
    "id": "J4drzq8_UxX-"
   },
   "source": [
    "# Calculating pi by Monte Carlo\n",
    "We're now going to calculate $\\pi$ using random numbers. This is going to be a longer programming exercise with several parts, so it will be more challenging but will be good practice.\n",
    "\n",
    "You will se that several of the techniques in the previous section will be used again for this task.\n",
    "\n",
    "The procedure is:\n",
    "1. Generate points uniformly in a square (so $x$ and $y$ are independent random variables).\n",
    "2. Calculate their distance from the center of the square.\n",
    "3. Count the fraction which fall inside a circle.\n",
    "4. The circle has area $\\pi~r^2$, the square has area $4~r^2$\n",
    "5. Plot your data with different colours inside and outside the circle\n",
    "\n",
    "To find elements of an array that meet some condition, do `arr[arr <= 3]`.\n",
    "If you want to find the number of times `counts` is equal to 2, do `len(counts[counts == 2])`. We'll learn more about why this works next week."
   ]
  },
  {
   "cell_type": "code",
   "execution_count": null,
   "metadata": {
    "id": "5rw1Q6yzUxX-"
   },
   "outputs": [],
   "source": [
    "# Answer\n"
   ]
  },
  {
   "cell_type": "code",
   "execution_count": null,
   "metadata": {
    "id": "aNQHx6R4UxX-"
   },
   "outputs": [],
   "source": [
    "# Answer\n"
   ]
  },
  {
   "cell_type": "code",
   "execution_count": null,
   "metadata": {
    "id": "VTvEGqRtUxX-"
   },
   "outputs": [],
   "source": [
    "# Answer\n"
   ]
  },
  {
   "cell_type": "code",
   "execution_count": null,
   "metadata": {
    "id": "vzHJHtdaUxX-"
   },
   "outputs": [],
   "source": [
    "# Answer\n"
   ]
  },
  {
   "cell_type": "markdown",
   "metadata": {
    "id": "QzDJrHECUxX-"
   },
   "source": [
    "**Exercise**: Once you get this calculation working, put it in a function. Then see how the accuracy changes with the number of random points that you use."
   ]
  },
  {
   "cell_type": "code",
   "execution_count": null,
   "metadata": {
    "id": "RzSQQgGAUxX-"
   },
   "outputs": [],
   "source": [
    "# Answer\n"
   ]
  },
  {
   "cell_type": "code",
   "execution_count": null,
   "metadata": {
    "id": "l2VtadR6UxX-"
   },
   "outputs": [],
   "source": [
    "# Answer\n"
   ]
  },
  {
   "cell_type": "code",
   "execution_count": null,
   "metadata": {
    "id": "LMBQ1NsPUxX-"
   },
   "outputs": [],
   "source": [
    "# Answer\n"
   ]
  },
  {
   "cell_type": "markdown",
   "metadata": {
    "id": "T0eTvIWjUxX-"
   },
   "source": [
    "# What is noise?\n",
    "\n",
    "#### Exercise;\n",
    "1. There are lots of 'types' of noise. Look these ones up:\n",
    "\n",
    "    * White noise\n",
    "    * Pink noise\n",
    "    * Blue noise\n",
    "    * Grey noise\n",
    "\n",
    "\n",
    "2. Try generating one of these types of 'noise'. How would you create your noise model to draw from?\n"
   ]
  },
  {
   "cell_type": "code",
   "execution_count": null,
   "metadata": {
    "id": "i5E59N1gUxX-"
   },
   "outputs": [],
   "source": [
    "# Answer\n"
   ]
  },
  {
   "cell_type": "code",
   "execution_count": null,
   "metadata": {
    "id": "uUfhFhHyUxX_"
   },
   "outputs": [],
   "source": []
  }
 ],
 "metadata": {
  "colab": {
   "provenance": []
  },
  "kernelspec": {
   "display_name": "Python 3 (ipykernel)",
   "language": "python",
   "name": "python3"
  },
  "language_info": {
   "codemirror_mode": {
    "name": "ipython",
    "version": 3
   },
   "file_extension": ".py",
   "mimetype": "text/x-python",
   "name": "python",
   "nbconvert_exporter": "python",
   "pygments_lexer": "ipython3",
   "version": "3.9.7"
  }
 },
 "nbformat": 4,
 "nbformat_minor": 1
}
