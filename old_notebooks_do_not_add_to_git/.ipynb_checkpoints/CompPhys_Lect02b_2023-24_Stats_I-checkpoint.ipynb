{
 "cells": [
  {
   "cell_type": "code",
   "execution_count": 1,
   "metadata": {},
   "outputs": [],
   "source": [
    "%matplotlib inline\n",
    "import matplotlib.pyplot as plt\n",
    "import numpy as np\n",
    "import numpy.random as rnd\n",
    "import scipy.stats as sci_rnd\n",
    "from scipy.stats import kurtosis\n",
    "import pandas as pd"
   ]
  },
  {
   "cell_type": "markdown",
   "metadata": {},
   "source": [
    "# Statistics I\n",
    "\n",
    "Python has several packages which are optimised for statistics. In particular here we will be using the numpy random and scipy stats packages.\n",
    "\n",
    "    numpy.random\n",
    "    scipy.stats\n",
    "\n",
    "In this lab we'll learn how to use these packages to plot statistical distributions by generating random variables in Python, and we'll try to calculate summary statistics such as the mean and variance of the distributions.\n",
    "\n",
    "Additionally we'll see practical examples of the central limit therom showing that a Poisson process becomes Gaussian in the large number limit.\n",
    "\n",
    "In statistics II we will use the distributions we learned about in this notebook to generate mock data and we'll go further and fit an analytical solution to that data. \n",
    "Additionally we'll introduce Monte Carlo methods and use them to calculate the value of pi."
   ]
  },
  {
   "cell_type": "markdown",
   "metadata": {},
   "source": [
    "# The packages we will use:\n",
    "\n",
    "Scan through the help pages related to numpy.random\n",
    "\n",
    "https://numpy.org/doc/stable/reference/random/index.html#random-sampling-numpy-random\n",
    "\n",
    "and scipy.stats\n",
    "\n",
    "https://docs.scipy.org/doc/scipy/reference/stats.html\n",
    "\n",
    "think about why they might be useful and where they do the same thing. "
   ]
  },
  {
   "cell_type": "markdown",
   "metadata": {},
   "source": [
    "# Some basic statistics\n",
    "\n",
    "Random variables are generated using a submodule of numpy called `numpy.random`. In this notebook we've just imported it with the abbreviation `rnd`.\n",
    "\n",
    "The submodule contains functions to sample from many different types of probability distributions. Each one has a few parameters, and each also has a `size=` keyword to decide how many samples to draw from the distribution.\n",
    "\n",
    "For instance, to flip one fair coin 100 times, we do:\n",
    "\n",
    "`flips = rnd.binomial(1, 0.5, , size=100)`\n",
    "\n",
    "For an unfair coin, we change the $p$ parameter:\n",
    "\n",
    "`flips = rnd.binomial(1, 0.9, size=100)`\n",
    "\n",
    "To look at the results, we can plot a histogram, and we can calculate some summary statistics like mean, variance, and kurtosis.\n",
    "\n",
    "Let's start by getting to know some of these probability distributions.\n",
    "\n",
    "Remeber you can use \"?\" to bring up the \"doc string\" in the function and learn more about the function and how to call it."
   ]
  },
  {
   "cell_type": "code",
   "execution_count": 2,
   "metadata": {},
   "outputs": [],
   "source": [
    "rnd.binomial?"
   ]
  },
  {
   "cell_type": "markdown",
   "metadata": {},
   "source": [
    "### Uniform\n",
    "\n",
    "The parameters are the lower and upper limits. Every real value between the limits is equally likely."
   ]
  },
  {
   "cell_type": "code",
   "execution_count": 3,
   "metadata": {},
   "outputs": [],
   "source": [
    "dist1 = rnd.uniform(-1., 1., size=1000000)"
   ]
  },
  {
   "cell_type": "code",
   "execution_count": 4,
   "metadata": {},
   "outputs": [
    {
     "data": {
      "image/png": "[encoded data removed]",
      "text/plain": [
       "<Figure size 432x288 with 1 Axes>"
      ]
     },
     "metadata": {
      "needs_background": "light"
     },
     "output_type": "display_data"
    }
   ],
   "source": [
    "plt.hist(dist1, bins=100);"
   ]
  },
  {
   "cell_type": "markdown",
   "metadata": {},
   "source": [
    "There are some options in the histogram that we are using. A histogram divides data into bins. We are setting the number of bins explicitly, rather than letting the `hist` function determine them automatically. More bins will make the plot look noisier but the shape will be better determined. The more data we have, typically the more bins we can use.\n",
    "\n",
    "There are two ways to find the mean of an array. Either we do `np.mean(arr)` or `arr.mean()`. The first is using a numpy function; it would also work given a list. The second is using a *method* of the array; each numpy array has this function attached to it.\n",
    "\n",
    "**Exercise**\n",
    " 1. Plot the histogram of dist 1 with the integral of the histogram summed to one. (Look at the matplotlib 'hist' help pages for hints. \n",
    " 2. Think about what the mean of this distribution is. Then check it.\n",
    " 3. Find the standard deviation by using the function `np.std`."
   ]
  },
  {
   "cell_type": "code",
   "execution_count": 5,
   "metadata": {},
   "outputs": [],
   "source": [
    "# Answer\n"
   ]
  },
  {
   "cell_type": "code",
   "execution_count": 6,
   "metadata": {},
   "outputs": [],
   "source": [
    "# Answer\n"
   ]
  },
  {
   "cell_type": "code",
   "execution_count": 7,
   "metadata": {},
   "outputs": [],
   "source": [
    "# Answer\n"
   ]
  },
  {
   "cell_type": "markdown",
   "metadata": {},
   "source": [
    "If we have $N$ samples from a distribution, and the samples are called $y_i$, the mean is\n",
    "\n",
    "$$\n",
    "\\mathrm{mean}(y) \\equiv \\bar{y} = \\frac{1}{N} \\sum_{i=0}^{N} y_i\n",
    "$$\n",
    "\n",
    "and the standard deviation is\n",
    "\n",
    "$$\n",
    "\\mathrm{std}(y) = \\sqrt{\\frac{1}{N-1} \\sum_{i=0}^{N} (y_i - \\bar{y})^2}\n",
    "$$\n",
    "\n",
    "The mean tells us where the middle of the distribution is, the standard deviation is how scattered the samples are around the mean.\n",
    "\n",
    "Note - the mean and standard deviation calculated by sampling from the distribution are random; there is some scatter around the true values, especially when you have a small number of samples.\n",
    "\n",
    "**Exercise**\n",
    " 1. Make a uniform distribution with a mean of 2.\n",
    " 1. Find out whether the standard deviation changes with the number of samples.\n",
    " 1. Figure out how far apart the upper and lower bounds must be to make the standard deviation double what it is in the example  above."
   ]
  },
  {
   "cell_type": "code",
   "execution_count": 8,
   "metadata": {},
   "outputs": [],
   "source": [
    "# Answer\n"
   ]
  },
  {
   "cell_type": "code",
   "execution_count": 9,
   "metadata": {},
   "outputs": [],
   "source": [
    "# Answer\n"
   ]
  },
  {
   "cell_type": "code",
   "execution_count": 10,
   "metadata": {},
   "outputs": [],
   "source": [
    "# Answer\n"
   ]
  },
  {
   "cell_type": "markdown",
   "metadata": {},
   "source": [
    "#### Exercise\n",
    "\n",
    "1. Generate and plot a uniform distirbution using scipy.stats.  (Hint: use the help pages)"
   ]
  },
  {
   "cell_type": "code",
   "execution_count": 11,
   "metadata": {},
   "outputs": [],
   "source": [
    "# Answer\n"
   ]
  },
  {
   "cell_type": "markdown",
   "metadata": {},
   "source": [
    "### Normal distribution\n",
    "\n",
    "The parameters are the center value and the width. This is also called a Gaussian distribution."
   ]
  },
  {
   "cell_type": "code",
   "execution_count": 196,
   "metadata": {},
   "outputs": [],
   "source": [
    "dist2 = rnd.normal(0., 1., size=1000000)"
   ]
  },
  {
   "cell_type": "code",
   "execution_count": 197,
   "metadata": {},
   "outputs": [
    {
     "data": {
      "image/png": "[encoded data removed]",
      "text/plain": [
       "<Figure size 432x288 with 1 Axes>"
      ]
     },
     "metadata": {
      "needs_background": "light"
     },
     "output_type": "display_data"
    }
   ],
   "source": [
    "plt.hist(dist2, bins=300, density=True);\n",
    "# Aside: try removing the semi-colon from the end of this code"
   ]
  },
  {
   "cell_type": "markdown",
   "metadata": {},
   "source": [
    "**Exercise**\n",
    "\n",
    "How are the mean and standard deviation related to the central value and width specified when calling the function? Can you make a normal with a mean of 5? Can you make the standard deviation 3?"
   ]
  },
  {
   "cell_type": "markdown",
   "metadata": {},
   "source": [
    "Answer"
   ]
  },
  {
   "cell_type": "code",
   "execution_count": 12,
   "metadata": {},
   "outputs": [],
   "source": [
    "# Answer\n"
   ]
  },
  {
   "cell_type": "code",
   "execution_count": 13,
   "metadata": {},
   "outputs": [],
   "source": [
    "# Answer\n"
   ]
  },
  {
   "cell_type": "markdown",
   "metadata": {},
   "source": [
    "#### Exercise\n",
    "\n",
    "1. Generate and plot a normal distirbution using scipy.stats."
   ]
  },
  {
   "cell_type": "code",
   "execution_count": 14,
   "metadata": {},
   "outputs": [],
   "source": [
    "# Answer\n"
   ]
  },
  {
   "cell_type": "markdown",
   "metadata": {},
   "source": [
    "### Binomial\n",
    "\n",
    "The binomial is a discrete distribution. It has only natural numbers (non-negative integers).\n",
    "\n",
    "The binomial distribution is sampled from by flipping $n$ coins each with probability $p$ of landing heads. Each sample is the number of coins that landed heads when they were all flipped."
   ]
  },
  {
   "cell_type": "code",
   "execution_count": 201,
   "metadata": {},
   "outputs": [],
   "source": [
    "dist3 = rnd.binomial(6, 0.5, size=10000)"
   ]
  },
  {
   "cell_type": "code",
   "execution_count": 202,
   "metadata": {},
   "outputs": [
    {
     "data": {
      "image/png": "[encoded data removed]",
      "text/plain": [
       "<Figure size 432x288 with 1 Axes>"
      ]
     },
     "metadata": {
      "needs_background": "light"
     },
     "output_type": "display_data"
    }
   ],
   "source": [
    "plt.hist(dist3, bins=np.arange(0,7,0.33), density=True);"
   ]
  },
  {
   "cell_type": "markdown",
   "metadata": {},
   "source": [
    "**Exercise**\n",
    " 1. If the coin is fair (p = 0.5), what do you expect the mean to be in terms of the number of coins flipped?\n",
    " 1. Check whether your prediction is right.\n",
    " 1. What happens to the mean when you make the coin unfair (more likely to land heads)?\n",
    " 1. Write some code to vary the number of coins (over a large range), calculate the standard deviation, and then make a plot of one versus the other.\n",
    " 1. Think about this. Do you expect more or less scatter in the fraction of coin landing heads as the number increases. Is this what you observe? Plot histograms of various binomial distributions with same p but different n on the same plot and verify their shape makes sense. "
   ]
  },
  {
   "cell_type": "markdown",
   "metadata": {},
   "source": [
    "Answer"
   ]
  },
  {
   "cell_type": "code",
   "execution_count": 15,
   "metadata": {},
   "outputs": [],
   "source": [
    "# Answer\n"
   ]
  },
  {
   "cell_type": "code",
   "execution_count": 16,
   "metadata": {},
   "outputs": [],
   "source": [
    "# Answer\n"
   ]
  },
  {
   "cell_type": "code",
   "execution_count": 17,
   "metadata": {},
   "outputs": [],
   "source": [
    "# Answer\n"
   ]
  },
  {
   "cell_type": "code",
   "execution_count": 18,
   "metadata": {},
   "outputs": [],
   "source": [
    "# Answer\n"
   ]
  },
  {
   "cell_type": "code",
   "execution_count": 19,
   "metadata": {},
   "outputs": [],
   "source": [
    "# Answer\n"
   ]
  },
  {
   "cell_type": "markdown",
   "metadata": {},
   "source": [
    "#### Exercise\n",
    "\n",
    "1. Generate and plot a binomial distirbution using scipy.stats."
   ]
  },
  {
   "cell_type": "code",
   "execution_count": 20,
   "metadata": {},
   "outputs": [],
   "source": [
    "# Answer\n"
   ]
  },
  {
   "cell_type": "markdown",
   "metadata": {},
   "source": [
    "### Poisson process\n",
    "\n",
    "This is the distribution of number of counts in an interval when things are arriving randomly. The parameter is the average rate. A typical example is the number of counts due to radioactive decay. The clicks of a Geiger counter are a Poisson process."
   ]
  },
  {
   "cell_type": "code",
   "execution_count": 209,
   "metadata": {},
   "outputs": [],
   "source": [
    "dist4 = rnd.poisson(100, size=10000);"
   ]
  },
  {
   "cell_type": "code",
   "execution_count": 210,
   "metadata": {},
   "outputs": [
    {
     "data": {
      "image/png": "[encoded data removed]",
      "text/plain": [
       "<Figure size 432x288 with 1 Axes>"
      ]
     },
     "metadata": {
      "needs_background": "light"
     },
     "output_type": "display_data"
    }
   ],
   "source": [
    "plt.hist(dist4, bins=np.arange(50,150,0.33), density=True);"
   ]
  },
  {
   "cell_type": "markdown",
   "metadata": {},
   "source": [
    "**Exercise**: Does the mean match the average rate?"
   ]
  },
  {
   "cell_type": "code",
   "execution_count": 21,
   "metadata": {},
   "outputs": [],
   "source": [
    "# Answer\n"
   ]
  },
  {
   "cell_type": "markdown",
   "metadata": {},
   "source": [
    "#### Exercise\n",
    "\n",
    "1. Generate and plot a Poisson distirbution using scipy.stats."
   ]
  },
  {
   "cell_type": "code",
   "execution_count": 22,
   "metadata": {},
   "outputs": [],
   "source": [
    "# Answer \n"
   ]
  },
  {
   "cell_type": "markdown",
   "metadata": {},
   "source": [
    "# RVS, PDF, PMF, CDF and other acronyms...\n",
    "\n",
    "By now you will likely have noticed that in scipy.stats we called \"distribution\".rvs to get random varibles which were distributed as a particular distribution.\n",
    "\n",
    "So what do the other functions mean within the class of a particular distribution?\n",
    "\n",
    "#### Exercise\n",
    "\n",
    "Look up the definitions of:\n",
    "1. RVS\n",
    "2. PMF \n",
    "3. PDF\n",
    "4. CDF\n",
    "5. PPF\n"
   ]
  },
  {
   "cell_type": "code",
   "execution_count": 23,
   "metadata": {},
   "outputs": [],
   "source": [
    "# Answer \n"
   ]
  },
  {
   "cell_type": "markdown",
   "metadata": {},
   "source": [
    "#### Exercise\n",
    "\n",
    "1. Use the scipy stats package and the above definitions to plot a curve (not a histogram!) of a Gaussian Distribution from x=0 to x=10 where the Gaussian distribution has a mean of 5 and a std diev of 2."
   ]
  },
  {
   "cell_type": "code",
   "execution_count": 24,
   "metadata": {},
   "outputs": [],
   "source": [
    "# Answer\n"
   ]
  },
  {
   "cell_type": "markdown",
   "metadata": {},
   "source": [
    "# Large number limit\n",
    "\n",
    "Let's see what happens when we have a high average rate of counts."
   ]
  },
  {
   "cell_type": "code",
   "execution_count": 215,
   "metadata": {},
   "outputs": [],
   "source": [
    "poisson1 = rnd.poisson(1., size=10000)\n",
    "poisson10 = rnd.poisson(10., size=10000)\n",
    "poisson10000 = rnd.poisson(10000., size=10000)"
   ]
  },
  {
   "cell_type": "code",
   "execution_count": 216,
   "metadata": {},
   "outputs": [
    {
     "data": {
      "image/png": "[encoded data removed]",
      "text/plain": [
       "<Figure size 432x288 with 1 Axes>"
      ]
     },
     "metadata": {
      "needs_background": "light"
     },
     "output_type": "display_data"
    }
   ],
   "source": [
    "plt.hist(poisson1, bins=np.arange(0,10,0.33), density=True);"
   ]
  },
  {
   "cell_type": "code",
   "execution_count": 217,
   "metadata": {},
   "outputs": [
    {
     "data": {
      "image/png": "[encoded data removed]",
      "text/plain": [
       "<Figure size 432x288 with 1 Axes>"
      ]
     },
     "metadata": {
      "needs_background": "light"
     },
     "output_type": "display_data"
    }
   ],
   "source": [
    "plt.hist(poisson10, bins=30, density=True);"
   ]
  },
  {
   "cell_type": "code",
   "execution_count": 218,
   "metadata": {},
   "outputs": [
    {
     "data": {
      "image/png": "[encoded data removed]",
      "text/plain": [
       "<Figure size 432x288 with 1 Axes>"
      ]
     },
     "metadata": {
      "needs_background": "light"
     },
     "output_type": "display_data"
    }
   ],
   "source": [
    "plt.hist(poisson10000, bins=30, density=True);"
   ]
  },
  {
   "cell_type": "markdown",
   "metadata": {},
   "source": [
    "**Exercise**: What are the mean and variance of these three processes?"
   ]
  },
  {
   "cell_type": "code",
   "execution_count": 25,
   "metadata": {},
   "outputs": [],
   "source": [
    "#Answer\n"
   ]
  },
  {
   "cell_type": "markdown",
   "metadata": {},
   "source": [
    "**Exercise**: How do the mean and variance depend on the rate of the Poisson process? Can you make a plot? Do number of counts become more or less accurate as they get big?"
   ]
  },
  {
   "cell_type": "code",
   "execution_count": 26,
   "metadata": {},
   "outputs": [],
   "source": [
    "#Answer\n"
   ]
  },
  {
   "cell_type": "code",
   "execution_count": 27,
   "metadata": {},
   "outputs": [],
   "source": [
    "#Answer\n"
   ]
  },
  {
   "cell_type": "markdown",
   "metadata": {},
   "source": [
    "**Exercise**: \n",
    "1. Can you make a normal distribution that looks like poisson10 and another that matches poisson10000? Plot them and verify that they look alike."
   ]
  },
  {
   "cell_type": "code",
   "execution_count": 28,
   "metadata": {},
   "outputs": [],
   "source": [
    "#Answer\n"
   ]
  },
  {
   "cell_type": "code",
   "execution_count": 29,
   "metadata": {},
   "outputs": [],
   "source": [
    "#Answer\n"
   ]
  },
  {
   "cell_type": "code",
   "execution_count": 30,
   "metadata": {},
   "outputs": [],
   "source": [
    "#Answer\n"
   ]
  },
  {
   "cell_type": "code",
   "execution_count": 31,
   "metadata": {},
   "outputs": [],
   "source": [
    "#Answer\n"
   ]
  },
  {
   "cell_type": "code",
   "execution_count": 32,
   "metadata": {},
   "outputs": [],
   "source": [
    "# Answer\n"
   ]
  },
  {
   "cell_type": "markdown",
   "metadata": {},
   "source": [
    "## Higher Moments\n",
    "\n",
    "There are more statistics that can be calculated beyond mean and standard deviation. The next two are called skewness and kurtosis.\n",
    "\n",
    "If two distributions have the same mean and standard deviation, kurtosis can help tell them apart. Positive kurtosis means that there are many values very far from the center; negative that they are concentrated at the middle. The normal distribution is defined to have zero kurtosis.\n",
    "\n",
    "**Exercise**: \n",
    "\n",
    "1. Recall how to make a normal distribution with the same mean and standard deviation as a given Poisson distribution. We've imported a `kurtosis` function (see above). Try using the kurtosis to prove that poisson and normal distibutions you cretaed above are actually different.  Redo this for Poisson10000 - what do you notice?"
   ]
  },
  {
   "cell_type": "code",
   "execution_count": 33,
   "metadata": {},
   "outputs": [],
   "source": [
    "# Answer\n"
   ]
  },
  {
   "cell_type": "markdown",
   "metadata": {},
   "source": [
    "#### Exercise\n",
    "1. Find a function to import for skewness and test this for your two distributions."
   ]
  },
  {
   "cell_type": "code",
   "execution_count": 34,
   "metadata": {},
   "outputs": [],
   "source": [
    "# Answer\n"
   ]
  },
  {
   "cell_type": "markdown",
   "metadata": {},
   "source": [
    "# Data challenge...\n",
    "\n",
    "Import the data called emission_line.txt - you will find this on moodle.\n",
    "\n",
    "#### Exercise:\n",
    "\n",
    "What distibribution best describes this emission line? (Hint use the help pages to find and test different distributions)"
   ]
  },
  {
   "cell_type": "code",
   "execution_count": 35,
   "metadata": {},
   "outputs": [],
   "source": [
    "# Answer \n"
   ]
  },
  {
   "cell_type": "markdown",
   "metadata": {},
   "source": [
    "## The Binomial Distribution (extra challenge)\n",
    "\n",
    "The probability of each value of the binomial distribution is\n",
    "$$\\binom{N}{k} p^k (1-p)^{n-k}$$\n",
    "Try confirming this.\n",
    "\n",
    "Now try making flips of an unfair coin (where $p$ is not 1/2, but $n = 1$). How well can you detect how unfair it is?"
   ]
  },
  {
   "cell_type": "code",
   "execution_count": null,
   "metadata": {},
   "outputs": [],
   "source": []
  }
 ],
 "metadata": {
  "kernelspec": {
   "display_name": "Python 3 (ipykernel)",
   "language": "python",
   "name": "python3"
  },
  "language_info": {
   "codemirror_mode": {
    "name": "ipython",
    "version": 3
   },
   "file_extension": ".py",
   "mimetype": "text/x-python",
   "name": "python",
   "nbconvert_exporter": "python",
   "pygments_lexer": "ipython3",
   "version": "3.9.7"
  }
 },
 "nbformat": 4,
 "nbformat_minor": 2
}
