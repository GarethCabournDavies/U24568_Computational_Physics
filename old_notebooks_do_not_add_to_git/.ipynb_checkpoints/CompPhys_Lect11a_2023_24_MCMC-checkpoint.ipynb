{
 "cells": [
  {
   "cell_type": "code",
   "execution_count": 1,
   "metadata": {
    "id": "0f4VZ70sVb23"
   },
   "outputs": [],
   "source": [
    "%matplotlib inline\n",
    "import numpy as np\n",
    "import matplotlib.pyplot as plt\n",
    "import corner"
   ]
  },
  {
   "cell_type": "markdown",
   "metadata": {
    "id": "QZr4MeMPVb25"
   },
   "source": [
    "# 11a: MCMC"
   ]
  },
  {
   "cell_type": "markdown",
   "metadata": {
    "id": "6U5XK6I_Vb26"
   },
   "source": [
    "## Parameter uncertainty with MCMC"
   ]
  },
  {
   "cell_type": "markdown",
   "metadata": {
    "id": "QScyHvgmVb26"
   },
   "source": [
    "So we can now do MC simulations. We understand this really just means simulate many times. So what is MCMC and how is it different?"
   ]
  },
  {
   "cell_type": "markdown",
   "metadata": {
    "id": "N_6MRfrHVb26"
   },
   "source": [
    "**MCMC is a form of MC but not all MCs are MCMCs!**"
   ]
  },
  {
   "cell_type": "markdown",
   "metadata": {
    "id": "_pL0sTWyVb26"
   },
   "source": [
    "What is so special about MCMC?"
   ]
  },
  {
   "cell_type": "markdown",
   "metadata": {
    "id": "zrMSby0LVb27"
   },
   "source": [
    "MCMC displays the $\\textit{Markov property}$: the next state just depends on the current one (think snakes and ladders!).\n",
    "\n",
    "MCMC's are a Markov process.\n",
    "\n",
    "$P(x_{n+1})$ depends only on $P(x_{n})$."
   ]
  },
  {
   "cell_type": "markdown",
   "metadata": {
    "id": "FtiQbFjAVb27"
   },
   "source": [
    "Markov chains are useful because of their 'stationary distribution'. Let's work through an example to work out what that means.\n",
    "\n",
    "You have three goldfish bowls; A, B and C.\n",
    " - The pipes between them have different opening sizes so where we move next has different probabilities.\n",
    "    - The fish might even stay in the same bowl\n",
    " - The goldfish doesn't remember where they were before, so they may choose to stay or move at any point\n",
    " - However, there is a cat sleeping by bowl B, so if the goldfish is in there, they will leave straight away\n",
    "\n",
    "The probabilities of moving are as follows:\n",
    " - In Bowl A, the next bowl probabilities are A:0.5, B:0.2, C:0.3\n",
    " - In Bowl B, the next bowl probabilities are A:0.6, B:0 (the cat!), C:0.4\n",
    " - In Bowl C, the next bowl probabilities are A:0.3, B:0.4, C:0.3\n",
    "\n",
    "This is an example of a 3 state system: we can be in state (bowl) A, B or C. The lines and numbers indicate the probability we will stay in this state next or move on to one of the other states. These probabilities are written out in the transition matrix below."
   ]
  },
  {
   "cell_type": "markdown",
   "metadata": {
    "id": "WDB41bVmVb27"
   },
   "source": [
    "$$\\begin{bmatrix}\n",
    "0.5 & 0.2 & 0.3 \\\\\n",
    "0.6 & 0 & 0.4 \\\\\n",
    "0.3 & 0.4 & 0.3\n",
    "\\end{bmatrix}$$"
   ]
  },
  {
   "cell_type": "markdown",
   "metadata": {
    "id": "PsGnWnCsVb27"
   },
   "source": [
    "Our bowls can be considered as vectors;\n",
    "$$A=[1,0,0]$$\n",
    "$$B=[0,1,0]$$\n",
    "$$C=[0,0,1]$$\n",
    "\n",
    "Let's say we start in bowl A, so we start from $[1,0,0]$"
   ]
  },
  {
   "cell_type": "markdown",
   "metadata": {
    "id": "pBvAV8SVVb28"
   },
   "source": [
    "The probability for the next state $x$ will be:\n",
    "\n",
    "$$P(x_{1})=\n",
    "\\begin{bmatrix}\n",
    "1 & 0 & 0\n",
    "\\end{bmatrix}\n",
    "\\begin{bmatrix}\n",
    "0.5 & 0.2 & 0.3 \\\\\n",
    "0.6 & 0 & 0.4 \\\\\n",
    "0.3 & 0.4 & 0.3\n",
    "\\end{bmatrix}\n",
    "=\\begin{bmatrix}\n",
    "0.5 & 0.2 & 0.3\n",
    "\\end{bmatrix}$$\n",
    "\n",
    "then the probability that the goldfish is in each bowl after one step is 0.5, 0.2 and 0.3 respectively, as expected.\n",
    "\n",
    "So we move on; what is the probability that the fish will be in each bowl after two moves?\n",
    "\n",
    "$$P(x_{2})=\n",
    "\\begin{bmatrix}\n",
    "0.5 & 0.2 & 0.3\n",
    "\\end{bmatrix}\n",
    "\\begin{bmatrix}\n",
    "0.5 & 0.2 & 0.3 \\\\\n",
    "0.6 & 0 & 0.4 \\\\\n",
    "0.3 & 0.4 & 0.3\n",
    "\\end{bmatrix}\n",
    "= ... (\\textrm{if you want to}) ...$$\n",
    "We can carry this on until we reach an equilibrium.\n",
    "\n",
    "To explain what this means, let's change notation so the 'transition matrix' is called $\\mathbf{Q}$ and the vector multiplying it is $\\vec{a}_{n}$\n",
    "\n",
    "so\n",
    "\n",
    "$$\\vec{a}_{n}\\mathbf{Q}=\\vec{a}_{n+1}$$\n",
    "$$\\vec{a}_{n+1}\\mathbf{Q}=\\vec{a}_{n+2}$$\n",
    "\n",
    "and so on.\n",
    "\n",
    "An important property for finite state Markov chains is they will reach an $\\textit{equlibrium}$ where:\n",
    "\n",
    "$$\\vec{a}_X\\mathbf{Q}=\\vec{a}_X$$\n",
    "\n",
    "(this is the *eigenvector* with an *eigenvalue* of one)\n",
    "\n",
    "Let's see this with a simulation for our goldfish being in bowls A, B, C above.\n",
    "\n",
    "If we are going to reach an equilibrium, then no matter what starting value we give, we should converge to the same average probability of being in state A, B or C. Try this below by changing the initial state and the number of steps.\n",
    "\n",
    "Add comments to the below code cell explaining what each part does"
   ]
  },
  {
   "cell_type": "code",
   "execution_count": null,
   "metadata": {
    "id": "R35yOrdBVb28",
    "outputId": "0930ed2b-9d2e-4315-d82b-75f5f5e7a181"
   },
   "outputs": [],
   "source": [
    "### Try me for different starting points A, B or C and\n",
    "### different numbers of steps\n",
    "initial_state=np.matrix([[1,0,0]])\n",
    "number_of_steps=3\n",
    "\n",
    "transition_matrix=np.matrix([[0.5,0.2,0.3],[0.6,0,0.4],[0.3,0.4,0.3]])\n",
    "\n",
    "def next_step(current,transition):\n",
    "    next_step = np.dot(current,transition)\n",
    "    return next_step\n",
    "\n",
    "objects = ('A', 'B', 'C')\n",
    "y_pos = np.arange(len(objects))\n",
    "input_0=initial_state\n",
    "for i in range(number_of_steps):\n",
    "    input_1=next_step(input_0,transition_matrix)\n",
    "    plt.bar(y_pos, np.squeeze(np.asarray(input_1)), align='center', color='red', alpha=0.1)\n",
    "    input_0=input_1\n",
    "plt.xticks(y_pos, objects)\n",
    "plt.title('Probability of being in state A, B or C')\n",
    "plt.xlabel('State')\n",
    "plt.ylabel('Probability')\n",
    "\n",
    "print(\"Final state: \", input_0)"
   ]
  },
  {
   "cell_type": "markdown",
   "metadata": {
    "id": "4DjduyJoVb29"
   },
   "source": [
    "What do you notice about the above plot. Hint: what do the final values add up to?"
   ]
  },
  {
   "cell_type": "markdown",
   "metadata": {
    "id": "ZUoEEcv1Vb29"
   },
   "source": [
    "## Going back to our data from 10a and our straight line model, let's use MCMC to fit the data"
   ]
  },
  {
   "cell_type": "markdown",
   "metadata": {
    "id": "9CpsEmf8Vb29"
   },
   "source": [
    "A reminder of what our data looks like: (Copied from notebook 10a)"
   ]
  },
  {
   "cell_type": "code",
   "execution_count": 2,
   "metadata": {
    "id": "vl6x7xZvVb29",
    "outputId": "8fcab064-11be-46f0-b66c-52893a389e01"
   },
   "outputs": [
    {
     "data": {
      "text/plain": [
       "Text(0, 0.5, 'y')"
      ]
     },
     "execution_count": 2,
     "metadata": {},
     "output_type": "execute_result"
    },
    {
     "data": {
      "image/png": "[encoded data removed]",
      "text/plain": [
       "<Figure size 432x288 with 1 Axes>"
      ]
     },
     "metadata": {
      "needs_background": "light"
     },
     "output_type": "display_data"
    }
   ],
   "source": [
    "# Setting a seed - what does this do?\n",
    "np.random.seed(123)\n",
    "\n",
    "# The \"true\" parameters.\n",
    "m_true = -0.9\n",
    "b_true = 4.0\n",
    "f_true = 0.9 \n",
    "\n",
    "# Generate some synthetic data from the model.\n",
    "N = 35 # number of data points to generate\n",
    "x = np.sort(10 * np.random.rand(N)) # randomly generate x\n",
    "yerr = 0.1 + 0.5 * np.random.rand(N) # randomy generate yerr\n",
    "y = m_true * x + b_true # y = m*x + b\n",
    "y += np.abs(f_true * y) * np.random.randn(N)\n",
    "y += yerr * np.random.randn(N)\n",
    "\n",
    "# plotting this data\n",
    "plt.errorbar(x, y, yerr=yerr, fmt=\".k\", capsize=3,label='Our data')\n",
    "\n",
    "# plotting the model we drew the mock data from\n",
    "x0 = np.linspace(0, 10, 500)\n",
    "plt.plot(x0, m_true * x0 + b_true, \"r--\", alpha=1.0, lw=1, label='True model')\n",
    "\n",
    "# Always remember to apropriately label your plots!\n",
    "plt.legend()\n",
    "plt.xlim(0, 10)\n",
    "plt.xticks(fontsize=15)\n",
    "plt.yticks(fontsize=15)\n",
    "plt.xlabel(\"x\",fontsize=20)\n",
    "plt.ylabel(\"y\",fontsize=20)"
   ]
  },
  {
   "cell_type": "markdown",
   "metadata": {},
   "source": [
    "### Bayes Theorem"
   ]
  },
  {
   "cell_type": "markdown",
   "metadata": {
    "id": "hKpg71YkVb29"
   },
   "source": [
    "You may have come across Bayes theorem below (think school, venn diagrams and rearranging formulae for conditional probability - if you haven't / don't remember it, wikipedia it!):\n",
    "\n",
    "$$P(A|B) = \\frac{P(A)P(B|A)}{P(B)}$$\n",
    "\n",
    "Changing A and B into things we care about:\n",
    "\n",
    "$$P(model | data) = \\frac{P(model)P(data | model)}{P(data)}$$\n",
    "\n",
    "The names assigned to the parts of the equations are this:\n",
    "\n",
    "$$Posterior = \\frac{Prior~\\times~Likelihood}{Evidence}$$\n",
    "\n",
    "\n",
    "\n",
    "We usually want to know what is the probability that our model is correct given the data - this is what is on the left hand side. It's name is the 'posterior' distribution.\n",
    "\n",
    "But this can be hard to find...why?\n",
    "\n",
    "Well... $P(model)$ (called the prior) is easy: this is just the prior information we are choosing to include.\n",
    "\n",
    "$P(data | model)$ (called the likelihood) is usually not too hard to get the shape of the distribution. However, if we are doing this naively and evaluating the data given the model on a full grid of all possible parameters it might take forever! For example, if we have a 5 parameter model and we were to evaluate the likelihood at each of 10 values we will already have $10^{5}$ grid points!\n",
    "\n",
    "But $P(data)$ (the evidence) is usually pretty difficult! To calculate $P(data)$ you need to have the $P(data | \\textit{every hypothesis})$, this could take infinite values depending on your situation. But $P(data)$ doesn't depend on the model parameters itself. So if we can work out the shape of the final distribution we could then sample from it and use our samples to work out the probabilities.\n",
    "\n",
    "MCMC provides us a way to sample from the distribution by creating a chain where the 'stationary' or equilibrium distribution is the same shape as the posterior distribution, but we don't need to know the exact height of this distribution.\n",
    "\n",
    "The goal is to construct a sequence which walks around in such a way that the chain itself will have the desired stationary distribution.\n",
    "\n",
    "One algorithm is the $\\textit{metropolis hastings}$ algorithm. Let's code it up ourselves and refit our line from the start.\n",
    "\n",
    "But first let's write some functions which will allow us to calculate the likelihood and prior."
   ]
  },
  {
   "cell_type": "markdown",
   "metadata": {
    "id": "gnLbNEJpVb2-"
   },
   "source": [
    "## The likelihood"
   ]
  },
  {
   "cell_type": "markdown",
   "metadata": {
    "id": "suPCoR5HVb2-"
   },
   "source": [
    "Our model is below. Let's assume this is a good model and use MCMC to find the uncertainty on the parameters.\n",
    " $$y = mx+b$$\n",
    "\n",
    "with variance $s_n^2$\n",
    "\n",
    " $$\n",
    "    s_n^2 = \\sigma_n^2+f^2\\,(m\\,x_n+b)^2 \\quad .\n",
    "$$\n",
    "\n",
    "This likelihood function is simply a Gaussian where the variance is\n",
    "underestimated by some fractional amount,  $f$"
   ]
  },
  {
   "cell_type": "markdown",
   "metadata": {
    "id": "5B9A3pJ8Vb2-"
   },
   "source": [
    "The linear least squares method used before in the basic MC example assumed the error bars are correct, Gaussian and independent.\n",
    "\n",
    "We know this is not the case as we set up the model. (Remember we said there was additional intrinsic scatter denoted by $f$).\n",
    "\n",
    "Unfortunately, there isn't a generalisation of least squares that supports a model like the one that we know to be true.\n",
    "\n",
    "We can instead write down the log (_natural log_) likelihood function and numerically maximise it. (We use the log simply because products in log are sums and that makes life easier)\n",
    "\n",
    "In mathematical notation, the correct log likelihood function is:\n",
    "\n",
    "$$\n",
    "    \\ln\\,p(y\\,|\\,x,\\sigma,m,b,f) =\n",
    "    -\\frac{1}{2} \\sum_n \\left[\n",
    "        \\frac{(y_n-m\\,x_n-b)^2}{s_n^2}\n",
    "        + \\ln \\left ( 2\\pi\\,s_n^2 \\right )\n",
    "    \\right]\n",
    "$$\n",
    "\n",
    "where\n",
    "\n",
    "$$\n",
    "    s_n^2 = \\sigma_n^2+f^2\\,(m\\,x_n+b)^2 \\quad .\n",
    "$$\n",
    "\n",
    "This likelihood function is simply a Gaussian where the variance is\n",
    "underestimated by some fractional amount:  $f$.\n",
    "\n",
    "I have written the equation in python below but there are 4 bugs - find them!"
   ]
  },
  {
   "cell_type": "code",
   "execution_count": null,
   "metadata": {
    "id": "k9_VW7WQVb2-"
   },
   "outputs": [],
   "source": [
    "def log_likelihood(theta, x, y, yerr):\n",
    "    m, b, log_f = theta # theta contains our parameters to infer\n",
    "    model = m ** x + b # our simple straight line\n",
    "    sigma2 = y_err ** 2 + model ** 2 * np.exp(2 * log_f)\n",
    "    ln_like = -0.5 * np.prod((y - model) ** 2 / sigma2 + np.log10(sigma2))\n",
    "    return ln_like"
   ]
  },
  {
   "cell_type": "markdown",
   "metadata": {
    "id": "xSOWDfr4Vb2-"
   },
   "source": [
    "If we drew samples from the likelihood rather than the posterior what would we be doing?"
   ]
  },
  {
   "cell_type": "markdown",
   "metadata": {
    "id": "Yk9n_KBFVb2-"
   },
   "source": [
    "## The prior"
   ]
  },
  {
   "cell_type": "markdown",
   "metadata": {
    "id": "51AdKsZsVb2-"
   },
   "source": [
    " - What does this function below do?\n",
    "    - Discuss it with each other.\n",
    " - What are the priors we are setting on our parameters?\n",
    "    - Are they reasonable?\n",
    " - Add comments to the function so that you can remember this later!"
   ]
  },
  {
   "cell_type": "code",
   "execution_count": null,
   "metadata": {
    "id": "EAZd9xBzVb2_"
   },
   "outputs": [],
   "source": [
    "def log_prior(theta):\n",
    "    m, b, log_f = theta\n",
    "    if -5.0 < m < 0.5 and 0.0 < b < 10.0 and -10.0 < log_f < 1.0:\n",
    "        return 0.0\n",
    "    return -np.inf"
   ]
  },
  {
   "cell_type": "markdown",
   "metadata": {
    "id": "AvvPQm_OVb2_"
   },
   "source": [
    "## The evidence"
   ]
  },
  {
   "cell_type": "markdown",
   "metadata": {
    "id": "-LtWSoHaVb2_"
   },
   "source": [
    "We shall ignore the evidence - it is not necessary here - if you don't remember why, go back and read the part about Bayes theorem!"
   ]
  },
  {
   "cell_type": "markdown",
   "metadata": {
    "id": "wHlhhnK5Vb2_"
   },
   "source": [
    "## The posterior"
   ]
  },
  {
   "cell_type": "code",
   "execution_count": null,
   "metadata": {
    "id": "WifaFUeFVb2_"
   },
   "outputs": [],
   "source": [
    "def log_probability(theta, x, y, yerr):\n",
    "    lp = log_prior(theta)\n",
    "    if not np.isfinite(lp):\n",
    "        return -np.inf\n",
    "    return lp + log_likelihood(theta, x, y, yerr)"
   ]
  },
  {
   "cell_type": "markdown",
   "metadata": {
    "id": "MXP6PkWIVb2_"
   },
   "source": [
    "Why have we used logs above? (hint, try doing `np.exp(1000)` and `np.exp(-1000)`) What does this function do?"
   ]
  },
  {
   "cell_type": "markdown",
   "metadata": {
    "id": "y9SqdbXNVb3A"
   },
   "source": [
    "Now we are ready to write our MH algorithm and fit stuff with our MCMC!"
   ]
  },
  {
   "cell_type": "markdown",
   "metadata": {
    "id": "k9LYZdWCVb3A"
   },
   "source": [
    "## Recipe for MCMC using metropolis hastings algorithm"
   ]
  },
  {
   "cell_type": "markdown",
   "metadata": {
    "id": "jR_OGfKLVb3A"
   },
   "source": [
    "From the lecture:\n",
    "1. Choose some random values for the parameters\n",
    "2. Determine the posterior at these values\n",
    "3. Propose a new step at some new values\n",
    "4. Determine the posterior at these new values\n",
    "5. Compare the two (divide them)\n",
    "6. Generate a random number and compare this to the ratio of the posteriors to decide if you move or stay"
   ]
  },
  {
   "cell_type": "markdown",
   "metadata": {
    "id": "41PTpx4NVb3A"
   },
   "source": [
    "#### Write a few functions which will perform the MH algorithm\n",
    "\n",
    "(you should understand and comment the code)"
   ]
  },
  {
   "cell_type": "code",
   "execution_count": null,
   "metadata": {
    "id": "cgRdy3q-Vb3A"
   },
   "outputs": [],
   "source": [
    "# Defines the next sample in the chain\n",
    "def transition_model(theta):\n",
    "    return theta_new\n",
    "\n",
    "# Defines whether to accept or reject the new sample\n",
    "def acceptance(logl, logl_new):\n",
    "    return accept\n",
    "\n",
    "\n",
    "def metropolis_hastings(log_probability, transition_model, param_init,iterations,x,y,yerr,acceptance_rule):\n",
    "    # log_probability: posterior calculation\n",
    "    # transition_model(x): gaussian proposal\n",
    "    # param_init: a starting sample\n",
    "    # iterations: number of accepted to generated\n",
    "    # x,y,yerr: the data that we wish to model\n",
    "    # acceptance_rule(theta_prob,theta_prob_new): decides whether to accept or reject the new sample\n",
    "    theta = param_init\n",
    "    accepted = []\n",
    "    # Can you fill me in?\n",
    "    return np.array(accepted)"
   ]
  },
  {
   "cell_type": "markdown",
   "metadata": {
    "id": "T2fYf6BjVb3E"
   },
   "source": [
    "## Fitting the data"
   ]
  },
  {
   "cell_type": "markdown",
   "metadata": {
    "id": "po__cEzzVb3F"
   },
   "source": [
    "Using some initial starting parameters which are not the correct answer so that we can see it works!"
   ]
  },
  {
   "cell_type": "code",
   "execution_count": 3,
   "metadata": {
    "id": "93tq3Yb-Vb3F",
    "outputId": "17ed6183-37dc-4ba2-845f-e8d3832f39d6"
   },
   "outputs": [
    {
     "name": "stdout",
     "output_type": "stream",
     "text": [
      "-0.9 4.0 0.9 -0.045757490560675115\n",
      "-0.15000000000000002 1.1428571428571428 0.0818181818181819 -1.0871501757188997\n"
     ]
    }
   ],
   "source": [
    "m_init=m_true - m_true/1.2\n",
    "b_init=b_true - b_true/1.4\n",
    "f_init=f_true - f_true/1.1\n",
    "print(m_true,b_true,f_true, np.log10(f_true))\n",
    "print(m_init,b_init,f_init, np.log10(f_init))"
   ]
  },
  {
   "cell_type": "code",
   "execution_count": null,
   "metadata": {
    "id": "8T7YZu_4Vb3F"
   },
   "outputs": [],
   "source": [
    "theta_init = [m_init,b_init,f_init]\n",
    "\n",
    "accepted = metropolis_hastings(\n",
    "    log_probability,\n",
    "    transition_model,\n",
    "    theta_init,\n",
    "    200000,\n",
    "    x, y, yerr,\n",
    "    acceptance\n",
    ")"
   ]
  },
  {
   "cell_type": "markdown",
   "metadata": {
    "id": "zhwusRZzVb3F"
   },
   "source": [
    "Below is some code which will visualise the results as the chain moves along for parameter b:\n",
    " - Plot it also for parameters a and f\n",
    " - What do you notice about the beginning of the chain?\n",
    " - Would you include all the samples when quoting your results for the best fit and the 1 $\\sigma$ limits on the parameters?\n",
    "    - Try varying the number of samples plotted in each panel"
   ]
  },
  {
   "cell_type": "code",
   "execution_count": null,
   "metadata": {
    "id": "rjrR06i4Vb3F",
    "outputId": "a8fd2a43-86dd-418f-f2dd-db9398a2df02"
   },
   "outputs": [],
   "source": [
    "fig = plt.figure(figsize=(10,10))\n",
    "ax = fig.add_subplot(2,1,1)\n",
    "\n",
    "parameter = 'b'\n",
    "dimension = 1\n",
    "\n",
    "n_samples = 10\n",
    "ax.plot(accepted[0:n_samples,dimension], 'b.', label='Accepted',alpha=0.5)\n",
    "ax.set_xlabel(\"Iteration\", fontsize=20)\n",
    "ax.set_ylabel(f\"parameter {parameter}\", fontsize=20)\n",
    "ax.set_title(f\"MCMC sampling for ${parameter}$ with Metropolis-Hastings. First {n_samples} samples are shown.\", fontsize=15)\n",
    "ax.grid()\n",
    "ax.legend()\n",
    "\n",
    "show_final_samples = 150\n",
    "initial_sample = accepted.shape[0] - show_final_samples\n",
    "\n",
    "ax2 = fig.add_subplot(2,1,2)\n",
    "ax2.plot(np.arange(show_final_samples) + initial_sample, accepted[initial_sample:,dimension], 'b.', label='Accepted',alpha=0.5)\n",
    "ax2.set_xlabel(\"Iteration\", fontsize=20)\n",
    "ax2.set_ylabel(\"parameter b\", fontsize=20)\n",
    "ax2.set_title(f\"MCMC sampling for $b$ with Metropolis-Hastings, the last {show_final_samples} samples are shown.\", fontsize=15)\n",
    "ax2.grid()\n",
    "ax2.legend()\n",
    "\n",
    "fig.tight_layout()"
   ]
  },
  {
   "cell_type": "markdown",
   "metadata": {
    "id": "uLOReckxVb3F"
   },
   "source": [
    "Let's use a corner plot to explore our results"
   ]
  },
  {
   "cell_type": "code",
   "execution_count": null,
   "metadata": {
    "id": "Pg9c6zLyVb3G",
    "outputId": "af200a8f-ad55-4341-e5f2-b5295518d4ac"
   },
   "outputs": [],
   "source": [
    "# This is the number of samples to discard at the start of the MCMC\n",
    "samples_start = 0\n",
    "\n",
    "mh_samples = np.array([accepted[samples_start:,0],accepted[samples_start:,1],accepted[samples_start:,2]]).T\n",
    "labels = [\"m\", \"b\", \"log(f)\"]\n",
    "fig = corner.corner(mh_samples, labels=labels, truths=[m_true,b_true,np.log(f_true)], quantiles=[0.16, 0.5, 0.84], levels=(1-np.exp(-0.5),), show_titles=True, title_kwargs={\"fontsize\": 15}, smooth=True)\n"
   ]
  },
  {
   "cell_type": "markdown",
   "metadata": {
    "id": "iPcDJXerVb3G"
   },
   "source": [
    "Another way to visualise this would be to plot samples from your distribution of parameters over the top of your data. For example see the code below."
   ]
  },
  {
   "cell_type": "code",
   "execution_count": null,
   "metadata": {
    "id": "ZaCA66l5Vb3G",
    "outputId": "fe7f7252-f362-48de-d5a1-15c4b82836d3"
   },
   "outputs": [],
   "source": [
    "# So it's not too much on the plot, we will only plot 100 lines:\n",
    "inds = np.random.randint(len(mh_samples), size=100)\n",
    "for ind in inds:\n",
    "    sample = mh_samples[ind]\n",
    "    plt.plot(x0, np.dot(np.vander(x0, 2), sample[:2]), \"C1\", alpha=0.1) # look up the vander function and see what it is doing here\n",
    "plt.errorbar(x, y, yerr=yerr, fmt=\".k\", capsize=0, label='data')\n",
    "plt.plot(x0, m_true * x0 + b_true, \"k\", label=\"truth\")\n",
    "plt.plot([],[], 'C1', label='samples')\n",
    "plt.legend(fontsize=14)\n",
    "plt.xlim(0, 10)\n",
    "plt.xticks(fontsize=15)\n",
    "plt.yticks(fontsize=15)\n",
    "plt.xlabel(\"x\", fontsize=20)\n",
    "plt.ylabel(\"y\", fontsize=20);"
   ]
  },
  {
   "cell_type": "code",
   "execution_count": null,
   "metadata": {
    "id": "dz4I58UwVb3G"
   },
   "outputs": [],
   "source": []
  }
 ],
 "metadata": {
  "colab": {
   "provenance": []
  },
  "kernelspec": {
   "display_name": "Python 3 (ipykernel)",
   "language": "python",
   "name": "python3"
  },
  "language_info": {
   "codemirror_mode": {
    "name": "ipython",
    "version": 3
   },
   "file_extension": ".py",
   "mimetype": "text/x-python",
   "name": "python",
   "nbconvert_exporter": "python",
   "pygments_lexer": "ipython3",
   "version": "3.9.7"
  }
 },
 "nbformat": 4,
 "nbformat_minor": 1
}
