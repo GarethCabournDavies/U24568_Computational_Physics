{
 "cells": [
  {
   "cell_type": "markdown",
   "metadata": {},
   "source": [
    "# Computational Physics U24568\n",
    "## Extra - Information about Orbits"
   ]
  },
  {
   "cell_type": "markdown",
   "metadata": {},
   "source": [
    "When solving orbital problems with two bodies in Newtonian mechanics, there's a ncie simplification we can make. If the positions are $\\vec{r}_1$ and $\\vec{r}_2$, then we can define\n",
    "\n",
    "$$\\vec{\\delta r} = \\vec{r}_2 - \\vec{r}_1$$\n",
    "\n",
    "Now if the center of mass is at the center of our coordinate system, then\n",
    "\n",
    "$$m_1 \\vec{r}_1 + m_2 \\vec{r}_2 = 0$$\n",
    "\n",
    "We can rearrange this to find that\n",
    "\n",
    "$$\\vec{r}_1 = - \\frac{m_2}{M} \\vec{\\delta r} ~, ~ \\vec{r}_2 = \\frac{m_1}{M} \\vec{\\delta r}$$\n",
    "where $M = m_1 + m_2$.\n",
    "\n",
    "We also define the reduced mass $\\mu = \\frac{m_1 m_2}{M}$.\n",
    "\n",
    "We also know that the angular momentum is conserved:\n",
    "\n",
    "$$\\vec{L} = \\sum\\limits_i m_i \\, \\vec{r}_i \\times \\dot{\\vec{r}}_i = \\mathrm{constant}$$\n",
    "\n",
    "Putting it all together, the total energy is\n",
    "\n",
    "$$E = \\frac{1}{2} \\mu \\, |\\vec{\\delta v}|^2 + V(r)$$\n",
    "\n",
    "Let's drop the $\\delta$ for simplicity. We'll just call it $r$. We'll also split the velocity into components perpendicular and parallel to $r$, and substitute in the conserved angular momentum:\n",
    "\n",
    "$$E = \\frac{1}{2} \\mu \\, v_{\\parallel}^2 + \\frac{L^2}{r^2} - \\frac{G M \\mu}{r}$$\n",
    "\n",
    "where $L = \\mu \\, r\\, v_\\perp$.\n",
    "\n",
    "This can be thought of as motion in an effective potential\n",
    "\n",
    "$$V_\\mathrm{eff}(r) =  - \\frac{G M \\mu}{r} + \\frac{L^2}{r^2}$$\n",
    "\n",
    "A circular orbit corresponds to the minimum of this effective potential. Using this idea, we can find the energy and angular momentum for a circular orbit. The angular momentum then gives us the needed velocity, keeping in mind that $v_1$ and $v_2$ will be\n",
    "\n",
    "$$v_1 = - \\frac{m_2}{M} v_\\perp ~, ~ v_2 = \\frac{m_1}{M} v_\\perp$$"
   ]
  }
 ],
 "metadata": {
  "kernelspec": {
   "display_name": "Python 3 (ipykernel)",
   "language": "python",
   "name": "python3"
  },
  "language_info": {
   "codemirror_mode": {
    "name": "ipython",
    "version": 3
   },
   "file_extension": ".py",
   "mimetype": "text/x-python",
   "name": "python",
   "nbconvert_exporter": "python",
   "pygments_lexer": "ipython3",
   "version": "3.9.7"
  },
  "vscode": {
   "interpreter": {
    "hash": "40d3a090f54c6569ab1632332b64b2c03c39dcf918b08424e98f38b5ae0af88f"
   }
  }
 },
 "nbformat": 4,
 "nbformat_minor": 2
}
