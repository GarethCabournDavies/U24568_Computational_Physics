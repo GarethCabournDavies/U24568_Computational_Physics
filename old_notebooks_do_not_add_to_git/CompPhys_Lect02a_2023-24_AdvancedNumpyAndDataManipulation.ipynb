{
 "cells": [
  {
   "cell_type": "markdown",
   "metadata": {},
   "source": [
    "# Computational Physics U24568\n",
    "## Lecture 2a - Advanced Numpy and Data Manipulation"
   ]
  },
  {
   "cell_type": "markdown",
   "metadata": {},
   "source": [
    "Today's lecture will focus on some more features in numpy exploring some more tools for manipulating data and quickly accessing things that are desired.\n",
    "\n",
    "Numpy features that we will cover today:\n",
    "\n",
    "* Boolean indexing, `logical_and` etc.\n",
    "* Built in methods of the `numpy.array` class, including `.any`, `.all`. `.where`.\n",
    "* Transpose and reshaping arrays.\n",
    "* The numpy `matrix` class (which is a sub-class of `numpy.array`)\n",
    "* How to create tables of data, using the pandas library, to efficiently hold and access datasets in memory\n",
    " * How to write these datasets to file.\n",
    " * How to read such datasets in from file.\n",
    " * How to load supplied datasets into this pandas format.\n",
    " * How to efficiently manipulate these data arrays to quickly access, or plot, the data you are interested in."
   ]
  },
  {
   "cell_type": "code",
   "execution_count": 22,
   "metadata": {},
   "outputs": [],
   "source": [
    "# We'll almost always import numpy as np to save some typing\n",
    "import numpy as np"
   ]
  },
  {
   "cell_type": "markdown",
   "metadata": {},
   "source": [
    "## Review - Basic Numpy\n",
    "\n",
    "We'll start by reviewing some numpy basics. You can create a numpy array by\n",
    " 1. Using `np.array` on a list of numbers.\n",
    " 1. Using `np.arange` or `np.linspace` to create an equally-spaced array.\n",
    " 1. Using `np.zeros` or `np.ones` to create an array of the same number.\n",
    "\n",
    "**IMPORTANT**: It's best to vectorize your operations on numpy arrays. That means using numpy functions (and built-in math function like `+`, `-`, `*`, `/`, `**`, etc.) on the *entire array*. This is both clearer and faster than writing a loop over the indexes. Its best to try to do things only in numpy first if you can."
   ]
  },
  {
   "cell_type": "code",
   "execution_count": 26,
   "metadata": {},
   "outputs": [
    {
     "name": "stdout",
     "output_type": "stream",
     "text": [
      "[ 1  2  3  4  5  6  7  8  9 10]\n"
     ]
    }
   ],
   "source": [
    "# Convert a list to a numpy array\n",
    "a_list = [1,2,3,4,5,6,7,8,9,10]\n",
    "a_numpy_array = np.array(a_list)\n",
    "print(a_numpy_array)"
   ]
  },
  {
   "cell_type": "code",
   "execution_count": 24,
   "metadata": {},
   "outputs": [
    {
     "name": "stdout",
     "output_type": "stream",
     "text": [
      "[ 0.00000000e+00  5.00000000e-01  8.66025404e-01  1.00000000e+00\n",
      "  8.66025404e-01  5.00000000e-01  1.22464680e-16 -5.00000000e-01\n",
      " -8.66025404e-01 -1.00000000e+00 -8.66025404e-01 -5.00000000e-01]\n"
     ]
    }
   ],
   "source": [
    "# Create a range of values, just like the range builtin\n",
    "x_vals = np.arange(0, 2*np.pi, np.pi/6)\n",
    "\n",
    "# Calculate sin over the entire array\n",
    "sin_x = np.sin(x_vals)\n",
    "print(sin_x)"
   ]
  },
  {
   "cell_type": "code",
   "execution_count": 13,
   "metadata": {},
   "outputs": [
    {
     "data": {
      "text/plain": [
       "array([1., 1., 1., 1., 1., 1., 1., 1., 1., 1., 1., 1.])"
      ]
     },
     "execution_count": 13,
     "metadata": {},
     "output_type": "execute_result"
    }
   ],
   "source": [
    "# Test the trigonometric identity\n",
    "np.cos(x_vals)**2 + np.sin(x_vals)**2"
   ]
  },
  {
   "cell_type": "markdown",
   "metadata": {},
   "source": [
    "It is possible to write this as a loop, as done below. But it's more lines, easier to make a mistake, and slower when you have millions of numbers."
   ]
  },
  {
   "cell_type": "code",
   "execution_count": 17,
   "metadata": {},
   "outputs": [
    {
     "name": "stdout",
     "output_type": "stream",
     "text": [
      "[1.0, 1.0, 1.0, 1.0, 1.0, 1.0, 1.0, 1.0, 1.0, 1.0, 1.0, 1.0]\n"
     ]
    }
   ],
   "source": [
    "result = []\n",
    "for i in range(len(x_vals)):\n",
    "    x = x_vals[i]\n",
    "    result.append(np.cos(x)**2 + np.sin(x)**2)\n",
    "\n",
    "print(result)"
   ]
  },
  {
   "cell_type": "code",
   "execution_count": 32,
   "metadata": {},
   "outputs": [
    {
     "name": "stdout",
     "output_type": "stream",
     "text": [
      "[-1.   -0.75 -0.5  -0.25  0.    0.25  0.5   0.75  1.  ]\n"
     ]
    },
    {
     "data": {
      "text/plain": [
       "array([-1.  , -0.75, -0.5 , -0.25,  0.  ,  0.25,  0.5 ,  0.75,  1.  ])"
      ]
     },
     "execution_count": 32,
     "metadata": {},
     "output_type": "execute_result"
    }
   ],
   "source": [
    "# Nine equally-spaced values from -1 to 1\n",
    "print(np.linspace(-1, 1, 9))\n",
    "\n",
    "# Note that printing the numpy array looks different from\n",
    "# just outputting it (as the last line of the cell)\n",
    "np.linspace(-1, 1, 9)"
   ]
  },
  {
   "cell_type": "markdown",
   "metadata": {},
   "source": [
    "## Review - Slicing Arrays\n",
    "\n",
    "We'll review how to select portions of the data using *slicing*. Let's start by defining an array to work with that has floating point numbers of the form 'row.column', so it's easy to see if we've got the right data."
   ]
  },
  {
   "cell_type": "code",
   "execution_count": 34,
   "metadata": {},
   "outputs": [
    {
     "name": "stdout",
     "output_type": "stream",
     "text": [
      "[[0.  0.1 0.2 0.3 0.4 0.5 0.6 0.7 0.8 0.9]\n",
      " [1.  1.1 1.2 1.3 1.4 1.5 1.6 1.7 1.8 1.9]\n",
      " [2.  2.1 2.2 2.3 2.4 2.5 2.6 2.7 2.8 2.9]\n",
      " [3.  3.1 3.2 3.3 3.4 3.5 3.6 3.7 3.8 3.9]\n",
      " [4.  4.1 4.2 4.3 4.4 4.5 4.6 4.7 4.8 4.9]\n",
      " [5.  5.1 5.2 5.3 5.4 5.5 5.6 5.7 5.8 5.9]\n",
      " [6.  6.1 6.2 6.3 6.4 6.5 6.6 6.7 6.8 6.9]\n",
      " [7.  7.1 7.2 7.3 7.4 7.5 7.6 7.7 7.8 7.9]\n",
      " [8.  8.1 8.2 8.3 8.4 8.5 8.6 8.7 8.8 8.9]\n",
      " [9.  9.1 9.2 9.3 9.4 9.5 9.6 9.7 9.8 9.9]]\n"
     ]
    }
   ],
   "source": [
    "arr10 = np.array([[(ii+0.1*jj) for jj in range(10)] for ii in range(10)])\n",
    "print(arr10)"
   ]
  },
  {
   "cell_type": "markdown",
   "metadata": {},
   "source": [
    "Selecting one entry in the array uses the format `arr[row, col]`. Row 0, column 2 in the matrix above would be `arr10[0, 2]`."
   ]
  },
  {
   "cell_type": "code",
   "execution_count": 36,
   "metadata": {},
   "outputs": [
    {
     "data": {
      "text/plain": [
       "0.2"
      ]
     },
     "execution_count": 36,
     "metadata": {},
     "output_type": "execute_result"
    }
   ],
   "source": [
    "arr10[0,2]"
   ]
  },
  {
   "cell_type": "markdown",
   "metadata": {},
   "source": [
    "We can use the same slicing syntax used for lists on arrays as well. We just need to provide a slice for the row and the column. Here are some examples of 1D slices:\n",
    "\n",
    " 1. `arr[1]` element 1 of arr\n",
    " 1. `arr[1:4]` elements 1 up to 4 (but not including 4)\n",
    " 1. `arr[1:]` element 1 to the end\n",
    " 1. `arr[1:7:2]` element 1, 3, 5, up to 7\n",
    " 1. `arr[1::2]` element 1, 3, 5, to the end\n",
    " 1. `arr[:]` all of arr\n",
    "\n",
    " We can use any of these in the row and the column entry."
   ]
  },
  {
   "cell_type": "code",
   "execution_count": 37,
   "metadata": {},
   "outputs": [
    {
     "data": {
      "text/plain": [
       "array([0.1, 1.1, 2.1, 3.1, 4.1, 5.1, 6.1, 7.1, 8.1, 9.1])"
      ]
     },
     "execution_count": 37,
     "metadata": {},
     "output_type": "execute_result"
    }
   ],
   "source": [
    "# Slicing - All rows, column 1\n",
    "arr10[:,1]"
   ]
  },
  {
   "cell_type": "code",
   "execution_count": 38,
   "metadata": {},
   "outputs": [
    {
     "data": {
      "text/plain": [
       "array([2. , 2.1, 2.2, 2.3, 2.4, 2.5, 2.6, 2.7, 2.8, 2.9])"
      ]
     },
     "execution_count": 38,
     "metadata": {},
     "output_type": "execute_result"
    }
   ],
   "source": [
    "# Slicing - Row 2, all columns\n",
    "arr10[2,:]"
   ]
  },
  {
   "cell_type": "code",
   "execution_count": 39,
   "metadata": {},
   "outputs": [
    {
     "data": {
      "text/plain": [
       "array([2.1, 2.3, 2.5, 2.7])"
      ]
     },
     "execution_count": 39,
     "metadata": {},
     "output_type": "execute_result"
    }
   ],
   "source": [
    "# Slicing - Row 2, columns 1 through 7, skipping by 2\n",
    "arr10[2,1:8:2]"
   ]
  },
  {
   "cell_type": "code",
   "execution_count": 40,
   "metadata": {},
   "outputs": [
    {
     "data": {
      "text/plain": [
       "array([9. , 9.1, 9.2, 9.3, 9.4, 9.5, 9.6, 9.7, 9.8, 9.9])"
      ]
     },
     "execution_count": 40,
     "metadata": {},
     "output_type": "execute_result"
    }
   ],
   "source": [
    "# Slicing - Last row\n",
    "arr10[-1,:]"
   ]
  },
  {
   "cell_type": "markdown",
   "metadata": {},
   "source": [
    "We can also assign values by putting the slice before an equals sign. Using `:` we can do it to a whole column."
   ]
  },
  {
   "cell_type": "code",
   "execution_count": 44,
   "metadata": {},
   "outputs": [
    {
     "name": "stdout",
     "output_type": "stream",
     "text": [
      "[[0.  0.1 0.2 0.3 0.4 0.  0.6 0.7 0.8 0.9]\n",
      " [1.  1.1 1.2 1.3 1.4 0.  1.6 1.7 1.8 1.9]\n",
      " [2.  2.1 2.2 2.3 2.4 0.  2.6 2.7 2.8 2.9]\n",
      " [3.  3.1 3.2 3.3 3.4 0.  3.6 3.7 3.8 3.9]\n",
      " [4.  4.1 4.2 4.3 4.4 0.  4.6 4.7 4.8 4.9]\n",
      " [5.  5.1 5.2 5.3 5.4 0.  5.6 5.7 5.8 5.9]\n",
      " [6.  6.1 6.2 6.3 6.4 0.  6.6 6.7 6.8 6.9]\n",
      " [7.  7.1 7.2 7.3 7.4 0.  7.6 7.7 7.8 7.9]\n",
      " [8.  8.1 8.2 8.3 8.4 0.  8.6 8.7 8.8 8.9]\n",
      " [9.  9.1 9.2 9.3 9.4 0.  9.6 9.7 9.8 9.9]]\n"
     ]
    }
   ],
   "source": [
    "test_arr = arr10.copy()\n",
    "test_arr[:,5] = 0.\n",
    "print(test_arr)"
   ]
  },
  {
   "cell_type": "markdown",
   "metadata": {},
   "source": [
    "## New content - Boolean indexing"
   ]
  },
  {
   "cell_type": "markdown",
   "metadata": {},
   "source": [
    "Let's start with boolean indexing on a numpy array. What does this mean?\n",
    "\n",
    "Well let's sat that you have a set of numbers and you want to identify all those numbers whose value is larger than 2. You could write a for loop (which is often quite slow to run in python), or you could use \"boolean indexing\". This goes something like:"
   ]
  },
  {
   "cell_type": "code",
   "execution_count": null,
   "metadata": {},
   "outputs": [],
   "source": [
    "import numpy as np\n",
    "# Here's a for loop showing what we're doing\n",
    "some_numbers = [1,10,2,20,3,30,4,40,5,50,6,60]\n",
    "large_nums = []\n",
    "\n",
    "for num in some_numbers:\n",
    "    if num > 4:\n",
    "        large_nums.append(num)\n",
    "\n",
    "# But we could also do this as using boolean indexing:\n",
    "\n",
    "some_numbers = np.array(some_numbers)\n",
    "large_nums = some_numbers[some_numbers > 4]\n",
    "print(large_nums)\n"
   ]
  },
  {
   "cell_type": "markdown",
   "metadata": {},
   "source": [
    "Let's try and break down what this is doing. It only works with numpy arrays so if you have a list, first convert it to a numpy array by doing `some_numbers = np.array(some_numbers)`.\n",
    "\n",
    "Then we do `some_numbers > 4`. This creates a boolean array (an array whose entries are either `True` or `False`).\n",
    "\n",
    "We then use this boolean array to index `some_numbers`. It will extract all entries for which the boolean array is True. The boolean array must be the same length as the array being indexed.\n",
    "\n",
    "So for example\n",
    "\n",
    "`np.array([1,4,9,16])[np.array([True,False,False,True])]`\n",
    "\n",
    "will return the first and fourth entries of this array (1 and 16) in a new array."
   ]
  },
  {
   "cell_type": "code",
   "execution_count": null,
   "metadata": {},
   "outputs": [],
   "source": [
    "np.array([1,4,9,16])[np.array([True,False,False,True])]"
   ]
  },
  {
   "cell_type": "markdown",
   "metadata": {},
   "source": [
    "We can split this into two lines if we also want to store the Boolean array."
   ]
  },
  {
   "cell_type": "code",
   "execution_count": null,
   "metadata": {},
   "outputs": [],
   "source": [
    "some_numbers = np.array([1,10,2,20,3,30,4,40,5,50,6,60])\n",
    "logic_array = some_numbers > 4\n",
    "print(logic_array)\n",
    "large_nums = some_numbers[logic_array]\n",
    "print(large_nums)"
   ]
  },
  {
   "cell_type": "markdown",
   "metadata": {},
   "source": [
    "**EXERCISE**\n",
    "\n",
    "Let's practice this.\n",
    "\n",
    "* Use boolean indexing to extract all values in some_numbers where the number is smaller than 15\n",
    "* Use boolean indexing to extract all values in some_numbers where $\\mathrm{num}^2 - 15$ is larger than 100"
   ]
  },
  {
   "cell_type": "code",
   "execution_count": null,
   "metadata": {},
   "outputs": [],
   "source": [
    "some_numbers = np.array([1,10,2,20,3,30,4,40,5,50,6,60])\n",
    "\n",
    "# COMPLETE BELOW\n",
    "\n"
   ]
  },
  {
   "cell_type": "markdown",
   "metadata": {},
   "source": [
    "How is this better than using a `for` loop? It is significantly faster, so if you are dealing with very large arrays, you might want this. But another huge advantage to this comes when you're dealing with multiple arrays of related data. Let's illustrate this using a pandas DataFrame."
   ]
  },
  {
   "cell_type": "code",
   "execution_count": null,
   "metadata": {
    "scrolled": true
   },
   "outputs": [],
   "source": [
    "import numpy as np\n",
    "import pandas as pd\n",
    "def func_makedata(a):\n",
    "    x1 = a**2\n",
    "    y1 = np.cos(a)\n",
    "    z1 = 3*a**2 \n",
    "    return x1, y1, z1\n",
    "\n",
    "aa = np.linspace(0.,10.,50)\n",
    "x1, y1, z1 = func_makedata(aa)\n",
    "\n",
    "data_dict = {}\n",
    "data_dict['aa'] = aa\n",
    "data_dict['x1'] = x1\n",
    "data_dict['y1'] = y1\n",
    "data_dict['z1'] = z1\n",
    "pd_dataframe = pd.DataFrame(data_dict)\n",
    "pd_dataframe"
   ]
  },
  {
   "cell_type": "markdown",
   "metadata": {},
   "source": [
    "This data structure contains 4 arrays of data, but these are all related to each other (in particular x1, y1 and z1 are all functions of the first array, aa). So how could we extract all values of x1 for which y1 is larger than 0.5? This could be done with a `for` loop, but the following approach is *significantly* faster and makes the code much more compact."
   ]
  },
  {
   "cell_type": "code",
   "execution_count": null,
   "metadata": {},
   "outputs": [],
   "source": [
    "# Create the boolean array\n",
    "large_y1_logic = pd_dataframe['y1'] > 0.5\n",
    "# Access corresponding values of x1\n",
    "x1_values = pd_dataframe['x1'][large_y1_logic]\n",
    "# Match this against the table above .. pandas also retains the indexes!\n",
    "print(x1_values)\n",
    "\n",
    "# Similarly we can quickly obtain the corresponding values of aa or z1\n",
    "aa_values = pd_dataframe['aa'][large_y1_logic]\n",
    "z1_values = pd_dataframe['z1'][large_y1_logic]"
   ]
  },
  {
   "cell_type": "markdown",
   "metadata": {},
   "source": [
    "With these tools you **never need to use Excel again**. You now have access to a much more powerful, faster, and more flexible method to slice and dice data and to graphically display the output however you want! We'll learn more about this below."
   ]
  },
  {
   "cell_type": "markdown",
   "metadata": {},
   "source": [
    "**EXERCISES**\n",
    "\n",
    "Let's try a few more exercises on our `pd_dataframe` dataset:\n",
    "\n",
    "* Extract all values of `z1` for which the corresponding value of $\\mathrm{x1} - 15$ is larger than 20.\n",
    "* Extract all values of `x1` for which the corresponding value of $\\mathrm{aa} * (\\mathrm{x1} - 50) * \\mathrm{y1}$ is larger than 20"
   ]
  },
  {
   "cell_type": "code",
   "execution_count": null,
   "metadata": {},
   "outputs": [],
   "source": []
  },
  {
   "cell_type": "markdown",
   "metadata": {},
   "source": [
    "Let's add one more layer of complexity to this. What if we want to access all values of `z1` for which $\\mathrm{y1} > 0.5$ *and* $\\mathrm{x1} < 10$. One could do some sort of nested approach (which actually might be the most computationally efficient way of doing this, but isn't the most elegant):"
   ]
  },
  {
   "cell_type": "code",
   "execution_count": null,
   "metadata": {},
   "outputs": [],
   "source": [
    "y1_logic = pd_dataframe['y1'] > 0.5\n",
    "reduced_x1 = pd_dataframe['x1'][y1_logic]\n",
    "reduced_z1 = pd_dataframe['z1'][y1_logic]\n",
    "\n",
    "final_z1_values = reduced_z1[reduced_x1 < 10]\n",
    "\n",
    "print (final_z1_values)"
   ]
  },
  {
   "cell_type": "markdown",
   "metadata": {},
   "source": [
    "However, we can combine this logic together into one array. Numpy supplies a `logical_and` function for this, but the simplest way to construct a single logic array satisfying two conditions is:"
   ]
  },
  {
   "cell_type": "code",
   "execution_count": null,
   "metadata": {},
   "outputs": [],
   "source": [
    "# WARNING: Note the brackets here! `&` is evaluated before `>` so make sure you don't forget them!\n",
    "y1_and_x1_logic = (pd_dataframe['y1'] > 0.5) & (reduced_x1 < 10)\n",
    "final_z1_values = pd_dataframe['z1'][y1_and_x1_logic]\n",
    "print (final_z1_values)"
   ]
  },
  {
   "cell_type": "markdown",
   "metadata": {},
   "source": [
    "**EXERCISES**\n",
    "\n",
    "* Find all values of `aa` for which `abs(x1 - 50)` is bigger than 20, `arccos(y1) > 45 degrees` and `z1**0.5 > 4`"
   ]
  },
  {
   "cell_type": "code",
   "execution_count": null,
   "metadata": {},
   "outputs": [],
   "source": []
  },
  {
   "cell_type": "markdown",
   "metadata": {},
   "source": [
    "## Methods of numpy arrays."
   ]
  },
  {
   "cell_type": "markdown",
   "metadata": {},
   "source": [
    "The numpy array class defines a number of `methods` for easily accessing information about the numpy array. Let's explore a few of these methods now."
   ]
  },
  {
   "cell_type": "markdown",
   "metadata": {},
   "source": [
    "### The `.any` and `.all` method"
   ]
  },
  {
   "cell_type": "markdown",
   "metadata": {},
   "source": [
    "The `any` method can be used to check if at least one element in a boolean array is True. For example if we want to go back to our `some_numbers` array, and ask if it contains any number greater than 20 we can do:"
   ]
  },
  {
   "cell_type": "code",
   "execution_count": null,
   "metadata": {},
   "outputs": [],
   "source": [
    "some_numbers = np.array([1,10,2,20,3,30,4,40,5,50,6,60])\n",
    "\n",
    "if (some_numbers > 20).any():\n",
    "    print (\"There is at least one value in some_numbers larger than 20\")"
   ]
  },
  {
   "cell_type": "markdown",
   "metadata": {},
   "source": [
    "Similarly we can use the `all` method to ask if all numbers in `some_numbers` are larger than 20:"
   ]
  },
  {
   "cell_type": "code",
   "execution_count": null,
   "metadata": {},
   "outputs": [],
   "source": [
    "some_numbers = np.array([1,10,2,20,3,30,4,40,5,50,6,60])\n",
    "\n",
    "if (some_numbers > 20).all():\n",
    "    print (\"All numbers in some_numbers are larger than 20\")\n",
    "else:\n",
    "    print (\"Not all the numbers in some_numbers are larger than 20\")"
   ]
  },
  {
   "cell_type": "markdown",
   "metadata": {},
   "source": [
    "In both cases, these methods can also run on non boolean arrays:"
   ]
  },
  {
   "cell_type": "code",
   "execution_count": null,
   "metadata": {},
   "outputs": [],
   "source": [
    "print (some_numbers.all())"
   ]
  },
  {
   "cell_type": "markdown",
   "metadata": {},
   "source": [
    "In such cases it will be checking the \"truth value\" of each entry in the array. 0, or 0.0 or '' are False for integers, floats and strings respectively, anything else is True. This is the same as running `bool(value)` on all values in the array and then checking if any, or all, are True."
   ]
  },
  {
   "cell_type": "markdown",
   "metadata": {},
   "source": [
    "Let's take our pandas example again before setting some exercises:"
   ]
  },
  {
   "cell_type": "code",
   "execution_count": null,
   "metadata": {
    "scrolled": true
   },
   "outputs": [],
   "source": [
    "import numpy as np\n",
    "import pandas as pd\n",
    "def func_makedata(a):\n",
    "    x1 = a**2\n",
    "    y1 = np.cos(a)\n",
    "    z1 = 3*a**2 \n",
    "    return x1, y1, z1\n",
    "\n",
    "aa = np.linspace(0.,10.,50)\n",
    "x1, y1, z1 = func_makedata(aa)\n",
    "\n",
    "data_dict = {}\n",
    "data_dict['aa'] = aa\n",
    "data_dict['x1'] = x1\n",
    "data_dict['y1'] = y1\n",
    "data_dict['z1'] = z1\n",
    "pd_dataframe = pd.DataFrame(data_dict)\n",
    "pd_dataframe"
   ]
  },
  {
   "cell_type": "markdown",
   "metadata": {},
   "source": [
    "**EXERCISES**\n",
    "\n",
    "* Are there any values in $\\mathrm{y1}$ for which $\\cos^{-1}(y1) > 3.0$ (radians)\n",
    "* Do all of the values of $(x1 - 50) * (z1 - 150)$ have a magnitude smaller than 5000?"
   ]
  },
  {
   "cell_type": "code",
   "execution_count": null,
   "metadata": {},
   "outputs": [],
   "source": []
  },
  {
   "cell_type": "markdown",
   "metadata": {},
   "source": [
    "### The `np.where` function"
   ]
  },
  {
   "cell_type": "markdown",
   "metadata": {},
   "source": [
    "Consider again our list of `some_numbers`. Let's say that we have a problem that asks: For your list of numbers create a new list storing $x^2$ if $x$ is smaller than 10 or $x^0.5$ is x is larger than or equal to 10. This is a perfect example for numpy's `where` function:"
   ]
  },
  {
   "cell_type": "code",
   "execution_count": null,
   "metadata": {},
   "outputs": [],
   "source": [
    "# Let's let numpy explain what this function does first\n",
    "np.where?"
   ]
  },
  {
   "cell_type": "code",
   "execution_count": null,
   "metadata": {},
   "outputs": [],
   "source": [
    "some_numbers = np.array([1,10,2,20,3,30,4,40,5,50,6,60])\n",
    "np.where(some_numbers >= 10, some_numbers**0.5, some_numbers**2)"
   ]
  },
  {
   "cell_type": "markdown",
   "metadata": {},
   "source": [
    "Alternatively, if we just run this with the first argument:"
   ]
  },
  {
   "cell_type": "code",
   "execution_count": null,
   "metadata": {},
   "outputs": [],
   "source": [
    "np.where(some_numbers >= 10)[0]"
   ]
  },
  {
   "cell_type": "markdown",
   "metadata": {},
   "source": [
    "It returns the indexes of the points where some_numbers is larger than or equal to 10. This can also be used to index, so we can do:"
   ]
  },
  {
   "cell_type": "code",
   "execution_count": null,
   "metadata": {},
   "outputs": [],
   "source": [
    "# Returns the points at positions 1, 3, 5, 7, 9 and 11\n",
    "some_numbers[np.where(some_numbers >= 10)[0]]"
   ]
  },
  {
   "cell_type": "markdown",
   "metadata": {},
   "source": [
    "This is equivalent to having done:"
   ]
  },
  {
   "cell_type": "code",
   "execution_count": null,
   "metadata": {},
   "outputs": [],
   "source": [
    "some_numbers[some_numbers >= 10]"
   ]
  },
  {
   "cell_type": "markdown",
   "metadata": {},
   "source": [
    "But sometimes it's nice to see the indexes."
   ]
  },
  {
   "cell_type": "markdown",
   "metadata": {},
   "source": [
    "**EXERCISE**\n",
    "\n",
    "Create an array out of some_numbers from the following condition.\n",
    "\n",
    "* If the number is larger than 20, store $x^3$. If the number is smaller than 20, store 1.\n",
    "\n",
    "Then try the following:\n",
    "\n",
    "* If the number is larger than 20, store $x^3$. If the number is larger than 4 but smaller than or equal to 20 store $x$, otherwise store 1."
   ]
  },
  {
   "cell_type": "code",
   "execution_count": null,
   "metadata": {},
   "outputs": [],
   "source": []
  },
  {
   "cell_type": "markdown",
   "metadata": {},
   "source": [
    "## Transposing and reshaping arrays"
   ]
  },
  {
   "cell_type": "markdown",
   "metadata": {},
   "source": [
    "Let's move on now to consider some multi-dimension arrays. Let's first consider the following 5 x 5 array of random numbers uniformly distributed between 0 and 10:"
   ]
  },
  {
   "cell_type": "code",
   "execution_count": null,
   "metadata": {},
   "outputs": [],
   "source": [
    "nums = np.random.random_sample(size=[12,10]) * 10\n",
    "print (nums)"
   ]
  },
  {
   "cell_type": "markdown",
   "metadata": {},
   "source": [
    "To transpose this array is quite simple, numpy supplies a `.T` property:"
   ]
  },
  {
   "cell_type": "code",
   "execution_count": null,
   "metadata": {},
   "outputs": [],
   "source": [
    "print (nums.T)"
   ]
  },
  {
   "cell_type": "markdown",
   "metadata": {},
   "source": [
    "If we want to reshape the array we can use numpy's `reshape` function. For example if I want to \"flatten\" this array (note there is also a `flatten` function, but `reshape` is more general), we could do:"
   ]
  },
  {
   "cell_type": "code",
   "execution_count": null,
   "metadata": {},
   "outputs": [],
   "source": [
    "np.reshape(nums, (120,))"
   ]
  },
  {
   "cell_type": "markdown",
   "metadata": {},
   "source": [
    "This indicates that this should become a 1D array with 120 entries. We could also make this a 4 x 30 array or a 30 x 4 array with something like:"
   ]
  },
  {
   "cell_type": "code",
   "execution_count": null,
   "metadata": {},
   "outputs": [],
   "source": [
    "np.reshape(nums, (4,30))"
   ]
  },
  {
   "cell_type": "code",
   "execution_count": null,
   "metadata": {},
   "outputs": [],
   "source": [
    "np.reshape(nums, (30,4))"
   ]
  },
  {
   "cell_type": "markdown",
   "metadata": {},
   "source": [
    "In all cases the order of the data is preserved. There is a bit more information on reshaping an array here:\n",
    "\n",
    "https://www.w3resource.com/numpy/manipulation/reshape.php\n",
    "\n",
    "If you try to do something invalid, the code will fail:"
   ]
  },
  {
   "cell_type": "code",
   "execution_count": null,
   "metadata": {},
   "outputs": [],
   "source": [
    "np.reshape(nums, (30,10))"
   ]
  },
  {
   "cell_type": "markdown",
   "metadata": {},
   "source": [
    "**EXERCISE**\n",
    "\n",
    "Create a 2D array (x,y) whose values should be equal to $x**2 + y$ (so the value at `[0,1]` would be 1, the value at `[2,4]` would be $2^2 + 4 = 8$ and so on). The size of this array should be 42 x 20.\n",
    "\n",
    "Take the transpose of this array. Now if this new array has coordinates (x1,y1) what is the value at x1 = 4, y1=5 going to be?\n",
    "\n",
    "There are a number of different 2D shapes that you can reshape this array into (I counted 32). How many valid different sizes can you reshape this array into.\n",
    "\n",
    "Reshape this array into a 5D shape, where no dimension has a size equal to 1."
   ]
  },
  {
   "cell_type": "code",
   "execution_count": null,
   "metadata": {},
   "outputs": [],
   "source": []
  },
  {
   "cell_type": "markdown",
   "metadata": {},
   "source": [
    "## Matrices"
   ]
  },
  {
   "cell_type": "markdown",
   "metadata": {},
   "source": [
    "Finally numpy defines a matrix type:"
   ]
  },
  {
   "cell_type": "code",
   "execution_count": null,
   "metadata": {},
   "outputs": [],
   "source": [
    "nums = np.random.random_sample(size=[12,10]) * 10\n",
    "nums = np.matrix(nums)\n",
    "\n",
    "print (nums)"
   ]
  },
  {
   "cell_type": "markdown",
   "metadata": {},
   "source": [
    "The matrix class is just a subclass of the array, but adds some additional functionality that can be useful for matrices. For example we can do matrix multiplication:"
   ]
  },
  {
   "cell_type": "code",
   "execution_count": null,
   "metadata": {},
   "outputs": [],
   "source": [
    "nums1 = np.random.random_sample(size=[12,10]) * 10\n",
    "nums2 = np.random.random_sample(size=[12,10]) * 10\n",
    "\n",
    "prod = nums1 * nums2\n",
    "# To multiply two numpy arrays they must be the same shape, and then every element is multiplied by its corresponding\n",
    "# element in the other array. That's not how matrix multiplication works\n",
    "print (prod.shape)\n",
    "print()\n",
    "\n",
    "nums1 = np.matrix(nums1)\n",
    "nums2 = np.matrix(nums2)\n",
    "\n",
    "# This isn't possible! I cannot multiply a 12x10 matrix by a 12x10 matrix!\n",
    "# Let's catch this error and continue. Python's try/except can be used for this\n",
    "# https://docs.python.org/3/tutorial/errors.html\n",
    "\n",
    "try:\n",
    "    nums1 * nums2\n",
    "except ValueError as err:\n",
    "    print (\"This doesn't work! The code says:\")\n",
    "    print (err)\n",
    "\n",
    "# But I can multiply a 12x10 matrix by a 10x12 matrix (the resulting matrix should be 12 x 12.)\n",
    "# OR I can multiply a 10x12 matrix by a 12x10 matrix (resulting in a 10x10 matrix)\n",
    "\n",
    "prod1 = nums1 * nums2.T\n",
    "prod2 = nums1.T * nums2\n",
    "\n",
    "print (prod1.shape, prod2.shape)"
   ]
  },
  {
   "cell_type": "markdown",
   "metadata": {},
   "source": [
    "We can also compute the eigenvalues and eigenvectors of a square matrix (the following will work fine on either a matrix or 2D array object):"
   ]
  },
  {
   "cell_type": "code",
   "execution_count": null,
   "metadata": {},
   "outputs": [],
   "source": [
    "# Make a diagonal matrix\n",
    "nums1 = np.zeros([3,3])\n",
    "nums1[0,0] = 1.\n",
    "nums1[1,1] = 2.\n",
    "nums1[2,2] = 3.\n",
    "print(nums1)\n",
    "# Or equivalently\n",
    "print (np.diag([1.,2.,3.]))\n",
    "\n",
    "evals, evecs = np.linalg.eig(nums1)\n",
    "\n",
    "print (evals)\n",
    "print (evecs)"
   ]
  },
  {
   "cell_type": "markdown",
   "metadata": {},
   "source": [
    "**EXERCISE**\n",
    "\n",
    "Generate a 2D 10x10 matrix of random numbers. Compute the eigenvectors and eigenvalues of this matrix.\n",
    "\n",
    "Now try again but this time generate a symmetric matrix (where the value at `[x,y]` is equal to the value at `[y,x]`). What do you notice is different? Why is this?"
   ]
  },
  {
   "cell_type": "code",
   "execution_count": null,
   "metadata": {},
   "outputs": [],
   "source": []
  },
  {
   "cell_type": "code",
   "execution_count": null,
   "metadata": {},
   "outputs": [],
   "source": []
  },
  {
   "cell_type": "code",
   "execution_count": null,
   "metadata": {},
   "outputs": [],
   "source": []
  },
  {
   "cell_type": "code",
   "execution_count": 1,
   "metadata": {},
   "outputs": [],
   "source": [
    "import numpy as np\n",
    "def func_makedata(a):\n",
    "    x1 = a**2\n",
    "    y1 = np.cos(a)\n",
    "    z1 = 3*a**2 \n",
    "    return x1, y1, z1\n",
    "\n",
    "aa = np.linspace(0.,10.,50)\n",
    "x1, y1, z1 = func_makedata(aa)\n",
    " "
   ]
  },
  {
   "cell_type": "markdown",
   "metadata": {},
   "source": [
    "We now have four arrays (aa, x1, y1 and z1) which we might want to store. Let's start with storing a single array to disk."
   ]
  },
  {
   "cell_type": "code",
   "execution_count": 2,
   "metadata": {},
   "outputs": [],
   "source": [
    "np.savetxt('data_array_aa.dat', aa)"
   ]
  },
  {
   "cell_type": "markdown",
   "metadata": {},
   "source": [
    "This stores the contents of the array \"aa\" to the file `data_array_aa.dat`. You can open this file in the SciServer window, check what is in it.\n",
    "\n",
    "However, we might want to store all 4 of the arrays, to do this we need to *arrange* the data in such a way that this will work nicely. We can do"
   ]
  },
  {
   "cell_type": "code",
   "execution_count": 3,
   "metadata": {},
   "outputs": [],
   "source": [
    "np.savetxt('data_array_aa2.dat', np.array([aa, x1, y1, z1]))"
   ]
  },
  {
   "cell_type": "markdown",
   "metadata": {},
   "source": [
    "Again, you can see this in the SciServer window. In this case we have 4 rows, each containing N columns (where N is the length of aa and the other arrays). If we want to swap this to 4 columns and N rows we can do:"
   ]
  },
  {
   "cell_type": "code",
   "execution_count": 4,
   "metadata": {},
   "outputs": [],
   "source": [
    "np.savetxt('data_array_aa3.dat', np.array([aa, x1, y1, z1]).T)"
   ]
  },
  {
   "cell_type": "markdown",
   "metadata": {},
   "source": [
    "which will transpose the array and store it nicely.\n",
    "\n",
    "In all these cases the operation to read the corresponding array back from disk is"
   ]
  },
  {
   "cell_type": "code",
   "execution_count": 5,
   "metadata": {},
   "outputs": [],
   "source": [
    "file_data = np.loadtxt('data_array_aa3.dat')"
   ]
  },
  {
   "cell_type": "markdown",
   "metadata": {},
   "source": [
    "`file_data` now stores the arrays we read from disk. To recover the y1 array (which was stored in the 3rd column) we would need to use *slicing* to recover this array as demonstrated previously:"
   ]
  },
  {
   "cell_type": "code",
   "execution_count": 6,
   "metadata": {},
   "outputs": [
    {
     "name": "stdout",
     "output_type": "stream",
     "text": [
      "[0. 0. 0. 0. 0. 0. 0. 0. 0. 0. 0. 0. 0. 0. 0. 0. 0. 0. 0. 0. 0. 0. 0. 0.\n",
      " 0. 0. 0. 0. 0. 0. 0. 0. 0. 0. 0. 0. 0. 0. 0. 0. 0. 0. 0. 0. 0. 0. 0. 0.\n",
      " 0. 0.]\n"
     ]
    }
   ],
   "source": [
    "y1_from_file = file_data[:,2]\n",
    "print(y1 - y1_from_file)"
   ]
  },
  {
   "cell_type": "markdown",
   "metadata": {},
   "source": [
    "An alternative to the `savetxt` command is the `savez` command. The advantages to `savez` are:\n",
    " * You can easily save and read back in numerous arrays\n",
    " * The arrays do not have to do the same length (or need to be shaped into a N x M 2D format)\n",
    " * It's much faster to read/save data using this command.\n",
    "\n",
    "But the one major disadvantage is:\n",
    "\n",
    " * These files are not human readable, are not easily readable by anything other than numpy and may not be the same on machines with different CPU architecture (e.g. a file generated on a windows machine (x86_64) may not be readable on a raspberry pi (ARM))\n",
    "\n",
    "Here's how this works with our datasets above"
   ]
  },
  {
   "cell_type": "code",
   "execution_count": 7,
   "metadata": {},
   "outputs": [],
   "source": [
    "np.savez('data_array_aa.npz', aa=aa, x1=x1, y1=y1, z1=z1)"
   ]
  },
  {
   "cell_type": "markdown",
   "metadata": {},
   "source": [
    "Try reading this file in the SciServer window!\n",
    "\n",
    "To read this file back in with numpy you use:"
   ]
  },
  {
   "cell_type": "code",
   "execution_count": 8,
   "metadata": {},
   "outputs": [
    {
     "name": "stdout",
     "output_type": "stream",
     "text": [
      "['aa', 'x1', 'y1', 'z1']\n"
     ]
    }
   ],
   "source": [
    "file_data = np.load('data_array_aa.npz')\n",
    "print(list(file_data))"
   ]
  },
  {
   "cell_type": "markdown",
   "metadata": {},
   "source": [
    "`file_data` is implemented basically as a sub-class of python's dictionary. To access each of the arrays we do so as we would access entries in a python dictionary"
   ]
  },
  {
   "cell_type": "code",
   "execution_count": 9,
   "metadata": {},
   "outputs": [
    {
     "name": "stdout",
     "output_type": "stream",
     "text": [
      "[0. 0. 0. 0. 0. 0. 0. 0. 0. 0. 0. 0. 0. 0. 0. 0. 0. 0. 0. 0. 0. 0. 0. 0.\n",
      " 0. 0. 0. 0. 0. 0. 0. 0. 0. 0. 0. 0. 0. 0. 0. 0. 0. 0. 0. 0. 0. 0. 0. 0.\n",
      " 0. 0.]\n"
     ]
    }
   ],
   "source": [
    "y1_from_file = file_data['y1']\n",
    "print(y1_from_file - y1)"
   ]
  },
  {
   "cell_type": "markdown",
   "metadata": {},
   "source": [
    "**EXERCISE** Let's practice using this functionality. Write a function to do the following:\n",
    " * Create an array containing 1000 numbers uniformly distributed between 0 and $\\pi$. Both 0 and $\\pi$ should be in the array as the 1st and 1000th entries.\n",
    " * Create a second array storing $\\sin(x)$\n",
    " * Create a third array storing $\\cos^2(x) +1$\n",
    " * Create a fourth array storing $\\mathrm{cosech}(x)$\n",
    " \n",
    "Then write these 4 arrays to a file, read them back in, and check that you can recover the original arrays. Try using the different options illustrated above."
   ]
  },
  {
   "cell_type": "code",
   "execution_count": null,
   "metadata": {},
   "outputs": [],
   "source": [
    "# Exercise solution goes here\n"
   ]
  },
  {
   "cell_type": "markdown",
   "metadata": {},
   "source": [
    "## Reading/Writing data to file with pandas\n",
    "\n",
    "An alternative to numpy is the pandas module. pandas is very nice for reading/writing and manipulating tables of data. Let's illustrate some of the basic functionality here, first let's generate our data arrays again:\n"
   ]
  },
  {
   "cell_type": "code",
   "execution_count": 10,
   "metadata": {},
   "outputs": [],
   "source": [
    "import numpy as np\n",
    "import pandas as pd\n",
    "def func_makedata(a):\n",
    "    x1 = a**2\n",
    "    y1 = np.cos(a)\n",
    "    z1 = 3*a**2 \n",
    "    return x1, y1, z1\n",
    "\n",
    "aa = np.linspace(0.,10.,50)\n",
    "x1, y1, z1 = func_makedata(aa)"
   ]
  },
  {
   "cell_type": "markdown",
   "metadata": {},
   "source": [
    "Then we create a pandas `DataFrame` object to store our data. This is initialized from a dictionary, so we first put our data into a dictionary and then initialize the `DataFrame` object."
   ]
  },
  {
   "cell_type": "code",
   "execution_count": 11,
   "metadata": {},
   "outputs": [],
   "source": [
    "data_dict = {}\n",
    "data_dict['aa'] = aa\n",
    "data_dict['x1'] = x1\n",
    "data_dict['y1'] = y1\n",
    "data_dict['z1'] = z1\n",
    "pd_dataframe = pd.DataFrame(data_dict)"
   ]
  },
  {
   "cell_type": "markdown",
   "metadata": {},
   "source": [
    "Note that if we print the dataframe it looks much nicer than numpy arrays! (For this to look nice don't use the `print` function, as this is stuff integrated with Jupyter to make it look nice in the notebook)"
   ]
  },
  {
   "cell_type": "code",
   "execution_count": 12,
   "metadata": {},
   "outputs": [
    {
     "data": {
      "text/html": [
       "<div>\n",
       "<style scoped>\n",
       "    .dataframe tbody tr th:only-of-type {\n",
       "        vertical-align: middle;\n",
       "    }\n",
       "\n",
       "    .dataframe tbody tr th {\n",
       "        vertical-align: top;\n",
       "    }\n",
       "\n",
       "    .dataframe thead th {\n",
       "        text-align: right;\n",
       "    }\n",
       "</style>\n",
       "<table border=\"1\" class=\"dataframe\">\n",
       "  <thead>\n",
       "    <tr style=\"text-align: right;\">\n",
       "      <th></th>\n",
       "      <th>aa</th>\n",
       "      <th>x1</th>\n",
       "      <th>y1</th>\n",
       "      <th>z1</th>\n",
       "    </tr>\n",
       "  </thead>\n",
       "  <tbody>\n",
       "    <tr>\n",
       "      <th>0</th>\n",
       "      <td>0.000000</td>\n",
       "      <td>0.000000</td>\n",
       "      <td>1.000000</td>\n",
       "      <td>0.000000</td>\n",
       "    </tr>\n",
       "    <tr>\n",
       "      <th>1</th>\n",
       "      <td>0.204082</td>\n",
       "      <td>0.041649</td>\n",
       "      <td>0.979248</td>\n",
       "      <td>0.124948</td>\n",
       "    </tr>\n",
       "    <tr>\n",
       "      <th>2</th>\n",
       "      <td>0.408163</td>\n",
       "      <td>0.166597</td>\n",
       "      <td>0.917851</td>\n",
       "      <td>0.499792</td>\n",
       "    </tr>\n",
       "    <tr>\n",
       "      <th>3</th>\n",
       "      <td>0.612245</td>\n",
       "      <td>0.374844</td>\n",
       "      <td>0.818360</td>\n",
       "      <td>1.124531</td>\n",
       "    </tr>\n",
       "    <tr>\n",
       "      <th>4</th>\n",
       "      <td>0.816327</td>\n",
       "      <td>0.666389</td>\n",
       "      <td>0.684902</td>\n",
       "      <td>1.999167</td>\n",
       "    </tr>\n",
       "    <tr>\n",
       "      <th>5</th>\n",
       "      <td>1.020408</td>\n",
       "      <td>1.041233</td>\n",
       "      <td>0.523018</td>\n",
       "      <td>3.123698</td>\n",
       "    </tr>\n",
       "    <tr>\n",
       "      <th>6</th>\n",
       "      <td>1.224490</td>\n",
       "      <td>1.499375</td>\n",
       "      <td>0.339426</td>\n",
       "      <td>4.498126</td>\n",
       "    </tr>\n",
       "    <tr>\n",
       "      <th>7</th>\n",
       "      <td>1.428571</td>\n",
       "      <td>2.040816</td>\n",
       "      <td>0.141746</td>\n",
       "      <td>6.122449</td>\n",
       "    </tr>\n",
       "    <tr>\n",
       "      <th>8</th>\n",
       "      <td>1.632653</td>\n",
       "      <td>2.665556</td>\n",
       "      <td>-0.061817</td>\n",
       "      <td>7.996668</td>\n",
       "    </tr>\n",
       "    <tr>\n",
       "      <th>9</th>\n",
       "      <td>1.836735</td>\n",
       "      <td>3.373594</td>\n",
       "      <td>-0.262815</td>\n",
       "      <td>10.120783</td>\n",
       "    </tr>\n",
       "    <tr>\n",
       "      <th>10</th>\n",
       "      <td>2.040816</td>\n",
       "      <td>4.164931</td>\n",
       "      <td>-0.452904</td>\n",
       "      <td>12.494794</td>\n",
       "    </tr>\n",
       "    <tr>\n",
       "      <th>11</th>\n",
       "      <td>2.244898</td>\n",
       "      <td>5.039567</td>\n",
       "      <td>-0.624196</td>\n",
       "      <td>15.118701</td>\n",
       "    </tr>\n",
       "    <tr>\n",
       "      <th>12</th>\n",
       "      <td>2.448980</td>\n",
       "      <td>5.997501</td>\n",
       "      <td>-0.769580</td>\n",
       "      <td>17.992503</td>\n",
       "    </tr>\n",
       "    <tr>\n",
       "      <th>13</th>\n",
       "      <td>2.653061</td>\n",
       "      <td>7.038734</td>\n",
       "      <td>-0.883023</td>\n",
       "      <td>21.116202</td>\n",
       "    </tr>\n",
       "    <tr>\n",
       "      <th>14</th>\n",
       "      <td>2.857143</td>\n",
       "      <td>8.163265</td>\n",
       "      <td>-0.959816</td>\n",
       "      <td>24.489796</td>\n",
       "    </tr>\n",
       "    <tr>\n",
       "      <th>15</th>\n",
       "      <td>3.061224</td>\n",
       "      <td>9.371095</td>\n",
       "      <td>-0.996772</td>\n",
       "      <td>28.113286</td>\n",
       "    </tr>\n",
       "    <tr>\n",
       "      <th>16</th>\n",
       "      <td>3.265306</td>\n",
       "      <td>10.662224</td>\n",
       "      <td>-0.992357</td>\n",
       "      <td>31.986672</td>\n",
       "    </tr>\n",
       "    <tr>\n",
       "      <th>17</th>\n",
       "      <td>3.469388</td>\n",
       "      <td>12.036651</td>\n",
       "      <td>-0.946755</td>\n",
       "      <td>36.109954</td>\n",
       "    </tr>\n",
       "    <tr>\n",
       "      <th>18</th>\n",
       "      <td>3.673469</td>\n",
       "      <td>13.494377</td>\n",
       "      <td>-0.861857</td>\n",
       "      <td>40.483132</td>\n",
       "    </tr>\n",
       "    <tr>\n",
       "      <th>19</th>\n",
       "      <td>3.877551</td>\n",
       "      <td>15.035402</td>\n",
       "      <td>-0.741188</td>\n",
       "      <td>45.106206</td>\n",
       "    </tr>\n",
       "    <tr>\n",
       "      <th>20</th>\n",
       "      <td>4.081633</td>\n",
       "      <td>16.659725</td>\n",
       "      <td>-0.589756</td>\n",
       "      <td>49.979175</td>\n",
       "    </tr>\n",
       "    <tr>\n",
       "      <th>21</th>\n",
       "      <td>4.285714</td>\n",
       "      <td>18.367347</td>\n",
       "      <td>-0.413846</td>\n",
       "      <td>55.102041</td>\n",
       "    </tr>\n",
       "    <tr>\n",
       "      <th>22</th>\n",
       "      <td>4.489796</td>\n",
       "      <td>20.158267</td>\n",
       "      <td>-0.220759</td>\n",
       "      <td>60.474802</td>\n",
       "    </tr>\n",
       "    <tr>\n",
       "      <th>23</th>\n",
       "      <td>4.693878</td>\n",
       "      <td>22.032486</td>\n",
       "      <td>-0.018510</td>\n",
       "      <td>66.097459</td>\n",
       "    </tr>\n",
       "    <tr>\n",
       "      <th>24</th>\n",
       "      <td>4.897959</td>\n",
       "      <td>23.990004</td>\n",
       "      <td>0.184507</td>\n",
       "      <td>71.970012</td>\n",
       "    </tr>\n",
       "    <tr>\n",
       "      <th>25</th>\n",
       "      <td>5.102041</td>\n",
       "      <td>26.030820</td>\n",
       "      <td>0.379866</td>\n",
       "      <td>78.092461</td>\n",
       "    </tr>\n",
       "    <tr>\n",
       "      <th>26</th>\n",
       "      <td>5.306122</td>\n",
       "      <td>28.154935</td>\n",
       "      <td>0.559459</td>\n",
       "      <td>84.464806</td>\n",
       "    </tr>\n",
       "    <tr>\n",
       "      <th>27</th>\n",
       "      <td>5.510204</td>\n",
       "      <td>30.362349</td>\n",
       "      <td>0.715832</td>\n",
       "      <td>91.087047</td>\n",
       "    </tr>\n",
       "    <tr>\n",
       "      <th>28</th>\n",
       "      <td>5.714286</td>\n",
       "      <td>32.653061</td>\n",
       "      <td>0.842494</td>\n",
       "      <td>97.959184</td>\n",
       "    </tr>\n",
       "    <tr>\n",
       "      <th>29</th>\n",
       "      <td>5.918367</td>\n",
       "      <td>35.027072</td>\n",
       "      <td>0.934189</td>\n",
       "      <td>105.081216</td>\n",
       "    </tr>\n",
       "    <tr>\n",
       "      <th>30</th>\n",
       "      <td>6.122449</td>\n",
       "      <td>37.484382</td>\n",
       "      <td>0.987110</td>\n",
       "      <td>112.453145</td>\n",
       "    </tr>\n",
       "    <tr>\n",
       "      <th>31</th>\n",
       "      <td>6.326531</td>\n",
       "      <td>40.024990</td>\n",
       "      <td>0.999061</td>\n",
       "      <td>120.074969</td>\n",
       "    </tr>\n",
       "    <tr>\n",
       "      <th>32</th>\n",
       "      <td>6.530612</td>\n",
       "      <td>42.648896</td>\n",
       "      <td>0.969546</td>\n",
       "      <td>127.946689</td>\n",
       "    </tr>\n",
       "    <tr>\n",
       "      <th>33</th>\n",
       "      <td>6.734694</td>\n",
       "      <td>45.356102</td>\n",
       "      <td>0.899790</td>\n",
       "      <td>136.068305</td>\n",
       "    </tr>\n",
       "    <tr>\n",
       "      <th>34</th>\n",
       "      <td>6.938776</td>\n",
       "      <td>48.146606</td>\n",
       "      <td>0.792688</td>\n",
       "      <td>144.439817</td>\n",
       "    </tr>\n",
       "    <tr>\n",
       "      <th>35</th>\n",
       "      <td>7.142857</td>\n",
       "      <td>51.020408</td>\n",
       "      <td>0.652686</td>\n",
       "      <td>153.061224</td>\n",
       "    </tr>\n",
       "    <tr>\n",
       "      <th>36</th>\n",
       "      <td>7.346939</td>\n",
       "      <td>53.977509</td>\n",
       "      <td>0.485594</td>\n",
       "      <td>161.932528</td>\n",
       "    </tr>\n",
       "    <tr>\n",
       "      <th>37</th>\n",
       "      <td>7.551020</td>\n",
       "      <td>57.017909</td>\n",
       "      <td>0.298348</td>\n",
       "      <td>171.053728</td>\n",
       "    </tr>\n",
       "    <tr>\n",
       "      <th>38</th>\n",
       "      <td>7.755102</td>\n",
       "      <td>60.141608</td>\n",
       "      <td>0.098719</td>\n",
       "      <td>180.424823</td>\n",
       "    </tr>\n",
       "    <tr>\n",
       "      <th>39</th>\n",
       "      <td>7.959184</td>\n",
       "      <td>63.348605</td>\n",
       "      <td>-0.105008</td>\n",
       "      <td>190.045814</td>\n",
       "    </tr>\n",
       "    <tr>\n",
       "      <th>40</th>\n",
       "      <td>8.163265</td>\n",
       "      <td>66.638900</td>\n",
       "      <td>-0.304376</td>\n",
       "      <td>199.916701</td>\n",
       "    </tr>\n",
       "    <tr>\n",
       "      <th>41</th>\n",
       "      <td>8.367347</td>\n",
       "      <td>70.012495</td>\n",
       "      <td>-0.491112</td>\n",
       "      <td>210.037484</td>\n",
       "    </tr>\n",
       "    <tr>\n",
       "      <th>42</th>\n",
       "      <td>8.571429</td>\n",
       "      <td>73.469388</td>\n",
       "      <td>-0.657463</td>\n",
       "      <td>220.408163</td>\n",
       "    </tr>\n",
       "    <tr>\n",
       "      <th>43</th>\n",
       "      <td>8.775510</td>\n",
       "      <td>77.009579</td>\n",
       "      <td>-0.796527</td>\n",
       "      <td>231.028738</td>\n",
       "    </tr>\n",
       "    <tr>\n",
       "      <th>44</th>\n",
       "      <td>8.979592</td>\n",
       "      <td>80.633070</td>\n",
       "      <td>-0.902531</td>\n",
       "      <td>241.899209</td>\n",
       "    </tr>\n",
       "    <tr>\n",
       "      <th>45</th>\n",
       "      <td>9.183673</td>\n",
       "      <td>84.339858</td>\n",
       "      <td>-0.971075</td>\n",
       "      <td>253.019575</td>\n",
       "    </tr>\n",
       "    <tr>\n",
       "      <th>46</th>\n",
       "      <td>9.387755</td>\n",
       "      <td>88.129946</td>\n",
       "      <td>-0.999315</td>\n",
       "      <td>264.389838</td>\n",
       "    </tr>\n",
       "    <tr>\n",
       "      <th>47</th>\n",
       "      <td>9.591837</td>\n",
       "      <td>92.003332</td>\n",
       "      <td>-0.986078</td>\n",
       "      <td>276.009996</td>\n",
       "    </tr>\n",
       "    <tr>\n",
       "      <th>48</th>\n",
       "      <td>9.795918</td>\n",
       "      <td>95.960017</td>\n",
       "      <td>-0.931914</td>\n",
       "      <td>287.880050</td>\n",
       "    </tr>\n",
       "    <tr>\n",
       "      <th>49</th>\n",
       "      <td>10.000000</td>\n",
       "      <td>100.000000</td>\n",
       "      <td>-0.839072</td>\n",
       "      <td>300.000000</td>\n",
       "    </tr>\n",
       "  </tbody>\n",
       "</table>\n",
       "</div>"
      ],
      "text/plain": [
       "           aa          x1        y1          z1\n",
       "0    0.000000    0.000000  1.000000    0.000000\n",
       "1    0.204082    0.041649  0.979248    0.124948\n",
       "2    0.408163    0.166597  0.917851    0.499792\n",
       "3    0.612245    0.374844  0.818360    1.124531\n",
       "4    0.816327    0.666389  0.684902    1.999167\n",
       "5    1.020408    1.041233  0.523018    3.123698\n",
       "6    1.224490    1.499375  0.339426    4.498126\n",
       "7    1.428571    2.040816  0.141746    6.122449\n",
       "8    1.632653    2.665556 -0.061817    7.996668\n",
       "9    1.836735    3.373594 -0.262815   10.120783\n",
       "10   2.040816    4.164931 -0.452904   12.494794\n",
       "11   2.244898    5.039567 -0.624196   15.118701\n",
       "12   2.448980    5.997501 -0.769580   17.992503\n",
       "13   2.653061    7.038734 -0.883023   21.116202\n",
       "14   2.857143    8.163265 -0.959816   24.489796\n",
       "15   3.061224    9.371095 -0.996772   28.113286\n",
       "16   3.265306   10.662224 -0.992357   31.986672\n",
       "17   3.469388   12.036651 -0.946755   36.109954\n",
       "18   3.673469   13.494377 -0.861857   40.483132\n",
       "19   3.877551   15.035402 -0.741188   45.106206\n",
       "20   4.081633   16.659725 -0.589756   49.979175\n",
       "21   4.285714   18.367347 -0.413846   55.102041\n",
       "22   4.489796   20.158267 -0.220759   60.474802\n",
       "23   4.693878   22.032486 -0.018510   66.097459\n",
       "24   4.897959   23.990004  0.184507   71.970012\n",
       "25   5.102041   26.030820  0.379866   78.092461\n",
       "26   5.306122   28.154935  0.559459   84.464806\n",
       "27   5.510204   30.362349  0.715832   91.087047\n",
       "28   5.714286   32.653061  0.842494   97.959184\n",
       "29   5.918367   35.027072  0.934189  105.081216\n",
       "30   6.122449   37.484382  0.987110  112.453145\n",
       "31   6.326531   40.024990  0.999061  120.074969\n",
       "32   6.530612   42.648896  0.969546  127.946689\n",
       "33   6.734694   45.356102  0.899790  136.068305\n",
       "34   6.938776   48.146606  0.792688  144.439817\n",
       "35   7.142857   51.020408  0.652686  153.061224\n",
       "36   7.346939   53.977509  0.485594  161.932528\n",
       "37   7.551020   57.017909  0.298348  171.053728\n",
       "38   7.755102   60.141608  0.098719  180.424823\n",
       "39   7.959184   63.348605 -0.105008  190.045814\n",
       "40   8.163265   66.638900 -0.304376  199.916701\n",
       "41   8.367347   70.012495 -0.491112  210.037484\n",
       "42   8.571429   73.469388 -0.657463  220.408163\n",
       "43   8.775510   77.009579 -0.796527  231.028738\n",
       "44   8.979592   80.633070 -0.902531  241.899209\n",
       "45   9.183673   84.339858 -0.971075  253.019575\n",
       "46   9.387755   88.129946 -0.999315  264.389838\n",
       "47   9.591837   92.003332 -0.986078  276.009996\n",
       "48   9.795918   95.960017 -0.931914  287.880050\n",
       "49  10.000000  100.000000 -0.839072  300.000000"
      ]
     },
     "execution_count": 12,
     "metadata": {},
     "output_type": "execute_result"
    }
   ],
   "source": [
    "pd_dataframe"
   ]
  },
  {
   "cell_type": "markdown",
   "metadata": {},
   "source": [
    "We can save this to file using built in methods to this `DataFrame` class. There's a few options here, but let's just show two `to_csv` which writes a human readable file, and `to_hdf` which writes an encoded file (but in a standard that is much more portable than numpy's binary files):"
   ]
  },
  {
   "cell_type": "code",
   "execution_count": 13,
   "metadata": {},
   "outputs": [],
   "source": [
    "pd_dataframe.to_csv('data_array_pandas.csv')\n",
    "# to_hdf can be used to store *multiple* DataFrames in a single file!\n",
    "pd_dataframe.to_hdf('data_array_pandas.hdf', key='mydata')"
   ]
  },
  {
   "cell_type": "markdown",
   "metadata": {},
   "source": [
    "To read this back in we can use pandas' `read_csv` and `read_hdf` functions:"
   ]
  },
  {
   "cell_type": "code",
   "execution_count": 14,
   "metadata": {},
   "outputs": [
    {
     "data": {
      "text/html": [
       "<div>\n",
       "<style scoped>\n",
       "    .dataframe tbody tr th:only-of-type {\n",
       "        vertical-align: middle;\n",
       "    }\n",
       "\n",
       "    .dataframe tbody tr th {\n",
       "        vertical-align: top;\n",
       "    }\n",
       "\n",
       "    .dataframe thead th {\n",
       "        text-align: right;\n",
       "    }\n",
       "</style>\n",
       "<table border=\"1\" class=\"dataframe\">\n",
       "  <thead>\n",
       "    <tr style=\"text-align: right;\">\n",
       "      <th></th>\n",
       "      <th>aa</th>\n",
       "      <th>x1</th>\n",
       "      <th>y1</th>\n",
       "      <th>z1</th>\n",
       "    </tr>\n",
       "  </thead>\n",
       "  <tbody>\n",
       "    <tr>\n",
       "      <th>0</th>\n",
       "      <td>0.000000</td>\n",
       "      <td>0.000000</td>\n",
       "      <td>1.000000</td>\n",
       "      <td>0.000000</td>\n",
       "    </tr>\n",
       "    <tr>\n",
       "      <th>1</th>\n",
       "      <td>0.204082</td>\n",
       "      <td>0.041649</td>\n",
       "      <td>0.979248</td>\n",
       "      <td>0.124948</td>\n",
       "    </tr>\n",
       "    <tr>\n",
       "      <th>2</th>\n",
       "      <td>0.408163</td>\n",
       "      <td>0.166597</td>\n",
       "      <td>0.917851</td>\n",
       "      <td>0.499792</td>\n",
       "    </tr>\n",
       "    <tr>\n",
       "      <th>3</th>\n",
       "      <td>0.612245</td>\n",
       "      <td>0.374844</td>\n",
       "      <td>0.818360</td>\n",
       "      <td>1.124531</td>\n",
       "    </tr>\n",
       "    <tr>\n",
       "      <th>4</th>\n",
       "      <td>0.816327</td>\n",
       "      <td>0.666389</td>\n",
       "      <td>0.684902</td>\n",
       "      <td>1.999167</td>\n",
       "    </tr>\n",
       "    <tr>\n",
       "      <th>5</th>\n",
       "      <td>1.020408</td>\n",
       "      <td>1.041233</td>\n",
       "      <td>0.523018</td>\n",
       "      <td>3.123698</td>\n",
       "    </tr>\n",
       "    <tr>\n",
       "      <th>6</th>\n",
       "      <td>1.224490</td>\n",
       "      <td>1.499375</td>\n",
       "      <td>0.339426</td>\n",
       "      <td>4.498126</td>\n",
       "    </tr>\n",
       "    <tr>\n",
       "      <th>7</th>\n",
       "      <td>1.428571</td>\n",
       "      <td>2.040816</td>\n",
       "      <td>0.141746</td>\n",
       "      <td>6.122449</td>\n",
       "    </tr>\n",
       "    <tr>\n",
       "      <th>8</th>\n",
       "      <td>1.632653</td>\n",
       "      <td>2.665556</td>\n",
       "      <td>-0.061817</td>\n",
       "      <td>7.996668</td>\n",
       "    </tr>\n",
       "    <tr>\n",
       "      <th>9</th>\n",
       "      <td>1.836735</td>\n",
       "      <td>3.373594</td>\n",
       "      <td>-0.262815</td>\n",
       "      <td>10.120783</td>\n",
       "    </tr>\n",
       "    <tr>\n",
       "      <th>10</th>\n",
       "      <td>2.040816</td>\n",
       "      <td>4.164931</td>\n",
       "      <td>-0.452904</td>\n",
       "      <td>12.494794</td>\n",
       "    </tr>\n",
       "    <tr>\n",
       "      <th>11</th>\n",
       "      <td>2.244898</td>\n",
       "      <td>5.039567</td>\n",
       "      <td>-0.624196</td>\n",
       "      <td>15.118701</td>\n",
       "    </tr>\n",
       "    <tr>\n",
       "      <th>12</th>\n",
       "      <td>2.448980</td>\n",
       "      <td>5.997501</td>\n",
       "      <td>-0.769580</td>\n",
       "      <td>17.992503</td>\n",
       "    </tr>\n",
       "    <tr>\n",
       "      <th>13</th>\n",
       "      <td>2.653061</td>\n",
       "      <td>7.038734</td>\n",
       "      <td>-0.883023</td>\n",
       "      <td>21.116202</td>\n",
       "    </tr>\n",
       "    <tr>\n",
       "      <th>14</th>\n",
       "      <td>2.857143</td>\n",
       "      <td>8.163265</td>\n",
       "      <td>-0.959816</td>\n",
       "      <td>24.489796</td>\n",
       "    </tr>\n",
       "    <tr>\n",
       "      <th>15</th>\n",
       "      <td>3.061224</td>\n",
       "      <td>9.371095</td>\n",
       "      <td>-0.996772</td>\n",
       "      <td>28.113286</td>\n",
       "    </tr>\n",
       "    <tr>\n",
       "      <th>16</th>\n",
       "      <td>3.265306</td>\n",
       "      <td>10.662224</td>\n",
       "      <td>-0.992357</td>\n",
       "      <td>31.986672</td>\n",
       "    </tr>\n",
       "    <tr>\n",
       "      <th>17</th>\n",
       "      <td>3.469388</td>\n",
       "      <td>12.036651</td>\n",
       "      <td>-0.946755</td>\n",
       "      <td>36.109954</td>\n",
       "    </tr>\n",
       "    <tr>\n",
       "      <th>18</th>\n",
       "      <td>3.673469</td>\n",
       "      <td>13.494377</td>\n",
       "      <td>-0.861857</td>\n",
       "      <td>40.483132</td>\n",
       "    </tr>\n",
       "    <tr>\n",
       "      <th>19</th>\n",
       "      <td>3.877551</td>\n",
       "      <td>15.035402</td>\n",
       "      <td>-0.741188</td>\n",
       "      <td>45.106206</td>\n",
       "    </tr>\n",
       "    <tr>\n",
       "      <th>20</th>\n",
       "      <td>4.081633</td>\n",
       "      <td>16.659725</td>\n",
       "      <td>-0.589756</td>\n",
       "      <td>49.979175</td>\n",
       "    </tr>\n",
       "    <tr>\n",
       "      <th>21</th>\n",
       "      <td>4.285714</td>\n",
       "      <td>18.367347</td>\n",
       "      <td>-0.413846</td>\n",
       "      <td>55.102041</td>\n",
       "    </tr>\n",
       "    <tr>\n",
       "      <th>22</th>\n",
       "      <td>4.489796</td>\n",
       "      <td>20.158267</td>\n",
       "      <td>-0.220759</td>\n",
       "      <td>60.474802</td>\n",
       "    </tr>\n",
       "    <tr>\n",
       "      <th>23</th>\n",
       "      <td>4.693878</td>\n",
       "      <td>22.032486</td>\n",
       "      <td>-0.018510</td>\n",
       "      <td>66.097459</td>\n",
       "    </tr>\n",
       "    <tr>\n",
       "      <th>24</th>\n",
       "      <td>4.897959</td>\n",
       "      <td>23.990004</td>\n",
       "      <td>0.184507</td>\n",
       "      <td>71.970012</td>\n",
       "    </tr>\n",
       "    <tr>\n",
       "      <th>25</th>\n",
       "      <td>5.102041</td>\n",
       "      <td>26.030820</td>\n",
       "      <td>0.379866</td>\n",
       "      <td>78.092461</td>\n",
       "    </tr>\n",
       "    <tr>\n",
       "      <th>26</th>\n",
       "      <td>5.306122</td>\n",
       "      <td>28.154935</td>\n",
       "      <td>0.559459</td>\n",
       "      <td>84.464806</td>\n",
       "    </tr>\n",
       "    <tr>\n",
       "      <th>27</th>\n",
       "      <td>5.510204</td>\n",
       "      <td>30.362349</td>\n",
       "      <td>0.715832</td>\n",
       "      <td>91.087047</td>\n",
       "    </tr>\n",
       "    <tr>\n",
       "      <th>28</th>\n",
       "      <td>5.714286</td>\n",
       "      <td>32.653061</td>\n",
       "      <td>0.842494</td>\n",
       "      <td>97.959184</td>\n",
       "    </tr>\n",
       "    <tr>\n",
       "      <th>29</th>\n",
       "      <td>5.918367</td>\n",
       "      <td>35.027072</td>\n",
       "      <td>0.934189</td>\n",
       "      <td>105.081216</td>\n",
       "    </tr>\n",
       "    <tr>\n",
       "      <th>30</th>\n",
       "      <td>6.122449</td>\n",
       "      <td>37.484382</td>\n",
       "      <td>0.987110</td>\n",
       "      <td>112.453145</td>\n",
       "    </tr>\n",
       "    <tr>\n",
       "      <th>31</th>\n",
       "      <td>6.326531</td>\n",
       "      <td>40.024990</td>\n",
       "      <td>0.999061</td>\n",
       "      <td>120.074969</td>\n",
       "    </tr>\n",
       "    <tr>\n",
       "      <th>32</th>\n",
       "      <td>6.530612</td>\n",
       "      <td>42.648896</td>\n",
       "      <td>0.969546</td>\n",
       "      <td>127.946689</td>\n",
       "    </tr>\n",
       "    <tr>\n",
       "      <th>33</th>\n",
       "      <td>6.734694</td>\n",
       "      <td>45.356102</td>\n",
       "      <td>0.899790</td>\n",
       "      <td>136.068305</td>\n",
       "    </tr>\n",
       "    <tr>\n",
       "      <th>34</th>\n",
       "      <td>6.938776</td>\n",
       "      <td>48.146606</td>\n",
       "      <td>0.792688</td>\n",
       "      <td>144.439817</td>\n",
       "    </tr>\n",
       "    <tr>\n",
       "      <th>35</th>\n",
       "      <td>7.142857</td>\n",
       "      <td>51.020408</td>\n",
       "      <td>0.652686</td>\n",
       "      <td>153.061224</td>\n",
       "    </tr>\n",
       "    <tr>\n",
       "      <th>36</th>\n",
       "      <td>7.346939</td>\n",
       "      <td>53.977509</td>\n",
       "      <td>0.485594</td>\n",
       "      <td>161.932528</td>\n",
       "    </tr>\n",
       "    <tr>\n",
       "      <th>37</th>\n",
       "      <td>7.551020</td>\n",
       "      <td>57.017909</td>\n",
       "      <td>0.298348</td>\n",
       "      <td>171.053728</td>\n",
       "    </tr>\n",
       "    <tr>\n",
       "      <th>38</th>\n",
       "      <td>7.755102</td>\n",
       "      <td>60.141608</td>\n",
       "      <td>0.098719</td>\n",
       "      <td>180.424823</td>\n",
       "    </tr>\n",
       "    <tr>\n",
       "      <th>39</th>\n",
       "      <td>7.959184</td>\n",
       "      <td>63.348605</td>\n",
       "      <td>-0.105008</td>\n",
       "      <td>190.045814</td>\n",
       "    </tr>\n",
       "    <tr>\n",
       "      <th>40</th>\n",
       "      <td>8.163265</td>\n",
       "      <td>66.638900</td>\n",
       "      <td>-0.304376</td>\n",
       "      <td>199.916701</td>\n",
       "    </tr>\n",
       "    <tr>\n",
       "      <th>41</th>\n",
       "      <td>8.367347</td>\n",
       "      <td>70.012495</td>\n",
       "      <td>-0.491112</td>\n",
       "      <td>210.037484</td>\n",
       "    </tr>\n",
       "    <tr>\n",
       "      <th>42</th>\n",
       "      <td>8.571429</td>\n",
       "      <td>73.469388</td>\n",
       "      <td>-0.657463</td>\n",
       "      <td>220.408163</td>\n",
       "    </tr>\n",
       "    <tr>\n",
       "      <th>43</th>\n",
       "      <td>8.775510</td>\n",
       "      <td>77.009579</td>\n",
       "      <td>-0.796527</td>\n",
       "      <td>231.028738</td>\n",
       "    </tr>\n",
       "    <tr>\n",
       "      <th>44</th>\n",
       "      <td>8.979592</td>\n",
       "      <td>80.633070</td>\n",
       "      <td>-0.902531</td>\n",
       "      <td>241.899209</td>\n",
       "    </tr>\n",
       "    <tr>\n",
       "      <th>45</th>\n",
       "      <td>9.183673</td>\n",
       "      <td>84.339858</td>\n",
       "      <td>-0.971075</td>\n",
       "      <td>253.019575</td>\n",
       "    </tr>\n",
       "    <tr>\n",
       "      <th>46</th>\n",
       "      <td>9.387755</td>\n",
       "      <td>88.129946</td>\n",
       "      <td>-0.999315</td>\n",
       "      <td>264.389838</td>\n",
       "    </tr>\n",
       "    <tr>\n",
       "      <th>47</th>\n",
       "      <td>9.591837</td>\n",
       "      <td>92.003332</td>\n",
       "      <td>-0.986078</td>\n",
       "      <td>276.009996</td>\n",
       "    </tr>\n",
       "    <tr>\n",
       "      <th>48</th>\n",
       "      <td>9.795918</td>\n",
       "      <td>95.960017</td>\n",
       "      <td>-0.931914</td>\n",
       "      <td>287.880050</td>\n",
       "    </tr>\n",
       "    <tr>\n",
       "      <th>49</th>\n",
       "      <td>10.000000</td>\n",
       "      <td>100.000000</td>\n",
       "      <td>-0.839072</td>\n",
       "      <td>300.000000</td>\n",
       "    </tr>\n",
       "  </tbody>\n",
       "</table>\n",
       "</div>"
      ],
      "text/plain": [
       "           aa          x1        y1          z1\n",
       "0    0.000000    0.000000  1.000000    0.000000\n",
       "1    0.204082    0.041649  0.979248    0.124948\n",
       "2    0.408163    0.166597  0.917851    0.499792\n",
       "3    0.612245    0.374844  0.818360    1.124531\n",
       "4    0.816327    0.666389  0.684902    1.999167\n",
       "5    1.020408    1.041233  0.523018    3.123698\n",
       "6    1.224490    1.499375  0.339426    4.498126\n",
       "7    1.428571    2.040816  0.141746    6.122449\n",
       "8    1.632653    2.665556 -0.061817    7.996668\n",
       "9    1.836735    3.373594 -0.262815   10.120783\n",
       "10   2.040816    4.164931 -0.452904   12.494794\n",
       "11   2.244898    5.039567 -0.624196   15.118701\n",
       "12   2.448980    5.997501 -0.769580   17.992503\n",
       "13   2.653061    7.038734 -0.883023   21.116202\n",
       "14   2.857143    8.163265 -0.959816   24.489796\n",
       "15   3.061224    9.371095 -0.996772   28.113286\n",
       "16   3.265306   10.662224 -0.992357   31.986672\n",
       "17   3.469388   12.036651 -0.946755   36.109954\n",
       "18   3.673469   13.494377 -0.861857   40.483132\n",
       "19   3.877551   15.035402 -0.741188   45.106206\n",
       "20   4.081633   16.659725 -0.589756   49.979175\n",
       "21   4.285714   18.367347 -0.413846   55.102041\n",
       "22   4.489796   20.158267 -0.220759   60.474802\n",
       "23   4.693878   22.032486 -0.018510   66.097459\n",
       "24   4.897959   23.990004  0.184507   71.970012\n",
       "25   5.102041   26.030820  0.379866   78.092461\n",
       "26   5.306122   28.154935  0.559459   84.464806\n",
       "27   5.510204   30.362349  0.715832   91.087047\n",
       "28   5.714286   32.653061  0.842494   97.959184\n",
       "29   5.918367   35.027072  0.934189  105.081216\n",
       "30   6.122449   37.484382  0.987110  112.453145\n",
       "31   6.326531   40.024990  0.999061  120.074969\n",
       "32   6.530612   42.648896  0.969546  127.946689\n",
       "33   6.734694   45.356102  0.899790  136.068305\n",
       "34   6.938776   48.146606  0.792688  144.439817\n",
       "35   7.142857   51.020408  0.652686  153.061224\n",
       "36   7.346939   53.977509  0.485594  161.932528\n",
       "37   7.551020   57.017909  0.298348  171.053728\n",
       "38   7.755102   60.141608  0.098719  180.424823\n",
       "39   7.959184   63.348605 -0.105008  190.045814\n",
       "40   8.163265   66.638900 -0.304376  199.916701\n",
       "41   8.367347   70.012495 -0.491112  210.037484\n",
       "42   8.571429   73.469388 -0.657463  220.408163\n",
       "43   8.775510   77.009579 -0.796527  231.028738\n",
       "44   8.979592   80.633070 -0.902531  241.899209\n",
       "45   9.183673   84.339858 -0.971075  253.019575\n",
       "46   9.387755   88.129946 -0.999315  264.389838\n",
       "47   9.591837   92.003332 -0.986078  276.009996\n",
       "48   9.795918   95.960017 -0.931914  287.880050\n",
       "49  10.000000  100.000000 -0.839072  300.000000"
      ]
     },
     "execution_count": 14,
     "metadata": {},
     "output_type": "execute_result"
    }
   ],
   "source": [
    "# NOTE: As to_csv adds an index column in the output file, we have to not use this as a data column when reading\n",
    "# the file back in. So we set index_col=0. See what happens when this argument is removed.\n",
    "data_from_csv = pd.read_csv('data_array_pandas.csv', index_col=0)\n",
    "data_from_hdf = pd.read_hdf('data_array_pandas.hdf', key='mydata')\n",
    "data_from_csv"
   ]
  },
  {
   "cell_type": "markdown",
   "metadata": {},
   "source": [
    "**EXERCISE** Let's repeat the exercise above but now use pandas to read/write the arrays: Write a function to do the following:\n",
    " * Create an array containing 1000 numbers uniformly distributed between 0 and $\\pi$. Both 0 and $\\pi$ should be in the array as the 1st and 1000th entries.\n",
    " * Create a second array storing $\\sin(x)$\n",
    " * Create a third array storing $\\cos^2(x) +1$\n",
    " * Create a fourth array storing $\\mathrm{cosech}(x)$\n",
    " \n",
    "Then write these 4 arrays to a file, read them back in, and check that you can recover the original arrays. Use the different pandas options illustrated above."
   ]
  },
  {
   "cell_type": "code",
   "execution_count": null,
   "metadata": {},
   "outputs": [],
   "source": []
  },
  {
   "cell_type": "markdown",
   "metadata": {},
   "source": [
    "**EXERCISE**\n",
    "\n",
    "In this exercise, we'll be calculating the pressue of gas inside a closed 2D box as the box is heated. We'll be making use of the ideal gas law for this exercise\n",
    "\n",
    "As a reminder, the ideal gas law is PV = NkT.\n",
    "\n",
    "Here, P is the pressre, V is the volume, N is the number of molecules, k is the Boltzman constant, and T is the temperature. \n",
    "\n",
    "For the initial condition, we'll assume standard temperature i.e. 273.15 K. We'll assume the box is cubic with sides of 1 m length and contains 2.5 x 10^25 molecules of gas.\n",
    "\n",
    "The Boltzman constant is 1.380e-23 J/K\n",
    "1 atmosphere = 101325 N/m^2\n",
    "\n",
    "1.  Write a function to calculate the pressure inside the box as the temperature is increased. N, T, and V should be inputs to this function. The pressure should be output in units of N/m^2\n",
    "\n",
    "2. Verify that at the initial temperature (273.15 K) the pressure is 94236.75 N/m^2\n",
    "\n",
    "3.  Compute how the pressure in the box varies as the temperature increases by 500K from the initial temperature (so going for temperatures between T = 273.15 K and T = 773.15 K). Your input array should contain 500 values. What is the  pressure in the box at the start and finish temperatures in units of atmospheres?\n",
    "\n",
    "4. Make a labelled plot showing the input temperature and output pressure, in units of atmosphere. \n",
    "\n",
    "5. Save the output from this function as a table. \n",
    "\n",
    "6. Read in the saved table from the previous part of the exercise.\n",
    "\n",
    "7. For each temperature in your table, calculate the average kinetic energy per molecule:\n",
    "\n",
    "$$ \\frac{1}{2}m v^{2} = \\frac{3}{2}k_{B}T$$\n",
    "\n",
    "8. Add this as a new column to your table, and save the result.\n",
    "\n",
    "9. Make a labelled plot showing average kinetic energy as a function of pressure.\n",
    "\n"
   ]
  },
  {
   "cell_type": "code",
   "execution_count": null,
   "metadata": {},
   "outputs": [],
   "source": []
  },
  {
   "cell_type": "code",
   "execution_count": null,
   "metadata": {},
   "outputs": [],
   "source": []
  },
  {
   "cell_type": "markdown",
   "metadata": {},
   "source": [
    "## SUMMARY\n",
    "\n",
    "We've explored some additional features of numpy and pandas in this lecture. However, numpy (and scipy) have *many* features. Knowing all of them:\n",
    "\n",
    "https://docs.scipy.org/doc/numpy/genindex.html\n",
    "\n",
    "is not realistic! So often when approaching a problem it's worth formulating what you want to do and then checking if a solution already exists for this problem. Clearly formulating the problem maximizes the chance of finding a useful stackoverflow post!"
   ]
  }
 ],
 "metadata": {
  "kernelspec": {
   "display_name": "Python 3 (ipykernel)",
   "language": "python",
   "name": "python3"
  },
  "language_info": {
   "codemirror_mode": {
    "name": "ipython",
    "version": 3
   },
   "file_extension": ".py",
   "mimetype": "text/x-python",
   "name": "python",
   "nbconvert_exporter": "python",
   "pygments_lexer": "ipython3",
   "version": "3.9.7"
  },
  "vscode": {
   "interpreter": {
    "hash": "40d3a090f54c6569ab1632332b64b2c03c39dcf918b08424e98f38b5ae0af88f"
   }
  }
 },
 "nbformat": 4,
 "nbformat_minor": 2
}
