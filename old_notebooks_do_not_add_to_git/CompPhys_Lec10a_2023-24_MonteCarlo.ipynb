{
 "cells": [
  {
   "cell_type": "code",
   "execution_count": 1,
   "metadata": {},
   "outputs": [],
   "source": [
    "%matplotlib inline\n",
    "import matplotlib\n",
    "import matplotlib.pyplot as plt\n",
    "import numpy as np\n",
    "import scipy\n",
    "import scipy.signal\n",
    "import corner"
   ]
  },
  {
   "cell_type": "markdown",
   "metadata": {},
   "source": [
    "# 10a: Data processing and manipulation techniques 4\n",
    "\n",
    "You now know basic python and how to manipulate arrays. You can write code which will preform manthematical operations on arrays and manipulate their sizes and shapes. \n",
    "\n",
    "You also now know how to find signals in data and you understand that real data and measurements are noisy. \n",
    "\n",
    "What we know need to understand now is when we have found a signal in data - how do we know that we have detected a signal?\n",
    "\n",
    "In the next three lectures we'll cover an introduction to montecarlo methods and we'll the application of that to significance and error analysis.\n",
    "\n",
    "Along the way we'll try to exercise some of the techniques you have learned this term and that are important for your CW such as converting math to code, statistics and making sure your code is free of bugs.\n",
    "\n",
    "Let's start by thinking about what montecarlo methods are. We have seen them once before on this course when we estimated the value of $\\pi$. (Look this up on moodle or ask if you don't remember!)"
   ]
  },
  {
   "cell_type": "markdown",
   "metadata": {},
   "source": [
    "# Experiment 1: calculate g\n",
    "\n",
    "Imagine you are in a lab. You are measuring g by rolling a ball down a 1m slope.\n",
    "\n",
    "You will use:\n",
    "\n",
    "$$\\frac{m v^{2}}{2} = m g h $$\n"
   ]
  },
  {
   "cell_type": "markdown",
   "metadata": {},
   "source": [
    "What two things do you need to measure?"
   ]
  },
  {
   "cell_type": "markdown",
   "metadata": {},
   "source": [
    "answer: "
   ]
  },
  {
   "cell_type": "markdown",
   "metadata": {},
   "source": [
    "How might you find the uncertainty on each of these measurements?"
   ]
  },
  {
   "cell_type": "markdown",
   "metadata": {},
   "source": [
    "answer: "
   ]
  },
  {
   "cell_type": "markdown",
   "metadata": {},
   "source": [
    "Below we have written two functions to help you measure the velocity of the ball and height. Running these functions would give you a 'measured' velocity and a 'measured 'height' to calculate g in your experiment."
   ]
  },
  {
   "cell_type": "code",
   "execution_count": 4,
   "metadata": {},
   "outputs": [],
   "source": [
    "def measure_velocity():\n",
    "    k=np.sqrt(2.*1.0*24.5)+np.random.normal(loc=0.0, scale=0.1, size=None)\n",
    "    return k"
   ]
  },
  {
   "cell_type": "code",
   "execution_count": 5,
   "metadata": {},
   "outputs": [],
   "source": [
    "def measure_height():\n",
    "    i=1.0+np.random.normal(loc=0.0, scale=0.001, size=None)\n",
    "    return i"
   ]
  },
  {
   "cell_type": "markdown",
   "metadata": {},
   "source": [
    "#### Exercise: \n",
    "\n",
    "Write a code which repeats this experiment, measuring the velocity and height 1000 times and plot a histogram of your results."
   ]
  },
  {
   "cell_type": "code",
   "execution_count": 70,
   "metadata": {},
   "outputs": [],
   "source": []
  },
  {
   "cell_type": "code",
   "execution_count": null,
   "metadata": {},
   "outputs": [],
   "source": []
  },
  {
   "cell_type": "markdown",
   "metadata": {},
   "source": [
    "What value of v and h would you replort and therefore what is g and it's uncertainty?  What planet are you performing this experiment on?"
   ]
  },
  {
   "cell_type": "code",
   "execution_count": null,
   "metadata": {},
   "outputs": [],
   "source": []
  },
  {
   "cell_type": "code",
   "execution_count": null,
   "metadata": {},
   "outputs": [],
   "source": []
  },
  {
   "cell_type": "markdown",
   "metadata": {},
   "source": [
    "This process of repeating a measurement is the real world equivalent of an monte carlo method. Monte Carlo is simply a method of explore the behvior of a system by repeated random sampling of variables. \n",
    "\n",
    "The Universe and our technology (e.g. how well our ruler measures) has provided the distribution and us repeating the measurement is the random sampling. In the next examples we will explore the uses of monte carlo methods in more detail and how we can use them to chareterise the significance of a measurment. "
   ]
  },
  {
   "cell_type": "markdown",
   "metadata": {},
   "source": [
    "# Experiment 2: Beat the casino!"
   ]
  },
  {
   "cell_type": "markdown",
   "metadata": {},
   "source": [
    "Let's play a game. We will role a dice - if the value of 1 comes up you win, if 2, 3, 4, 5 or 6 turn up the house wins. Would you play and for how long?\n",
    "\n",
    "Let's make a montecarlo sequence that simulates the game and see how much money you have left after N turns at the game. \n",
    "\n",
    "To begin assume:\n",
    "1. number of games played = 5\n",
    "2. You start with £1,000 each\n",
    "3. Each time you play you must bet $80\n",
    "\n",
    "Fill out this information below:"
   ]
  },
  {
   "cell_type": "code",
   "execution_count": 6,
   "metadata": {},
   "outputs": [
    {
     "ename": "SyntaxError",
     "evalue": "invalid syntax (<ipython-input-6-ac8bfcfc14df>, line 1)",
     "output_type": "error",
     "traceback": [
      "\u001b[0;36m  File \u001b[0;32m\"<ipython-input-6-ac8bfcfc14df>\"\u001b[0;36m, line \u001b[0;32m1\u001b[0m\n\u001b[0;31m    number_of_games_played=\u001b[0m\n\u001b[0m                           ^\u001b[0m\n\u001b[0;31mSyntaxError\u001b[0m\u001b[0;31m:\u001b[0m invalid syntax\n"
     ]
    }
   ],
   "source": [
    "number_of_games_played=\n",
    "amount_bet_per_game=\n",
    "total_funds="
   ]
  },
  {
   "cell_type": "markdown",
   "metadata": {},
   "source": [
    "Now we need to make a function which rolls the dice. This function will have no inputs but will return \"True\" if you win and \"False\" if you loose (look above to see your win conditions).\n",
    "\n",
    "Fill out the function below generating an appropriate random number for each roll of the dice:"
   ]
  },
  {
   "cell_type": "code",
   "execution_count": 75,
   "metadata": {},
   "outputs": [],
   "source": [
    "def roll():\n",
    "    '''This is a function which rolls the dice'''\n",
    "    \n"
   ]
  },
  {
   "cell_type": "markdown",
   "metadata": {},
   "source": [
    "Now lets make a function which plays the game. This function is written below but with 5 bugs - find and correct them. "
   ]
  },
  {
   "cell_type": "code",
   "execution_count": 1,
   "metadata": {},
   "outputs": [
    {
     "ename": "SyntaxError",
     "evalue": "invalid syntax (<ipython-input-1-6b2d1c756c3f>, line 5)",
     "output_type": "error",
     "traceback": [
      "\u001b[0;36m  File \u001b[0;32m\"<ipython-input-1-6b2d1c756c3f>\"\u001b[0;36m, line \u001b[0;32m5\u001b[0m\n\u001b[0;31m    Funds =\u001b[0m\n\u001b[0m            ^\u001b[0m\n\u001b[0;31mSyntaxError\u001b[0m\u001b[0;31m:\u001b[0m invalid syntax\n"
     ]
    }
   ],
   "source": [
    "def play(total_funds, wager_amount, total_plays):\n",
    "    '''This is a function which plays the game'''\n",
    "    \n",
    "    Play_num = []\n",
    "    Funds = \n",
    "    play = 1\n",
    "\n",
    "    while play < total_plays:\n",
    "        if roll():\n",
    "            total_funds = total_funds + wager_amount\n",
    "            Play_num.append(player)\n",
    "            Funds.append(total_funds)\n",
    "        else\n",
    "            total_funds = total_funds - wager_amount \n",
    "            Play_num.append(play)\n",
    "            Funds.append.(total_funds)\n",
    "            \n",
    "        play =+ 1\n",
    "        \n",
    "    plt.plot(Play_num,Funds)\n",
    "    Final_funds.append(Funds[-1])\n",
    "    return(Final_funds)"
   ]
  },
  {
   "cell_type": "markdown",
   "metadata": {},
   "source": [
    "Play the game above and take a look at the plot results via a histogram of your total funds at the end (label your axes appropriately). How many bets until, on average, you loose all your money? Note: your function play() will play one realisation of the game - in an MC simulation we are simulating many realisations to find a good approximation to the full disitribution of results. Try running 1000 realisations."
   ]
  },
  {
   "cell_type": "code",
   "execution_count": null,
   "metadata": {
    "scrolled": true
   },
   "outputs": [],
   "source": []
  },
  {
   "cell_type": "code",
   "execution_count": 2,
   "metadata": {
    "scrolled": true
   },
   "outputs": [],
   "source": [
    "#plt.hist(...,density=True)\n",
    "#plt.ylabel()\n",
    "#plt.xlabel()"
   ]
  },
  {
   "cell_type": "code",
   "execution_count": null,
   "metadata": {
    "scrolled": true
   },
   "outputs": [],
   "source": []
  },
  {
   "cell_type": "markdown",
   "metadata": {},
   "source": [
    "# Experiment 3: Parameter uncertainty with MC"
   ]
  },
  {
   "cell_type": "markdown",
   "metadata": {},
   "source": [
    "Now let's try determining some uncertainties on parameters using MCs."
   ]
  },
  {
   "cell_type": "markdown",
   "metadata": {},
   "source": [
    "Why can we use MC to determine uncertainty? MC offers a way of sampling from a distribution. Imagine we have a distribution of values, our best fit (the value which comes up most often) but also a full range of other pretty decent values which could describe our data. We therefore have a $\\textit{distribution}$ of values which can describe our data. We can get an empirical sample of those by sampling from that distribution."
   ]
  },
  {
   "cell_type": "markdown",
   "metadata": {},
   "source": [
    "In order to examine how to do a paremter uncertainty estimate using MC we need to generate some data and fit it with a model. We will then be asking what is the uncertainty on our model parameters?"
   ]
  },
  {
   "cell_type": "markdown",
   "metadata": {},
   "source": [
    "## First let's make some model data to fit"
   ]
  },
  {
   "cell_type": "markdown",
   "metadata": {},
   "source": [
    "Let's just make data from a straight line $\\textit{but}$ we are going to make it such that there is some $\\textit{intrinsic scatter}$ such that the uncertainties that are reported do not reflect the true variation in the data. Essentially there i additional variance in the data.\n",
    "\n",
    "We will use this notation:"
   ]
  },
  {
   "cell_type": "markdown",
   "metadata": {},
   "source": [
    "$y = m x + b$\n",
    "\n",
    "$y_{err}$ = errors on y but these are underestimated by some amount\n",
    "\n",
    "$f$ = some frational amount that the errors are underestimate by"
   ]
  },
  {
   "cell_type": "code",
   "execution_count": 80,
   "metadata": {
    "scrolled": true
   },
   "outputs": [
    {
     "data": {
      "text/plain": [
       "Text(0, 0.5, 'y')"
      ]
     },
     "execution_count": 80,
     "metadata": {},
     "output_type": "execute_result"
    },
    {
     "data": {
      "image/png": "[encoded data removed]",
      "text/plain": [
       "<Figure size 432x288 with 1 Axes>"
      ]
     },
     "metadata": {
      "needs_background": "light"
     },
     "output_type": "display_data"
    }
   ],
   "source": [
    "# Setting a seed - what does this do?\n",
    "np.random.seed(123)\n",
    "\n",
    "# The \"true\" parameters.\n",
    "m_true = -0.9\n",
    "b_true = 4.0\n",
    "f_true = 0.9 \n",
    "\n",
    "# Generate some synthetic data from the model.\n",
    "N = 35 # number of data points to generate\n",
    "x = np.sort(10 * np.random.rand(N)) # randomly generate x\n",
    "yerr = 0.1 + 0.5 * np.random.rand(N) # randomy generate yerr\n",
    "y = m_true * x + b_true # y = m*x + b\n",
    "y += np.abs(f_true * y) * np.random.randn(N)\n",
    "y += yerr * np.random.randn(N)\n",
    "\n",
    "# plotting this data\n",
    "plt.errorbar(x, y, yerr=yerr, fmt=\".k\", capsize=3,label='Our data')\n",
    "\n",
    "# plotting the model we drew the mock data from\n",
    "x0 = np.linspace(0, 10, 500)\n",
    "plt.plot(x0, m_true * x0 + b_true, \"r--\", alpha=1.0, lw=1, label='True model')\n",
    "\n",
    "# Always remember to apropriately label your plots!\n",
    "plt.legend()\n",
    "plt.xlim(0, 10)\n",
    "plt.xticks(fontsize=15)\n",
    "plt.yticks(fontsize=15)\n",
    "plt.xlabel(\"x\",fontsize=20)\n",
    "plt.ylabel(\"y\",fontsize=20)"
   ]
  },
  {
   "cell_type": "markdown",
   "metadata": {},
   "source": [
    "Above we see our data and model that allowed us to generate our mock data.\n",
    "\n",
    "$\\textbf{Note: Always remember to label all your plots correctly (readable x and y labels, readable tick marks, labels if needed)}$"
   ]
  },
  {
   "cell_type": "markdown",
   "metadata": {},
   "source": [
    "Let's fit our data with a model. Let's assume this is a good model and use MC to find the uncertainty on the parameters.\n",
    " $$y = mx+b$$"
   ]
  },
  {
   "cell_type": "markdown",
   "metadata": {},
   "source": [
    "Write a function model() for our model above:"
   ]
  },
  {
   "cell_type": "code",
   "execution_count": null,
   "metadata": {},
   "outputs": [],
   "source": []
  },
  {
   "cell_type": "markdown",
   "metadata": {},
   "source": [
    "As you have done before we will use scipy.optimize.curvefit to do this. \n",
    "\n",
    "Import the relevant command here:"
   ]
  },
  {
   "cell_type": "code",
   "execution_count": null,
   "metadata": {},
   "outputs": [],
   "source": []
  },
  {
   "cell_type": "markdown",
   "metadata": {},
   "source": [
    "Fit the data using curve_fit:"
   ]
  },
  {
   "cell_type": "code",
   "execution_count": null,
   "metadata": {},
   "outputs": [],
   "source": []
  },
  {
   "cell_type": "markdown",
   "metadata": {},
   "source": [
    "Plot\n",
    "1. Our data\n",
    "2. The True model\n",
    "3. The Best fit model from curvefit\n",
    "Make sure the plot is correctly labeled and readable"
   ]
  },
  {
   "cell_type": "code",
   "execution_count": null,
   "metadata": {
    "scrolled": true
   },
   "outputs": [],
   "source": []
  },
  {
   "cell_type": "markdown",
   "metadata": {},
   "source": [
    "Great! So the best fit model looks pretty good $\\textit{but}$ what $\\textit{range}$ of parameters would be a good fit to this data?"
   ]
  },
  {
   "cell_type": "markdown",
   "metadata": {},
   "source": [
    "We will assess this by simulating the dataset many times (a montecarlo method):\n",
    "    1. Generate a large number of datasets - nTrials=5000\n",
    "    2. Refit these to find the range of parameters that fit our data\n",
    "    \n",
    "You should end up with an array of the fit oarameters which has the dimensions (nTrials, 2) as you have 2 parameters in your model (m and b)."
   ]
  },
  {
   "cell_type": "code",
   "execution_count": 85,
   "metadata": {},
   "outputs": [],
   "source": [
    "nTrials = "
   ]
  },
  {
   "cell_type": "code",
   "execution_count": 86,
   "metadata": {},
   "outputs": [],
   "source": [
    "aFitPars = np.array([]) # array of fit parameters\n",
    "initial_guess = [-1.0,3.0]\n",
    "for iTrial in range(nTrials):\n",
    "    \n",
    "    # Generate the data\n",
    "    # Fit the model\n",
    "    # Store the parameters\n",
    "    \n",
    "    \n",
    "        "
   ]
  },
  {
   "cell_type": "markdown",
   "metadata": {},
   "source": [
    "Make sure the shape of aFitPars is (nTrials,2)"
   ]
  },
  {
   "cell_type": "code",
   "execution_count": null,
   "metadata": {},
   "outputs": [],
   "source": []
  },
  {
   "cell_type": "markdown",
   "metadata": {},
   "source": [
    "What are the median and std dievation of the parameters that you have fit?"
   ]
  },
  {
   "cell_type": "code",
   "execution_count": null,
   "metadata": {
    "scrolled": true
   },
   "outputs": [],
   "source": []
  },
  {
   "cell_type": "markdown",
   "metadata": {},
   "source": [
    "Plot a histogram of each parameter, as two subplots inside a plot hint use plt.subplot(), and draw a line at the $16^{th}$, $50^{th}$ and $84^{th}$ percentile. What is special about these values?"
   ]
  },
  {
   "cell_type": "code",
   "execution_count": null,
   "metadata": {
    "scrolled": true
   },
   "outputs": [],
   "source": []
  },
  {
   "cell_type": "markdown",
   "metadata": {},
   "source": [
    "What would you report as the best fit parameter value and it's 1 $\\sigma$ uncertainties?"
   ]
  },
  {
   "cell_type": "code",
   "execution_count": null,
   "metadata": {},
   "outputs": [],
   "source": []
  },
  {
   "cell_type": "markdown",
   "metadata": {},
   "source": [
    "Now the histograms of the distibution of parameters which fit the data well both look pretty gaussian except for some long tails in their 1D distributions. How do they vary with each other? Do the parameters depend on each other?\n",
    "\n",
    "Plot these m's against these b's and see if they have any correlation with each other - that is, if they $\\textit{co-vary}$"
   ]
  },
  {
   "cell_type": "code",
   "execution_count": null,
   "metadata": {
    "scrolled": true
   },
   "outputs": [],
   "source": []
  },
  {
   "cell_type": "markdown",
   "metadata": {},
   "source": [
    "There is definitely some correlation in the parameter values. A high value of a corresponds to a lower value of b. We sometimes show these two plots (the histogram and scatter plot) as a $\\textit{corner plot}$. An example is provided with the code below.\n",
    "\n",
    "Read up on the help for this corner plot - what does the 'levels' command do?"
   ]
  },
  {
   "cell_type": "code",
   "execution_count": 94,
   "metadata": {
    "scrolled": false
   },
   "outputs": [
    {
     "data": {
      "image/png": "[encoded data removed]",
      "text/plain": [
       "<Figure size 396x396 with 4 Axes>"
      ]
     },
     "metadata": {
      "needs_background": "light"
     },
     "output_type": "display_data"
    }
   ],
   "source": [
    "fig=corner.corner(aFitPars, labels=[r\"$a$\", r\"$b$\"], quantiles=[0.16, 0.5, 0.84], levels=(1-np.exp(-0.5),), show_titles=True, title_kwargs={\"fontsize\": 15}, smooth=True)"
   ]
  },
  {
   "cell_type": "markdown",
   "metadata": {},
   "source": [
    "So monte carlo methods are basically just a means of simulating the distribution of parameters in order to gain an empirical understanding of the properties of that distribution such as understanding the summary statistics like the 'most common' value (the median), or the 'expectation' (the mean) or the spread of the data (the variance which is equal to the std dievation squared)."
   ]
  },
  {
   "cell_type": "markdown",
   "metadata": {},
   "source": [
    "Let's think about this in another way:\n",
    "\n",
    "The expectation of f(x )can be written\n",
    "$$E[x]=\\int x f(x) dx$$\n",
    "This sort of integrale can be difficult to solve analyticaly. But if we can draw samples of $x$ then we have:\n",
    "$$E[x]\\approx \\frac{1}{N} \\sum f(x)$$\n",
    "Which is a lot easier especially with a computer! The more samples we draw the closer we get to the real result."
   ]
  },
  {
   "cell_type": "code",
   "execution_count": null,
   "metadata": {},
   "outputs": [],
   "source": []
  }
 ],
 "metadata": {
  "kernelspec": {
   "display_name": "Python 3 (ipykernel)",
   "language": "python",
   "name": "python3"
  },
  "language_info": {
   "codemirror_mode": {
    "name": "ipython",
    "version": 3
   },
   "file_extension": ".py",
   "mimetype": "text/x-python",
   "name": "python",
   "nbconvert_exporter": "python",
   "pygments_lexer": "ipython3",
   "version": "3.9.7"
  }
 },
 "nbformat": 4,
 "nbformat_minor": 2
}
