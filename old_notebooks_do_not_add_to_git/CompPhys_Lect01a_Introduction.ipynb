{
 "cells": [
  {
   "cell_type": "markdown",
   "metadata": {},
   "source": [
    "# Computational Physics U24568 2023-24\n",
    "## Lecture 1a - Introduction"
   ]
  },
  {
   "cell_type": "markdown",
   "metadata": {},
   "source": [
    "Welcome to Computational Physics! We'll be using Python 3 running in Jupyter notebooks. The notebook gives you an interactive programming environment where you can test out ideas, and mix code, plots, and notes."
   ]
  },
  {
   "cell_type": "markdown",
   "metadata": {},
   "source": [
    "## Simple Expressions - Maths\n",
    "\n",
    "Everything in a notebook is in cells. Text like what you're reading right now goes in a 'Markdown' cell. Code goes in a code cell, like the one below. Try doing a simple math calculation like $2+2$, and push `Shift+Enter` or click 'Run' in the top bar to evaluate it."
   ]
  },
  {
   "cell_type": "code",
   "execution_count": null,
   "metadata": {},
   "outputs": [],
   "source": []
  },
  {
   "cell_type": "markdown",
   "metadata": {},
   "source": [
    "When you evaluate a Python command in a code cell, the result is printed below the cell. You can put multiple lines in a cell by using `Enter` between them. When you evaluate the cell, the output is only the last value calculated. Try it."
   ]
  },
  {
   "cell_type": "code",
   "execution_count": null,
   "metadata": {},
   "outputs": [],
   "source": []
  },
  {
   "cell_type": "markdown",
   "metadata": {},
   "source": [
    "Most math expressions are straightforward. One slightly unusual thing is the power operator. We code $x^y$ as `x**y`. Try using this to:\n",
    " 1. Find $2^{10}$.\n",
    " 2. Find the square root of a million.\n",
    " 3. Find the cube root of $4913$."
   ]
  },
  {
   "cell_type": "code",
   "execution_count": null,
   "metadata": {},
   "outputs": [],
   "source": []
  },
  {
   "cell_type": "code",
   "execution_count": null,
   "metadata": {},
   "outputs": [],
   "source": []
  },
  {
   "cell_type": "code",
   "execution_count": null,
   "metadata": {},
   "outputs": [],
   "source": []
  },
  {
   "cell_type": "markdown",
   "metadata": {},
   "source": [
    "The standard division operator is `/`, for instance $1/4 = 0.25$. There is also the integer division operator `//` and the remainder operator `%`. Try a few things like `7//3` and `7%3` to see how they work. Which would you use to find out if a number is even?"
   ]
  },
  {
   "cell_type": "code",
   "execution_count": null,
   "metadata": {},
   "outputs": [],
   "source": []
  },
  {
   "cell_type": "code",
   "execution_count": null,
   "metadata": {},
   "outputs": [],
   "source": []
  },
  {
   "cell_type": "code",
   "execution_count": null,
   "metadata": {},
   "outputs": [],
   "source": []
  },
  {
   "cell_type": "code",
   "execution_count": null,
   "metadata": {},
   "outputs": [],
   "source": []
  },
  {
   "cell_type": "markdown",
   "metadata": {},
   "source": [
    "## Variables\n",
    "\n",
    "Variables are used to store values and other objects. To create a variable, you use the assignment operator, like `x = 1`. Let's try it. Set x to 1, y to 2, and then calculate something with them, like x*y."
   ]
  },
  {
   "cell_type": "code",
   "execution_count": null,
   "metadata": {},
   "outputs": [],
   "source": []
  },
  {
   "cell_type": "code",
   "execution_count": null,
   "metadata": {},
   "outputs": [],
   "source": []
  },
  {
   "cell_type": "markdown",
   "metadata": {},
   "source": [
    "What happens if we set a variable to another one? Try doing `x = y`. Think about what x and y should be, *then* test whether you're correct."
   ]
  },
  {
   "cell_type": "code",
   "execution_count": null,
   "metadata": {},
   "outputs": [],
   "source": []
  },
  {
   "cell_type": "code",
   "execution_count": null,
   "metadata": {},
   "outputs": [],
   "source": []
  },
  {
   "cell_type": "markdown",
   "metadata": {},
   "source": [
    "Now set y to something else, like `y = 3`. What will x be after doing that? There are two possibilities. Think about them both, then test it. Try to explain to someone else the two possibilities, and what you've just learned about how Python treats variables."
   ]
  },
  {
   "cell_type": "code",
   "execution_count": null,
   "metadata": {},
   "outputs": [],
   "source": []
  },
  {
   "cell_type": "code",
   "execution_count": null,
   "metadata": {},
   "outputs": [],
   "source": []
  },
  {
   "cell_type": "markdown",
   "metadata": {},
   "source": [
    "Variable names should be descriptive but not too long. Any name made with letters, numbers, and underscores will work if it's not a reserved Python keyword. Examples are `Energy`, `variable7`, and `very_long_variable_name`. Try assigning to a few of your own."
   ]
  },
  {
   "cell_type": "code",
   "execution_count": null,
   "metadata": {},
   "outputs": [],
   "source": []
  },
  {
   "cell_type": "code",
   "execution_count": null,
   "metadata": {},
   "outputs": [],
   "source": []
  },
  {
   "cell_type": "code",
   "execution_count": null,
   "metadata": {},
   "outputs": [],
   "source": []
  },
  {
   "cell_type": "markdown",
   "metadata": {},
   "source": [
    "You can make your code clear by choosing good variable names, and also by writing comments. A comment is made by putting text after a hash sign."
   ]
  },
  {
   "cell_type": "code",
   "execution_count": 1,
   "metadata": {},
   "outputs": [],
   "source": [
    "# Example of a Python comment\n",
    "\n",
    "some_variable = 5 # You can put a comment after a statement\n",
    "\n",
    "# You can add a hash sign before a line\n",
    "# to temporarily stop it from being evaluated\n",
    "# when you're trying to debug your code, e.g.:\n",
    "\n",
    "# another_variable = 10*(some broken code)"
   ]
  },
  {
   "cell_type": "markdown",
   "metadata": {},
   "source": [
    "## Some basic data types\n",
    "\n",
    "So far, we have seen two kinds of data types -- integers and floating point numbers. To find out the type of an object, call the function `type`. Try:\n",
    " 1. `type(1)`\n",
    " 2. `type(0.5)`"
   ]
  },
  {
   "cell_type": "code",
   "execution_count": null,
   "metadata": {},
   "outputs": [],
   "source": []
  },
  {
   "cell_type": "code",
   "execution_count": null,
   "metadata": {},
   "outputs": [],
   "source": []
  },
  {
   "cell_type": "markdown",
   "metadata": {},
   "source": [
    "Think about what will happen if you do `type(x)` or `type(y)`, based on your earlier experiment of assigning `x = y`? Will the type be something like 'variable' or will it be 'int'? Discuss with someone, and once you have a prediction, try it."
   ]
  },
  {
   "cell_type": "code",
   "execution_count": null,
   "metadata": {},
   "outputs": [],
   "source": [
    "# Fill in the comment, then evaluate\n",
    "# I expect the result to be ...\n",
    "type(x)"
   ]
  },
  {
   "cell_type": "markdown",
   "metadata": {},
   "source": [
    "The float type represents any real number, while int is used when something is definitely an integer. Anything with a decimal point is a float, even for example `5.`."
   ]
  },
  {
   "cell_type": "code",
   "execution_count": null,
   "metadata": {},
   "outputs": [],
   "source": [
    "type(5.)"
   ]
  },
  {
   "cell_type": "markdown",
   "metadata": {},
   "source": [
    "When you combine types in an expression, Python will do the most sensible thing. What is the type of `1/2`? What about `5.*2`?"
   ]
  },
  {
   "cell_type": "code",
   "execution_count": null,
   "metadata": {},
   "outputs": [],
   "source": []
  },
  {
   "cell_type": "code",
   "execution_count": null,
   "metadata": {},
   "outputs": [],
   "source": []
  },
  {
   "cell_type": "markdown",
   "metadata": {},
   "source": [
    "There's also a complex type, which are made in the form `1+2j` or `0.5-0.3j`. What is their type?"
   ]
  },
  {
   "cell_type": "code",
   "execution_count": null,
   "metadata": {},
   "outputs": [],
   "source": []
  },
  {
   "cell_type": "code",
   "execution_count": null,
   "metadata": {},
   "outputs": [],
   "source": []
  },
  {
   "cell_type": "markdown",
   "metadata": {},
   "source": [
    "### The string type\n",
    "\n",
    "A string is made by enclosing something in quotes. Here are three different ways of making a string. All are allowed, and you'll see all of them."
   ]
  },
  {
   "cell_type": "code",
   "execution_count": null,
   "metadata": {},
   "outputs": [],
   "source": [
    "string1 = 'string1'\n",
    "string2 = \"string2\"\n",
    "string3 = \"\"\"string3\"\"\" # Triple quotes"
   ]
  },
  {
   "cell_type": "markdown",
   "metadata": {},
   "source": [
    "The first two are common with short strings. If you want a long string that spans several lines, or that contains quotes in it, you can enclose it in triple quotes.\n",
    "\n",
    "Now let's try some operations on strings. For each, think about what you expect, remembering that Python should try to do the most sensible thing if it can.\n",
    " 1. Can you add two strings?\n",
    " 2. Can you add a number to a string?\n",
    " 3. Can you multiply two strings?\n",
    " 4. Can you multiply a string by an integer?"
   ]
  },
  {
   "cell_type": "code",
   "execution_count": null,
   "metadata": {},
   "outputs": [],
   "source": []
  },
  {
   "cell_type": "code",
   "execution_count": null,
   "metadata": {},
   "outputs": [],
   "source": []
  },
  {
   "cell_type": "code",
   "execution_count": null,
   "metadata": {},
   "outputs": [],
   "source": []
  },
  {
   "cell_type": "code",
   "execution_count": null,
   "metadata": {},
   "outputs": [],
   "source": []
  },
  {
   "cell_type": "markdown",
   "metadata": {},
   "source": [
    "### Type Conversion\n",
    "\n",
    "The name of the type is also a function that converts an object to that type (if possible). For instance, you can turn an integer to a float by doing `float(5)`.\n",
    "\n",
    " 1. Convert a float to an integer. What does it do with the decimal part? (Try a few to be sure)\n",
    " 2. What kind of strings can be converted to int or float?"
   ]
  },
  {
   "cell_type": "code",
   "execution_count": null,
   "metadata": {},
   "outputs": [],
   "source": []
  },
  {
   "cell_type": "code",
   "execution_count": null,
   "metadata": {},
   "outputs": [],
   "source": []
  },
  {
   "cell_type": "code",
   "execution_count": null,
   "metadata": {},
   "outputs": [],
   "source": []
  },
  {
   "cell_type": "code",
   "execution_count": null,
   "metadata": {},
   "outputs": [],
   "source": []
  },
  {
   "cell_type": "markdown",
   "metadata": {},
   "source": [
    "## Errors\n",
    "\n",
    "By now, you've seen a few examples of errors. Let's look at one in detail. Below, we've tried to access a variable that doesn't exist. Python stops, but gives us a lot of helpful information. It tells us the name of the error, and gives a traceback. The traceback points to the line with the error. The final line gives more detail about this specific error - here it names the variable which we tried to access but wasn't actually defined."
   ]
  },
  {
   "cell_type": "code",
   "execution_count": 2,
   "metadata": {},
   "outputs": [
    {
     "ename": "NameError",
     "evalue": "name 'an_undefined_variable' is not defined",
     "output_type": "error",
     "traceback": [
      "\u001b[0;31m\u001b[0m",
      "\u001b[0;31mNameError\u001b[0mTraceback (most recent call last)",
      "\u001b[0;32m<ipython-input-2-f02f8074bdaf>\u001b[0m in \u001b[0;36m<module>\u001b[0;34m\u001b[0m\n\u001b[1;32m      1\u001b[0m \u001b[0mz\u001b[0m \u001b[0;34m=\u001b[0m \u001b[0;36m0\u001b[0m\u001b[0;34m\u001b[0m\u001b[0m\n\u001b[0;32m----> 2\u001b[0;31m \u001b[0man_undefined_variable\u001b[0m\u001b[0;34m\u001b[0m\u001b[0m\n\u001b[0m\u001b[1;32m      3\u001b[0m \u001b[0;36m2\u001b[0m\u001b[0;34m*\u001b[0m\u001b[0mz\u001b[0m\u001b[0;34m\u001b[0m\u001b[0m\n",
      "\u001b[0;31mNameError\u001b[0m: name 'an_undefined_variable' is not defined"
     ]
    }
   ],
   "source": [
    "z = 0\n",
    "an_undefined_variable\n",
    "2*z"
   ]
  },
  {
   "cell_type": "markdown",
   "metadata": {},
   "source": [
    "Try going back and looking at other errors from before. Do they make sense? See how many other different error types you can discover below."
   ]
  },
  {
   "cell_type": "code",
   "execution_count": null,
   "metadata": {},
   "outputs": [],
   "source": []
  },
  {
   "cell_type": "code",
   "execution_count": null,
   "metadata": {},
   "outputs": [],
   "source": []
  },
  {
   "cell_type": "code",
   "execution_count": null,
   "metadata": {},
   "outputs": [],
   "source": []
  },
  {
   "cell_type": "code",
   "execution_count": null,
   "metadata": {},
   "outputs": [],
   "source": []
  },
  {
   "cell_type": "code",
   "execution_count": null,
   "metadata": {},
   "outputs": [],
   "source": []
  },
  {
   "cell_type": "code",
   "execution_count": null,
   "metadata": {},
   "outputs": [],
   "source": []
  },
  {
   "cell_type": "markdown",
   "metadata": {},
   "source": [
    "## Loops, Conditionals, and Functions"
   ]
  },
  {
   "cell_type": "markdown",
   "metadata": {},
   "source": [
    "Now we'll go beyond simple expressions and write multi-line programs. We'll learn about functions and methods. But we'll start by learning about lists."
   ]
  },
  {
   "cell_type": "markdown",
   "metadata": {},
   "source": [
    "## A new type - Lists\n",
    "\n",
    "When we want to store multiple objects in order, we need a list. There are several different ways to create a list. The simplest is with square brackets, e.g.\n",
    "\n",
    "`lst = [0, 1, 2, 3]`\n",
    "\n",
    "If we want to know the length of a list, we use one of Python's built-in functions:\n",
    "\n",
    "`len(lst)`\n",
    "\n",
    "Try this, and also check the type of the list."
   ]
  },
  {
   "cell_type": "code",
   "execution_count": null,
   "metadata": {},
   "outputs": [],
   "source": []
  },
  {
   "cell_type": "code",
   "execution_count": null,
   "metadata": {},
   "outputs": [],
   "source": []
  },
  {
   "cell_type": "code",
   "execution_count": null,
   "metadata": {},
   "outputs": [],
   "source": []
  },
  {
   "cell_type": "markdown",
   "metadata": {},
   "source": [
    "Does a list have to contain only integers? Try putting other things in a list, like floats, strings, and other lists. Does the length count the lists inside a list?"
   ]
  },
  {
   "cell_type": "code",
   "execution_count": null,
   "metadata": {},
   "outputs": [],
   "source": []
  },
  {
   "cell_type": "code",
   "execution_count": null,
   "metadata": {},
   "outputs": [],
   "source": []
  },
  {
   "cell_type": "code",
   "execution_count": null,
   "metadata": {},
   "outputs": [],
   "source": []
  },
  {
   "cell_type": "markdown",
   "metadata": {},
   "source": [
    "Now make an empty list. What do you expect its length to be? Are you right?"
   ]
  },
  {
   "cell_type": "code",
   "execution_count": null,
   "metadata": {},
   "outputs": [],
   "source": []
  },
  {
   "cell_type": "code",
   "execution_count": null,
   "metadata": {},
   "outputs": [],
   "source": []
  },
  {
   "cell_type": "markdown",
   "metadata": {},
   "source": [
    "Some things can be converted to lists. We do it the same way as converting to an integer or string, by using the name of the type:\n",
    "\n",
    "`list(\"a\")`\n",
    "\n",
    "Try this, and try a longer string. Does it work with an integer or float? What if you call `list` on something that's already a list?"
   ]
  },
  {
   "cell_type": "code",
   "execution_count": null,
   "metadata": {},
   "outputs": [],
   "source": []
  },
  {
   "cell_type": "code",
   "execution_count": null,
   "metadata": {},
   "outputs": [],
   "source": []
  },
  {
   "cell_type": "code",
   "execution_count": null,
   "metadata": {},
   "outputs": [],
   "source": []
  },
  {
   "cell_type": "code",
   "execution_count": null,
   "metadata": {},
   "outputs": [],
   "source": []
  },
  {
   "cell_type": "markdown",
   "metadata": {},
   "source": [
    "## Functions and Methods\n",
    "\n",
    "Python has several useful built-in functions. We've seen the `len` function. Another example is `abs`, which gives the absolute value of a number, or the magnitude of a complex number. Give that a try."
   ]
  },
  {
   "cell_type": "code",
   "execution_count": null,
   "metadata": {},
   "outputs": [],
   "source": []
  },
  {
   "cell_type": "code",
   "execution_count": null,
   "metadata": {},
   "outputs": [],
   "source": []
  },
  {
   "cell_type": "markdown",
   "metadata": {},
   "source": [
    "Another useful function is `print`. It prints one or more values. Try doing `print(1,2,3)`."
   ]
  },
  {
   "cell_type": "code",
   "execution_count": null,
   "metadata": {},
   "outputs": [],
   "source": []
  },
  {
   "cell_type": "code",
   "execution_count": null,
   "metadata": {},
   "outputs": [],
   "source": []
  },
  {
   "cell_type": "markdown",
   "metadata": {},
   "source": [
    "We will learn to define our own functions today, and how to import functions from modules. But there are also functions that are attached to objects - these are called *methods*. Here's an example with a complex number:"
   ]
  },
  {
   "cell_type": "code",
   "execution_count": 1,
   "metadata": {},
   "outputs": [
    {
     "name": "stdout",
     "output_type": "stream",
     "text": [
      "(1-2j)\n"
     ]
    }
   ],
   "source": [
    "x = 1+2j\n",
    "print(x.conjugate())"
   ]
  },
  {
   "cell_type": "markdown",
   "metadata": {},
   "source": [
    "`.conjugate` is a method of the complex object. It doesn't take any arguments (arguments are the things in the parentheses, which the function acts on). This function returns the conjugate of the complex number. Check below whether the original number is modified."
   ]
  },
  {
   "cell_type": "code",
   "execution_count": null,
   "metadata": {},
   "outputs": [],
   "source": []
  },
  {
   "cell_type": "markdown",
   "metadata": {},
   "source": [
    "We'll learn about a lot of methods, but right now let's try `.append` on a list. Make a list, assigned to a variable, and use append to add a new element to the end of the list. Check the following:\n",
    " 1. Does the .append method return any value?\n",
    " 2. Does the list change afterward?"
   ]
  },
  {
   "cell_type": "code",
   "execution_count": null,
   "metadata": {},
   "outputs": [],
   "source": []
  },
  {
   "cell_type": "code",
   "execution_count": null,
   "metadata": {},
   "outputs": [],
   "source": []
  },
  {
   "cell_type": "code",
   "execution_count": null,
   "metadata": {},
   "outputs": [],
   "source": []
  },
  {
   "cell_type": "markdown",
   "metadata": {},
   "source": [
    "## Loops\n",
    "\n",
    "If we want to do something many times, or for many different values, we can use a *for* loop. The lines of code to be repeated are indicated by *indenting* them. Code is indented by typing `Tab`, and Jupyter will often do automatic indenting. You can type `Backspace` to remove an indentation.\n",
    "\n",
    "The loop ends when there's a line with non-indented code, or when the code ends. Here is an example *for loop* which prints 10 numbers, then 'Done' when it's finished."
   ]
  },
  {
   "cell_type": "code",
   "execution_count": 2,
   "metadata": {},
   "outputs": [
    {
     "name": "stdout",
     "output_type": "stream",
     "text": [
      "Inside the for loop\n",
      "0\n",
      "Inside the for loop\n",
      "1\n",
      "Inside the for loop\n",
      "2\n",
      "Inside the for loop\n",
      "3\n",
      "Inside the for loop\n",
      "4\n",
      "Inside the for loop\n",
      "5\n",
      "Inside the for loop\n",
      "6\n",
      "Inside the for loop\n",
      "7\n",
      "Inside the for loop\n",
      "8\n",
      "Inside the for loop\n",
      "9\n",
      "Done\n"
     ]
    }
   ],
   "source": [
    "for x in range(10):\n",
    "    print('Inside the for loop')\n",
    "    # You can have multiple indented lines\n",
    "    print(x)\n",
    "print('Done')"
   ]
  },
  {
   "cell_type": "markdown",
   "metadata": {},
   "source": [
    "There's several things we note here. The `for` line ends with a colon. Python, when told to count ten numbers, by default will count from 0 to 9. The last line of code is not indented, so it happens once, outside the loop. Try printing the numbers from 0 to 5, and from 1 to 12."
   ]
  },
  {
   "cell_type": "code",
   "execution_count": null,
   "metadata": {},
   "outputs": [],
   "source": []
  },
  {
   "cell_type": "code",
   "execution_count": null,
   "metadata": {},
   "outputs": [],
   "source": []
  },
  {
   "cell_type": "markdown",
   "metadata": {},
   "source": [
    "## Conditionals\n",
    "\n",
    "We may want to decide what to do based on whether something is true. We do this with an `if` statement, which also uses indentation. Here's an example."
   ]
  },
  {
   "cell_type": "code",
   "execution_count": 3,
   "metadata": {},
   "outputs": [
    {
     "name": "stdout",
     "output_type": "stream",
     "text": [
      "That's what we expected.\n"
     ]
    }
   ],
   "source": [
    "if 1+1 == 2:\n",
    "    print(\"That's what we expected.\")\n",
    "else:\n",
    "    print(\"Arithmetic is broken.\")"
   ]
  },
  {
   "cell_type": "markdown",
   "metadata": {},
   "source": [
    "We can use a conditional inside a loop. Some lines end up double indented. Here's a silly example."
   ]
  },
  {
   "cell_type": "code",
   "execution_count": 4,
   "metadata": {},
   "outputs": [
    {
     "name": "stdout",
     "output_type": "stream",
     "text": [
      "This number is too small.\n",
      "This number is too small.\n",
      "This number is too small.\n",
      "This number is too small.\n",
      "This number is fine.\n",
      "This number is too big.\n",
      "This number is too big.\n",
      "This number is too big.\n",
      "This number is too big.\n",
      "This number is too big.\n"
     ]
    }
   ],
   "source": [
    "for x in range(10):\n",
    "    if x < 4:\n",
    "        print('This number is too small.')\n",
    "    elif x >= 5:\n",
    "        print('This number is too big.')\n",
    "    else:\n",
    "        print('This number is fine.')"
   ]
  },
  {
   "cell_type": "code",
   "execution_count": null,
   "metadata": {},
   "outputs": [],
   "source": []
  },
  {
   "cell_type": "markdown",
   "metadata": {},
   "source": [
    "**Exercise**: Make a loop with a conditional that prints the even numbers up to 100."
   ]
  },
  {
   "cell_type": "code",
   "execution_count": null,
   "metadata": {},
   "outputs": [],
   "source": []
  },
  {
   "cell_type": "markdown",
   "metadata": {},
   "source": [
    "### Booleans\n",
    "\n",
    "The expression inside the conditional demonstrates a new type, a Boolean (which Python abbreviates as 'bool'). Booleans can have only two values, True or False. One way to get a Boolean result is with comparisons like `>` and `>=`. The test for equality is a double equal, `==`."
   ]
  },
  {
   "cell_type": "code",
   "execution_count": 1,
   "metadata": {},
   "outputs": [
    {
     "data": {
      "text/plain": [
       "bool"
      ]
     },
     "execution_count": 1,
     "metadata": {},
     "output_type": "execute_result"
    }
   ],
   "source": [
    "type(True)"
   ]
  },
  {
   "cell_type": "code",
   "execution_count": 2,
   "metadata": {},
   "outputs": [
    {
     "data": {
      "text/plain": [
       "True"
      ]
     },
     "execution_count": 2,
     "metadata": {},
     "output_type": "execute_result"
    }
   ],
   "source": [
    "3 > 1"
   ]
  },
  {
   "cell_type": "code",
   "execution_count": 3,
   "metadata": {},
   "outputs": [
    {
     "data": {
      "text/plain": [
       "False"
      ]
     },
     "execution_count": 3,
     "metadata": {},
     "output_type": "execute_result"
    }
   ],
   "source": [
    "7 == 6"
   ]
  },
  {
   "cell_type": "markdown",
   "metadata": {},
   "source": [
    "Booleans can be combined with the operators `and`, `or`, and `not`. So you can do things like `(x < y) and (y < z)` and `(x < y) or not (y == z)`."
   ]
  },
  {
   "cell_type": "markdown",
   "metadata": {},
   "source": [
    "## Building a list with a for loop\n",
    "\n",
    "To build a list, we can start with an empty list, then in a loop append values to that list. Based on what you learned above, and the code just below, try the following exercises."
   ]
  },
  {
   "cell_type": "code",
   "execution_count": 5,
   "metadata": {},
   "outputs": [
    {
     "name": "stdout",
     "output_type": "stream",
     "text": [
      "[0, 1, 2, 3, 4, 5, 6, 7, 8, 9]\n"
     ]
    }
   ],
   "source": [
    "my_list1 = []\n",
    "for ii in range(10):\n",
    "    my_list1.append(ii)\n",
    "print(my_list1)"
   ]
  },
  {
   "cell_type": "markdown",
   "metadata": {},
   "source": [
    "**Exercise**: Make a list of the first 7 powers of 3 ($3^1$, $3^2$, etc.)."
   ]
  },
  {
   "cell_type": "code",
   "execution_count": null,
   "metadata": {},
   "outputs": [],
   "source": []
  },
  {
   "cell_type": "markdown",
   "metadata": {},
   "source": [
    "**Exercise**: Make a list of the first 100 odd numbers. Check that it's 100 long."
   ]
  },
  {
   "cell_type": "code",
   "execution_count": null,
   "metadata": {},
   "outputs": [],
   "source": []
  },
  {
   "cell_type": "markdown",
   "metadata": {},
   "source": [
    "**Exercise**: Take the previous list and square all the numbers in it which are not divisible by 7. Remember that 'divide and give remainder' is the % operator."
   ]
  },
  {
   "cell_type": "code",
   "execution_count": null,
   "metadata": {},
   "outputs": [],
   "source": []
  },
  {
   "cell_type": "code",
   "execution_count": null,
   "metadata": {},
   "outputs": [],
   "source": []
  },
  {
   "cell_type": "markdown",
   "metadata": {},
   "source": [
    "A for loop doesn't have to just use `range`. It can also iterate through a list that you provide. Here's an example:"
   ]
  },
  {
   "cell_type": "code",
   "execution_count": 4,
   "metadata": {},
   "outputs": [
    {
     "name": "stdout",
     "output_type": "stream",
     "text": [
      "1\n",
      "2.0\n",
      "a\n"
     ]
    }
   ],
   "source": [
    "for x in [1, 2., 'a']:\n",
    "    print(x)"
   ]
  },
  {
   "cell_type": "markdown",
   "metadata": {},
   "source": [
    "**Exercise**: Write a nested for loop (one loop inside another) that prints a truth table for the 'or' operator. Use two variables `a` and `b` that take all combinations of True and False, and show the value of `(a or b)`. For example, you should have\n",
    "\n",
    "    a b => (a and b)\n",
    "    True True => True\n",
    "    True False => True\n",
    "    False True => True\n",
    "    False False => False"
   ]
  },
  {
   "cell_type": "code",
   "execution_count": null,
   "metadata": {},
   "outputs": [],
   "source": []
  },
  {
   "cell_type": "markdown",
   "metadata": {},
   "source": [
    "**Exercise** (challenging): Build and test an expression for 'exclusive or'. That means that it's true only if one of a or b is true.\n",
    "\n",
    "    a b => (a and b)\n",
    "    True True => False\n",
    "    True False => True\n",
    "    False True => True\n",
    "    False False => False"
   ]
  },
  {
   "cell_type": "code",
   "execution_count": null,
   "metadata": {},
   "outputs": [],
   "source": []
  },
  {
   "cell_type": "markdown",
   "metadata": {},
   "source": [
    "## Writing functions\n",
    "\n",
    "Our last thing to learn today is how to define our own function. We have to define the function name, and its arguments. Just under the `def` statement, we can put a string which documents the function.\n",
    "\n",
    "Then the body of the function does all the calculations, using the values in the argument variables. At the end, we have a `return` statement, which determines what the function outputs. Here's a simple example."
   ]
  },
  {
   "cell_type": "code",
   "execution_count": 6,
   "metadata": {},
   "outputs": [],
   "source": [
    "def square(x):\n",
    "    \"\"\"Squares a number\"\"\"\n",
    "    y = x*x\n",
    "    return y"
   ]
  },
  {
   "cell_type": "code",
   "execution_count": 8,
   "metadata": {},
   "outputs": [
    {
     "data": {
      "text/plain": [
       "16"
      ]
     },
     "execution_count": 8,
     "metadata": {},
     "output_type": "execute_result"
    }
   ],
   "source": [
    "square(4)"
   ]
  },
  {
   "cell_type": "code",
   "execution_count": 12,
   "metadata": {},
   "outputs": [],
   "source": [
    "# Evaluate the line below for help on the square function\n",
    "square?"
   ]
  },
  {
   "cell_type": "markdown",
   "metadata": {},
   "source": [
    "**Exercise**: Look at the function defined below. Try to determine, on paper, exactly what it will return for some small values of n. Test that. Can you figure out what mathematical function this is calculating?"
   ]
  },
  {
   "cell_type": "code",
   "execution_count": 9,
   "metadata": {},
   "outputs": [],
   "source": [
    "def mystery(n):\n",
    "    \"\"\"This function is a mystery\"\"\"\n",
    "    y = 1\n",
    "    for x in range(1, n+1):\n",
    "        y = y*x\n",
    "    return y"
   ]
  },
  {
   "cell_type": "code",
   "execution_count": null,
   "metadata": {},
   "outputs": [],
   "source": []
  },
  {
   "cell_type": "code",
   "execution_count": null,
   "metadata": {},
   "outputs": [],
   "source": []
  },
  {
   "cell_type": "code",
   "execution_count": null,
   "metadata": {},
   "outputs": [],
   "source": []
  },
  {
   "cell_type": "code",
   "execution_count": null,
   "metadata": {},
   "outputs": [],
   "source": []
  },
  {
   "cell_type": "markdown",
   "metadata": {},
   "source": [
    "**Exercise**: Write a function which sums the numbers up to n, and returns the result. Test it."
   ]
  },
  {
   "cell_type": "code",
   "execution_count": null,
   "metadata": {},
   "outputs": [],
   "source": []
  },
  {
   "cell_type": "code",
   "execution_count": null,
   "metadata": {},
   "outputs": [],
   "source": []
  },
  {
   "cell_type": "markdown",
   "metadata": {},
   "source": [
    "**Exercise (difficult)**: Write a function which determines if an integer is prime (meaning it has no number other than one that divides it without a remainder). Remember the remainder operator is `x % y`. This function will need a loop and a conditional.\n",
    "\n",
    "You can check if two things are not equal either with\n",
    "\n",
    "`if x != y:`\n",
    "\n",
    "or\n",
    "\n",
    "`if not x == y`:"
   ]
  },
  {
   "cell_type": "code",
   "execution_count": null,
   "metadata": {},
   "outputs": [],
   "source": []
  },
  {
   "cell_type": "code",
   "execution_count": null,
   "metadata": {},
   "outputs": [],
   "source": []
  },
  {
   "cell_type": "code",
   "execution_count": null,
   "metadata": {},
   "outputs": [],
   "source": []
  },
  {
   "cell_type": "markdown",
   "metadata": {},
   "source": [
    "### Importing a function\n",
    "\n",
    "There's only a few functions built into Python. You may notice that there's no trigonometry functions. Python's capabilities can be massively extended by importing a module. Many very powerful modules are available, but for an example we'll use the math module. Functions in the module are accessed with a similar syntax to methods. We'll see ways of shortening this later."
   ]
  },
  {
   "cell_type": "code",
   "execution_count": 10,
   "metadata": {},
   "outputs": [],
   "source": [
    "import math"
   ]
  },
  {
   "cell_type": "code",
   "execution_count": 11,
   "metadata": {},
   "outputs": [
    {
     "data": {
      "text/plain": [
       "0.5000000000000001"
      ]
     },
     "execution_count": 11,
     "metadata": {},
     "output_type": "execute_result"
    }
   ],
   "source": [
    "math.cos(math.pi/3)"
   ]
  },
  {
   "cell_type": "markdown",
   "metadata": {},
   "source": [
    "**Exercise**: Write a loop to test the identity $\\cos^2 \\theta + \\sin^2 \\theta = 1$ for many values of $\\theta$."
   ]
  },
  {
   "cell_type": "code",
   "execution_count": null,
   "metadata": {},
   "outputs": [],
   "source": []
  },
  {
   "cell_type": "markdown",
   "metadata": {},
   "source": [
    "If you've done all of this, try Exercise 2.10 in Newman's Computational Physics book. You can download Chapter 2 [here](http://www-personal.umich.edu/~mejn/cp/chapters/programming.pdf)."
   ]
  },
  {
   "cell_type": "code",
   "execution_count": null,
   "metadata": {},
   "outputs": [],
   "source": []
  },
  {
   "cell_type": "code",
   "execution_count": null,
   "metadata": {},
   "outputs": [],
   "source": []
  },
  {
   "cell_type": "code",
   "execution_count": null,
   "metadata": {},
   "outputs": [],
   "source": []
  },
  {
   "cell_type": "code",
   "execution_count": null,
   "metadata": {},
   "outputs": [],
   "source": []
  }
 ],
 "metadata": {
  "kernelspec": {
   "display_name": "Python 3 (ipykernel)",
   "language": "python",
   "name": "python3"
  },
  "language_info": {
   "codemirror_mode": {
    "name": "ipython",
    "version": 3
   },
   "file_extension": ".py",
   "mimetype": "text/x-python",
   "name": "python",
   "nbconvert_exporter": "python",
   "pygments_lexer": "ipython3",
   "version": "3.9.7"
  }
 },
 "nbformat": 4,
 "nbformat_minor": 4
}
