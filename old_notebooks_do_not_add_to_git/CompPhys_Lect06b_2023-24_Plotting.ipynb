{
 "cells": [
  {
   "cell_type": "code",
   "execution_count": 18,
   "metadata": {
    "id": "w5BbbrQP4Hq4"
   },
   "outputs": [],
   "source": [
    "import plotly.express as px\n",
    "import plotly.graph_objects as go\n",
    "import matplotlib.pyplot as plt\n",
    "import pandas as pd\n",
    "import numpy as np"
   ]
  },
  {
   "cell_type": "markdown",
   "metadata": {
    "id": "10eBk_8Jpbdn"
   },
   "source": [
    "Today we'll try to make some fancy plots. The problem is, plotting software in Python tends to change rapidly. It's also quite difficult to remember anything beyond the basic plotting functions. So next time we need to make a plot, we won't remember how to do it and the syntax will have changed anyway. There may even be some brand new plotting package that's better than the current one.\n",
    "\n",
    "So instead of this notebook spelling things out, we're going to practice reading the documentation. A recommended way to do this is:\n",
    " * Skim the intro and an example to get a sense of how the plotting package works\n",
    " * Find an example that is close to what you want to do\n",
    " * Copy the example and run it\n",
    " * Change the example to match what you want to do; read the documentation for help but also just try things in the notebook\n",
    "\n",
    "We'll use a package called `Plotly`. Here is the [documentation](https://plotly.com/python/). Most of the pages have a section on using `Dash`, which is a paid verson. You can scroll past those.\n",
    "\n",
    "We want to focus on using `Plotly Express` (which we shorten to `px`), which is the high level interface to the package. When we need to control things in more detail, we can use the low-level functions directly from `plotly.graph_objects` (shortened to `go`).\n",
    "\n",
    "`Plotly` works best when the data is in Pandas DataFrames, but you can use Numpy arrays as well."
   ]
  },
  {
   "cell_type": "markdown",
   "metadata": {
    "id": "zfIgl-EK4H8j"
   },
   "source": [
    "**Exercise**: Load the `stellar_data.csv` file and make a 3D plot of RA, DEC, and distance. To get the scatter points the right size, call your plot `fig` and do `fig.update_traces(marker_size=1)`."
   ]
  },
  {
   "cell_type": "markdown",
   "metadata": {
    "id": "twA9YAFq4jbr"
   },
   "source": [
    "**Exercise**: Use the color of the points to visualise other columns in the dataset.\n",
    "\n",
    "You can also try converting DEC and RA from polar coordinates to make a correct Cartesian plot."
   ]
  },
  {
   "cell_type": "code",
   "execution_count": 5,
   "metadata": {
    "id": "1ifzy8pl4Kcr"
   },
   "outputs": [],
   "source": [
    "data = pd.read_csv('stellar_data.csv')"
   ]
  },
  {
   "cell_type": "code",
   "execution_count": 6,
   "metadata": {
    "colab": {
     "base_uri": "https://localhost:8080/",
     "height": 272
    },
    "id": "2xxMz4jBt4zP",
    "outputId": "4c8f88ef-05b6-4524-b4a7-87639acdf9ab"
   },
   "outputs": [
    {
     "data": {
      "text/html": [
       "\n",
       "  <div id=\"df-19f4fc14-bb82-485c-a58a-faf8ff0b3f98\">\n",
       "    <div class=\"colab-df-container\">\n",
       "      <div>\n",
       "<style scoped>\n",
       "    .dataframe tbody tr th:only-of-type {\n",
       "        vertical-align: middle;\n",
       "    }\n",
       "\n",
       "    .dataframe tbody tr th {\n",
       "        vertical-align: top;\n",
       "    }\n",
       "\n",
       "    .dataframe thead th {\n",
       "        text-align: right;\n",
       "    }\n",
       "</style>\n",
       "<table border=\"1\" class=\"dataframe\">\n",
       "  <thead>\n",
       "    <tr style=\"text-align: right;\">\n",
       "      <th></th>\n",
       "      <th>RA_degrees</th>\n",
       "      <th>DEC_degrees</th>\n",
       "      <th>Z</th>\n",
       "      <th>Distance_Mpc</th>\n",
       "      <th>r_mag_abs</th>\n",
       "      <th>gminusi</th>\n",
       "    </tr>\n",
       "  </thead>\n",
       "  <tbody>\n",
       "    <tr>\n",
       "      <th>0</th>\n",
       "      <td>152.193087</td>\n",
       "      <td>51.365004</td>\n",
       "      <td>0.056180</td>\n",
       "      <td>240.604623</td>\n",
       "      <td>-21.838419</td>\n",
       "      <td>0.891117</td>\n",
       "    </tr>\n",
       "    <tr>\n",
       "      <th>1</th>\n",
       "      <td>151.875640</td>\n",
       "      <td>51.394824</td>\n",
       "      <td>0.089904</td>\n",
       "      <td>385.034354</td>\n",
       "      <td>-20.801556</td>\n",
       "      <td>1.131250</td>\n",
       "    </tr>\n",
       "    <tr>\n",
       "      <th>2</th>\n",
       "      <td>152.598691</td>\n",
       "      <td>50.812608</td>\n",
       "      <td>0.090254</td>\n",
       "      <td>386.535318</td>\n",
       "      <td>-20.738464</td>\n",
       "      <td>1.105925</td>\n",
       "    </tr>\n",
       "    <tr>\n",
       "      <th>3</th>\n",
       "      <td>152.313223</td>\n",
       "      <td>50.774896</td>\n",
       "      <td>0.067806</td>\n",
       "      <td>290.397249</td>\n",
       "      <td>-20.803738</td>\n",
       "      <td>1.143377</td>\n",
       "    </tr>\n",
       "    <tr>\n",
       "      <th>4</th>\n",
       "      <td>152.732640</td>\n",
       "      <td>50.489694</td>\n",
       "      <td>0.084017</td>\n",
       "      <td>359.823658</td>\n",
       "      <td>-20.559237</td>\n",
       "      <td>1.103271</td>\n",
       "    </tr>\n",
       "  </tbody>\n",
       "</table>\n",
       "</div>\n",
       "      <button class=\"colab-df-convert\" onclick=\"convertToInteractive('df-19f4fc14-bb82-485c-a58a-faf8ff0b3f98')\"\n",
       "              title=\"Convert this dataframe to an interactive table.\"\n",
       "              style=\"display:none;\">\n",
       "        \n",
       "  <svg xmlns=\"http://www.w3.org/2000/svg\" height=\"24px\"viewBox=\"0 0 24 24\"\n",
       "       width=\"24px\">\n",
       "    <path d=\"M0 0h24v24H0V0z\" fill=\"none\"/>\n",
       "    <path d=\"M18.56 5.44l.94 2.06.94-2.06 2.06-.94-2.06-.94-.94-2.06-.94 2.06-2.06.94zm-11 1L8.5 8.5l.94-2.06 2.06-.94-2.06-.94L8.5 2.5l-.94 2.06-2.06.94zm10 10l.94 2.06.94-2.06 2.06-.94-2.06-.94-.94-2.06-.94 2.06-2.06.94z\"/><path d=\"M17.41 7.96l-1.37-1.37c-.4-.4-.92-.59-1.43-.59-.52 0-1.04.2-1.43.59L10.3 9.45l-7.72 7.72c-.78.78-.78 2.05 0 2.83L4 21.41c.39.39.9.59 1.41.59.51 0 1.02-.2 1.41-.59l7.78-7.78 2.81-2.81c.8-.78.8-2.07 0-2.86zM5.41 20L4 18.59l7.72-7.72 1.47 1.35L5.41 20z\"/>\n",
       "  </svg>\n",
       "      </button>\n",
       "      \n",
       "  <style>\n",
       "    .colab-df-container {\n",
       "      display:flex;\n",
       "      flex-wrap:wrap;\n",
       "      gap: 12px;\n",
       "    }\n",
       "\n",
       "    .colab-df-convert {\n",
       "      background-color: #E8F0FE;\n",
       "      border: none;\n",
       "      border-radius: 50%;\n",
       "      cursor: pointer;\n",
       "      display: none;\n",
       "      fill: #1967D2;\n",
       "      height: 32px;\n",
       "      padding: 0 0 0 0;\n",
       "      width: 32px;\n",
       "    }\n",
       "\n",
       "    .colab-df-convert:hover {\n",
       "      background-color: #E2EBFA;\n",
       "      box-shadow: 0px 1px 2px rgba(60, 64, 67, 0.3), 0px 1px 3px 1px rgba(60, 64, 67, 0.15);\n",
       "      fill: #174EA6;\n",
       "    }\n",
       "\n",
       "    [theme=dark] .colab-df-convert {\n",
       "      background-color: #3B4455;\n",
       "      fill: #D2E3FC;\n",
       "    }\n",
       "\n",
       "    [theme=dark] .colab-df-convert:hover {\n",
       "      background-color: #434B5C;\n",
       "      box-shadow: 0px 1px 3px 1px rgba(0, 0, 0, 0.15);\n",
       "      filter: drop-shadow(0px 1px 2px rgba(0, 0, 0, 0.3));\n",
       "      fill: #FFFFFF;\n",
       "    }\n",
       "  </style>\n",
       "\n",
       "      <script>\n",
       "        const buttonEl =\n",
       "          document.querySelector('#df-19f4fc14-bb82-485c-a58a-faf8ff0b3f98 button.colab-df-convert');\n",
       "        buttonEl.style.display =\n",
       "          google.colab.kernel.accessAllowed ? 'block' : 'none';\n",
       "\n",
       "        async function convertToInteractive(key) {\n",
       "          const element = document.querySelector('#df-19f4fc14-bb82-485c-a58a-faf8ff0b3f98');\n",
       "          const dataTable =\n",
       "            await google.colab.kernel.invokeFunction('convertToInteractive',\n",
       "                                                     [key], {});\n",
       "          if (!dataTable) return;\n",
       "\n",
       "          const docLinkHtml = 'Like what you see? Visit the ' +\n",
       "            '<a target=\"_blank\" href=https://colab.research.google.com/notebooks/data_table.ipynb>data table notebook</a>'\n",
       "            + ' to learn more about interactive tables.';\n",
       "          element.innerHTML = '';\n",
       "          dataTable['output_type'] = 'display_data';\n",
       "          await google.colab.output.renderOutput(dataTable, element);\n",
       "          const docLink = document.createElement('div');\n",
       "          docLink.innerHTML = docLinkHtml;\n",
       "          element.appendChild(docLink);\n",
       "        }\n",
       "      </script>\n",
       "    </div>\n",
       "  </div>\n",
       "  "
      ],
      "text/plain": [
       "   RA_degrees  DEC_degrees         Z  Distance_Mpc  r_mag_abs   gminusi\n",
       "0  152.193087    51.365004  0.056180    240.604623 -21.838419  0.891117\n",
       "1  151.875640    51.394824  0.089904    385.034354 -20.801556  1.131250\n",
       "2  152.598691    50.812608  0.090254    386.535318 -20.738464  1.105925\n",
       "3  152.313223    50.774896  0.067806    290.397249 -20.803738  1.143377\n",
       "4  152.732640    50.489694  0.084017    359.823658 -20.559237  1.103271"
      ]
     },
     "execution_count": 6,
     "metadata": {},
     "output_type": "execute_result"
    }
   ],
   "source": [
    "data.head()"
   ]
  },
  {
   "cell_type": "markdown",
   "metadata": {
    "id": "F01FFb5l5BZR"
   },
   "source": [
    "**Exercise**: Use `np.loadtxt` to load the `stm.txt` file, which is 2D height data from a scanning electron microscope. Make a 3D surface plot. Can you add colour contours?"
   ]
  },
  {
   "cell_type": "code",
   "execution_count": 10,
   "metadata": {
    "id": "5Q6uhHme5wu7"
   },
   "outputs": [],
   "source": [
    "data = np.loadtxt('stm.txt')"
   ]
  },
  {
   "cell_type": "markdown",
   "metadata": {
    "id": "3CMg_eaA5dLJ"
   },
   "source": [
    "**Exercise**: Try to make some animations of your ODE exercises. The Lorenz butterfly is a good one to start with (and is actually the example in the documentation)."
   ]
  },
  {
   "cell_type": "markdown",
   "metadata": {
    "id": "2GnsnPmK57IN"
   },
   "source": [
    "**Exercise**: Try to animate the solar system ODEs. This is difficult because you'll need to create a Pandas dataframe, and reorganise the data. You'll likely find `np.vstack` or `np.hstack` helpful, and `np.reshape`."
   ]
  },
  {
   "cell_type": "markdown",
   "metadata": {
    "id": "HR6oCeIxGsUL"
   },
   "source": [
    "**Exercise**: Interactive plots with Plotly seem overly complicated. Try to follow the instructions to do this with [Matplotlib/ipywidgets](https://ipywidgets.readthedocs.io/en/stable/examples/Using%20Interact.html).\n",
    "\n",
    "Create a little game with a function like a sine wave and you move sliders to match the amplitude, phase and frequency."
   ]
  },
  {
   "cell_type": "code",
   "execution_count": null,
   "metadata": {
    "id": "CWG70guG55-w"
   },
   "outputs": [],
   "source": []
  }
 ],
 "metadata": {
  "colab": {
   "provenance": []
  },
  "kernelspec": {
   "display_name": "Python 3 (ipykernel)",
   "language": "python",
   "name": "python3"
  },
  "language_info": {
   "codemirror_mode": {
    "name": "ipython",
    "version": 3
   },
   "file_extension": ".py",
   "mimetype": "text/x-python",
   "name": "python",
   "nbconvert_exporter": "python",
   "pygments_lexer": "ipython3",
   "version": "3.9.7"
  }
 },
 "nbformat": 4,
 "nbformat_minor": 1
}
