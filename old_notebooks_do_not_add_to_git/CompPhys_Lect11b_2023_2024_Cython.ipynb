{
 "cells": [
  {
   "cell_type": "markdown",
   "metadata": {
    "id": "oSN0TnxCWikm"
   },
   "source": [
    "# Using Cython to get the speed of C in Python"
   ]
  },
  {
   "cell_type": "markdown",
   "metadata": {
    "id": "VWUoNGYJWikn"
   },
   "source": [
    "In the earlier \"Optimization\" notebook we have demonstrated a number of techniques for optimizing python code, including using numpy to perform operations on arrays of input. We showed that with these techniques one can observe a significant speed up in the total run time of the program.\n",
    "\n",
    "However, there are some instances in which numpy operations cannot be applied directly. Maybe there is no way to write what you are trying to do in terms of numpy operations. In these cases Cython can be used.\n",
    "\n",
    "Cython code can be used to supplement python code. Cython code (like C or Fortran code) needs to be compiled before it can be run, but python's support for Cython will allow this to happen automatically. Cython code appears very similar to python code but a few different rules apply:\n",
    "\n",
    " * You will have to write out all for loops explictly - There is no numpy-like operations on an entire array that can be done\n",
    " * To acheive optimal performance you do need to think in terms of what the underlying C code, which this will be automatically translated into, will do. This is difficult without doing a whole other class dedicated to that language (we'll leave that until the 4th year!). However, important things to consider and the need to declare the types of variables (is this variable going to be used to store integers, or floating point numbers, or complex numbers, or ....) Also consider that creating a new storage array does take a little bit of time, so reuse arrays (reusing memory) when possible.\n",
    "\n",
    "But let's begin at the start. How do we use Cython within a Jupyter notebook?"
   ]
  },
  {
   "cell_type": "markdown",
   "metadata": {
    "id": "nmdoDT6uWikn"
   },
   "source": [
    "## Before we start\n",
    "\n",
    "We need to enable Cython within our notebook. This is done with"
   ]
  },
  {
   "cell_type": "code",
   "execution_count": 2,
   "metadata": {
    "id": "qt0pWAO1Wikn"
   },
   "outputs": [],
   "source": [
    "%load_ext cython"
   ]
  },
  {
   "cell_type": "markdown",
   "metadata": {
    "id": "QwzsnOYUWiko"
   },
   "source": [
    "## Example: Computing cos(x) on an array\n",
    "\n",
    "In the optimization lecture we began with profiling a set of functions to compute an integral. Let's start with one of those functions here. Here we write a function to compute the cos(x) for a timeseries. We also provide a numpy optimized function for computing cos(x) as we showed last week."
   ]
  },
  {
   "cell_type": "code",
   "execution_count": 3,
   "metadata": {
    "id": "TM6uB5yQWiko"
   },
   "outputs": [],
   "source": [
    "import numpy\n",
    "\n",
    "def generate_time_series(tmin, tmax, delta_t):\n",
    "    \"\"\"\n",
    "    Generates a times series between tmin and tmax sampled at delta_t\n",
    "    \"\"\"\n",
    "    tseries = numpy.arange(tmin, tmax, delta_t)\n",
    "    # We shift tseries by delta_t / 2 to ensure that we are using the midpoint rule (see wikipedia page)\n",
    "    tseries = tseries + delta_t / 2.\n",
    "    return tseries\n",
    "\n",
    "\n",
    "def compute_cosx(tseries):\n",
    "    \"\"\"\n",
    "    Computes cos(t) for all values in tseries\n",
    "    \"\"\"\n",
    "    cosx = numpy.zeros(len(tseries))\n",
    "    for idx, tval in enumerate(tseries):\n",
    "        cosx[idx] = numpy.cos(tseries[idx])\n",
    "    return cosx\n",
    "\n",
    "def compute_cosx_numpy(tseries):\n",
    "    \"\"\"\n",
    "    Computes cos(t) for all values in tseries\n",
    "    \"\"\"\n",
    "    return numpy.cos(tseries)"
   ]
  },
  {
   "cell_type": "markdown",
   "metadata": {
    "id": "iRBFtNNSWiko"
   },
   "source": [
    "Remember that the numpy version is considerably faster than the non-vectorized version"
   ]
  },
  {
   "cell_type": "code",
   "execution_count": 4,
   "metadata": {
    "colab": {
     "base_uri": "https://localhost:8080/"
    },
    "id": "Z2ZIai1IWiko",
    "outputId": "3b15d783-bd7e-4887-8ebc-fde963c42e19"
   },
   "outputs": [
    {
     "name": "stdout",
     "output_type": "stream",
     "text": [
      "31.7 ms ± 385 µs per loop (mean ± std. dev. of 7 runs, 10 loops each)\n",
      "223 µs ± 722 ns per loop (mean ± std. dev. of 7 runs, 1,000 loops each)\n"
     ]
    }
   ],
   "source": [
    "tseries = generate_time_series(1., 1000., 1./100.)\n",
    "%timeit compute_cosx(tseries)\n",
    "%timeit compute_cosx_numpy(tseries)"
   ]
  },
  {
   "cell_type": "markdown",
   "metadata": {
    "id": "0LCk1_mOWiko"
   },
   "source": [
    "Now let's try to do this with cython. As a first cut at this we can just use the Cython interpreter with no changes. In jupyter we begin a cell with `%%cython` to acheive this, and add the `-a` option to give some useful output. **NOTE** The cython cell does not have access to any imports made in any other cell, so you will need to import any modules in here again."
   ]
  },
  {
   "cell_type": "code",
   "execution_count": 5,
   "metadata": {
    "colab": {
     "base_uri": "https://localhost:8080/",
     "height": 350
    },
    "id": "Pp-P5UbrWikp",
    "outputId": "8d3971a9-0702-4f4b-fce2-98446a67ca0c",
    "scrolled": true
   },
   "outputs": [
    {
     "data": {
      "text/html": [
       "<!DOCTYPE html>\n",
       "<!-- Generated by Cython 0.29.25 -->\n",
       "<html>\n",
       "<head>\n",
       "    <meta http-equiv=\"Content-Type\" content=\"text/html; charset=utf-8\" />\n",
       "    <title>Cython: _cython_magic_534906b76ead1d77418c61447350fa62.pyx</title>\n",
       "    <style type=\"text/css\">\n",
       "    \n",
       "body.cython { font-family: courier; font-size: 12; }\n",
       "\n",
       ".cython.tag  {  }\n",
       ".cython.line { margin: 0em }\n",
       ".cython.code { font-size: 9; color: #444444; display: none; margin: 0px 0px 0px 8px; border-left: 8px none; }\n",
       "\n",
       ".cython.line .run { background-color: #B0FFB0; }\n",
       ".cython.line .mis { background-color: #FFB0B0; }\n",
       ".cython.code.run  { border-left: 8px solid #B0FFB0; }\n",
       ".cython.code.mis  { border-left: 8px solid #FFB0B0; }\n",
       "\n",
       ".cython.code .py_c_api  { color: red; }\n",
       ".cython.code .py_macro_api  { color: #FF7000; }\n",
       ".cython.code .pyx_c_api  { color: #FF3000; }\n",
       ".cython.code .pyx_macro_api  { color: #FF7000; }\n",
       ".cython.code .refnanny  { color: #FFA000; }\n",
       ".cython.code .trace  { color: #FFA000; }\n",
       ".cython.code .error_goto  { color: #FFA000; }\n",
       "\n",
       ".cython.code .coerce  { color: #008000; border: 1px dotted #008000 }\n",
       ".cython.code .py_attr { color: #FF0000; font-weight: bold; }\n",
       ".cython.code .c_attr  { color: #0000FF; }\n",
       ".cython.code .py_call { color: #FF0000; font-weight: bold; }\n",
       ".cython.code .c_call  { color: #0000FF; }\n",
       "\n",
       ".cython.score-0 {background-color: #FFFFff;}\n",
       ".cython.score-1 {background-color: #FFFFe7;}\n",
       ".cython.score-2 {background-color: #FFFFd4;}\n",
       ".cython.score-3 {background-color: #FFFFc4;}\n",
       ".cython.score-4 {background-color: #FFFFb6;}\n",
       ".cython.score-5 {background-color: #FFFFaa;}\n",
       ".cython.score-6 {background-color: #FFFF9f;}\n",
       ".cython.score-7 {background-color: #FFFF96;}\n",
       ".cython.score-8 {background-color: #FFFF8d;}\n",
       ".cython.score-9 {background-color: #FFFF86;}\n",
       ".cython.score-10 {background-color: #FFFF7f;}\n",
       ".cython.score-11 {background-color: #FFFF79;}\n",
       ".cython.score-12 {background-color: #FFFF73;}\n",
       ".cython.score-13 {background-color: #FFFF6e;}\n",
       ".cython.score-14 {background-color: #FFFF6a;}\n",
       ".cython.score-15 {background-color: #FFFF66;}\n",
       ".cython.score-16 {background-color: #FFFF62;}\n",
       ".cython.score-17 {background-color: #FFFF5e;}\n",
       ".cython.score-18 {background-color: #FFFF5b;}\n",
       ".cython.score-19 {background-color: #FFFF57;}\n",
       ".cython.score-20 {background-color: #FFFF55;}\n",
       ".cython.score-21 {background-color: #FFFF52;}\n",
       ".cython.score-22 {background-color: #FFFF4f;}\n",
       ".cython.score-23 {background-color: #FFFF4d;}\n",
       ".cython.score-24 {background-color: #FFFF4b;}\n",
       ".cython.score-25 {background-color: #FFFF48;}\n",
       ".cython.score-26 {background-color: #FFFF46;}\n",
       ".cython.score-27 {background-color: #FFFF44;}\n",
       ".cython.score-28 {background-color: #FFFF43;}\n",
       ".cython.score-29 {background-color: #FFFF41;}\n",
       ".cython.score-30 {background-color: #FFFF3f;}\n",
       ".cython.score-31 {background-color: #FFFF3e;}\n",
       ".cython.score-32 {background-color: #FFFF3c;}\n",
       ".cython.score-33 {background-color: #FFFF3b;}\n",
       ".cython.score-34 {background-color: #FFFF39;}\n",
       ".cython.score-35 {background-color: #FFFF38;}\n",
       ".cython.score-36 {background-color: #FFFF37;}\n",
       ".cython.score-37 {background-color: #FFFF36;}\n",
       ".cython.score-38 {background-color: #FFFF35;}\n",
       ".cython.score-39 {background-color: #FFFF34;}\n",
       ".cython.score-40 {background-color: #FFFF33;}\n",
       ".cython.score-41 {background-color: #FFFF32;}\n",
       ".cython.score-42 {background-color: #FFFF31;}\n",
       ".cython.score-43 {background-color: #FFFF30;}\n",
       ".cython.score-44 {background-color: #FFFF2f;}\n",
       ".cython.score-45 {background-color: #FFFF2e;}\n",
       ".cython.score-46 {background-color: #FFFF2d;}\n",
       ".cython.score-47 {background-color: #FFFF2c;}\n",
       ".cython.score-48 {background-color: #FFFF2b;}\n",
       ".cython.score-49 {background-color: #FFFF2b;}\n",
       ".cython.score-50 {background-color: #FFFF2a;}\n",
       ".cython.score-51 {background-color: #FFFF29;}\n",
       ".cython.score-52 {background-color: #FFFF29;}\n",
       ".cython.score-53 {background-color: #FFFF28;}\n",
       ".cython.score-54 {background-color: #FFFF27;}\n",
       ".cython.score-55 {background-color: #FFFF27;}\n",
       ".cython.score-56 {background-color: #FFFF26;}\n",
       ".cython.score-57 {background-color: #FFFF26;}\n",
       ".cython.score-58 {background-color: #FFFF25;}\n",
       ".cython.score-59 {background-color: #FFFF24;}\n",
       ".cython.score-60 {background-color: #FFFF24;}\n",
       ".cython.score-61 {background-color: #FFFF23;}\n",
       ".cython.score-62 {background-color: #FFFF23;}\n",
       ".cython.score-63 {background-color: #FFFF22;}\n",
       ".cython.score-64 {background-color: #FFFF22;}\n",
       ".cython.score-65 {background-color: #FFFF22;}\n",
       ".cython.score-66 {background-color: #FFFF21;}\n",
       ".cython.score-67 {background-color: #FFFF21;}\n",
       ".cython.score-68 {background-color: #FFFF20;}\n",
       ".cython.score-69 {background-color: #FFFF20;}\n",
       ".cython.score-70 {background-color: #FFFF1f;}\n",
       ".cython.score-71 {background-color: #FFFF1f;}\n",
       ".cython.score-72 {background-color: #FFFF1f;}\n",
       ".cython.score-73 {background-color: #FFFF1e;}\n",
       ".cython.score-74 {background-color: #FFFF1e;}\n",
       ".cython.score-75 {background-color: #FFFF1e;}\n",
       ".cython.score-76 {background-color: #FFFF1d;}\n",
       ".cython.score-77 {background-color: #FFFF1d;}\n",
       ".cython.score-78 {background-color: #FFFF1c;}\n",
       ".cython.score-79 {background-color: #FFFF1c;}\n",
       ".cython.score-80 {background-color: #FFFF1c;}\n",
       ".cython.score-81 {background-color: #FFFF1c;}\n",
       ".cython.score-82 {background-color: #FFFF1b;}\n",
       ".cython.score-83 {background-color: #FFFF1b;}\n",
       ".cython.score-84 {background-color: #FFFF1b;}\n",
       ".cython.score-85 {background-color: #FFFF1a;}\n",
       ".cython.score-86 {background-color: #FFFF1a;}\n",
       ".cython.score-87 {background-color: #FFFF1a;}\n",
       ".cython.score-88 {background-color: #FFFF1a;}\n",
       ".cython.score-89 {background-color: #FFFF19;}\n",
       ".cython.score-90 {background-color: #FFFF19;}\n",
       ".cython.score-91 {background-color: #FFFF19;}\n",
       ".cython.score-92 {background-color: #FFFF19;}\n",
       ".cython.score-93 {background-color: #FFFF18;}\n",
       ".cython.score-94 {background-color: #FFFF18;}\n",
       ".cython.score-95 {background-color: #FFFF18;}\n",
       ".cython.score-96 {background-color: #FFFF18;}\n",
       ".cython.score-97 {background-color: #FFFF17;}\n",
       ".cython.score-98 {background-color: #FFFF17;}\n",
       ".cython.score-99 {background-color: #FFFF17;}\n",
       ".cython.score-100 {background-color: #FFFF17;}\n",
       ".cython.score-101 {background-color: #FFFF16;}\n",
       ".cython.score-102 {background-color: #FFFF16;}\n",
       ".cython.score-103 {background-color: #FFFF16;}\n",
       ".cython.score-104 {background-color: #FFFF16;}\n",
       ".cython.score-105 {background-color: #FFFF16;}\n",
       ".cython.score-106 {background-color: #FFFF15;}\n",
       ".cython.score-107 {background-color: #FFFF15;}\n",
       ".cython.score-108 {background-color: #FFFF15;}\n",
       ".cython.score-109 {background-color: #FFFF15;}\n",
       ".cython.score-110 {background-color: #FFFF15;}\n",
       ".cython.score-111 {background-color: #FFFF15;}\n",
       ".cython.score-112 {background-color: #FFFF14;}\n",
       ".cython.score-113 {background-color: #FFFF14;}\n",
       ".cython.score-114 {background-color: #FFFF14;}\n",
       ".cython.score-115 {background-color: #FFFF14;}\n",
       ".cython.score-116 {background-color: #FFFF14;}\n",
       ".cython.score-117 {background-color: #FFFF14;}\n",
       ".cython.score-118 {background-color: #FFFF13;}\n",
       ".cython.score-119 {background-color: #FFFF13;}\n",
       ".cython.score-120 {background-color: #FFFF13;}\n",
       ".cython.score-121 {background-color: #FFFF13;}\n",
       ".cython.score-122 {background-color: #FFFF13;}\n",
       ".cython.score-123 {background-color: #FFFF13;}\n",
       ".cython.score-124 {background-color: #FFFF13;}\n",
       ".cython.score-125 {background-color: #FFFF12;}\n",
       ".cython.score-126 {background-color: #FFFF12;}\n",
       ".cython.score-127 {background-color: #FFFF12;}\n",
       ".cython.score-128 {background-color: #FFFF12;}\n",
       ".cython.score-129 {background-color: #FFFF12;}\n",
       ".cython.score-130 {background-color: #FFFF12;}\n",
       ".cython.score-131 {background-color: #FFFF12;}\n",
       ".cython.score-132 {background-color: #FFFF11;}\n",
       ".cython.score-133 {background-color: #FFFF11;}\n",
       ".cython.score-134 {background-color: #FFFF11;}\n",
       ".cython.score-135 {background-color: #FFFF11;}\n",
       ".cython.score-136 {background-color: #FFFF11;}\n",
       ".cython.score-137 {background-color: #FFFF11;}\n",
       ".cython.score-138 {background-color: #FFFF11;}\n",
       ".cython.score-139 {background-color: #FFFF11;}\n",
       ".cython.score-140 {background-color: #FFFF11;}\n",
       ".cython.score-141 {background-color: #FFFF10;}\n",
       ".cython.score-142 {background-color: #FFFF10;}\n",
       ".cython.score-143 {background-color: #FFFF10;}\n",
       ".cython.score-144 {background-color: #FFFF10;}\n",
       ".cython.score-145 {background-color: #FFFF10;}\n",
       ".cython.score-146 {background-color: #FFFF10;}\n",
       ".cython.score-147 {background-color: #FFFF10;}\n",
       ".cython.score-148 {background-color: #FFFF10;}\n",
       ".cython.score-149 {background-color: #FFFF10;}\n",
       ".cython.score-150 {background-color: #FFFF0f;}\n",
       ".cython.score-151 {background-color: #FFFF0f;}\n",
       ".cython.score-152 {background-color: #FFFF0f;}\n",
       ".cython.score-153 {background-color: #FFFF0f;}\n",
       ".cython.score-154 {background-color: #FFFF0f;}\n",
       ".cython.score-155 {background-color: #FFFF0f;}\n",
       ".cython.score-156 {background-color: #FFFF0f;}\n",
       ".cython.score-157 {background-color: #FFFF0f;}\n",
       ".cython.score-158 {background-color: #FFFF0f;}\n",
       ".cython.score-159 {background-color: #FFFF0f;}\n",
       ".cython.score-160 {background-color: #FFFF0f;}\n",
       ".cython.score-161 {background-color: #FFFF0e;}\n",
       ".cython.score-162 {background-color: #FFFF0e;}\n",
       ".cython.score-163 {background-color: #FFFF0e;}\n",
       ".cython.score-164 {background-color: #FFFF0e;}\n",
       ".cython.score-165 {background-color: #FFFF0e;}\n",
       ".cython.score-166 {background-color: #FFFF0e;}\n",
       ".cython.score-167 {background-color: #FFFF0e;}\n",
       ".cython.score-168 {background-color: #FFFF0e;}\n",
       ".cython.score-169 {background-color: #FFFF0e;}\n",
       ".cython.score-170 {background-color: #FFFF0e;}\n",
       ".cython.score-171 {background-color: #FFFF0e;}\n",
       ".cython.score-172 {background-color: #FFFF0e;}\n",
       ".cython.score-173 {background-color: #FFFF0d;}\n",
       ".cython.score-174 {background-color: #FFFF0d;}\n",
       ".cython.score-175 {background-color: #FFFF0d;}\n",
       ".cython.score-176 {background-color: #FFFF0d;}\n",
       ".cython.score-177 {background-color: #FFFF0d;}\n",
       ".cython.score-178 {background-color: #FFFF0d;}\n",
       ".cython.score-179 {background-color: #FFFF0d;}\n",
       ".cython.score-180 {background-color: #FFFF0d;}\n",
       ".cython.score-181 {background-color: #FFFF0d;}\n",
       ".cython.score-182 {background-color: #FFFF0d;}\n",
       ".cython.score-183 {background-color: #FFFF0d;}\n",
       ".cython.score-184 {background-color: #FFFF0d;}\n",
       ".cython.score-185 {background-color: #FFFF0d;}\n",
       ".cython.score-186 {background-color: #FFFF0d;}\n",
       ".cython.score-187 {background-color: #FFFF0c;}\n",
       ".cython.score-188 {background-color: #FFFF0c;}\n",
       ".cython.score-189 {background-color: #FFFF0c;}\n",
       ".cython.score-190 {background-color: #FFFF0c;}\n",
       ".cython.score-191 {background-color: #FFFF0c;}\n",
       ".cython.score-192 {background-color: #FFFF0c;}\n",
       ".cython.score-193 {background-color: #FFFF0c;}\n",
       ".cython.score-194 {background-color: #FFFF0c;}\n",
       ".cython.score-195 {background-color: #FFFF0c;}\n",
       ".cython.score-196 {background-color: #FFFF0c;}\n",
       ".cython.score-197 {background-color: #FFFF0c;}\n",
       ".cython.score-198 {background-color: #FFFF0c;}\n",
       ".cython.score-199 {background-color: #FFFF0c;}\n",
       ".cython.score-200 {background-color: #FFFF0c;}\n",
       ".cython.score-201 {background-color: #FFFF0c;}\n",
       ".cython.score-202 {background-color: #FFFF0c;}\n",
       ".cython.score-203 {background-color: #FFFF0b;}\n",
       ".cython.score-204 {background-color: #FFFF0b;}\n",
       ".cython.score-205 {background-color: #FFFF0b;}\n",
       ".cython.score-206 {background-color: #FFFF0b;}\n",
       ".cython.score-207 {background-color: #FFFF0b;}\n",
       ".cython.score-208 {background-color: #FFFF0b;}\n",
       ".cython.score-209 {background-color: #FFFF0b;}\n",
       ".cython.score-210 {background-color: #FFFF0b;}\n",
       ".cython.score-211 {background-color: #FFFF0b;}\n",
       ".cython.score-212 {background-color: #FFFF0b;}\n",
       ".cython.score-213 {background-color: #FFFF0b;}\n",
       ".cython.score-214 {background-color: #FFFF0b;}\n",
       ".cython.score-215 {background-color: #FFFF0b;}\n",
       ".cython.score-216 {background-color: #FFFF0b;}\n",
       ".cython.score-217 {background-color: #FFFF0b;}\n",
       ".cython.score-218 {background-color: #FFFF0b;}\n",
       ".cython.score-219 {background-color: #FFFF0b;}\n",
       ".cython.score-220 {background-color: #FFFF0b;}\n",
       ".cython.score-221 {background-color: #FFFF0b;}\n",
       ".cython.score-222 {background-color: #FFFF0a;}\n",
       ".cython.score-223 {background-color: #FFFF0a;}\n",
       ".cython.score-224 {background-color: #FFFF0a;}\n",
       ".cython.score-225 {background-color: #FFFF0a;}\n",
       ".cython.score-226 {background-color: #FFFF0a;}\n",
       ".cython.score-227 {background-color: #FFFF0a;}\n",
       ".cython.score-228 {background-color: #FFFF0a;}\n",
       ".cython.score-229 {background-color: #FFFF0a;}\n",
       ".cython.score-230 {background-color: #FFFF0a;}\n",
       ".cython.score-231 {background-color: #FFFF0a;}\n",
       ".cython.score-232 {background-color: #FFFF0a;}\n",
       ".cython.score-233 {background-color: #FFFF0a;}\n",
       ".cython.score-234 {background-color: #FFFF0a;}\n",
       ".cython.score-235 {background-color: #FFFF0a;}\n",
       ".cython.score-236 {background-color: #FFFF0a;}\n",
       ".cython.score-237 {background-color: #FFFF0a;}\n",
       ".cython.score-238 {background-color: #FFFF0a;}\n",
       ".cython.score-239 {background-color: #FFFF0a;}\n",
       ".cython.score-240 {background-color: #FFFF0a;}\n",
       ".cython.score-241 {background-color: #FFFF0a;}\n",
       ".cython.score-242 {background-color: #FFFF0a;}\n",
       ".cython.score-243 {background-color: #FFFF0a;}\n",
       ".cython.score-244 {background-color: #FFFF0a;}\n",
       ".cython.score-245 {background-color: #FFFF0a;}\n",
       ".cython.score-246 {background-color: #FFFF09;}\n",
       ".cython.score-247 {background-color: #FFFF09;}\n",
       ".cython.score-248 {background-color: #FFFF09;}\n",
       ".cython.score-249 {background-color: #FFFF09;}\n",
       ".cython.score-250 {background-color: #FFFF09;}\n",
       ".cython.score-251 {background-color: #FFFF09;}\n",
       ".cython.score-252 {background-color: #FFFF09;}\n",
       ".cython.score-253 {background-color: #FFFF09;}\n",
       ".cython.score-254 {background-color: #FFFF09;}\n",
       "pre { line-height: 125%; }\n",
       "td.linenos .normal { color: inherit; background-color: transparent; padding-left: 5px; padding-right: 5px; }\n",
       "span.linenos { color: inherit; background-color: transparent; padding-left: 5px; padding-right: 5px; }\n",
       "td.linenos .special { color: #000000; background-color: #ffffc0; padding-left: 5px; padding-right: 5px; }\n",
       "span.linenos.special { color: #000000; background-color: #ffffc0; padding-left: 5px; padding-right: 5px; }\n",
       ".cython .hll { background-color: #ffffcc }\n",
       ".cython { background: #f8f8f8; }\n",
       ".cython .c { color: #3D7B7B; font-style: italic } /* Comment */\n",
       ".cython .err { border: 1px solid #FF0000 } /* Error */\n",
       ".cython .k { color: #008000; font-weight: bold } /* Keyword */\n",
       ".cython .o { color: #666666 } /* Operator */\n",
       ".cython .ch { color: #3D7B7B; font-style: italic } /* Comment.Hashbang */\n",
       ".cython .cm { color: #3D7B7B; font-style: italic } /* Comment.Multiline */\n",
       ".cython .cp { color: #9C6500 } /* Comment.Preproc */\n",
       ".cython .cpf { color: #3D7B7B; font-style: italic } /* Comment.PreprocFile */\n",
       ".cython .c1 { color: #3D7B7B; font-style: italic } /* Comment.Single */\n",
       ".cython .cs { color: #3D7B7B; font-style: italic } /* Comment.Special */\n",
       ".cython .gd { color: #A00000 } /* Generic.Deleted */\n",
       ".cython .ge { font-style: italic } /* Generic.Emph */\n",
       ".cython .gr { color: #E40000 } /* Generic.Error */\n",
       ".cython .gh { color: #000080; font-weight: bold } /* Generic.Heading */\n",
       ".cython .gi { color: #008400 } /* Generic.Inserted */\n",
       ".cython .go { color: #717171 } /* Generic.Output */\n",
       ".cython .gp { color: #000080; font-weight: bold } /* Generic.Prompt */\n",
       ".cython .gs { font-weight: bold } /* Generic.Strong */\n",
       ".cython .gu { color: #800080; font-weight: bold } /* Generic.Subheading */\n",
       ".cython .gt { color: #0044DD } /* Generic.Traceback */\n",
       ".cython .kc { color: #008000; font-weight: bold } /* Keyword.Constant */\n",
       ".cython .kd { color: #008000; font-weight: bold } /* Keyword.Declaration */\n",
       ".cython .kn { color: #008000; font-weight: bold } /* Keyword.Namespace */\n",
       ".cython .kp { color: #008000 } /* Keyword.Pseudo */\n",
       ".cython .kr { color: #008000; font-weight: bold } /* Keyword.Reserved */\n",
       ".cython .kt { color: #B00040 } /* Keyword.Type */\n",
       ".cython .m { color: #666666 } /* Literal.Number */\n",
       ".cython .s { color: #BA2121 } /* Literal.String */\n",
       ".cython .na { color: #687822 } /* Name.Attribute */\n",
       ".cython .nb { color: #008000 } /* Name.Builtin */\n",
       ".cython .nc { color: #0000FF; font-weight: bold } /* Name.Class */\n",
       ".cython .no { color: #880000 } /* Name.Constant */\n",
       ".cython .nd { color: #AA22FF } /* Name.Decorator */\n",
       ".cython .ni { color: #717171; font-weight: bold } /* Name.Entity */\n",
       ".cython .ne { color: #CB3F38; font-weight: bold } /* Name.Exception */\n",
       ".cython .nf { color: #0000FF } /* Name.Function */\n",
       ".cython .nl { color: #767600 } /* Name.Label */\n",
       ".cython .nn { color: #0000FF; font-weight: bold } /* Name.Namespace */\n",
       ".cython .nt { color: #008000; font-weight: bold } /* Name.Tag */\n",
       ".cython .nv { color: #19177C } /* Name.Variable */\n",
       ".cython .ow { color: #AA22FF; font-weight: bold } /* Operator.Word */\n",
       ".cython .w { color: #bbbbbb } /* Text.Whitespace */\n",
       ".cython .mb { color: #666666 } /* Literal.Number.Bin */\n",
       ".cython .mf { color: #666666 } /* Literal.Number.Float */\n",
       ".cython .mh { color: #666666 } /* Literal.Number.Hex */\n",
       ".cython .mi { color: #666666 } /* Literal.Number.Integer */\n",
       ".cython .mo { color: #666666 } /* Literal.Number.Oct */\n",
       ".cython .sa { color: #BA2121 } /* Literal.String.Affix */\n",
       ".cython .sb { color: #BA2121 } /* Literal.String.Backtick */\n",
       ".cython .sc { color: #BA2121 } /* Literal.String.Char */\n",
       ".cython .dl { color: #BA2121 } /* Literal.String.Delimiter */\n",
       ".cython .sd { color: #BA2121; font-style: italic } /* Literal.String.Doc */\n",
       ".cython .s2 { color: #BA2121 } /* Literal.String.Double */\n",
       ".cython .se { color: #AA5D1F; font-weight: bold } /* Literal.String.Escape */\n",
       ".cython .sh { color: #BA2121 } /* Literal.String.Heredoc */\n",
       ".cython .si { color: #A45A77; font-weight: bold } /* Literal.String.Interpol */\n",
       ".cython .sx { color: #008000 } /* Literal.String.Other */\n",
       ".cython .sr { color: #A45A77 } /* Literal.String.Regex */\n",
       ".cython .s1 { color: #BA2121 } /* Literal.String.Single */\n",
       ".cython .ss { color: #19177C } /* Literal.String.Symbol */\n",
       ".cython .bp { color: #008000 } /* Name.Builtin.Pseudo */\n",
       ".cython .fm { color: #0000FF } /* Name.Function.Magic */\n",
       ".cython .vc { color: #19177C } /* Name.Variable.Class */\n",
       ".cython .vg { color: #19177C } /* Name.Variable.Global */\n",
       ".cython .vi { color: #19177C } /* Name.Variable.Instance */\n",
       ".cython .vm { color: #19177C } /* Name.Variable.Magic */\n",
       ".cython .il { color: #666666 } /* Literal.Number.Integer.Long */\n",
       "    </style>\n",
       "</head>\n",
       "<body class=\"cython\">\n",
       "<p><span style=\"border-bottom: solid 1px grey;\">Generated by Cython 0.29.25</span></p>\n",
       "<p>\n",
       "    <span style=\"background-color: #FFFF00\">Yellow lines</span> hint at Python interaction.<br />\n",
       "    Click on a line that starts with a \"<code>+</code>\" to see the C code that Cython generated for it.\n",
       "</p>\n",
       "<div class=\"cython\"><pre class=\"cython line score-16\" onclick=\"(function(s){s.display=s.display==='block'?'none':'block'})(this.nextElementSibling.style)\">+<span class=\"\">01</span>: <span class=\"k\">import</span> <span class=\"nn\">math</span><span class=\"o\">,</span> <span class=\"nn\">numpy</span></pre>\n",
       "<pre class='cython code score-16 '>  __pyx_t_1 = <span class='pyx_c_api'>__Pyx_Import</span>(__pyx_n_s_math, 0, 0);<span class='error_goto'> if (unlikely(!__pyx_t_1)) __PYX_ERR(0, 1, __pyx_L1_error)</span>\n",
       "  <span class='refnanny'>__Pyx_GOTREF</span>(__pyx_t_1);\n",
       "  if (<span class='py_c_api'>PyDict_SetItem</span>(__pyx_d, __pyx_n_s_math, __pyx_t_1) &lt; 0) <span class='error_goto'>__PYX_ERR(0, 1, __pyx_L1_error)</span>\n",
       "  <span class='pyx_macro_api'>__Pyx_DECREF</span>(__pyx_t_1); __pyx_t_1 = 0;\n",
       "  __pyx_t_1 = <span class='pyx_c_api'>__Pyx_Import</span>(__pyx_n_s_numpy, 0, 0);<span class='error_goto'> if (unlikely(!__pyx_t_1)) __PYX_ERR(0, 1, __pyx_L1_error)</span>\n",
       "  <span class='refnanny'>__Pyx_GOTREF</span>(__pyx_t_1);\n",
       "  if (<span class='py_c_api'>PyDict_SetItem</span>(__pyx_d, __pyx_n_s_numpy, __pyx_t_1) &lt; 0) <span class='error_goto'>__PYX_ERR(0, 1, __pyx_L1_error)</span>\n",
       "  <span class='pyx_macro_api'>__Pyx_DECREF</span>(__pyx_t_1); __pyx_t_1 = 0;\n",
       "</pre><pre class=\"cython line score-24\" onclick=\"(function(s){s.display=s.display==='block'?'none':'block'})(this.nextElementSibling.style)\">+<span class=\"\">02</span>: <span class=\"k\">def</span> <span class=\"nf\">compute_cosx_cython</span><span class=\"p\">(</span><span class=\"n\">tseries</span><span class=\"p\">):</span></pre>\n",
       "<pre class='cython code score-24 '>/* Python wrapper */\n",
       "static PyObject *__pyx_pw_46_cython_magic_534906b76ead1d77418c61447350fa62_1compute_cosx_cython(PyObject *__pyx_self, PyObject *__pyx_v_tseries); /*proto*/\n",
       "static char __pyx_doc_46_cython_magic_534906b76ead1d77418c61447350fa62_compute_cosx_cython[] = \"\\n    Computes cos(t) for all values in tseries\\n    \";\n",
       "static PyMethodDef __pyx_mdef_46_cython_magic_534906b76ead1d77418c61447350fa62_1compute_cosx_cython = {\"compute_cosx_cython\", (PyCFunction)__pyx_pw_46_cython_magic_534906b76ead1d77418c61447350fa62_1compute_cosx_cython, METH_O, __pyx_doc_46_cython_magic_534906b76ead1d77418c61447350fa62_compute_cosx_cython};\n",
       "static PyObject *__pyx_pw_46_cython_magic_534906b76ead1d77418c61447350fa62_1compute_cosx_cython(PyObject *__pyx_self, PyObject *__pyx_v_tseries) {\n",
       "  PyObject *__pyx_r = 0;\n",
       "  <span class='refnanny'>__Pyx_RefNannyDeclarations</span>\n",
       "  <span class='refnanny'>__Pyx_RefNannySetupContext</span>(\"compute_cosx_cython (wrapper)\", 0);\n",
       "  __pyx_r = __pyx_pf_46_cython_magic_534906b76ead1d77418c61447350fa62_compute_cosx_cython(__pyx_self, ((PyObject *)__pyx_v_tseries));\n",
       "\n",
       "  /* function exit code */\n",
       "  <span class='refnanny'>__Pyx_RefNannyFinishContext</span>();\n",
       "  return __pyx_r;\n",
       "}\n",
       "\n",
       "static PyObject *__pyx_pf_46_cython_magic_534906b76ead1d77418c61447350fa62_compute_cosx_cython(CYTHON_UNUSED PyObject *__pyx_self, PyObject *__pyx_v_tseries) {\n",
       "  PyObject *__pyx_v_cosx = NULL;\n",
       "  PyObject *__pyx_v_idx = NULL;\n",
       "  CYTHON_UNUSED PyObject *__pyx_v_tval = NULL;\n",
       "  PyObject *__pyx_r = NULL;\n",
       "  <span class='refnanny'>__Pyx_RefNannyDeclarations</span>\n",
       "  <span class='refnanny'>__Pyx_RefNannySetupContext</span>(\"compute_cosx_cython\", 0);\n",
       "/* … */\n",
       "  /* function exit code */\n",
       "  __pyx_L1_error:;\n",
       "  <span class='pyx_macro_api'>__Pyx_XDECREF</span>(__pyx_t_1);\n",
       "  <span class='pyx_macro_api'>__Pyx_XDECREF</span>(__pyx_t_2);\n",
       "  <span class='pyx_macro_api'>__Pyx_XDECREF</span>(__pyx_t_3);\n",
       "  <span class='pyx_macro_api'>__Pyx_XDECREF</span>(__pyx_t_5);\n",
       "  <span class='pyx_macro_api'>__Pyx_XDECREF</span>(__pyx_t_7);\n",
       "  <span class='pyx_macro_api'>__Pyx_XDECREF</span>(__pyx_t_8);\n",
       "  <span class='pyx_c_api'>__Pyx_AddTraceback</span>(\"_cython_magic_534906b76ead1d77418c61447350fa62.compute_cosx_cython\", __pyx_clineno, __pyx_lineno, __pyx_filename);\n",
       "  __pyx_r = NULL;\n",
       "  __pyx_L0:;\n",
       "  <span class='pyx_macro_api'>__Pyx_XDECREF</span>(__pyx_v_cosx);\n",
       "  <span class='pyx_macro_api'>__Pyx_XDECREF</span>(__pyx_v_idx);\n",
       "  <span class='pyx_macro_api'>__Pyx_XDECREF</span>(__pyx_v_tval);\n",
       "  <span class='refnanny'>__Pyx_XGIVEREF</span>(__pyx_r);\n",
       "  <span class='refnanny'>__Pyx_RefNannyFinishContext</span>();\n",
       "  return __pyx_r;\n",
       "}\n",
       "/* … */\n",
       "  __pyx_tuple_ = <span class='py_c_api'>PyTuple_Pack</span>(4, __pyx_n_s_tseries, __pyx_n_s_cosx, __pyx_n_s_idx, __pyx_n_s_tval);<span class='error_goto'> if (unlikely(!__pyx_tuple_)) __PYX_ERR(0, 2, __pyx_L1_error)</span>\n",
       "  <span class='refnanny'>__Pyx_GOTREF</span>(__pyx_tuple_);\n",
       "  <span class='refnanny'>__Pyx_GIVEREF</span>(__pyx_tuple_);\n",
       "/* … */\n",
       "  __pyx_t_1 = PyCFunction_NewEx(&amp;__pyx_mdef_46_cython_magic_534906b76ead1d77418c61447350fa62_1compute_cosx_cython, NULL, __pyx_n_s_cython_magic_534906b76ead1d7741);<span class='error_goto'> if (unlikely(!__pyx_t_1)) __PYX_ERR(0, 2, __pyx_L1_error)</span>\n",
       "  <span class='refnanny'>__Pyx_GOTREF</span>(__pyx_t_1);\n",
       "  if (<span class='py_c_api'>PyDict_SetItem</span>(__pyx_d, __pyx_n_s_compute_cosx_cython, __pyx_t_1) &lt; 0) <span class='error_goto'>__PYX_ERR(0, 2, __pyx_L1_error)</span>\n",
       "  <span class='pyx_macro_api'>__Pyx_DECREF</span>(__pyx_t_1); __pyx_t_1 = 0;\n",
       "  __pyx_codeobj__2 = (PyObject*)<span class='pyx_c_api'>__Pyx_PyCode_New</span>(1, 0, 4, 0, CO_OPTIMIZED|CO_NEWLOCALS, __pyx_empty_bytes, __pyx_empty_tuple, __pyx_empty_tuple, __pyx_tuple_, __pyx_empty_tuple, __pyx_empty_tuple, __pyx_kp_s_Users_iwharry_ipython_cython__c, __pyx_n_s_compute_cosx_cython, 2, __pyx_empty_bytes);<span class='error_goto'> if (unlikely(!__pyx_codeobj__2)) __PYX_ERR(0, 2, __pyx_L1_error)</span>\n",
       "</pre><pre class=\"cython line score-0\">&#xA0;<span class=\"\">03</span>: <span class=\"w\">    </span><span class=\"sd\">&quot;&quot;&quot;</span></pre>\n",
       "<pre class=\"cython line score-0\">&#xA0;<span class=\"\">04</span>: <span class=\"sd\">    Computes cos(t) for all values in tseries</span></pre>\n",
       "<pre class=\"cython line score-0\">&#xA0;<span class=\"\">05</span>: <span class=\"sd\">    &quot;&quot;&quot;</span></pre>\n",
       "<pre class=\"cython line score-30\" onclick=\"(function(s){s.display=s.display==='block'?'none':'block'})(this.nextElementSibling.style)\">+<span class=\"\">06</span>:     <span class=\"n\">cosx</span> <span class=\"o\">=</span> <span class=\"n\">numpy</span><span class=\"o\">.</span><span class=\"n\">zeros</span><span class=\"p\">(</span><span class=\"nb\">len</span><span class=\"p\">(</span><span class=\"n\">tseries</span><span class=\"p\">))</span></pre>\n",
       "<pre class='cython code score-30 '>  <span class='pyx_c_api'>__Pyx_GetModuleGlobalName</span>(__pyx_t_2, __pyx_n_s_numpy);<span class='error_goto'> if (unlikely(!__pyx_t_2)) __PYX_ERR(0, 6, __pyx_L1_error)</span>\n",
       "  <span class='refnanny'>__Pyx_GOTREF</span>(__pyx_t_2);\n",
       "  __pyx_t_3 = <span class='pyx_c_api'>__Pyx_PyObject_GetAttrStr</span>(__pyx_t_2, __pyx_n_s_zeros);<span class='error_goto'> if (unlikely(!__pyx_t_3)) __PYX_ERR(0, 6, __pyx_L1_error)</span>\n",
       "  <span class='refnanny'>__Pyx_GOTREF</span>(__pyx_t_3);\n",
       "  <span class='pyx_macro_api'>__Pyx_DECREF</span>(__pyx_t_2); __pyx_t_2 = 0;\n",
       "  __pyx_t_4 = <span class='py_c_api'>PyObject_Length</span>(__pyx_v_tseries);<span class='error_goto'> if (unlikely(__pyx_t_4 == ((Py_ssize_t)-1))) __PYX_ERR(0, 6, __pyx_L1_error)</span>\n",
       "  __pyx_t_2 = <span class='py_c_api'>PyInt_FromSsize_t</span>(__pyx_t_4);<span class='error_goto'> if (unlikely(!__pyx_t_2)) __PYX_ERR(0, 6, __pyx_L1_error)</span>\n",
       "  <span class='refnanny'>__Pyx_GOTREF</span>(__pyx_t_2);\n",
       "  __pyx_t_5 = NULL;\n",
       "  if (CYTHON_UNPACK_METHODS &amp;&amp; unlikely(<span class='py_c_api'>PyMethod_Check</span>(__pyx_t_3))) {\n",
       "    __pyx_t_5 = <span class='py_macro_api'>PyMethod_GET_SELF</span>(__pyx_t_3);\n",
       "    if (likely(__pyx_t_5)) {\n",
       "      PyObject* function = <span class='py_macro_api'>PyMethod_GET_FUNCTION</span>(__pyx_t_3);\n",
       "      <span class='pyx_macro_api'>__Pyx_INCREF</span>(__pyx_t_5);\n",
       "      <span class='pyx_macro_api'>__Pyx_INCREF</span>(function);\n",
       "      <span class='pyx_macro_api'>__Pyx_DECREF_SET</span>(__pyx_t_3, function);\n",
       "    }\n",
       "  }\n",
       "  __pyx_t_1 = (__pyx_t_5) ? __Pyx_PyObject_Call2Args(__pyx_t_3, __pyx_t_5, __pyx_t_2) : <span class='pyx_c_api'>__Pyx_PyObject_CallOneArg</span>(__pyx_t_3, __pyx_t_2);\n",
       "  <span class='pyx_macro_api'>__Pyx_XDECREF</span>(__pyx_t_5); __pyx_t_5 = 0;\n",
       "  <span class='pyx_macro_api'>__Pyx_DECREF</span>(__pyx_t_2); __pyx_t_2 = 0;\n",
       "  if (unlikely(!__pyx_t_1)) <span class='error_goto'>__PYX_ERR(0, 6, __pyx_L1_error)</span>\n",
       "  <span class='refnanny'>__Pyx_GOTREF</span>(__pyx_t_1);\n",
       "  <span class='pyx_macro_api'>__Pyx_DECREF</span>(__pyx_t_3); __pyx_t_3 = 0;\n",
       "  __pyx_v_cosx = __pyx_t_1;\n",
       "  __pyx_t_1 = 0;\n",
       "</pre><pre class=\"cython line score-50\" onclick=\"(function(s){s.display=s.display==='block'?'none':'block'})(this.nextElementSibling.style)\">+<span class=\"\">07</span>:     <span class=\"k\">for</span> <span class=\"n\">idx</span><span class=\"p\">,</span> <span class=\"n\">tval</span> <span class=\"ow\">in</span> <span class=\"nb\">enumerate</span><span class=\"p\">(</span><span class=\"n\">tseries</span><span class=\"p\">):</span></pre>\n",
       "<pre class='cython code score-50 '>  <span class='pyx_macro_api'>__Pyx_INCREF</span>(__pyx_int_0);\n",
       "  __pyx_t_1 = __pyx_int_0;\n",
       "  if (likely(<span class='py_c_api'>PyList_CheckExact</span>(__pyx_v_tseries)) || <span class='py_c_api'>PyTuple_CheckExact</span>(__pyx_v_tseries)) {\n",
       "    __pyx_t_3 = __pyx_v_tseries; <span class='pyx_macro_api'>__Pyx_INCREF</span>(__pyx_t_3); __pyx_t_4 = 0;\n",
       "    __pyx_t_6 = NULL;\n",
       "  } else {\n",
       "    __pyx_t_4 = -1; __pyx_t_3 = <span class='py_c_api'>PyObject_GetIter</span>(__pyx_v_tseries);<span class='error_goto'> if (unlikely(!__pyx_t_3)) __PYX_ERR(0, 7, __pyx_L1_error)</span>\n",
       "    <span class='refnanny'>__Pyx_GOTREF</span>(__pyx_t_3);\n",
       "    __pyx_t_6 = Py_TYPE(__pyx_t_3)-&gt;tp_iternext;<span class='error_goto'> if (unlikely(!__pyx_t_6)) __PYX_ERR(0, 7, __pyx_L1_error)</span>\n",
       "  }\n",
       "  for (;;) {\n",
       "    if (likely(!__pyx_t_6)) {\n",
       "      if (likely(<span class='py_c_api'>PyList_CheckExact</span>(__pyx_t_3))) {\n",
       "        if (__pyx_t_4 &gt;= <span class='py_macro_api'>PyList_GET_SIZE</span>(__pyx_t_3)) break;\n",
       "        #if CYTHON_ASSUME_SAFE_MACROS &amp;&amp; !CYTHON_AVOID_BORROWED_REFS\n",
       "        __pyx_t_2 = <span class='py_macro_api'>PyList_GET_ITEM</span>(__pyx_t_3, __pyx_t_4); <span class='pyx_macro_api'>__Pyx_INCREF</span>(__pyx_t_2); __pyx_t_4++; if (unlikely(0 &lt; 0)) <span class='error_goto'>__PYX_ERR(0, 7, __pyx_L1_error)</span>\n",
       "        #else\n",
       "        __pyx_t_2 = <span class='py_macro_api'>PySequence_ITEM</span>(__pyx_t_3, __pyx_t_4); __pyx_t_4++;<span class='error_goto'> if (unlikely(!__pyx_t_2)) __PYX_ERR(0, 7, __pyx_L1_error)</span>\n",
       "        <span class='refnanny'>__Pyx_GOTREF</span>(__pyx_t_2);\n",
       "        #endif\n",
       "      } else {\n",
       "        if (__pyx_t_4 &gt;= <span class='py_macro_api'>PyTuple_GET_SIZE</span>(__pyx_t_3)) break;\n",
       "        #if CYTHON_ASSUME_SAFE_MACROS &amp;&amp; !CYTHON_AVOID_BORROWED_REFS\n",
       "        __pyx_t_2 = <span class='py_macro_api'>PyTuple_GET_ITEM</span>(__pyx_t_3, __pyx_t_4); <span class='pyx_macro_api'>__Pyx_INCREF</span>(__pyx_t_2); __pyx_t_4++; if (unlikely(0 &lt; 0)) <span class='error_goto'>__PYX_ERR(0, 7, __pyx_L1_error)</span>\n",
       "        #else\n",
       "        __pyx_t_2 = <span class='py_macro_api'>PySequence_ITEM</span>(__pyx_t_3, __pyx_t_4); __pyx_t_4++;<span class='error_goto'> if (unlikely(!__pyx_t_2)) __PYX_ERR(0, 7, __pyx_L1_error)</span>\n",
       "        <span class='refnanny'>__Pyx_GOTREF</span>(__pyx_t_2);\n",
       "        #endif\n",
       "      }\n",
       "    } else {\n",
       "      __pyx_t_2 = __pyx_t_6(__pyx_t_3);\n",
       "      if (unlikely(!__pyx_t_2)) {\n",
       "        PyObject* exc_type = <span class='py_c_api'>PyErr_Occurred</span>();\n",
       "        if (exc_type) {\n",
       "          if (likely(<span class='pyx_c_api'>__Pyx_PyErr_GivenExceptionMatches</span>(exc_type, PyExc_StopIteration))) <span class='py_c_api'>PyErr_Clear</span>();\n",
       "          else <span class='error_goto'>__PYX_ERR(0, 7, __pyx_L1_error)</span>\n",
       "        }\n",
       "        break;\n",
       "      }\n",
       "      <span class='refnanny'>__Pyx_GOTREF</span>(__pyx_t_2);\n",
       "    }\n",
       "    <span class='pyx_macro_api'>__Pyx_XDECREF_SET</span>(__pyx_v_tval, __pyx_t_2);\n",
       "    __pyx_t_2 = 0;\n",
       "    <span class='pyx_macro_api'>__Pyx_INCREF</span>(__pyx_t_1);\n",
       "    <span class='pyx_macro_api'>__Pyx_XDECREF_SET</span>(__pyx_v_idx, __pyx_t_1);\n",
       "    __pyx_t_2 = <span class='pyx_c_api'>__Pyx_PyInt_AddObjC</span>(__pyx_t_1, __pyx_int_1, 1, 0, 0);<span class='error_goto'> if (unlikely(!__pyx_t_2)) __PYX_ERR(0, 7, __pyx_L1_error)</span>\n",
       "    <span class='refnanny'>__Pyx_GOTREF</span>(__pyx_t_2);\n",
       "    <span class='pyx_macro_api'>__Pyx_DECREF</span>(__pyx_t_1);\n",
       "    __pyx_t_1 = __pyx_t_2;\n",
       "    __pyx_t_2 = 0;\n",
       "/* … */\n",
       "  }\n",
       "  <span class='pyx_macro_api'>__Pyx_DECREF</span>(__pyx_t_3); __pyx_t_3 = 0;\n",
       "  <span class='pyx_macro_api'>__Pyx_DECREF</span>(__pyx_t_1); __pyx_t_1 = 0;\n",
       "</pre><pre class=\"cython line score-28\" onclick=\"(function(s){s.display=s.display==='block'?'none':'block'})(this.nextElementSibling.style)\">+<span class=\"\">08</span>:         <span class=\"n\">cosx</span><span class=\"p\">[</span><span class=\"n\">idx</span><span class=\"p\">]</span> <span class=\"o\">=</span> <span class=\"n\">math</span><span class=\"o\">.</span><span class=\"n\">cos</span><span class=\"p\">(</span><span class=\"n\">tseries</span><span class=\"p\">[</span><span class=\"n\">idx</span><span class=\"p\">])</span></pre>\n",
       "<pre class='cython code score-28 '>    <span class='pyx_c_api'>__Pyx_GetModuleGlobalName</span>(__pyx_t_5, __pyx_n_s_math);<span class='error_goto'> if (unlikely(!__pyx_t_5)) __PYX_ERR(0, 8, __pyx_L1_error)</span>\n",
       "    <span class='refnanny'>__Pyx_GOTREF</span>(__pyx_t_5);\n",
       "    __pyx_t_7 = <span class='pyx_c_api'>__Pyx_PyObject_GetAttrStr</span>(__pyx_t_5, __pyx_n_s_cos);<span class='error_goto'> if (unlikely(!__pyx_t_7)) __PYX_ERR(0, 8, __pyx_L1_error)</span>\n",
       "    <span class='refnanny'>__Pyx_GOTREF</span>(__pyx_t_7);\n",
       "    <span class='pyx_macro_api'>__Pyx_DECREF</span>(__pyx_t_5); __pyx_t_5 = 0;\n",
       "    __pyx_t_5 = <span class='pyx_c_api'>__Pyx_PyObject_GetItem</span>(__pyx_v_tseries, __pyx_v_idx);<span class='error_goto'> if (unlikely(!__pyx_t_5)) __PYX_ERR(0, 8, __pyx_L1_error)</span>\n",
       "    <span class='refnanny'>__Pyx_GOTREF</span>(__pyx_t_5);\n",
       "    __pyx_t_8 = NULL;\n",
       "    if (CYTHON_UNPACK_METHODS &amp;&amp; unlikely(<span class='py_c_api'>PyMethod_Check</span>(__pyx_t_7))) {\n",
       "      __pyx_t_8 = <span class='py_macro_api'>PyMethod_GET_SELF</span>(__pyx_t_7);\n",
       "      if (likely(__pyx_t_8)) {\n",
       "        PyObject* function = <span class='py_macro_api'>PyMethod_GET_FUNCTION</span>(__pyx_t_7);\n",
       "        <span class='pyx_macro_api'>__Pyx_INCREF</span>(__pyx_t_8);\n",
       "        <span class='pyx_macro_api'>__Pyx_INCREF</span>(function);\n",
       "        <span class='pyx_macro_api'>__Pyx_DECREF_SET</span>(__pyx_t_7, function);\n",
       "      }\n",
       "    }\n",
       "    __pyx_t_2 = (__pyx_t_8) ? __Pyx_PyObject_Call2Args(__pyx_t_7, __pyx_t_8, __pyx_t_5) : <span class='pyx_c_api'>__Pyx_PyObject_CallOneArg</span>(__pyx_t_7, __pyx_t_5);\n",
       "    <span class='pyx_macro_api'>__Pyx_XDECREF</span>(__pyx_t_8); __pyx_t_8 = 0;\n",
       "    <span class='pyx_macro_api'>__Pyx_DECREF</span>(__pyx_t_5); __pyx_t_5 = 0;\n",
       "    if (unlikely(!__pyx_t_2)) <span class='error_goto'>__PYX_ERR(0, 8, __pyx_L1_error)</span>\n",
       "    <span class='refnanny'>__Pyx_GOTREF</span>(__pyx_t_2);\n",
       "    <span class='pyx_macro_api'>__Pyx_DECREF</span>(__pyx_t_7); __pyx_t_7 = 0;\n",
       "    if (unlikely(<span class='py_c_api'>PyObject_SetItem</span>(__pyx_v_cosx, __pyx_v_idx, __pyx_t_2) &lt; 0)) <span class='error_goto'>__PYX_ERR(0, 8, __pyx_L1_error)</span>\n",
       "    <span class='pyx_macro_api'>__Pyx_DECREF</span>(__pyx_t_2); __pyx_t_2 = 0;\n",
       "</pre><pre class=\"cython line score-2\" onclick=\"(function(s){s.display=s.display==='block'?'none':'block'})(this.nextElementSibling.style)\">+<span class=\"\">09</span>:     <span class=\"k\">return</span> <span class=\"n\">cosx</span></pre>\n",
       "<pre class='cython code score-2 '>  <span class='pyx_macro_api'>__Pyx_XDECREF</span>(__pyx_r);\n",
       "  <span class='pyx_macro_api'>__Pyx_INCREF</span>(__pyx_v_cosx);\n",
       "  __pyx_r = __pyx_v_cosx;\n",
       "  goto __pyx_L0;\n",
       "</pre><pre class=\"cython line score-0\">&#xA0;<span class=\"\">10</span>: </pre>\n",
       "<pre class=\"cython line score-16\" onclick=\"(function(s){s.display=s.display==='block'?'none':'block'})(this.nextElementSibling.style)\">+<span class=\"\">11</span>: <span class=\"k\">def</span> <span class=\"nf\">compute_cosx_numpy_cython</span><span class=\"p\">(</span><span class=\"n\">tseries</span><span class=\"p\">):</span></pre>\n",
       "<pre class='cython code score-16 '>/* Python wrapper */\n",
       "static PyObject *__pyx_pw_46_cython_magic_534906b76ead1d77418c61447350fa62_3compute_cosx_numpy_cython(PyObject *__pyx_self, PyObject *__pyx_v_tseries); /*proto*/\n",
       "static char __pyx_doc_46_cython_magic_534906b76ead1d77418c61447350fa62_2compute_cosx_numpy_cython[] = \"\\n    Computes cos(t) for all values in tseries\\n    \";\n",
       "static PyMethodDef __pyx_mdef_46_cython_magic_534906b76ead1d77418c61447350fa62_3compute_cosx_numpy_cython = {\"compute_cosx_numpy_cython\", (PyCFunction)__pyx_pw_46_cython_magic_534906b76ead1d77418c61447350fa62_3compute_cosx_numpy_cython, METH_O, __pyx_doc_46_cython_magic_534906b76ead1d77418c61447350fa62_2compute_cosx_numpy_cython};\n",
       "static PyObject *__pyx_pw_46_cython_magic_534906b76ead1d77418c61447350fa62_3compute_cosx_numpy_cython(PyObject *__pyx_self, PyObject *__pyx_v_tseries) {\n",
       "  PyObject *__pyx_r = 0;\n",
       "  <span class='refnanny'>__Pyx_RefNannyDeclarations</span>\n",
       "  <span class='refnanny'>__Pyx_RefNannySetupContext</span>(\"compute_cosx_numpy_cython (wrapper)\", 0);\n",
       "  __pyx_r = __pyx_pf_46_cython_magic_534906b76ead1d77418c61447350fa62_2compute_cosx_numpy_cython(__pyx_self, ((PyObject *)__pyx_v_tseries));\n",
       "\n",
       "  /* function exit code */\n",
       "  <span class='refnanny'>__Pyx_RefNannyFinishContext</span>();\n",
       "  return __pyx_r;\n",
       "}\n",
       "\n",
       "static PyObject *__pyx_pf_46_cython_magic_534906b76ead1d77418c61447350fa62_2compute_cosx_numpy_cython(CYTHON_UNUSED PyObject *__pyx_self, PyObject *__pyx_v_tseries) {\n",
       "  PyObject *__pyx_r = NULL;\n",
       "  <span class='refnanny'>__Pyx_RefNannyDeclarations</span>\n",
       "  <span class='refnanny'>__Pyx_RefNannySetupContext</span>(\"compute_cosx_numpy_cython\", 0);\n",
       "/* … */\n",
       "  /* function exit code */\n",
       "  __pyx_L1_error:;\n",
       "  <span class='pyx_macro_api'>__Pyx_XDECREF</span>(__pyx_t_1);\n",
       "  <span class='pyx_macro_api'>__Pyx_XDECREF</span>(__pyx_t_2);\n",
       "  <span class='pyx_macro_api'>__Pyx_XDECREF</span>(__pyx_t_3);\n",
       "  <span class='pyx_c_api'>__Pyx_AddTraceback</span>(\"_cython_magic_534906b76ead1d77418c61447350fa62.compute_cosx_numpy_cython\", __pyx_clineno, __pyx_lineno, __pyx_filename);\n",
       "  __pyx_r = NULL;\n",
       "  __pyx_L0:;\n",
       "  <span class='refnanny'>__Pyx_XGIVEREF</span>(__pyx_r);\n",
       "  <span class='refnanny'>__Pyx_RefNannyFinishContext</span>();\n",
       "  return __pyx_r;\n",
       "}\n",
       "/* … */\n",
       "  __pyx_tuple__3 = <span class='py_c_api'>PyTuple_Pack</span>(1, __pyx_n_s_tseries);<span class='error_goto'> if (unlikely(!__pyx_tuple__3)) __PYX_ERR(0, 11, __pyx_L1_error)</span>\n",
       "  <span class='refnanny'>__Pyx_GOTREF</span>(__pyx_tuple__3);\n",
       "  <span class='refnanny'>__Pyx_GIVEREF</span>(__pyx_tuple__3);\n",
       "/* … */\n",
       "  __pyx_t_1 = PyCFunction_NewEx(&amp;__pyx_mdef_46_cython_magic_534906b76ead1d77418c61447350fa62_3compute_cosx_numpy_cython, NULL, __pyx_n_s_cython_magic_534906b76ead1d7741);<span class='error_goto'> if (unlikely(!__pyx_t_1)) __PYX_ERR(0, 11, __pyx_L1_error)</span>\n",
       "  <span class='refnanny'>__Pyx_GOTREF</span>(__pyx_t_1);\n",
       "  if (<span class='py_c_api'>PyDict_SetItem</span>(__pyx_d, __pyx_n_s_compute_cosx_numpy_cython, __pyx_t_1) &lt; 0) <span class='error_goto'>__PYX_ERR(0, 11, __pyx_L1_error)</span>\n",
       "  <span class='pyx_macro_api'>__Pyx_DECREF</span>(__pyx_t_1); __pyx_t_1 = 0;\n",
       "</pre><pre class=\"cython line score-0\">&#xA0;<span class=\"\">12</span>: <span class=\"w\">    </span><span class=\"sd\">&quot;&quot;&quot;</span></pre>\n",
       "<pre class=\"cython line score-0\">&#xA0;<span class=\"\">13</span>: <span class=\"sd\">    Computes cos(t) for all values in tseries</span></pre>\n",
       "<pre class=\"cython line score-0\">&#xA0;<span class=\"\">14</span>: <span class=\"sd\">    &quot;&quot;&quot;</span></pre>\n",
       "<pre class=\"cython line score-20\" onclick=\"(function(s){s.display=s.display==='block'?'none':'block'})(this.nextElementSibling.style)\">+<span class=\"\">15</span>:     <span class=\"k\">return</span> <span class=\"n\">numpy</span><span class=\"o\">.</span><span class=\"n\">cos</span><span class=\"p\">(</span><span class=\"n\">tseries</span><span class=\"p\">)</span></pre>\n",
       "<pre class='cython code score-20 '>  <span class='pyx_macro_api'>__Pyx_XDECREF</span>(__pyx_r);\n",
       "  <span class='pyx_c_api'>__Pyx_GetModuleGlobalName</span>(__pyx_t_2, __pyx_n_s_numpy);<span class='error_goto'> if (unlikely(!__pyx_t_2)) __PYX_ERR(0, 15, __pyx_L1_error)</span>\n",
       "  <span class='refnanny'>__Pyx_GOTREF</span>(__pyx_t_2);\n",
       "  __pyx_t_3 = <span class='pyx_c_api'>__Pyx_PyObject_GetAttrStr</span>(__pyx_t_2, __pyx_n_s_cos);<span class='error_goto'> if (unlikely(!__pyx_t_3)) __PYX_ERR(0, 15, __pyx_L1_error)</span>\n",
       "  <span class='refnanny'>__Pyx_GOTREF</span>(__pyx_t_3);\n",
       "  <span class='pyx_macro_api'>__Pyx_DECREF</span>(__pyx_t_2); __pyx_t_2 = 0;\n",
       "  __pyx_t_2 = NULL;\n",
       "  if (CYTHON_UNPACK_METHODS &amp;&amp; unlikely(<span class='py_c_api'>PyMethod_Check</span>(__pyx_t_3))) {\n",
       "    __pyx_t_2 = <span class='py_macro_api'>PyMethod_GET_SELF</span>(__pyx_t_3);\n",
       "    if (likely(__pyx_t_2)) {\n",
       "      PyObject* function = <span class='py_macro_api'>PyMethod_GET_FUNCTION</span>(__pyx_t_3);\n",
       "      <span class='pyx_macro_api'>__Pyx_INCREF</span>(__pyx_t_2);\n",
       "      <span class='pyx_macro_api'>__Pyx_INCREF</span>(function);\n",
       "      <span class='pyx_macro_api'>__Pyx_DECREF_SET</span>(__pyx_t_3, function);\n",
       "    }\n",
       "  }\n",
       "  __pyx_t_1 = (__pyx_t_2) ? __Pyx_PyObject_Call2Args(__pyx_t_3, __pyx_t_2, __pyx_v_tseries) : <span class='pyx_c_api'>__Pyx_PyObject_CallOneArg</span>(__pyx_t_3, __pyx_v_tseries);\n",
       "  <span class='pyx_macro_api'>__Pyx_XDECREF</span>(__pyx_t_2); __pyx_t_2 = 0;\n",
       "  if (unlikely(!__pyx_t_1)) <span class='error_goto'>__PYX_ERR(0, 15, __pyx_L1_error)</span>\n",
       "  <span class='refnanny'>__Pyx_GOTREF</span>(__pyx_t_1);\n",
       "  <span class='pyx_macro_api'>__Pyx_DECREF</span>(__pyx_t_3); __pyx_t_3 = 0;\n",
       "  __pyx_r = __pyx_t_1;\n",
       "  __pyx_t_1 = 0;\n",
       "  goto __pyx_L0;\n",
       "</pre></div></body></html>"
      ],
      "text/plain": [
       "<IPython.core.display.HTML object>"
      ]
     },
     "execution_count": 5,
     "metadata": {},
     "output_type": "execute_result"
    }
   ],
   "source": [
    "%%cython -a\n",
    "import math, numpy\n",
    "def compute_cosx_cython(tseries):\n",
    "    \"\"\"\n",
    "    Computes cos(t) for all values in tseries\n",
    "    \"\"\"\n",
    "    cosx = numpy.zeros(len(tseries))\n",
    "    for idx, tval in enumerate(tseries):\n",
    "        cosx[idx] = math.cos(tseries[idx])\n",
    "    return cosx\n",
    "\n",
    "def compute_cosx_numpy_cython(tseries):\n",
    "    \"\"\"\n",
    "    Computes cos(t) for all values in tseries\n",
    "    \"\"\"\n",
    "    return numpy.cos(tseries)"
   ]
  },
  {
   "cell_type": "markdown",
   "metadata": {
    "id": "R61oAa0EWikp"
   },
   "source": [
    "When this compiles it will give you a sense of how fast this will be. Lines that are dark yellow will not be particularly fast. You do *not* want time-critical lines to be yellow. However, it is nice to be able to write *unedited* python code in this way. Our slow unoptimized version of the code is *an order of magnitude* faster when called in this way ... and it took no real effort on our part to do that! Thought the numpy code is still much faster ... for now!"
   ]
  },
  {
   "cell_type": "code",
   "execution_count": 6,
   "metadata": {
    "colab": {
     "base_uri": "https://localhost:8080/"
    },
    "id": "9mffDC5QWikp",
    "outputId": "0df0a099-b8ef-4668-bb14-fdbdd3588616"
   },
   "outputs": [
    {
     "ename": "KeyboardInterrupt",
     "evalue": "",
     "output_type": "error",
     "traceback": [
      "\u001b[0;31m---------------------------------------------------------------------------\u001b[0m",
      "\u001b[0;31mKeyboardInterrupt\u001b[0m                         Traceback (most recent call last)",
      "Input \u001b[0;32mIn [6]\u001b[0m, in \u001b[0;36m<module>\u001b[0;34m\u001b[0m\n\u001b[0;32m----> 1\u001b[0m \u001b[43mget_ipython\u001b[49m\u001b[43m(\u001b[49m\u001b[43m)\u001b[49m\u001b[38;5;241;43m.\u001b[39;49m\u001b[43mrun_line_magic\u001b[49m\u001b[43m(\u001b[49m\u001b[38;5;124;43m'\u001b[39;49m\u001b[38;5;124;43mtimeit\u001b[39;49m\u001b[38;5;124;43m'\u001b[39;49m\u001b[43m,\u001b[49m\u001b[43m \u001b[49m\u001b[38;5;124;43m'\u001b[39;49m\u001b[38;5;124;43mcompute_cosx_cython(tseries)\u001b[39;49m\u001b[38;5;124;43m'\u001b[39;49m\u001b[43m)\u001b[49m\n\u001b[1;32m      2\u001b[0m get_ipython()\u001b[38;5;241m.\u001b[39mrun_line_magic(\u001b[38;5;124m'\u001b[39m\u001b[38;5;124mtimeit\u001b[39m\u001b[38;5;124m'\u001b[39m, \u001b[38;5;124m'\u001b[39m\u001b[38;5;124mcompute_cosx_numpy_cython(tseries)\u001b[39m\u001b[38;5;124m'\u001b[39m)\n",
      "File \u001b[0;32m/opt/homebrew/Caskroom/miniconda/base/envs/pycbc_test/lib/python3.9/site-packages/IPython/core/interactiveshell.py:2204\u001b[0m, in \u001b[0;36mInteractiveShell.run_line_magic\u001b[0;34m(self, magic_name, line, _stack_depth)\u001b[0m\n\u001b[1;32m   2202\u001b[0m     kwargs[\u001b[38;5;124m'\u001b[39m\u001b[38;5;124mlocal_ns\u001b[39m\u001b[38;5;124m'\u001b[39m] \u001b[38;5;241m=\u001b[39m \u001b[38;5;28mself\u001b[39m\u001b[38;5;241m.\u001b[39mget_local_scope(stack_depth)\n\u001b[1;32m   2203\u001b[0m \u001b[38;5;28;01mwith\u001b[39;00m \u001b[38;5;28mself\u001b[39m\u001b[38;5;241m.\u001b[39mbuiltin_trap:\n\u001b[0;32m-> 2204\u001b[0m     result \u001b[38;5;241m=\u001b[39m \u001b[43mfn\u001b[49m\u001b[43m(\u001b[49m\u001b[38;5;241;43m*\u001b[39;49m\u001b[43margs\u001b[49m\u001b[43m,\u001b[49m\u001b[43m \u001b[49m\u001b[38;5;241;43m*\u001b[39;49m\u001b[38;5;241;43m*\u001b[39;49m\u001b[43mkwargs\u001b[49m\u001b[43m)\u001b[49m\n\u001b[1;32m   2205\u001b[0m \u001b[38;5;28;01mreturn\u001b[39;00m result\n",
      "File \u001b[0;32m/opt/homebrew/Caskroom/miniconda/base/envs/pycbc_test/lib/python3.9/site-packages/IPython/core/magics/execution.py:1166\u001b[0m, in \u001b[0;36mExecutionMagics.timeit\u001b[0;34m(self, line, cell, local_ns)\u001b[0m\n\u001b[1;32m   1163\u001b[0m         \u001b[38;5;28;01mif\u001b[39;00m time_number \u001b[38;5;241m>\u001b[39m\u001b[38;5;241m=\u001b[39m \u001b[38;5;241m0.2\u001b[39m:\n\u001b[1;32m   1164\u001b[0m             \u001b[38;5;28;01mbreak\u001b[39;00m\n\u001b[0;32m-> 1166\u001b[0m all_runs \u001b[38;5;241m=\u001b[39m \u001b[43mtimer\u001b[49m\u001b[38;5;241;43m.\u001b[39;49m\u001b[43mrepeat\u001b[49m\u001b[43m(\u001b[49m\u001b[43mrepeat\u001b[49m\u001b[43m,\u001b[49m\u001b[43m \u001b[49m\u001b[43mnumber\u001b[49m\u001b[43m)\u001b[49m\n\u001b[1;32m   1167\u001b[0m best \u001b[38;5;241m=\u001b[39m \u001b[38;5;28mmin\u001b[39m(all_runs) \u001b[38;5;241m/\u001b[39m number\n\u001b[1;32m   1168\u001b[0m worst \u001b[38;5;241m=\u001b[39m \u001b[38;5;28mmax\u001b[39m(all_runs) \u001b[38;5;241m/\u001b[39m number\n",
      "File \u001b[0;32m/opt/homebrew/Caskroom/miniconda/base/envs/pycbc_test/lib/python3.9/timeit.py:205\u001b[0m, in \u001b[0;36mTimer.repeat\u001b[0;34m(self, repeat, number)\u001b[0m\n\u001b[1;32m    203\u001b[0m r \u001b[38;5;241m=\u001b[39m []\n\u001b[1;32m    204\u001b[0m \u001b[38;5;28;01mfor\u001b[39;00m i \u001b[38;5;129;01min\u001b[39;00m \u001b[38;5;28mrange\u001b[39m(repeat):\n\u001b[0;32m--> 205\u001b[0m     t \u001b[38;5;241m=\u001b[39m \u001b[38;5;28;43mself\u001b[39;49m\u001b[38;5;241;43m.\u001b[39;49m\u001b[43mtimeit\u001b[49m\u001b[43m(\u001b[49m\u001b[43mnumber\u001b[49m\u001b[43m)\u001b[49m\n\u001b[1;32m    206\u001b[0m     r\u001b[38;5;241m.\u001b[39mappend(t)\n\u001b[1;32m    207\u001b[0m \u001b[38;5;28;01mreturn\u001b[39;00m r\n",
      "File \u001b[0;32m/opt/homebrew/Caskroom/miniconda/base/envs/pycbc_test/lib/python3.9/site-packages/IPython/core/magics/execution.py:156\u001b[0m, in \u001b[0;36mTimer.timeit\u001b[0;34m(self, number)\u001b[0m\n\u001b[1;32m    154\u001b[0m gc\u001b[38;5;241m.\u001b[39mdisable()\n\u001b[1;32m    155\u001b[0m \u001b[38;5;28;01mtry\u001b[39;00m:\n\u001b[0;32m--> 156\u001b[0m     timing \u001b[38;5;241m=\u001b[39m \u001b[38;5;28;43mself\u001b[39;49m\u001b[38;5;241;43m.\u001b[39;49m\u001b[43minner\u001b[49m\u001b[43m(\u001b[49m\u001b[43mit\u001b[49m\u001b[43m,\u001b[49m\u001b[43m \u001b[49m\u001b[38;5;28;43mself\u001b[39;49m\u001b[38;5;241;43m.\u001b[39;49m\u001b[43mtimer\u001b[49m\u001b[43m)\u001b[49m\n\u001b[1;32m    157\u001b[0m \u001b[38;5;28;01mfinally\u001b[39;00m:\n\u001b[1;32m    158\u001b[0m     \u001b[38;5;28;01mif\u001b[39;00m gcold:\n",
      "File \u001b[0;32m<magic-timeit>:1\u001b[0m, in \u001b[0;36minner\u001b[0;34m(_it, _timer)\u001b[0m\n",
      "\u001b[0;31mKeyboardInterrupt\u001b[0m: "
     ]
    }
   ],
   "source": [
    "%timeit compute_cosx_cython(tseries)\n",
    "%timeit compute_cosx_numpy_cython(tseries)"
   ]
  },
  {
   "cell_type": "markdown",
   "metadata": {
    "id": "ztDhgJNPWikp"
   },
   "source": [
    "How can we go about making this faster? Well let's focus on the first function with the for loop, the second version uses a numpy function and there's not much point trying to optimize that. There's a few things we can do to optimize this\n",
    "\n",
    "* We use C's math library to call cos/sin. If we call math.cos or math.sin we're back in python code, and we must avoid that to be fast!\n",
    "* We declare the type of all variables. This is done using `cdef` followed by the type of variable, followed by it's name. So `cdef int idx` says that idx is going to be an integer.\n",
    "* Inputs to the function are similarly declared. Note the adding `[::1]` indicates a numpy array (or other array-like object in the standard configuration). So `double [::1]` can be interpreted as a numpy array of floats. (Python floats are 64-bit precision by default, which is called double in C).\n",
    "\n",
    "Declaring variable types explicitly makes the function a little less flexible but allows the compiled code to be significantly faster as it knows more precisely ahead of time what it will be asked to do! Note that I also declare the length of the array, and the idx used in the for loop before starting the for loop."
   ]
  },
  {
   "cell_type": "code",
   "execution_count": null,
   "metadata": {
    "colab": {
     "base_uri": "https://localhost:8080/",
     "height": 333
    },
    "id": "BsgEl_AWWikp",
    "outputId": "22e28bba-04be-4f0c-e44f-93862ba6e996",
    "scrolled": false
   },
   "outputs": [],
   "source": [
    "%%cython -a\n",
    "import numpy\n",
    "\n",
    "from libc.math cimport cos # This imports c's sin function from the math library\n",
    "\n",
    "def compute_cosx_cython(double [::1] timeseries):\n",
    "    \"\"\"\n",
    "    Computes cos(t) for all values in tseries\n",
    "    \"\"\"\n",
    "    cdef int n = timeseries.size # How many values in the timeseries\n",
    "    cdef int idx\n",
    "    cdef double[::1] cosx = numpy.zeros(n) # Create an array to store the cos(x) values\n",
    "    for idx in range(n):\n",
    "        cosx[idx] = cos(timeseries[idx])\n",
    "    return cosx\n"
   ]
  },
  {
   "cell_type": "code",
   "execution_count": null,
   "metadata": {
    "colab": {
     "base_uri": "https://localhost:8080/"
    },
    "id": "azKnH4p6ZJAT",
    "outputId": "813a1a60-8a15-4457-be34-b822c75ce1b0"
   },
   "outputs": [],
   "source": [
    "%timeit compute_cosx_cython(tseries)"
   ]
  },
  {
   "cell_type": "markdown",
   "metadata": {
    "id": "OLdErsK2ZYe5"
   },
   "source": [
    "Finally, we can add a few options at the top of the function to turn off some python sanity checks, which are useful, but can slow code down. In this case these don't help much, but can be useful in other cases. Note that turning these off can cause your code to fail in weird ways with no reason for the failure (what's called a \"segmentation fault\"). If this happens remove these checks and see if you get a warning/error about things being wrong!"
   ]
  },
  {
   "cell_type": "code",
   "execution_count": null,
   "metadata": {
    "colab": {
     "base_uri": "https://localhost:8080/",
     "height": 403
    },
    "id": "6gm_PH8AY4qJ",
    "outputId": "8e18d174-c6f4-47ae-f392-9f81bbe9766d"
   },
   "outputs": [],
   "source": [
    "%%cython -a\n",
    "import numpy\n",
    "from cython import wraparound, boundscheck, cdivision\n",
    "\n",
    "from libc.math cimport cos # This imports c's sin function from the math library\n",
    "\n",
    "@boundscheck(False)\n",
    "@wraparound(False)\n",
    "@cdivision(True)\n",
    "def compute_cosx_cython(double [::1] timeseries):\n",
    "    \"\"\"\n",
    "    Computes cos(t) for all values in tseries\n",
    "    \"\"\"\n",
    "    cdef int n = timeseries.size # How many values in the timeseries\n",
    "    cdef int idx\n",
    "    cdef double[::1] cosx = numpy.zeros(n) # Create an array to store the cos(x) values\n",
    "    for idx in range(n):\n",
    "        cosx[idx] = cos(timeseries[idx])\n",
    "    return cosx\n"
   ]
  },
  {
   "cell_type": "code",
   "execution_count": null,
   "metadata": {
    "colab": {
     "base_uri": "https://localhost:8080/"
    },
    "id": "bC0qO861Wikp",
    "outputId": "6ed82d13-a4f3-4c4c-f5c5-b154f5721aa5"
   },
   "outputs": [],
   "source": [
    "%timeit compute_cosx_cython(tseries)"
   ]
  },
  {
   "cell_type": "markdown",
   "metadata": {
    "id": "wU_atykSWikp"
   },
   "source": [
    "This is now about as fast as the numpy function. Don't forget that numpy is itself compiled C-code, so it's often hard to beat that. Indeed in this case just using the numpy function would be the best choice. However, the point is that if there *wasn't* a numpy cos function, you would be able to acheive a function that's basically as fast using cython.\n",
    "\n",
    "It is worth emphasizing though that making cython fast is also not trivial but the big things to change with respect to python code are illustrated here:\n",
    "\n",
    " * Declare variable types (arrays especially can be complicated here ... I did use numpy.zeros here to create an input array, and I recommend doing this to avoid memory management in C.).\n",
    " * Use built-in C functions for things like cos or sin or exp."
   ]
  },
  {
   "cell_type": "markdown",
   "metadata": {
    "id": "awHd68etWikp"
   },
   "source": [
    "## Example 2\n",
    "\n",
    "As we used in the optimization class. Here's an example code which integrates\n",
    "\n",
    "$cos(x) \\times \\frac{1}{x} $\n",
    "\n",
    "from $x = 1$ to $x=1000$.\n",
    "\n",
    "We will do this by using the simple rectangular method for numerically integrating. https://en.wikipedia.org/wiki/Riemann_sum"
   ]
  },
  {
   "cell_type": "code",
   "execution_count": null,
   "metadata": {
    "colab": {
     "base_uri": "https://localhost:8080/"
    },
    "id": "FN_AmKMzWikp",
    "outputId": "ccd4a9ea-ab47-4520-884f-2a52803648f6"
   },
   "outputs": [],
   "source": [
    "# NOTE: We write this as a set of functions. Functions are better to isolate different parts of\n",
    "#       the code and to be able to check each component individually. A `class` would also be a\n",
    "#       good way of doing this.\n",
    "import numpy\n",
    "import math\n",
    "\n",
    "def compute_cosx(tseries):\n",
    "    \"\"\"\n",
    "    Computes cos(t) for all values in tseries\n",
    "    \"\"\"\n",
    "    cosx = numpy.zeros(len(tseries))\n",
    "    for idx, tval in enumerate(tseries):\n",
    "        cosx[idx] = math.cos(tseries[idx])\n",
    "    return cosx\n",
    "\n",
    "def compute_invx(tseries):\n",
    "    \"\"\"\n",
    "    Computes 1/x for all values in tseries\n",
    "    \"\"\"\n",
    "    invx = numpy.zeros(len(tseries))\n",
    "    for idx, tval in enumerate(tseries):\n",
    "        invx[idx] = 1 / tseries[idx]\n",
    "    return invx\n",
    "\n",
    "def compute_seriesproduct(series1, series2):\n",
    "    \"\"\"\n",
    "    Multiplies each element in series1 with the corresponding element in series2.\n",
    "    This returns an array of the multiplied elements.\n",
    "    \"\"\"\n",
    "    # Ensure the two arrays are the same length\n",
    "    assert(len(series1)==len(series2))\n",
    "    seriessum = numpy.zeros(len(series1))\n",
    "    for idx in range(len(series1)):\n",
    "        seriessum[idx] = series1[idx] * series2[idx]\n",
    "    return seriessum\n",
    "\n",
    "def compute_seriessum(series):\n",
    "    \"\"\"\n",
    "    Computes the sum of all values in series\n",
    "    \"\"\"\n",
    "    sumvals = 0\n",
    "    for idx in range(len(series)):\n",
    "        sumvals = sumvals + series[idx]\n",
    "    return sumvals\n",
    "\n",
    "\n",
    "class Integrator():\n",
    "    def generate_integral(self):\n",
    "        \"\"\"\n",
    "        Integral function goes here\n",
    "        \"\"\"\n",
    "        cosx = compute_cosx(self.tseries)\n",
    "        invx = compute_invx(self.tseries)\n",
    "        prod = compute_seriesproduct(cosx, invx)\n",
    "        summed_prod = compute_seriessum(prod)\n",
    "        return summed_prod * self.delta_t\n",
    "\n",
    "\n",
    "    def __init__(self, tmin, tmax, delta_t):\n",
    "        \"\"\"\n",
    "        Initializes the class and timeseries\n",
    "        \"\"\"\n",
    "        self.tmin = tmin\n",
    "        self.tmax = tmax\n",
    "        self.delta_t = delta_t\n",
    "        tseries = numpy.arange(self.tmin, self.tmax, self.delta_t)\n",
    "        # We shift tseries by delta_t / 2 to ensure that we are using the midpoint rule (see wikipedia page)\n",
    "        tseries = tseries + self.delta_t / 2.\n",
    "        self.tseries = tseries\n",
    "\n",
    "\n",
    "def main_function():\n",
    "    intgr = Integrator(1, 1000, 1./300.)\n",
    "    return intgr.generate_integral()\n",
    "\n",
    "print (main_function())"
   ]
  },
  {
   "cell_type": "code",
   "execution_count": null,
   "metadata": {
    "colab": {
     "base_uri": "https://localhost:8080/"
    },
    "id": "O6X6D30JWikp",
    "outputId": "3189484d-1c47-49d6-ccd3-1db78d00af83"
   },
   "outputs": [],
   "source": [
    "%timeit main_function()"
   ]
  },
  {
   "cell_type": "markdown",
   "metadata": {
    "id": "oCNkP8u3Wikq"
   },
   "source": [
    "From before we already know that `compute_cosx`, `compute_invx`, `compute_seriesproduct` and `compute_seriessum` are the slow parts of this function. Let's rewrite these in cython"
   ]
  },
  {
   "cell_type": "code",
   "execution_count": null,
   "metadata": {
    "colab": {
     "base_uri": "https://localhost:8080/",
     "height": 1000
    },
    "id": "oCzbcFsLWikq",
    "outputId": "8512b439-221d-4f9a-e611-7e49099e9271",
    "scrolled": true
   },
   "outputs": [],
   "source": [
    "%%cython -a\n",
    "import math\n",
    "import numpy\n",
    "\n",
    "from libc.math cimport cos # This imports c's sin function from the math library\n",
    "from cython import wraparound, boundscheck, cdivision\n",
    "\n",
    "@boundscheck(False)\n",
    "@wraparound(False)\n",
    "@cdivision(True)\n",
    "def compute_cosx_cython(double [::1] timeseries):\n",
    "    \"\"\"\n",
    "    Computes cos(t) for all values in tseries\n",
    "    \"\"\"\n",
    "    cdef int n = timeseries.size # How many values in the timeseries\n",
    "    cdef int idx\n",
    "    cdef double[::1] cosx = numpy.zeros(n) # Create an array to store the cos(x) values\n",
    "    for idx in range(n):\n",
    "        cosx[idx] = cos(timeseries[idx])\n",
    "    return cosx\n",
    "\n",
    "@boundscheck(False)\n",
    "@wraparound(False)\n",
    "@cdivision(True)\n",
    "def compute_invx_cython(double [::1] timeseries):\n",
    "    \"\"\"\n",
    "    Computes 1/x for all values in tseries\n",
    "    \"\"\"\n",
    "    cdef int idx\n",
    "    cdef int n = timeseries.size # How many values in the timeseries\n",
    "    cdef double[::1] invx = numpy.zeros(n) # Create an array to store the 1/x values\n",
    "    for idx in range(n):\n",
    "        invx[idx] = 1. / timeseries[idx]\n",
    "    return invx\n",
    "\n",
    "@boundscheck(False)\n",
    "@wraparound(False)\n",
    "@cdivision(True)\n",
    "def compute_seriesproduct_cython(double [::1] series1, double [::1] series2):\n",
    "    \"\"\"\n",
    "    Multiplies each element in series1 with the corresponding element in series2.\n",
    "    This returns an array of the multiplied elements.\n",
    "    \"\"\"\n",
    "    cdef int idx\n",
    "    cdef int n = series1.size # How many values in the timeseries\n",
    "    cdef double[::1] seriesprod = numpy.zeros(n)\n",
    "    for idx in range(n):\n",
    "        seriesprod[idx] = series1[idx] * series2[idx]\n",
    "    return seriesprod\n",
    "\n",
    "@boundscheck(False)\n",
    "@wraparound(False)\n",
    "@cdivision(True)\n",
    "def compute_seriessum_cython(double [::1] series):\n",
    "    \"\"\"\n",
    "    Computes the sum of all values in series\n",
    "    \"\"\"\n",
    "    cdef int idx\n",
    "    cdef int n = series.size\n",
    "    cdef double sumvals = 0.\n",
    "    for idx in range(n):\n",
    "        sumvals += series[idx]\n",
    "    return sumvals\n",
    "\n"
   ]
  },
  {
   "cell_type": "code",
   "execution_count": null,
   "metadata": {
    "colab": {
     "base_uri": "https://localhost:8080/"
    },
    "id": "h6KwXu13Wikq",
    "outputId": "3d50e207-ffef-4f6a-b379-60c0e2697e07"
   },
   "outputs": [],
   "source": [
    "class Integrator():\n",
    "    def generate_integral(self, cython=False):\n",
    "        \"\"\"\n",
    "        Integral function goes here\n",
    "        \"\"\"\n",
    "        if cython:\n",
    "            cosx = compute_cosx_cython(self.tseries)\n",
    "            invx = compute_invx_cython(self.tseries)\n",
    "            prod = compute_seriesproduct_cython(cosx, invx)\n",
    "            summed_prod = compute_seriessum_cython(prod)\n",
    "        else:\n",
    "            cosx = compute_cosx(self.tseries)\n",
    "            invx = compute_invx(self.tseries)\n",
    "            prod = compute_seriesproduct(cosx, invx)\n",
    "            summed_prod = compute_seriessum(prod)\n",
    "        return summed_prod * self.delta_t\n",
    "\n",
    "\n",
    "    def __init__(self, tmin, tmax, delta_t):\n",
    "        \"\"\"\n",
    "        Initializes the class and timeseries\n",
    "        \"\"\"\n",
    "        self.tmin = tmin\n",
    "        self.tmax = tmax\n",
    "        self.delta_t = delta_t\n",
    "        tseries = numpy.arange(self.tmin, self.tmax, self.delta_t)\n",
    "        # We shift tseries by delta_t / 2 to ensure that we are using the midpoint rule (see wikipedia page)\n",
    "        tseries = tseries + self.delta_t / 2.\n",
    "        self.tseries = tseries\n",
    "\n",
    "\n",
    "def main_function(cython=True):\n",
    "    intgr = Integrator(1, 1000, 1./300.)\n",
    "    return intgr.generate_integral(cython=cython)\n",
    "\n",
    "print (main_function())"
   ]
  },
  {
   "cell_type": "code",
   "execution_count": null,
   "metadata": {
    "colab": {
     "base_uri": "https://localhost:8080/"
    },
    "id": "sLyHRXe1Wikq",
    "outputId": "74e9a516-ce9d-4105-bdbb-1a91a6a244ef"
   },
   "outputs": [],
   "source": [
    "%timeit main_function(cython=True)\n",
    "%prun -l 10 -q -T prun0 main_function(cython=True)\n",
    "print(open('prun0', 'r').read())\n"
   ]
  },
  {
   "cell_type": "markdown",
   "metadata": {
    "id": "9zLgjnfeWikq"
   },
   "source": [
    "We now have a code that is actually *faster* than our numpy optimized code from before. Nevertheless, given the added complexity of writing this, and the fact the speed differential will be less noticeable for larger arrays, in most cases the numpy code is more than good enough.\n",
    "\n",
    "To remind again:\n",
    "\n",
    " * The use-case of Cython is primarily to optimize code for which there is no numpy optimized version.\n",
    " * Writing (fast) Cython code does require more effort (and more Googling) than writing python code. However, a moderate speed increase can sometimes be acheived without this.\n",
    " * Our Cython magic function is coverting our code written in Cython into C and then compiling it: It is possible to write the C-code directly, but that is more effort. There is the possibility to approach this from the other side and write pure C or C++ code, and then use cython to directly with the C code (this can even be possible with fortran). This can be used if you have a pre-existing C-code, or library, that you want to use in python."
   ]
  },
  {
   "cell_type": "markdown",
   "metadata": {
    "id": "ixJla5-rWikq"
   },
   "source": [
    "## Exercise 1\n",
    "\n",
    "As with the first optimization lecture, here are four functions written using python. Rewrite these functions using Cython. Compare the speed of the function to the first optimization's notebook where these functions were replaced with numpy calls."
   ]
  },
  {
   "cell_type": "markdown",
   "metadata": {
    "id": "2Xwgp1TCWikq"
   },
   "source": [
    "### Exercise 1.1\n",
    "\n",
    "Rewrite this function to compute the sin of an input timeseries"
   ]
  },
  {
   "cell_type": "code",
   "execution_count": null,
   "metadata": {
    "id": "seaDG-7kWikq"
   },
   "outputs": [],
   "source": [
    "# EXERCISE 1.1 - Our sin series from before\n",
    "import numpy, math\n",
    "\n",
    "def compute_sin_tseries(timeseries):\n",
    "    sin_tseries = numpy.zeros(len(tseries))\n",
    "    for i in range(len(timeseries)):\n",
    "        sin_tseries[i] = numpy.sin(timeseries[i])\n",
    "    return sin_tseries\n",
    "\n",
    "# Here is the optimized numpy solution for reference\n",
    "def compute_sin_tseries_numpy(timeseries):\n",
    "    return numpy.sin(timeseries)\n",
    "\n"
   ]
  },
  {
   "cell_type": "code",
   "execution_count": null,
   "metadata": {
    "id": "nBSrQWUsWikq",
    "scrolled": true
   },
   "outputs": [],
   "source": [
    "%%cython -a\n",
    "import numpy\n",
    "from cython import wraparound, boundscheck\n",
    "from libc.math cimport sin # This imports c's sin function from the math library\n",
    "\n",
    "@boundscheck(False)\n",
    "@wraparound(False)\n",
    "def compute_sinx_cython(double [::1] timeseries):\n",
    "    # You'll need to fill this in. The cos example is probably a good starting place!\n"
   ]
  },
  {
   "cell_type": "code",
   "execution_count": null,
   "metadata": {
    "id": "kZJXhoxxWikq"
   },
   "outputs": [],
   "source": [
    "# Compare time taken to run each of these functions here.\n",
    "def generate_time_series(tmin, tmax, delta_t):\n",
    "    \"\"\"\n",
    "    Generates a times series between tmin and tmax sampled at delta_t\n",
    "    \"\"\"\n",
    "    tseries = numpy.arange(tmin, tmax, delta_t)\n",
    "    # We shift tseries by delta_t / 2 to ensure that we are using the midpoint rule (see wikipedia page)\n",
    "    tseries = tseries + delta_t / 2.\n",
    "    return tseries\n",
    "\n",
    "tseries = generate_time_series(1., 1000., 1./100.)\n",
    "%timeit compute_sin_tseries(tseries)\n",
    "%timeit compute_sin_tseries_numpy(tseries)\n",
    "%timeit compute_sinx_cython(tseries)"
   ]
  },
  {
   "cell_type": "markdown",
   "metadata": {
    "id": "RB-cjjbiWikr"
   },
   "source": [
    "### Exercise 1.2\n",
    "\n",
    "Rewrite this function to compute the exponential of an input time series."
   ]
  },
  {
   "cell_type": "code",
   "execution_count": null,
   "metadata": {
    "id": "95WnxL7YWikr"
   },
   "outputs": [],
   "source": [
    "# EXERCISE 1.2\n",
    "import math, numpy\n",
    "\n",
    "def compute_exp_tseries(timeseries):\n",
    "    exp_tseries = numpy.zeros(len(timeseries))\n",
    "    for i in range(len(timeseries)):\n",
    "        exp_tseries[i] = math.e ** timeseries[i]\n",
    "    return exp_tseries\n",
    "\n",
    "# Numpy optimized function from before\n",
    "def compute_exp_tseries_numpy(timeseries):\n",
    "    return numpy.exp(timeseries)"
   ]
  },
  {
   "cell_type": "code",
   "execution_count": null,
   "metadata": {
    "id": "igXDy2crWikr"
   },
   "outputs": [],
   "source": [
    "%%cython -a\n",
    "# Cython goes here\n",
    "import math\n",
    "import numpy\n",
    "from cython import wraparound, boundscheck\n",
    "from libc.math cimport exp # This imports c's exp function from the math library\n",
    "\n",
    "@boundscheck(False)\n",
    "@wraparound(False)\n",
    "def compute_expx_cython(double [::1] timeseries):\n",
    "    # You need to complete this, as before the cos example is a good starting point."
   ]
  },
  {
   "cell_type": "code",
   "execution_count": null,
   "metadata": {
    "id": "E0UuCPagWikr",
    "outputId": "81ecaeaf-daaa-4ab5-a5de-5d81ffaa025e"
   },
   "outputs": [
    {
     "name": "stdout",
     "output_type": "stream",
     "text": [
      "943 ms ± 9.26 ms per loop (mean ± std. dev. of 7 runs, 1 loop each)\n",
      "40.2 ms ± 75.1 µs per loop (mean ± std. dev. of 7 runs, 10 loops each)\n",
      "41.4 ms ± 164 µs per loop (mean ± std. dev. of 7 runs, 10 loops each)\n"
     ]
    }
   ],
   "source": [
    "# Compare time taken to run each of these functions here.\n",
    "tseries = generate_time_series(1., 100., 1./10000.)\n",
    "%timeit compute_exp_tseries(tseries)\n",
    "%timeit compute_exp_tseries_numpy(tseries)\n",
    "%timeit compute_expx_cython(tseries)"
   ]
  },
  {
   "cell_type": "markdown",
   "metadata": {
    "id": "NGq8PkjoWikr"
   },
   "source": [
    "### Exercise 1.3\n",
    "\n",
    "Rewrite this code to compute a Fourier transform."
   ]
  },
  {
   "cell_type": "code",
   "execution_count": null,
   "metadata": {
    "id": "HAdJHNgCWikr"
   },
   "outputs": [],
   "source": [
    "# Exercise 1.3\n",
    "import numpy as np\n",
    "\n",
    "def compute_fourier_transform(data_time_domain):\n",
    "    math_i = 1j # This is how to write i in python.\n",
    "    N = len(data_time_domain) # How many points in the data\n",
    "    k = np.arange(N)\n",
    "    n = np.arange(N)\n",
    "    data_frequency_domain = np.zeros(N,dtype=np.complex128)\n",
    "    for i in n:\n",
    "        for j in k:\n",
    "            data_frequency_domain[j] += data_time_domain[i] * \\\n",
    "                (np.cos(2 * np.pi * j  * i / N) - math_i * np.sin(2 * np.pi * j * i / N))\n",
    "    return data_frequency_domain\n",
    "\n",
    "# Numpy function for reference\n",
    "def compute_fourier_transform_numpy(data_time_domain):\n",
    "    math_i = 1j # This is how to write i in python.\n",
    "    N = len(data_time_domain) # How many points in the data\n",
    "    k = np.arange(N)\n",
    "    n = np.arange(N)\n",
    "    data_frequency_domain = np.zeros(N,dtype=np.complex128)\n",
    "    for i in n:\n",
    "        data_frequency_domain += data_time_domain[i] * \\\n",
    "            (np.cos(2 * np.pi * k  * i / N) - math_i * np.sin(2 * np.pi * k * i / N))\n",
    "    return data_frequency_domain\n",
    "\n"
   ]
  },
  {
   "cell_type": "code",
   "execution_count": null,
   "metadata": {
    "id": "o7HTAdYFWikr"
   },
   "outputs": [],
   "source": [
    "%%cython -a\n",
    "# Cython goes here\n",
    "import math\n",
    "import numpy as np\n",
    "from cython import wraparound, boundscheck\n",
    "from libc.math cimport cos, sin, pi\n",
    "\n",
    "@boundscheck(False)\n",
    "@wraparound(False)\n",
    "def compute_fourier_transform_cython(double[::1] data_time_domain):\n",
    "    # N is the length of the array, use cdef to define it here as in previous examples\n",
    "\n",
    "    cdef double complex [::1] data_frequency_domain = np.zeros(N, dtype=np.complex128) # Here's how to define our complex output array\n",
    "    cdef double complex temp_value # I use a temporary value here to make it absolutely clear to cython that we must use complex values!\n",
    "    # Here you'll need to add cdef statements for undefined variables (i, j) used in the for loop\n",
    "\n",
    "    for i in range(N):\n",
    "        for j in range(N):\n",
    "            temp_value = data_time_domain[i] * cos(2 * pi * j * i / N)\n",
    "            temp_value += # Add the imaginary part here\n",
    "            data_frequency_domain[j] += temp_value\n",
    "    return data_frequency_domain\n"
   ]
  },
  {
   "cell_type": "code",
   "execution_count": null,
   "metadata": {
    "id": "nloEFuXWWikr",
    "outputId": "52c4d383-c7b9-4fde-c6fb-5ee5ca914c4f"
   },
   "outputs": [
    {
     "name": "stdout",
     "output_type": "stream",
     "text": [
      "55.6 s ± 73.8 ms per loop (mean ± std. dev. of 7 runs, 1 loop each)\n",
      "283 ms ± 114 µs per loop (mean ± std. dev. of 7 runs, 1 loop each)\n",
      "156 ms ± 121 µs per loop (mean ± std. dev. of 7 runs, 10 loops each)\n"
     ]
    }
   ],
   "source": [
    "data_time_domain = numpy.random.random(1000)\n",
    "# This first one is *very* slow. Make a cup of tea while it runs!\n",
    "%timeit compute_fourier_transform(data_time_domain)\n",
    "%timeit compute_fourier_transform_numpy(data_time_domain)\n",
    "%timeit compute_fourier_transform_cython(data_time_domain)\n",
    "\n",
    "# Note that numpy's FFT will still be much quicker, as the algorithm itself, and not the implementation, is much more\n",
    "# optimal. However, numpy's FFT would call to an underlying C library, which is *highly* optimized, and beating that\n",
    "# would be almost impossible for cases with non-negligible length."
   ]
  },
  {
   "cell_type": "markdown",
   "metadata": {
    "id": "rYhn4hvlWikr"
   },
   "source": [
    "### Exercise 1.4\n",
    "\n",
    "Rewrite thie code to compute a cross correlation"
   ]
  },
  {
   "cell_type": "code",
   "execution_count": null,
   "metadata": {
    "id": "L-3hEk9SWikr"
   },
   "outputs": [],
   "source": [
    "# EXERCISE 1.4 - Again, you might have seen this before!\n",
    "\n",
    "def compute_cross_correlation(signal, data):\n",
    "    cross_correlation = []\n",
    "    for i in range(len(data) - len(signal)):\n",
    "        curr_cross_corr = 0\n",
    "        for j in range(len(signal)):\n",
    "            curr_cross_corr += signal[j] * data[i+j]\n",
    "        cross_correlation.append(curr_cross_corr)\n",
    "    return cross_correlation\n",
    "\n",
    "# Numpy version from last week\n",
    "def compute_cross_correlation_numpy(signal, data):\n",
    "    cross_correlation = []\n",
    "    for i in range(len(data) - len(signal)):\n",
    "        curr_cross_corr = (signal * data[i:i+len(signal)]).sum()\n",
    "        cross_correlation.append(curr_cross_corr)\n",
    "    return cross_correlation\n"
   ]
  },
  {
   "cell_type": "code",
   "execution_count": null,
   "metadata": {
    "id": "SvX-VvhrWikr"
   },
   "outputs": [],
   "source": [
    "%%cython -a\n",
    "# Cython goes here\n",
    "import math\n",
    "import numpy as np\n",
    "from cython import wraparound, boundscheck\n",
    "\n",
    "@boundscheck(False)\n",
    "@wraparound(False)\n",
    "def compute_cross_correlation_cython(double [::1] signal, double [::1] data):\n",
    "    cdef int sigsize = signal.size\n",
    "    cdef int datasize = data.size\n",
    "    cdef int N = # How big is the output vector? Fill that in here.\n",
    "    cdef double [::1] cross_correlation = np.empty(N, dtype=np.float64)\n",
    "\n",
    "    # Fill in the gap here to compute cross_correlation\n",
    "    # NOTE: You will probably need *two* for loops here! In python you avoid for loops, in cython you embrace them!\n",
    "\n",
    "    return cross_correlation\n"
   ]
  },
  {
   "cell_type": "code",
   "execution_count": null,
   "metadata": {
    "id": "mi-eDNAFWiks",
    "outputId": "11a34ea6-9bba-42b2-f42f-90daf7cc8b60"
   },
   "outputs": [
    {
     "name": "stdout",
     "output_type": "stream",
     "text": [
      "10.6 s ± 185 ms per loop (mean ± std. dev. of 7 runs, 1 loop each)\n",
      "241 ms ± 13.8 ms per loop (mean ± std. dev. of 7 runs, 1 loop each)\n",
      "50.1 ms ± 129 µs per loop (mean ± std. dev. of 7 runs, 10 loops each)\n"
     ]
    }
   ],
   "source": [
    "signal = numpy.random.random(1024)\n",
    "data = numpy.random.random(1024*10)\n",
    "%timeit compute_cross_correlation(signal, data)\n",
    "%timeit compute_cross_correlation_numpy(signal, data)\n",
    "%timeit compute_cross_correlation_cython(signal, data)"
   ]
  },
  {
   "cell_type": "markdown",
   "metadata": {
    "id": "OQd_I_CoWiks"
   },
   "source": [
    "We notice that for functions where the function can be replaced with a single numpy call (np.cos or np.exp) the numpy code is just as fast as the cython code. However, for more involved examples such as the Fourier transform or cross_correlation the Cython code is noticeably faster. I saw a factor of 3-4 speed up for the cross-correlation code in Cython vs numpy."
   ]
  },
  {
   "cell_type": "markdown",
   "metadata": {
    "id": "XFvNtJaXWiks"
   },
   "source": [
    "## Exercise 2\n",
    "\n",
    "Here we give two more examples of codes. Except here there is no python version. You must write a code to solve the problem, both in plain python, and in Cython. Compare the speed of both (and check that it works!)"
   ]
  },
  {
   "cell_type": "markdown",
   "metadata": {
    "id": "9aQl4P1zWiks"
   },
   "source": [
    "## Exercise 2.1\n",
    "\n",
    "Write a code to return the nth number in the Fibonacci sequence. This sequence goes:\n",
    "```\n",
    "0,1,1,2,3,5,8,13,21,34,55,89,144,...\n",
    "```\n",
    "**Warning!** While python can handle arbitrarily long integers, C cannot. Therefore the cython code will not be able to store the correct numbers in the C int type above about the 48th value. The `long int` type can be used to increase accuracy, but that will still return incorrect values above the 93rd value."
   ]
  },
  {
   "cell_type": "code",
   "execution_count": null,
   "metadata": {
    "id": "ObDP7pNMWiks"
   },
   "outputs": [],
   "source": [
    "# Write python code here\n",
    "def fib(n):\n",
    "    \"\"\"\n",
    "    Return the nth value of the Fibonacci sequence\n",
    "    \"\"\"\n",
    "    # Write the code"
   ]
  },
  {
   "cell_type": "code",
   "execution_count": null,
   "metadata": {
    "id": "909yalpRWiks"
   },
   "outputs": [],
   "source": [
    "%%cython -a\n",
    "def fib_cython(int n):\n",
    "    \"\"\"Return the nth value of the Fibonacci sequence.\"\"\"\n",
    "    # Write the code, use examples above, and Google, to help.\n"
   ]
  },
  {
   "cell_type": "code",
   "execution_count": null,
   "metadata": {
    "id": "J0ECrNPrWiks",
    "outputId": "90326855-9581-4aa1-9d2b-a0bb6276205c"
   },
   "outputs": [
    {
     "name": "stdout",
     "output_type": "stream",
     "text": [
      "1 1 55 12586269025\n",
      "1 1 55 12586269025\n",
      "8.07 µs ± 161 ns per loop (mean ± std. dev. of 7 runs, 100000 loops each)\n",
      "196 ns ± 1.18 ns per loop (mean ± std. dev. of 7 runs, 10000000 loops each)\n"
     ]
    }
   ],
   "source": [
    "# Test and time the codes here: Note that the current cell output is the performance I acheived with my code\n",
    "print(fib(1), fib(2), fib(10), fib(50))\n",
    "print(fib_cython(1), fib_cython(2), fib_cython(10), fib_cython(50))\n",
    "\n",
    "%timeit fib(48)\n",
    "%timeit fib_cython(48)"
   ]
  },
  {
   "cell_type": "markdown",
   "metadata": {
    "id": "4TiFmhXbWiks"
   },
   "source": [
    "## Exercise 2.2\n",
    "\n",
    "Write a code to decide if the input number `n` is a prime or not. If it is a prime return True, if not return False.\n"
   ]
  },
  {
   "cell_type": "code",
   "execution_count": null,
   "metadata": {
    "id": "e5E51I40Wiks"
   },
   "outputs": [],
   "source": [
    "# Write python code here\n",
    "def is_prime(n):\n",
    "    # Add python code here\n"
   ]
  },
  {
   "cell_type": "code",
   "execution_count": null,
   "metadata": {
    "id": "KYWuk4TUWiks"
   },
   "outputs": [],
   "source": [
    "%%cython -a\n",
    "def is_prime_cython(int n):\n",
    "    # Add Cython code here\n"
   ]
  },
  {
   "cell_type": "code",
   "execution_count": null,
   "metadata": {
    "id": "Mo6p_ZK8Wiks",
    "outputId": "4e6b3c1c-16ce-40ff-8142-179ae2eb08f6"
   },
   "outputs": [
    {
     "name": "stdout",
     "output_type": "stream",
     "text": [
      "False True False False False True\n",
      "False True False False False True\n",
      "784 µs ± 42.9 µs per loop (mean ± std. dev. of 7 runs, 1000 loops each)\n",
      "22.3 µs ± 12.9 ns per loop (mean ± std. dev. of 7 runs, 10000 loops each)\n"
     ]
    }
   ],
   "source": [
    "# Test and time the codes here\n",
    "# Current cell output is what I acheived.\n",
    "print(is_prime(1), is_prime(2), is_prime(34), is_prime(1071), is_prime(123123123), is_prime(123123137))\n",
    "print(is_prime_cython(1), is_prime_cython(2), is_prime_cython(34), is_prime_cython(1071), is_prime_cython(123123123), is_prime_cython(123123137))\n",
    "\n",
    "%timeit is_prime(123123137)\n",
    "%timeit is_prime_cython(123123137)\n"
   ]
  },
  {
   "cell_type": "markdown",
   "metadata": {
    "id": "402mNHWFWikt"
   },
   "source": [
    "## Acknowledgements\n",
    "\n",
    "* https://ipython-books.github.io\n",
    "* https://cython.readthedocs.io\n",
    "* https://stackoverflow.com/questions/15285534/isprime-function-for-python-language\n"
   ]
  },
  {
   "cell_type": "code",
   "execution_count": null,
   "metadata": {
    "id": "hRBNhfsmkxEq"
   },
   "outputs": [],
   "source": []
  }
 ],
 "metadata": {
  "colab": {
   "provenance": []
  },
  "kernelspec": {
   "display_name": "Python 3 (ipykernel)",
   "language": "python",
   "name": "python3"
  },
  "language_info": {
   "codemirror_mode": {
    "name": "ipython",
    "version": 3
   },
   "file_extension": ".py",
   "mimetype": "text/x-python",
   "name": "python",
   "nbconvert_exporter": "python",
   "pygments_lexer": "ipython3",
   "version": "3.9.7"
  }
 },
 "nbformat": 4,
 "nbformat_minor": 1
}
