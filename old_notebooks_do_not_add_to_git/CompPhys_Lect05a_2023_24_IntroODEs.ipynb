{
 "cells": [
  {
   "cell_type": "markdown",
   "metadata": {
    "id": "-1JWWrEQqEcu"
   },
   "source": [
    "# Computational Physics U24568\n",
    "## Lecture 4b - Ordinary Differential Equations I"
   ]
  },
  {
   "cell_type": "markdown",
   "metadata": {
    "id": "UZEHL5LjqEcw"
   },
   "source": [
    "## The usual imports"
   ]
  },
  {
   "cell_type": "code",
   "execution_count": null,
   "metadata": {
    "id": "yOaZyWRXqEcx"
   },
   "outputs": [],
   "source": [
    "%matplotlib inline\n",
    "import matplotlib.pyplot as plt\n",
    "import numpy as np"
   ]
  },
  {
   "cell_type": "code",
   "execution_count": null,
   "metadata": {
    "id": "uSCuTItGqEcz"
   },
   "outputs": [],
   "source": [
    "# And a new import - scipy's basic ODE integration function\n",
    "from scipy.integrate import odeint"
   ]
  },
  {
   "cell_type": "markdown",
   "metadata": {
    "id": "cvrp81o4qEcz"
   },
   "source": [
    "## Intro - The Euler Method\n",
    "\n",
    "A first-order ordinary differential equation can be written as\n",
    "$$\\frac{d y}{dt} = g(y, t)$$\n",
    "The time derivative can depend on the value of $y(t)$ as well as on $t$.\n",
    "\n",
    "To solve a differential equation on a computer, we use a discrete approximation to the derivative\n",
    "$$\\frac{d y}{dt} = \\frac{y_{i+1} - y_{i}}{t_{i+1} - t_{i}}$$\n",
    "where we're evaluating $y$ at discrete *time steps* $t_{i}$.\n",
    "\n",
    "We'll start with the simplest method for solving a differential equation, the Euler method. After that, we will use a SciPy package which is much more sophisticated and accurate.\n",
    "\n",
    "We'll work with equal time steps given by $t_{i+1} - t_{i} = \\tau$. The Euler method makes a simple approximation:\n",
    "\n",
    "$$y_{i+1} = y_{i} + g_{i} \\tau + O(\\tau^2)$$\n",
    "\n",
    "The last term just means that we've ignored any terms of order $\\tau^2$ or higher. The bigger $\\tau$ is, the bigger the error will be.\n",
    "\n",
    "We'll see how this works by solving the equation\n",
    "\n",
    "$$\\frac{d y}{dt} = - y ~,$$\n",
    "\n",
    "which has the solution $y(t) = A~e^{-t}$."
   ]
  },
  {
   "cell_type": "markdown",
   "metadata": {
    "id": "R9HhKOx3qEc0"
   },
   "source": [
    "We'll start by defining variables for the time step $\\tau$, the starting time $t_0$ and the desired final time $t_f$. We also have an initial condition $y_i$. The initial condition is the value of $y$ at the starting time, i.e. $y(t_0)$."
   ]
  },
  {
   "cell_type": "code",
   "execution_count": null,
   "metadata": {
    "id": "uYXGDHbBqEc0"
   },
   "outputs": [],
   "source": [
    "tau = 0.1\n",
    "yi = 1.\n",
    "t0 = 0\n",
    "tf = 10."
   ]
  },
  {
   "cell_type": "markdown",
   "metadata": {
    "id": "J41QkQSkqEc1"
   },
   "source": [
    "Now we do the following. At the start, record these values of $t$ and $y$ in a list. Then\n",
    " 1. Compute the derivative at this value of $t$ and $y$.\n",
    " 1. Increase $t$ by $\\tau$, and $y$ according to the equations above for $y_{i+1}$.\n",
    " 1. Record the new values, and take another tep unless you've reached the final desired time $t_f$.\n",
    "At the end, it's convenient to convert the result to a numpy array for ease of plotting."
   ]
  },
  {
   "cell_type": "markdown",
   "metadata": {
    "id": "9be1IdhlqEc1"
   },
   "source": [
    "**Exercise 0.1**: Write the code described above."
   ]
  },
  {
   "cell_type": "code",
   "execution_count": null,
   "metadata": {
    "colab": {
     "base_uri": "https://localhost:8080/"
    },
    "executionInfo": {
     "elapsed": 731,
     "status": "ok",
     "timestamp": 1676634136078,
     "user": {
      "displayName": "Ian Harry",
      "userId": "12539231435418418952"
     },
     "user_tz": 0
    },
    "id": "EmfeEFiBqEc1",
    "outputId": "87def338-2bbb-4bb3-d66a-4e293afbf666"
   },
   "outputs": [
    {
     "name": "stdout",
     "output_type": "stream",
     "text": [
      "[1.0, 0.9, 0.81, 0.7290000000000001, 0.6561000000000001, 0.5904900000000001, 0.531441, 0.4782969, 0.43046721, 0.387420489, 0.3486784401, 0.31381059609, 0.282429536481, 0.2541865828329, 0.22876792454961, 0.20589113209464902, 0.1853020188851841, 0.16677181699666568, 0.15009463529699912, 0.1350851717672992, 0.12157665459056928, 0.10941898913151235, 0.09847709021836111, 0.088629381196525, 0.0797664430768725, 0.07178979876918525, 0.06461081889226672, 0.05814973700304005, 0.052334763302736044, 0.047101286972462436, 0.042391158275216195, 0.03815204244769457, 0.034336838202925116, 0.030903154382632605, 0.027812838944369346, 0.02503155504993241, 0.022528399544939168, 0.02027555959044525, 0.018248003631400726, 0.016423203268260654, 0.014780882941434589, 0.01330279464729113, 0.011972515182562017, 0.010775263664305815, 0.009697737297875235, 0.00872796356808771, 0.00785516721127894, 0.007069650490151046, 0.006362685441135941, 0.005726416897022347, 0.005153775207320112, 0.0046383976865881004, 0.0041745579179292905, 0.0037571021261363613, 0.0033813919135227254, 0.003043252722170453, 0.002738927449953408, 0.0024650347049580672, 0.0022185312344622605, 0.0019966781110160345, 0.0017970102999144309, 0.0016173092699229878, 0.001455578342930689, 0.0013100205086376202, 0.001179018457773858, 0.0010611166119964723, 0.0009550049507968251, 0.0008595044557171426, 0.0007735540101454283, 0.0006961986091308855, 0.0006265787482177969, 0.0005639208733960172, 0.0005075287860564154, 0.0004567759074507739, 0.0004110983167056965, 0.00036998848503512683, 0.00033298963653161415, 0.00029969067287845274, 0.00026972160559060745, 0.0002427494450315467, 0.00021847450052839203, 0.00019662705047555283, 0.00017696434542799753, 0.00015926791088519777, 0.00014334111979667798, 0.0001290070078170102, 0.00011610630703530917, 0.00010449567633177826, 9.404610869860043e-05, 8.464149782874038e-05, 7.617734804586634e-05, 6.85596132412797e-05, 6.170365191715173e-05, 5.553328672543656e-05, 4.99799580528929e-05, 4.4981962247603614e-05, 4.048376602284325e-05, 3.643538942055893e-05, 3.279185047850304e-05, 2.9512665430652733e-05, 2.656139888758746e-05, 2.3905258998828714e-05]\n"
     ]
    }
   ],
   "source": [
    "# Answer\n",
    "tvals = [t0]\n",
    "yvals = [yi]\n",
    "currt = t0\n",
    "curry = yi\n",
    "\n",
    "while currt <= tf:\n",
    "    nextt = currt + tau\n",
    "    nexty = curry - curry * tau\n",
    "    tvals.append(nextt)\n",
    "    yvals.append(nexty)\n",
    "    currt = nextt\n",
    "    curry = nexty\n",
    "\n",
    "print(yvals)"
   ]
  },
  {
   "cell_type": "markdown",
   "metadata": {
    "id": "Lwuas_DfqEc1"
   },
   "source": [
    "**Exercise 0.2**: Make your code output $t$ and $y$ as the two columns in a numpy array called `result1`. There should be two lines in the plot below which agree - the black expected plot, and the green dots of the Euler method solution. How well do they agree?"
   ]
  },
  {
   "cell_type": "code",
   "execution_count": null,
   "metadata": {
    "id": "odVZsHDz5i-q"
   },
   "outputs": [],
   "source": [
    "result1 = np.zeros([len(tvals), 2])\n",
    "result1[:,0] = tvals\n",
    "result1[:,1] = yvals\n"
   ]
  },
  {
   "cell_type": "code",
   "execution_count": null,
   "metadata": {
    "colab": {
     "base_uri": "https://localhost:8080/",
     "height": 283
    },
    "executionInfo": {
     "elapsed": 546,
     "status": "ok",
     "timestamp": 1676634180983,
     "user": {
      "displayName": "Ian Harry",
      "userId": "12539231435418418952"
     },
     "user_tz": 0
    },
    "id": "IHZjAL_CqEc1",
    "outputId": "cd1d5801-1eb7-4e3d-cd05-e45670a26884"
   },
   "outputs": [
    {
     "data": {
      "text/plain": [
       "[<matplotlib.lines.Line2D at 0x7f1a769e8580>]"
      ]
     },
     "execution_count": 11,
     "metadata": {},
     "output_type": "execute_result"
    },
    {
     "data": {
      "image/png": "[encoded data removed]",
      "text/plain": [
       "<Figure size 432x288 with 1 Axes>"
      ]
     },
     "metadata": {
      "needs_background": "light"
     },
     "output_type": "display_data"
    }
   ],
   "source": [
    "times = np.linspace(t0, tf, 1000)\n",
    "plt.plot(result1[:,0], result1[:,1], c='g')\n",
    "plt.scatter(result1[:,0], result1[:,1], c='g', s=10)\n",
    "plt.plot(times, np.exp(-times), c='k') # This is the expected result"
   ]
  },
  {
   "cell_type": "markdown",
   "metadata": {
    "id": "EHbPrOYS5i-q"
   },
   "source": [
    "**Exercise 0.3**: Turn this code into a function which takes tau and returns the `result` data structure. Also create a function which takes the result and makes a plot like the one above."
   ]
  },
  {
   "cell_type": "code",
   "execution_count": null,
   "metadata": {
    "id": "DmB0t8ym5i-q"
   },
   "outputs": [],
   "source": []
  },
  {
   "cell_type": "code",
   "execution_count": null,
   "metadata": {
    "id": "bhfBHuYs5i-q"
   },
   "outputs": [],
   "source": []
  },
  {
   "cell_type": "markdown",
   "metadata": {
    "id": "8NmjKsa5qEc2"
   },
   "source": [
    "**Exercise 0.4**: Make the time step above $\\tau = 1.5$. What happens?"
   ]
  },
  {
   "cell_type": "code",
   "execution_count": null,
   "metadata": {
    "id": "AeRl7TpTqEc2"
   },
   "outputs": [],
   "source": []
  },
  {
   "cell_type": "code",
   "execution_count": null,
   "metadata": {
    "id": "ot2XQ6FJqEc2"
   },
   "outputs": [],
   "source": []
  },
  {
   "cell_type": "markdown",
   "metadata": {
    "id": "QwORWn7XqEc2"
   },
   "source": [
    "**Exercise 0.5**: Now vary $\\tau$ and see what it takes to make the solution quite accurate."
   ]
  },
  {
   "cell_type": "code",
   "execution_count": null,
   "metadata": {
    "id": "qXOF3E9FqEc2"
   },
   "outputs": [],
   "source": []
  },
  {
   "cell_type": "code",
   "execution_count": null,
   "metadata": {
    "id": "eZpyfGqPqEc2"
   },
   "outputs": [],
   "source": []
  },
  {
   "cell_type": "markdown",
   "metadata": {
    "id": "CoMZLlggqEc3"
   },
   "source": [
    "## Ex 1 - The Decaying Exponential\n",
    "\n",
    "Now let's start to use scipy's odeint to solve some differential equations with nice sophisticated integrators. We'll continue to solve\n",
    "\n",
    "$$\\frac{d y}{dt} = - y$$\n",
    "\n",
    "We'll use scipy's odeint method, which is flexible and accurate. To get the documentation of the function, remember you can run `odeint?` in a code block.\n",
    "\n",
    "We need to tell the solver three different things:\n",
    " 1. The actual differential equation to solve.\n",
    " 1. The initial conditions\n",
    " 1. The values of time to output the solution for.\n",
    "\n",
    "\n",
    "The differential equation is specified by defining a function. This function takes two arguments. The first is the current $y$. The second is $t$. The function must calculate and return $\\frac{d y}{d t}$.\n",
    "\n",
    "The initial condition here is $y(t_0)$, the value of `y` at the initial time. When there are multiple variables later, we use a list, tuple, or array with the right number of elements.\n",
    "\n",
    "For the times, we only need an array of the times. We can sample the solution at very spaced-out times, or very finely. The solver will take whatever steps internally it needs to for an accurate solution, but returns only the asked-for values.\n"
   ]
  },
  {
   "cell_type": "markdown",
   "metadata": {
    "id": "3oi824-DqEc3"
   },
   "source": [
    "**Exercise 1.1**: Define the function below for $\\frac{d y}{dt} = - y$ and evaluate the next few cells to check the solution."
   ]
  },
  {
   "cell_type": "code",
   "execution_count": null,
   "metadata": {
    "id": "77DCtGFxqEc3"
   },
   "outputs": [],
   "source": [
    "# Defining the derivative function like this.\n",
    "def deriv1(y, t):\n",
    "    # Edit here to calculate dydt\n",
    "    return dydt"
   ]
  },
  {
   "cell_type": "code",
   "execution_count": null,
   "metadata": {
    "id": "rZLChf2v5i-s"
   },
   "outputs": [],
   "source": [
    "y_init1 = 1. # Starting value for y, at t = 0a"
   ]
  },
  {
   "cell_type": "code",
   "execution_count": null,
   "metadata": {
    "id": "F60sjJhoqEc3"
   },
   "outputs": [],
   "source": [
    "# We'll solve from t = 0 to t = 4, at 100 equally-spaced points.\n",
    "times1 = np.linspace(0., 4., 100)"
   ]
  },
  {
   "cell_type": "code",
   "execution_count": null,
   "metadata": {
    "id": "5w9EqnkxqEc4"
   },
   "outputs": [],
   "source": [
    "# Now evaluate this to solve the equation\n",
    "yarr1 = odeint(deriv1, y_init1, times1)"
   ]
  },
  {
   "cell_type": "code",
   "execution_count": null,
   "metadata": {
    "id": "QoGJ9v7vqEc4"
   },
   "outputs": [],
   "source": [
    "# Make a plot\n",
    "plt.figure(figsize=(8,6))\n",
    "plt.plot(times1, np.exp(-times), c='g', label='True solution') # The expected answer - don't modify this\n",
    "plt.scatter(times1, yarr1, s=2, c='k', label='ODE solver')\n",
    "plt.legend()"
   ]
  },
  {
   "cell_type": "markdown",
   "metadata": {
    "id": "L__jF3bAqEc4"
   },
   "source": [
    "**Exercise 1.1**: What do you need to change to double the amplitude of the solution, i.e. make the solution $2 e^{-t}$ rather than $e^{-t}$? Call this `yarr1a` and check the test plot below."
   ]
  },
  {
   "cell_type": "code",
   "execution_count": null,
   "metadata": {
    "id": "7Ci-55OkqEc4"
   },
   "outputs": [],
   "source": []
  },
  {
   "cell_type": "code",
   "execution_count": null,
   "metadata": {
    "id": "Q41I5EFYqEc5"
   },
   "outputs": [],
   "source": [
    "# Make a plot to test\n",
    "plt.figure(figsize=(8,6))\n",
    "plt.plot(times1, 2*np.exp(-times), c='g', label='True solution')  # The expected answer - don't modify this\n",
    "plt.scatter(times1, yarr1a, s=2, c='k', label='ODE solver')\n",
    "plt.legend()"
   ]
  },
  {
   "cell_type": "markdown",
   "metadata": {
    "id": "7mCeG1gbqEc5"
   },
   "source": [
    "**Exercise 1.2**: What do you need to change so that the solution decays twice as fast, i.e. $e^{-2 t}$? You can test by calling this `yarr1b`."
   ]
  },
  {
   "cell_type": "code",
   "execution_count": null,
   "metadata": {
    "id": "Hjm9b5DHqEc5"
   },
   "outputs": [],
   "source": []
  },
  {
   "cell_type": "code",
   "execution_count": null,
   "metadata": {
    "id": "BRo3_qw0qEc5"
   },
   "outputs": [],
   "source": [
    "# Make a plot to test\n",
    "plt.figure(figsize=(8,6))\n",
    "plt.plot(times1, 2*np.exp(-times), c='g', label='True solution')\n",
    "plt.scatter(times1, yarr1b, s=2, c='k', label='ODE solver')\n",
    "plt.legend()"
   ]
  },
  {
   "cell_type": "markdown",
   "metadata": {
    "id": "h1rgPVzYqEc6"
   },
   "source": [
    "## Ex 2 - The Sinusoid"
   ]
  },
  {
   "cell_type": "markdown",
   "metadata": {
    "id": "GGEDgPByqEc6"
   },
   "source": [
    "Now let's try to get a sinusoid. We can't do that with a single derivative -- we need a second-order equation. It looks like\n",
    "$$ \\frac{d^2 y}{d t^2} = - \\omega^2 y$$\n",
    "But odeint doesn't say anything about second derivatives. How are we supposed to solve this?\n",
    "\n",
    "The trick is, we're allowed to have many variables. So let's define a new variable\n",
    "$$v_y = \\frac{d y}{d t}$$\n",
    "\n",
    "If we take another derivative, we get:\n",
    "$$\\frac{d v_y}{d t} = \\frac{d^2 y}{d t}$$\n",
    "\n",
    "Now we can re-write the above equation as two pieces:\n",
    "$$\\begin{align}\n",
    "\\frac{d v_y}{d t} &= -\\omega^2 y \\\\\n",
    "\\frac{d y}{d t} &= v_y\n",
    "\\end{align}$$\n",
    "\n",
    "This trick is used *very* often, anytime there are second derivatives (or higher). We've gone from one second-order equation to two first-order equations. Our new variable is the velocity.\n",
    "\n",
    "The main change is in the derivative function. The first argument is now an array of `[y, v_y]`. You can think of this array as 'the state of the world'. It's not just the position, but also the velocity. The function needs to look at that state, and calculate the derivative of each thing. The derivative of $y$ is $v_y$ by definition."
   ]
  },
  {
   "cell_type": "code",
   "execution_count": null,
   "metadata": {
    "id": "PE1NOfwEqEc6"
   },
   "outputs": [],
   "source": [
    "times2 = np.linspace(0.,200.,10000)"
   ]
  },
  {
   "cell_type": "markdown",
   "metadata": {
    "id": "imwx2PcaqEc6"
   },
   "source": [
    "**Exercise 2.1**: Define the derivative function, solve, and plot. You can set $\\omega = 1$ for now."
   ]
  },
  {
   "cell_type": "code",
   "execution_count": null,
   "metadata": {
    "id": "6S3-34zYqEc6"
   },
   "outputs": [],
   "source": [
    "# The derivative function become\n",
    "def deriv2(state, t):\n",
    "    y, vy = state # Split the state into named variables for convenience\n",
    "    # Edit: Calculate the derivatives\n",
    "    return (dydt, dvydt) # Return a tuple of the derivatives."
   ]
  },
  {
   "cell_type": "code",
   "execution_count": null,
   "metadata": {
    "id": "GVXMwg7hqEc6"
   },
   "outputs": [],
   "source": [
    "y_init2 = (1., 0.) # Starting value for y, vy at t = 0"
   ]
  },
  {
   "cell_type": "code",
   "execution_count": null,
   "metadata": {
    "id": "uRpYgvMdqEc7"
   },
   "outputs": [],
   "source": [
    "yarr2 = odeint(derive2, y_init2, times2)\n",
    "print(\"The output has shape\", yarr2.shape)"
   ]
  },
  {
   "cell_type": "markdown",
   "metadata": {
    "id": "O2gc0BqCqEc7"
   },
   "source": [
    "*The* result now has two variables, each one is its own column. Each time is a row. We can use numpy's multi-dimensional slicing to access just the first variable by doing\n",
    "\n",
    "yarr2\\[:, 0\\]\n",
    "\n",
    "In the first slot, we put the slice operator ':' all by itself. This just means take all the data in that dimension. Then we specify that we want column zero, which is the first variable since Python counts from zero."
   ]
  },
  {
   "cell_type": "code",
   "execution_count": null,
   "metadata": {
    "id": "dTBc6sVoqEc7"
   },
   "outputs": [],
   "source": [
    "plt.figure(figsize=(8,6))\n",
    "plt.plot(times2, yarr2[:,0], 'r:')\n",
    "plt.xlabel('x')"
   ]
  },
  {
   "cell_type": "markdown",
   "metadata": {
    "id": "kpE4IybAqEc7"
   },
   "source": [
    "**Exercise 2.1**: One fancy thing we can do is a phase plot. Instead of $y$ versus $t$, plot $y$ versus $v_y$. This is often useful for dynamic and chaotic systems. Make this plot."
   ]
  },
  {
   "cell_type": "code",
   "execution_count": null,
   "metadata": {
    "id": "b2nnEPviqEc7"
   },
   "outputs": [],
   "source": [
    "# Answer\n"
   ]
  },
  {
   "cell_type": "markdown",
   "metadata": {
    "id": "_8R3TXviqEc7"
   },
   "source": [
    "**Exercise 2.3**: What do you change to double the amplitude?"
   ]
  },
  {
   "cell_type": "code",
   "execution_count": null,
   "metadata": {
    "id": "PHp0FBnDqEc7"
   },
   "outputs": [],
   "source": []
  },
  {
   "cell_type": "markdown",
   "metadata": {
    "id": "9Yunb7ZmqEc7"
   },
   "source": [
    "**Exercise 2.4**: Can you change the result in y from a cosine to a sine, only by modifying the initial conditions? Hint: A sine starts at zero, but it has some initial slope. Once again, you're changing the input to the solver."
   ]
  },
  {
   "cell_type": "code",
   "execution_count": null,
   "metadata": {
    "id": "HHqK7V8RqEc8"
   },
   "outputs": [],
   "source": []
  },
  {
   "cell_type": "markdown",
   "metadata": {
    "id": "3PjgnGOSqEc8"
   },
   "source": [
    "**Exercise 2.5**: Can you change the frequency in the same way? If not, how do you change it?"
   ]
  },
  {
   "cell_type": "code",
   "execution_count": null,
   "metadata": {
    "id": "u1RA4bOsqEc8"
   },
   "outputs": [],
   "source": []
  },
  {
   "cell_type": "markdown",
   "metadata": {
    "id": "s8YaLDh8qEc8"
   },
   "source": [
    "**Exercise 2.6**: Copying the example from above, can you modify the equation to add damping? The result should be a decaying sinusoid."
   ]
  },
  {
   "cell_type": "code",
   "execution_count": null,
   "metadata": {
    "id": "3ITgvtWyqEc8"
   },
   "outputs": [],
   "source": []
  },
  {
   "cell_type": "markdown",
   "metadata": {
    "id": "ZFy7_MkQqEc8"
   },
   "source": [
    "## Ex 3 - Coupled Equations\n",
    "\n",
    "We can also have multiple dependent variables, and their equations can be coupled. A generic linear form with two variables is\n",
    "\n",
    "$$\\begin{align}\n",
    "\\frac{d x}{d t} &= a x + b y \\\\\n",
    "\\frac{d y}{d t} &= c x + d y\n",
    "\\end{align}$$\n",
    "\n",
    "where $\\{a, b, c, d\\}$ are constants.\n",
    "\n",
    "Choosing the constants correctly can give several interesting behaviors.\n",
    "\n",
    "**Exercise 3** (challenging): Find and plot choices of the constants which make all of the following behaviors happen when plotting $x$ versus $y$ (you can use the color on a scatter plot to represent time).\n",
    " 1. A clockwise circle\n",
    " 1. A counter-clockwise circle\n",
    " 1. A shrinking spiral\n",
    " 1. A growing spiral\n",
    " 1. A hyperbola (this will require being careful with initial conditions as well)."
   ]
  },
  {
   "cell_type": "code",
   "execution_count": null,
   "metadata": {
    "id": "PNfME5VoqEc8"
   },
   "outputs": [],
   "source": []
  },
  {
   "cell_type": "code",
   "execution_count": null,
   "metadata": {
    "id": "tVeq29s9qEc8"
   },
   "outputs": [],
   "source": []
  },
  {
   "cell_type": "code",
   "execution_count": null,
   "metadata": {
    "id": "lRKYChEhqEc8"
   },
   "outputs": [],
   "source": []
  },
  {
   "cell_type": "code",
   "execution_count": null,
   "metadata": {
    "id": "NnRXvgfUqEc9"
   },
   "outputs": [],
   "source": []
  },
  {
   "cell_type": "markdown",
   "metadata": {
    "id": "LThapjtrqEc9"
   },
   "source": [
    "## Ex 4 - Nonlinear Equation\n",
    "\n",
    "The van der Pol equation describes a nonlinearly damped oscillator. It can't be solved analytically, but using a computer it's no more difficult than the others. The equation is:\n",
    "\n",
    "$$\\frac{d^2 x}{dt^2} - \\mu (1 - x^2) \\frac{d x}{d t} + x = 0$$\n",
    "\n",
    "**Exercise**: Make a phase plot of this for different $\\mu$, as well as different initial conditions. Also plot $x(t)$. The [Wikipedia page](https://en.wikipedia.org/wiki/Van_der_Pol_oscillator) contains result you can compare against."
   ]
  },
  {
   "cell_type": "code",
   "execution_count": null,
   "metadata": {
    "id": "SFCAjrb-qEc9"
   },
   "outputs": [],
   "source": []
  },
  {
   "cell_type": "code",
   "execution_count": null,
   "metadata": {
    "id": "oYMLNW4_qEc9"
   },
   "outputs": [],
   "source": []
  },
  {
   "cell_type": "code",
   "execution_count": null,
   "metadata": {
    "id": "apkYG-UwqEc9"
   },
   "outputs": [],
   "source": []
  }
 ],
 "metadata": {
  "colab": {
   "provenance": []
  },
  "kernelspec": {
   "display_name": "Python 3 (ipykernel)",
   "language": "python",
   "name": "python3"
  },
  "language_info": {
   "codemirror_mode": {
    "name": "ipython",
    "version": 3
   },
   "file_extension": ".py",
   "mimetype": "text/x-python",
   "name": "python",
   "nbconvert_exporter": "python",
   "pygments_lexer": "ipython3",
   "version": "3.9.7"
  },
  "vscode": {
   "interpreter": {
    "hash": "40d3a090f54c6569ab1632332b64b2c03c39dcf918b08424e98f38b5ae0af88f"
   }
  }
 },
 "nbformat": 4,
 "nbformat_minor": 1
}
